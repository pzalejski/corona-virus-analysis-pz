{
 "cells": [
  {
   "cell_type": "markdown",
   "metadata": {
    "hide_input": true
   },
   "source": [
    "<img id='Intro' src=\"https://global.unitednations.entermediadb.net/assets/mediadb/services/module/asset/downloads/preset/Libraries/Production+Library/31-01-20-coronavirus-digital-image-cdc1.jpg/image1440x560cropped.jpg\">\n",
    "<i>Image Credits: <a href=\"https://news.un.org/en/story/2020/02/1056562\">United Nations</a>\n",
    "   "
   ]
  },
  {
   "cell_type": "markdown",
   "metadata": {},
   "source": [
    "> Coronavirus disease (COVID-19) is an infectious disease caused by a newly discovered coronavirus.<br><br>\n",
    "Most people infected with the COVID-19 virus will experience mild to moderate respiratory illness and recover without requiring special treatment.  Older people, and those with underlying medical problems like cardiovascular disease, diabetes, chronic respiratory disease, and cancer are more likely to develop serious illness.<br><br>\n",
    "The best way to prevent and slow down transmission is be well informed about the COVID-19 virus, the disease it causes and how it spreads. Protect yourself and others from infection by washing your hands or using an alcohol based rub frequently and not touching your face. <br><br>The COVID-19 virus spreads primarily through droplets of saliva or discharge from the nose when an infected person coughs or sneezes, so it’s important that you also practice respiratory etiquette (for example, by coughing into a flexed elbow)."
   ]
  },
  {
   "cell_type": "code",
   "execution_count": 63,
   "metadata": {},
   "outputs": [
    {
     "data": {
      "text/html": [
       "<script src=\"https://cdn.rawgit.com/parente/4c3e6936d0d7a46fd071/raw/b8adbd09bceb590c35c3cdf541a2cd0e799ec85e/code_toggle.js\"></script>\n"
      ],
      "text/plain": [
       "<IPython.core.display.HTML object>"
      ]
     },
     "metadata": {},
     "output_type": "display_data"
    }
   ],
   "source": [
    "%%html\n",
    "<script src=\"https://cdn.rawgit.com/parente/4c3e6936d0d7a46fd071/raw/b8adbd09bceb590c35c3cdf541a2cd0e799ec85e/code_toggle.js\"></script>"
   ]
  },
  {
   "cell_type": "code",
   "execution_count": 31,
   "metadata": {
    "hide_input": true
   },
   "outputs": [
    {
     "data": {
      "text/html": [
       "        <script type=\"text/javascript\">\n",
       "        window.PlotlyConfig = {MathJaxConfig: 'local'};\n",
       "        if (window.MathJax) {MathJax.Hub.Config({SVG: {font: \"STIX-Web\"}});}\n",
       "        if (typeof require !== 'undefined') {\n",
       "        require.undef(\"plotly\");\n",
       "        requirejs.config({\n",
       "            paths: {\n",
       "                'plotly': ['https://cdn.plot.ly/plotly-latest.min']\n",
       "            }\n",
       "        });\n",
       "        require(['plotly'], function(Plotly) {\n",
       "            window._Plotly = Plotly;\n",
       "        });\n",
       "        }\n",
       "        </script>\n",
       "        "
      ]
     },
     "metadata": {},
     "output_type": "display_data"
    }
   ],
   "source": [
    "import pycountry_convert as pc\n",
    "import matplotlib.pyplot as plt\n",
    "from plotly.subplots import make_subplots\n",
    "import plotly.graph_objects as go\n",
    "import plotly as ply\n",
    "import numpy as np\n",
    "import pandas as pd\n",
    "from IPython.display import HTML, Image\n",
    "from IPython.core.interactiveshell import InteractiveShell\n",
    "InteractiveShell.ast_node_interactivity = \"all\"\n",
    "\n",
    "ply.offline.init_notebook_mode(connected=True)"
   ]
  },
  {
   "cell_type": "markdown",
   "metadata": {},
   "source": [
    "## Data\n",
    "***\n",
    "<a id='Data' href=\"https://github.com/CSSEGISandData/COVID-19\">https://github.com/CSSEGISandData/COVID-19</a>\n",
    "<br>\n",
    "This is the data repository for the 2019 Novel Coronavirus Visual Dashboard operated by the Johns Hopkins University Center for Systems Science and Engineering (JHU CSSE). Dataset is updated on a daily basis by John Hopkins CSSE."
   ]
  },
  {
   "cell_type": "markdown",
   "metadata": {},
   "source": [
    "# Content:\n",
    "***\n",
    "<ul>\n",
    "    <li><a href=\"#Intro\">Intro</a></li>\n",
    "    <li><a href='#Combined'>Combined Reported Cases, Deaths, Recoveries</a></li>\n",
    "    <li><a href='#LatestContinent'>Latest Reported Cases by Continent</a></li>\n",
    "    <li><a href='#LatestCountry'>Latest Reported Cases by Country</a></li>\n",
    "</ul>"
   ]
  },
  {
   "cell_type": "markdown",
   "metadata": {},
   "source": [
    "## Imports:\n",
    "***\n",
    "<ul id='Imports'>\n",
    "    <li>Pandas</li>\n",
    "    <li>Numpy</li>\n",
    "    <li>Plotly</li>\n",
    "</ul>\n"
   ]
  },
  {
   "cell_type": "markdown",
   "metadata": {},
   "source": [
    "## Sample Dataset snipits:\n",
    "***"
   ]
  },
  {
   "cell_type": "code",
   "execution_count": 32,
   "metadata": {
    "hide_input": true
   },
   "outputs": [
    {
     "data": {
      "text/html": [
       "<div>\n",
       "<style scoped>\n",
       "    .dataframe tbody tr th:only-of-type {\n",
       "        vertical-align: middle;\n",
       "    }\n",
       "\n",
       "    .dataframe tbody tr th {\n",
       "        vertical-align: top;\n",
       "    }\n",
       "\n",
       "    .dataframe thead th {\n",
       "        text-align: right;\n",
       "    }\n",
       "</style>\n",
       "<table border=\"1\" class=\"dataframe\">\n",
       "  <thead>\n",
       "    <tr style=\"text-align: right;\">\n",
       "      <th></th>\n",
       "      <th>Province/State</th>\n",
       "      <th>Lat</th>\n",
       "      <th>Long</th>\n",
       "      <th>1/22/20</th>\n",
       "      <th>1/23/20</th>\n",
       "      <th>1/24/20</th>\n",
       "      <th>1/25/20</th>\n",
       "      <th>1/26/20</th>\n",
       "      <th>1/27/20</th>\n",
       "      <th>1/28/20</th>\n",
       "      <th>...</th>\n",
       "      <th>4/19/20</th>\n",
       "      <th>4/20/20</th>\n",
       "      <th>4/21/20</th>\n",
       "      <th>4/22/20</th>\n",
       "      <th>4/23/20</th>\n",
       "      <th>4/24/20</th>\n",
       "      <th>4/25/20</th>\n",
       "      <th>4/26/20</th>\n",
       "      <th>4/27/20</th>\n",
       "      <th>4/28/20</th>\n",
       "    </tr>\n",
       "    <tr>\n",
       "      <th>Country/Region</th>\n",
       "      <th></th>\n",
       "      <th></th>\n",
       "      <th></th>\n",
       "      <th></th>\n",
       "      <th></th>\n",
       "      <th></th>\n",
       "      <th></th>\n",
       "      <th></th>\n",
       "      <th></th>\n",
       "      <th></th>\n",
       "      <th></th>\n",
       "      <th></th>\n",
       "      <th></th>\n",
       "      <th></th>\n",
       "      <th></th>\n",
       "      <th></th>\n",
       "      <th></th>\n",
       "      <th></th>\n",
       "      <th></th>\n",
       "      <th></th>\n",
       "      <th></th>\n",
       "    </tr>\n",
       "  </thead>\n",
       "  <tbody>\n",
       "    <tr>\n",
       "      <th>US</th>\n",
       "      <td>NaN</td>\n",
       "      <td>37.0902</td>\n",
       "      <td>-95.7129</td>\n",
       "      <td>1</td>\n",
       "      <td>1</td>\n",
       "      <td>2</td>\n",
       "      <td>2</td>\n",
       "      <td>5</td>\n",
       "      <td>5</td>\n",
       "      <td>5</td>\n",
       "      <td>...</td>\n",
       "      <td>758809</td>\n",
       "      <td>784326</td>\n",
       "      <td>811865</td>\n",
       "      <td>840351</td>\n",
       "      <td>869170</td>\n",
       "      <td>905358</td>\n",
       "      <td>938154</td>\n",
       "      <td>965785</td>\n",
       "      <td>988197</td>\n",
       "      <td>1012582</td>\n",
       "    </tr>\n",
       "    <tr>\n",
       "      <th>Spain</th>\n",
       "      <td>NaN</td>\n",
       "      <td>40.0000</td>\n",
       "      <td>-4.0000</td>\n",
       "      <td>0</td>\n",
       "      <td>0</td>\n",
       "      <td>0</td>\n",
       "      <td>0</td>\n",
       "      <td>0</td>\n",
       "      <td>0</td>\n",
       "      <td>0</td>\n",
       "      <td>...</td>\n",
       "      <td>198674</td>\n",
       "      <td>200210</td>\n",
       "      <td>204178</td>\n",
       "      <td>208389</td>\n",
       "      <td>213024</td>\n",
       "      <td>219764</td>\n",
       "      <td>223759</td>\n",
       "      <td>226629</td>\n",
       "      <td>229422</td>\n",
       "      <td>232128</td>\n",
       "    </tr>\n",
       "    <tr>\n",
       "      <th>Italy</th>\n",
       "      <td>NaN</td>\n",
       "      <td>43.0000</td>\n",
       "      <td>12.0000</td>\n",
       "      <td>0</td>\n",
       "      <td>0</td>\n",
       "      <td>0</td>\n",
       "      <td>0</td>\n",
       "      <td>0</td>\n",
       "      <td>0</td>\n",
       "      <td>0</td>\n",
       "      <td>...</td>\n",
       "      <td>178972</td>\n",
       "      <td>181228</td>\n",
       "      <td>183957</td>\n",
       "      <td>187327</td>\n",
       "      <td>189973</td>\n",
       "      <td>192994</td>\n",
       "      <td>195351</td>\n",
       "      <td>197675</td>\n",
       "      <td>199414</td>\n",
       "      <td>201505</td>\n",
       "    </tr>\n",
       "    <tr>\n",
       "      <th>France</th>\n",
       "      <td>NaN</td>\n",
       "      <td>46.2276</td>\n",
       "      <td>2.2137</td>\n",
       "      <td>0</td>\n",
       "      <td>0</td>\n",
       "      <td>2</td>\n",
       "      <td>3</td>\n",
       "      <td>3</td>\n",
       "      <td>3</td>\n",
       "      <td>4</td>\n",
       "      <td>...</td>\n",
       "      <td>151808</td>\n",
       "      <td>154188</td>\n",
       "      <td>156921</td>\n",
       "      <td>154715</td>\n",
       "      <td>157026</td>\n",
       "      <td>158636</td>\n",
       "      <td>160292</td>\n",
       "      <td>160847</td>\n",
       "      <td>164589</td>\n",
       "      <td>167605</td>\n",
       "    </tr>\n",
       "    <tr>\n",
       "      <th>Germany</th>\n",
       "      <td>NaN</td>\n",
       "      <td>51.0000</td>\n",
       "      <td>9.0000</td>\n",
       "      <td>0</td>\n",
       "      <td>0</td>\n",
       "      <td>0</td>\n",
       "      <td>0</td>\n",
       "      <td>0</td>\n",
       "      <td>1</td>\n",
       "      <td>4</td>\n",
       "      <td>...</td>\n",
       "      <td>145184</td>\n",
       "      <td>147065</td>\n",
       "      <td>148291</td>\n",
       "      <td>150648</td>\n",
       "      <td>153129</td>\n",
       "      <td>154999</td>\n",
       "      <td>156513</td>\n",
       "      <td>157770</td>\n",
       "      <td>158758</td>\n",
       "      <td>159912</td>\n",
       "    </tr>\n",
       "  </tbody>\n",
       "</table>\n",
       "<p>5 rows × 101 columns</p>\n",
       "</div>"
      ],
      "text/plain": [
       "               Province/State      Lat     Long  1/22/20  1/23/20  1/24/20  \\\n",
       "Country/Region                                                               \n",
       "US                        NaN  37.0902 -95.7129        1        1        2   \n",
       "Spain                     NaN  40.0000  -4.0000        0        0        0   \n",
       "Italy                     NaN  43.0000  12.0000        0        0        0   \n",
       "France                    NaN  46.2276   2.2137        0        0        2   \n",
       "Germany                   NaN  51.0000   9.0000        0        0        0   \n",
       "\n",
       "                1/25/20  1/26/20  1/27/20  1/28/20  ...  4/19/20  4/20/20  \\\n",
       "Country/Region                                      ...                     \n",
       "US                    2        5        5        5  ...   758809   784326   \n",
       "Spain                 0        0        0        0  ...   198674   200210   \n",
       "Italy                 0        0        0        0  ...   178972   181228   \n",
       "France                3        3        3        4  ...   151808   154188   \n",
       "Germany               0        0        1        4  ...   145184   147065   \n",
       "\n",
       "                4/21/20  4/22/20  4/23/20  4/24/20  4/25/20  4/26/20  4/27/20  \\\n",
       "Country/Region                                                                  \n",
       "US               811865   840351   869170   905358   938154   965785   988197   \n",
       "Spain            204178   208389   213024   219764   223759   226629   229422   \n",
       "Italy            183957   187327   189973   192994   195351   197675   199414   \n",
       "France           156921   154715   157026   158636   160292   160847   164589   \n",
       "Germany          148291   150648   153129   154999   156513   157770   158758   \n",
       "\n",
       "                4/28/20  \n",
       "Country/Region           \n",
       "US              1012582  \n",
       "Spain            232128  \n",
       "Italy            201505  \n",
       "France           167605  \n",
       "Germany          159912  \n",
       "\n",
       "[5 rows x 101 columns]"
      ]
     },
     "execution_count": 32,
     "metadata": {},
     "output_type": "execute_result"
    },
    {
     "name": "stdout",
     "output_type": "stream",
     "text": [
      "Confirmed\n"
     ]
    },
    {
     "data": {
      "text/html": [
       "<div>\n",
       "<style scoped>\n",
       "    .dataframe tbody tr th:only-of-type {\n",
       "        vertical-align: middle;\n",
       "    }\n",
       "\n",
       "    .dataframe tbody tr th {\n",
       "        vertical-align: top;\n",
       "    }\n",
       "\n",
       "    .dataframe thead th {\n",
       "        text-align: right;\n",
       "    }\n",
       "</style>\n",
       "<table border=\"1\" class=\"dataframe\">\n",
       "  <thead>\n",
       "    <tr style=\"text-align: right;\">\n",
       "      <th></th>\n",
       "      <th>Province/State</th>\n",
       "      <th>Lat</th>\n",
       "      <th>Long</th>\n",
       "      <th>1/22/20</th>\n",
       "      <th>1/23/20</th>\n",
       "      <th>1/24/20</th>\n",
       "      <th>1/25/20</th>\n",
       "      <th>1/26/20</th>\n",
       "      <th>1/27/20</th>\n",
       "      <th>1/28/20</th>\n",
       "      <th>...</th>\n",
       "      <th>4/19/20</th>\n",
       "      <th>4/20/20</th>\n",
       "      <th>4/21/20</th>\n",
       "      <th>4/22/20</th>\n",
       "      <th>4/23/20</th>\n",
       "      <th>4/24/20</th>\n",
       "      <th>4/25/20</th>\n",
       "      <th>4/26/20</th>\n",
       "      <th>4/27/20</th>\n",
       "      <th>4/28/20</th>\n",
       "    </tr>\n",
       "    <tr>\n",
       "      <th>Country/Region</th>\n",
       "      <th></th>\n",
       "      <th></th>\n",
       "      <th></th>\n",
       "      <th></th>\n",
       "      <th></th>\n",
       "      <th></th>\n",
       "      <th></th>\n",
       "      <th></th>\n",
       "      <th></th>\n",
       "      <th></th>\n",
       "      <th></th>\n",
       "      <th></th>\n",
       "      <th></th>\n",
       "      <th></th>\n",
       "      <th></th>\n",
       "      <th></th>\n",
       "      <th></th>\n",
       "      <th></th>\n",
       "      <th></th>\n",
       "      <th></th>\n",
       "      <th></th>\n",
       "    </tr>\n",
       "  </thead>\n",
       "  <tbody>\n",
       "    <tr>\n",
       "      <th>US</th>\n",
       "      <td>NaN</td>\n",
       "      <td>37.0902</td>\n",
       "      <td>-95.7129</td>\n",
       "      <td>0</td>\n",
       "      <td>0</td>\n",
       "      <td>0</td>\n",
       "      <td>0</td>\n",
       "      <td>0</td>\n",
       "      <td>0</td>\n",
       "      <td>0</td>\n",
       "      <td>...</td>\n",
       "      <td>40945</td>\n",
       "      <td>42659</td>\n",
       "      <td>45086</td>\n",
       "      <td>47412</td>\n",
       "      <td>49724</td>\n",
       "      <td>51493</td>\n",
       "      <td>53755</td>\n",
       "      <td>54881</td>\n",
       "      <td>56259</td>\n",
       "      <td>58355</td>\n",
       "    </tr>\n",
       "    <tr>\n",
       "      <th>Italy</th>\n",
       "      <td>NaN</td>\n",
       "      <td>43.0000</td>\n",
       "      <td>12.0000</td>\n",
       "      <td>0</td>\n",
       "      <td>0</td>\n",
       "      <td>0</td>\n",
       "      <td>0</td>\n",
       "      <td>0</td>\n",
       "      <td>0</td>\n",
       "      <td>0</td>\n",
       "      <td>...</td>\n",
       "      <td>23660</td>\n",
       "      <td>24114</td>\n",
       "      <td>24648</td>\n",
       "      <td>25085</td>\n",
       "      <td>25549</td>\n",
       "      <td>25969</td>\n",
       "      <td>26384</td>\n",
       "      <td>26644</td>\n",
       "      <td>26977</td>\n",
       "      <td>27359</td>\n",
       "    </tr>\n",
       "    <tr>\n",
       "      <th>Spain</th>\n",
       "      <td>NaN</td>\n",
       "      <td>40.0000</td>\n",
       "      <td>-4.0000</td>\n",
       "      <td>0</td>\n",
       "      <td>0</td>\n",
       "      <td>0</td>\n",
       "      <td>0</td>\n",
       "      <td>0</td>\n",
       "      <td>0</td>\n",
       "      <td>0</td>\n",
       "      <td>...</td>\n",
       "      <td>20453</td>\n",
       "      <td>20852</td>\n",
       "      <td>21282</td>\n",
       "      <td>21717</td>\n",
       "      <td>22157</td>\n",
       "      <td>22524</td>\n",
       "      <td>22902</td>\n",
       "      <td>23190</td>\n",
       "      <td>23521</td>\n",
       "      <td>23822</td>\n",
       "    </tr>\n",
       "    <tr>\n",
       "      <th>France</th>\n",
       "      <td>NaN</td>\n",
       "      <td>46.2276</td>\n",
       "      <td>2.2137</td>\n",
       "      <td>0</td>\n",
       "      <td>0</td>\n",
       "      <td>0</td>\n",
       "      <td>0</td>\n",
       "      <td>0</td>\n",
       "      <td>0</td>\n",
       "      <td>0</td>\n",
       "      <td>...</td>\n",
       "      <td>19718</td>\n",
       "      <td>20265</td>\n",
       "      <td>20796</td>\n",
       "      <td>21340</td>\n",
       "      <td>21856</td>\n",
       "      <td>22245</td>\n",
       "      <td>22614</td>\n",
       "      <td>22856</td>\n",
       "      <td>23293</td>\n",
       "      <td>23660</td>\n",
       "    </tr>\n",
       "    <tr>\n",
       "      <th>United Kingdom</th>\n",
       "      <td>NaN</td>\n",
       "      <td>55.3781</td>\n",
       "      <td>-3.4360</td>\n",
       "      <td>0</td>\n",
       "      <td>0</td>\n",
       "      <td>0</td>\n",
       "      <td>0</td>\n",
       "      <td>0</td>\n",
       "      <td>0</td>\n",
       "      <td>0</td>\n",
       "      <td>...</td>\n",
       "      <td>16060</td>\n",
       "      <td>16509</td>\n",
       "      <td>17337</td>\n",
       "      <td>18100</td>\n",
       "      <td>18738</td>\n",
       "      <td>19506</td>\n",
       "      <td>20319</td>\n",
       "      <td>20732</td>\n",
       "      <td>21092</td>\n",
       "      <td>21678</td>\n",
       "    </tr>\n",
       "  </tbody>\n",
       "</table>\n",
       "<p>5 rows × 101 columns</p>\n",
       "</div>"
      ],
      "text/plain": [
       "               Province/State      Lat     Long  1/22/20  1/23/20  1/24/20  \\\n",
       "Country/Region                                                               \n",
       "US                        NaN  37.0902 -95.7129        0        0        0   \n",
       "Italy                     NaN  43.0000  12.0000        0        0        0   \n",
       "Spain                     NaN  40.0000  -4.0000        0        0        0   \n",
       "France                    NaN  46.2276   2.2137        0        0        0   \n",
       "United Kingdom            NaN  55.3781  -3.4360        0        0        0   \n",
       "\n",
       "                1/25/20  1/26/20  1/27/20  1/28/20  ...  4/19/20  4/20/20  \\\n",
       "Country/Region                                      ...                     \n",
       "US                    0        0        0        0  ...    40945    42659   \n",
       "Italy                 0        0        0        0  ...    23660    24114   \n",
       "Spain                 0        0        0        0  ...    20453    20852   \n",
       "France                0        0        0        0  ...    19718    20265   \n",
       "United Kingdom        0        0        0        0  ...    16060    16509   \n",
       "\n",
       "                4/21/20  4/22/20  4/23/20  4/24/20  4/25/20  4/26/20  4/27/20  \\\n",
       "Country/Region                                                                  \n",
       "US                45086    47412    49724    51493    53755    54881    56259   \n",
       "Italy             24648    25085    25549    25969    26384    26644    26977   \n",
       "Spain             21282    21717    22157    22524    22902    23190    23521   \n",
       "France            20796    21340    21856    22245    22614    22856    23293   \n",
       "United Kingdom    17337    18100    18738    19506    20319    20732    21092   \n",
       "\n",
       "                4/28/20  \n",
       "Country/Region           \n",
       "US                58355  \n",
       "Italy             27359  \n",
       "Spain             23822  \n",
       "France            23660  \n",
       "United Kingdom    21678  \n",
       "\n",
       "[5 rows x 101 columns]"
      ]
     },
     "execution_count": 32,
     "metadata": {},
     "output_type": "execute_result"
    },
    {
     "name": "stdout",
     "output_type": "stream",
     "text": [
      "Deaths\n"
     ]
    },
    {
     "data": {
      "text/html": [
       "<div>\n",
       "<style scoped>\n",
       "    .dataframe tbody tr th:only-of-type {\n",
       "        vertical-align: middle;\n",
       "    }\n",
       "\n",
       "    .dataframe tbody tr th {\n",
       "        vertical-align: top;\n",
       "    }\n",
       "\n",
       "    .dataframe thead th {\n",
       "        text-align: right;\n",
       "    }\n",
       "</style>\n",
       "<table border=\"1\" class=\"dataframe\">\n",
       "  <thead>\n",
       "    <tr style=\"text-align: right;\">\n",
       "      <th></th>\n",
       "      <th>Province/State</th>\n",
       "      <th>Lat</th>\n",
       "      <th>Long</th>\n",
       "      <th>1/22/20</th>\n",
       "      <th>1/23/20</th>\n",
       "      <th>1/24/20</th>\n",
       "      <th>1/25/20</th>\n",
       "      <th>1/26/20</th>\n",
       "      <th>1/27/20</th>\n",
       "      <th>1/28/20</th>\n",
       "      <th>...</th>\n",
       "      <th>4/19/20</th>\n",
       "      <th>4/20/20</th>\n",
       "      <th>4/21/20</th>\n",
       "      <th>4/22/20</th>\n",
       "      <th>4/23/20</th>\n",
       "      <th>4/24/20</th>\n",
       "      <th>4/25/20</th>\n",
       "      <th>4/26/20</th>\n",
       "      <th>4/27/20</th>\n",
       "      <th>4/28/20</th>\n",
       "    </tr>\n",
       "    <tr>\n",
       "      <th>Country/Region</th>\n",
       "      <th></th>\n",
       "      <th></th>\n",
       "      <th></th>\n",
       "      <th></th>\n",
       "      <th></th>\n",
       "      <th></th>\n",
       "      <th></th>\n",
       "      <th></th>\n",
       "      <th></th>\n",
       "      <th></th>\n",
       "      <th></th>\n",
       "      <th></th>\n",
       "      <th></th>\n",
       "      <th></th>\n",
       "      <th></th>\n",
       "      <th></th>\n",
       "      <th></th>\n",
       "      <th></th>\n",
       "      <th></th>\n",
       "      <th></th>\n",
       "      <th></th>\n",
       "    </tr>\n",
       "  </thead>\n",
       "  <tbody>\n",
       "    <tr>\n",
       "      <th>Spain</th>\n",
       "      <td>NaN</td>\n",
       "      <td>40.0000</td>\n",
       "      <td>-4.0000</td>\n",
       "      <td>0</td>\n",
       "      <td>0</td>\n",
       "      <td>0</td>\n",
       "      <td>0</td>\n",
       "      <td>0</td>\n",
       "      <td>0</td>\n",
       "      <td>0</td>\n",
       "      <td>...</td>\n",
       "      <td>77357</td>\n",
       "      <td>80587</td>\n",
       "      <td>82514</td>\n",
       "      <td>85915</td>\n",
       "      <td>89250</td>\n",
       "      <td>92355</td>\n",
       "      <td>95708</td>\n",
       "      <td>117727</td>\n",
       "      <td>120832</td>\n",
       "      <td>123903</td>\n",
       "    </tr>\n",
       "    <tr>\n",
       "      <th>Germany</th>\n",
       "      <td>NaN</td>\n",
       "      <td>51.0000</td>\n",
       "      <td>9.0000</td>\n",
       "      <td>0</td>\n",
       "      <td>0</td>\n",
       "      <td>0</td>\n",
       "      <td>0</td>\n",
       "      <td>0</td>\n",
       "      <td>0</td>\n",
       "      <td>0</td>\n",
       "      <td>...</td>\n",
       "      <td>88000</td>\n",
       "      <td>91500</td>\n",
       "      <td>95200</td>\n",
       "      <td>99400</td>\n",
       "      <td>103300</td>\n",
       "      <td>109800</td>\n",
       "      <td>109800</td>\n",
       "      <td>112000</td>\n",
       "      <td>114500</td>\n",
       "      <td>117400</td>\n",
       "    </tr>\n",
       "    <tr>\n",
       "      <th>US</th>\n",
       "      <td>NaN</td>\n",
       "      <td>37.0902</td>\n",
       "      <td>-95.7129</td>\n",
       "      <td>0</td>\n",
       "      <td>0</td>\n",
       "      <td>0</td>\n",
       "      <td>0</td>\n",
       "      <td>0</td>\n",
       "      <td>0</td>\n",
       "      <td>0</td>\n",
       "      <td>...</td>\n",
       "      <td>70337</td>\n",
       "      <td>72329</td>\n",
       "      <td>75204</td>\n",
       "      <td>77366</td>\n",
       "      <td>80203</td>\n",
       "      <td>99079</td>\n",
       "      <td>100372</td>\n",
       "      <td>106988</td>\n",
       "      <td>111424</td>\n",
       "      <td>115936</td>\n",
       "    </tr>\n",
       "    <tr>\n",
       "      <th>Iran</th>\n",
       "      <td>NaN</td>\n",
       "      <td>32.0000</td>\n",
       "      <td>53.0000</td>\n",
       "      <td>0</td>\n",
       "      <td>0</td>\n",
       "      <td>0</td>\n",
       "      <td>0</td>\n",
       "      <td>0</td>\n",
       "      <td>0</td>\n",
       "      <td>0</td>\n",
       "      <td>...</td>\n",
       "      <td>57023</td>\n",
       "      <td>59273</td>\n",
       "      <td>60965</td>\n",
       "      <td>63113</td>\n",
       "      <td>64843</td>\n",
       "      <td>66599</td>\n",
       "      <td>68193</td>\n",
       "      <td>69657</td>\n",
       "      <td>70933</td>\n",
       "      <td>72439</td>\n",
       "    </tr>\n",
       "    <tr>\n",
       "      <th>Italy</th>\n",
       "      <td>NaN</td>\n",
       "      <td>43.0000</td>\n",
       "      <td>12.0000</td>\n",
       "      <td>0</td>\n",
       "      <td>0</td>\n",
       "      <td>0</td>\n",
       "      <td>0</td>\n",
       "      <td>0</td>\n",
       "      <td>0</td>\n",
       "      <td>0</td>\n",
       "      <td>...</td>\n",
       "      <td>47055</td>\n",
       "      <td>48877</td>\n",
       "      <td>51600</td>\n",
       "      <td>54543</td>\n",
       "      <td>57576</td>\n",
       "      <td>60498</td>\n",
       "      <td>63120</td>\n",
       "      <td>64928</td>\n",
       "      <td>66624</td>\n",
       "      <td>68941</td>\n",
       "    </tr>\n",
       "  </tbody>\n",
       "</table>\n",
       "<p>5 rows × 101 columns</p>\n",
       "</div>"
      ],
      "text/plain": [
       "               Province/State      Lat     Long  1/22/20  1/23/20  1/24/20  \\\n",
       "Country/Region                                                               \n",
       "Spain                     NaN  40.0000  -4.0000        0        0        0   \n",
       "Germany                   NaN  51.0000   9.0000        0        0        0   \n",
       "US                        NaN  37.0902 -95.7129        0        0        0   \n",
       "Iran                      NaN  32.0000  53.0000        0        0        0   \n",
       "Italy                     NaN  43.0000  12.0000        0        0        0   \n",
       "\n",
       "                1/25/20  1/26/20  1/27/20  1/28/20  ...  4/19/20  4/20/20  \\\n",
       "Country/Region                                      ...                     \n",
       "Spain                 0        0        0        0  ...    77357    80587   \n",
       "Germany               0        0        0        0  ...    88000    91500   \n",
       "US                    0        0        0        0  ...    70337    72329   \n",
       "Iran                  0        0        0        0  ...    57023    59273   \n",
       "Italy                 0        0        0        0  ...    47055    48877   \n",
       "\n",
       "                4/21/20  4/22/20  4/23/20  4/24/20  4/25/20  4/26/20  4/27/20  \\\n",
       "Country/Region                                                                  \n",
       "Spain             82514    85915    89250    92355    95708   117727   120832   \n",
       "Germany           95200    99400   103300   109800   109800   112000   114500   \n",
       "US                75204    77366    80203    99079   100372   106988   111424   \n",
       "Iran              60965    63113    64843    66599    68193    69657    70933   \n",
       "Italy             51600    54543    57576    60498    63120    64928    66624   \n",
       "\n",
       "                4/28/20  \n",
       "Country/Region           \n",
       "Spain            123903  \n",
       "Germany          117400  \n",
       "US               115936  \n",
       "Iran              72439  \n",
       "Italy             68941  \n",
       "\n",
       "[5 rows x 101 columns]"
      ]
     },
     "execution_count": 32,
     "metadata": {},
     "output_type": "execute_result"
    },
    {
     "name": "stdout",
     "output_type": "stream",
     "text": [
      "Recovered\n"
     ]
    },
    {
     "data": {
      "text/html": [
       "<div>\n",
       "<style scoped>\n",
       "    .dataframe tbody tr th:only-of-type {\n",
       "        vertical-align: middle;\n",
       "    }\n",
       "\n",
       "    .dataframe tbody tr th {\n",
       "        vertical-align: top;\n",
       "    }\n",
       "\n",
       "    .dataframe thead th {\n",
       "        text-align: right;\n",
       "    }\n",
       "</style>\n",
       "<table border=\"1\" class=\"dataframe\">\n",
       "  <thead>\n",
       "    <tr style=\"text-align: right;\">\n",
       "      <th></th>\n",
       "      <th>FIPS</th>\n",
       "      <th>Admin2</th>\n",
       "      <th>Province_State</th>\n",
       "      <th>Country/Region</th>\n",
       "      <th>Last_Update</th>\n",
       "      <th>Lat</th>\n",
       "      <th>Long_</th>\n",
       "      <th>Confirmed</th>\n",
       "      <th>Deaths</th>\n",
       "      <th>Recovered</th>\n",
       "      <th>Active</th>\n",
       "      <th>Combined_Key</th>\n",
       "    </tr>\n",
       "  </thead>\n",
       "  <tbody>\n",
       "    <tr>\n",
       "      <th>0</th>\n",
       "      <td>45001.0</td>\n",
       "      <td>Abbeville</td>\n",
       "      <td>South Carolina</td>\n",
       "      <td>US</td>\n",
       "      <td>2020-04-28 02:30:51</td>\n",
       "      <td>34.223334</td>\n",
       "      <td>-82.461707</td>\n",
       "      <td>29</td>\n",
       "      <td>0</td>\n",
       "      <td>0</td>\n",
       "      <td>29</td>\n",
       "      <td>Abbeville, South Carolina, US</td>\n",
       "    </tr>\n",
       "    <tr>\n",
       "      <th>1</th>\n",
       "      <td>22001.0</td>\n",
       "      <td>Acadia</td>\n",
       "      <td>Louisiana</td>\n",
       "      <td>US</td>\n",
       "      <td>2020-04-28 02:30:51</td>\n",
       "      <td>30.295065</td>\n",
       "      <td>-92.414197</td>\n",
       "      <td>130</td>\n",
       "      <td>9</td>\n",
       "      <td>0</td>\n",
       "      <td>121</td>\n",
       "      <td>Acadia, Louisiana, US</td>\n",
       "    </tr>\n",
       "    <tr>\n",
       "      <th>2</th>\n",
       "      <td>51001.0</td>\n",
       "      <td>Accomack</td>\n",
       "      <td>Virginia</td>\n",
       "      <td>US</td>\n",
       "      <td>2020-04-28 02:30:51</td>\n",
       "      <td>37.767072</td>\n",
       "      <td>-75.632346</td>\n",
       "      <td>195</td>\n",
       "      <td>3</td>\n",
       "      <td>0</td>\n",
       "      <td>192</td>\n",
       "      <td>Accomack, Virginia, US</td>\n",
       "    </tr>\n",
       "    <tr>\n",
       "      <th>3</th>\n",
       "      <td>16001.0</td>\n",
       "      <td>Ada</td>\n",
       "      <td>Idaho</td>\n",
       "      <td>US</td>\n",
       "      <td>2020-04-28 02:30:51</td>\n",
       "      <td>43.452658</td>\n",
       "      <td>-116.241552</td>\n",
       "      <td>650</td>\n",
       "      <td>15</td>\n",
       "      <td>0</td>\n",
       "      <td>635</td>\n",
       "      <td>Ada, Idaho, US</td>\n",
       "    </tr>\n",
       "    <tr>\n",
       "      <th>4</th>\n",
       "      <td>19001.0</td>\n",
       "      <td>Adair</td>\n",
       "      <td>Iowa</td>\n",
       "      <td>US</td>\n",
       "      <td>2020-04-28 02:30:51</td>\n",
       "      <td>41.330756</td>\n",
       "      <td>-94.471059</td>\n",
       "      <td>1</td>\n",
       "      <td>0</td>\n",
       "      <td>0</td>\n",
       "      <td>1</td>\n",
       "      <td>Adair, Iowa, US</td>\n",
       "    </tr>\n",
       "  </tbody>\n",
       "</table>\n",
       "</div>"
      ],
      "text/plain": [
       "      FIPS     Admin2  Province_State Country/Region          Last_Update  \\\n",
       "0  45001.0  Abbeville  South Carolina             US  2020-04-28 02:30:51   \n",
       "1  22001.0     Acadia       Louisiana             US  2020-04-28 02:30:51   \n",
       "2  51001.0   Accomack        Virginia             US  2020-04-28 02:30:51   \n",
       "3  16001.0        Ada           Idaho             US  2020-04-28 02:30:51   \n",
       "4  19001.0      Adair            Iowa             US  2020-04-28 02:30:51   \n",
       "\n",
       "         Lat       Long_  Confirmed  Deaths  Recovered  Active  \\\n",
       "0  34.223334  -82.461707         29       0          0      29   \n",
       "1  30.295065  -92.414197        130       9          0     121   \n",
       "2  37.767072  -75.632346        195       3          0     192   \n",
       "3  43.452658 -116.241552        650      15          0     635   \n",
       "4  41.330756  -94.471059          1       0          0       1   \n",
       "\n",
       "                    Combined_Key  \n",
       "0  Abbeville, South Carolina, US  \n",
       "1          Acadia, Louisiana, US  \n",
       "2         Accomack, Virginia, US  \n",
       "3                 Ada, Idaho, US  \n",
       "4                Adair, Iowa, US  "
      ]
     },
     "execution_count": 32,
     "metadata": {},
     "output_type": "execute_result"
    },
    {
     "name": "stdout",
     "output_type": "stream",
     "text": [
      "Latest Data\n"
     ]
    }
   ],
   "source": [
    "# would need to be updated/run  on daily basis\n",
    "\n",
    "confirmed_data = pd.read_csv(\n",
    "    \"https://raw.githubusercontent.com/CSSEGISandData/COVID-19/master/csse_covid_19_data/csse_covid_19_time_series/time_series_covid19_confirmed_global.csv\"\n",
    ")\n",
    "deaths_data = pd.read_csv(\n",
    "    \"https://raw.githubusercontent.com/CSSEGISandData/COVID-19/master/csse_covid_19_data/csse_covid_19_time_series/time_series_covid19_deaths_global.csv\"\n",
    ")\n",
    "recovered_data = pd.read_csv(\n",
    "    \"https://raw.githubusercontent.com/CSSEGISandData/COVID-19/master/csse_covid_19_data/csse_covid_19_time_series/time_series_covid19_recovered_global.csv\"\n",
    ")\n",
    "latest_data = pd.read_csv(\n",
    "    \"https://raw.githubusercontent.com/CSSEGISandData/COVID-19/master/csse_covid_19_data/csse_covid_19_daily_reports/04-27-2020.csv\"\n",
    ")\n",
    "\n",
    "# setting country/region as index\n",
    "confirmed_data = confirmed_data.set_index(\"Country/Region\")\n",
    "deaths_data = deaths_data.set_index(\"Country/Region\")\n",
    "recovered_data = recovered_data.set_index(\"Country/Region\")\n",
    "latest_data = latest_data.rename(columns={\"Country_Region\": \"Country/Region\"})\n",
    "\n",
    "# creating variable for easier slicing through dataframe\n",
    "cols = confirmed_data.keys()\n",
    "\n",
    "confirmed_data.sort_values('4/26/20', ascending=False).head(5)\n",
    "print('Confirmed')\n",
    "\n",
    "deaths_data.sort_values('4/26/20', ascending=False).head(5)\n",
    "print('Deaths')\n",
    "\n",
    "recovered_data.sort_values('4/26/20', ascending=False).head(5)\n",
    "print('Recovered')\n",
    "\n",
    "latest_data.head(5)\n",
    "print('Latest Data')"
   ]
  },
  {
   "cell_type": "code",
   "execution_count": 33,
   "metadata": {
    "hide_input": true,
    "slideshow": {
     "slide_type": "-"
    }
   },
   "outputs": [],
   "source": [
    "# getting a total daily sum of cases based on country not province/state\n",
    "confirmed_by_country = confirmed_data.reset_index().groupby('Country/Region').sum()\n",
    "deaths_by_country = deaths_data.reset_index().groupby('Country/Region').sum()\n",
    "recovered_by_country = recovered_data.reset_index().groupby('Country/Region').sum()\n",
    "\n",
    "# added total column to grab total cases\n",
    "confirmed_by_country['Total'] = confirmed_by_country.iloc[:, -1]\n",
    "deaths_by_country['Total'] = deaths_by_country.iloc[:, -1]\n",
    "recovered_by_country['Total'] = recovered_by_country.iloc[:, -1]\n",
    "\n",
    "# getting only the dates\n",
    "confirmed_dates = confirmed_data.loc[:, cols[3]:cols[-1]]\n",
    "death_dates = deaths_data.loc[:, cols[3]:cols[-1]]\n",
    "recovery_dates = recovered_data.loc[:, cols[3]:cols[-1]]"
   ]
  },
  {
   "cell_type": "code",
   "execution_count": 34,
   "metadata": {
    "hide_input": true
   },
   "outputs": [],
   "source": [
    "dates = confirmed_dates.keys()\n",
    "\n",
    "# world\n",
    "world_cases, world_deaths, world_mortality_rate, world_recovered, world_recovery_rate, world_active = [], [], [], [], [], []\n",
    "\n",
    "\n",
    "# us\n",
    "us_cases, us_deaths, us_mortality, us_recovered, us_recovery_rate, us_active = [], [], [], [], [], []\n",
    "\n",
    "# poland\n",
    "pl_cases, pl_deaths, pl_mortality, pl_recovered, pl_recovery_rate, pl_active = [], [], [], [], [], []\n",
    "\n",
    "# china\n",
    "china_cases, china_deaths, china_mortality, china_recovered, china_recovery_rate, china_active = [], [], [], [], [], []\n",
    "\n",
    "# spain\n",
    "spain_cases, spain_deaths, spain_mortality, spain_recovered, spain_recovery_rate, spain_active = [], [], [], [], [], []\n",
    "\n",
    "# italy\n",
    "italy_cases, italy_deaths, italy_mortality, italy_recovered, italy_recovery_rate, italy_active = [], [], [], [], [], []\n",
    "\n",
    "\n",
    "# daily sum of cases\n",
    "for day in dates:\n",
    "\n",
    "    confirmed_tot = confirmed_dates[day].sum()\n",
    "    death_tot = death_dates[day].sum()\n",
    "    recovered_tot = recovery_dates[day].sum()\n",
    "\n",
    "    # confimred , dead, recovered, active, mortality rate, recovery_rate for the entire world\n",
    "    world_cases.append(confirmed_tot)\n",
    "    world_deaths.append(death_tot)\n",
    "    world_recovered.append(recovered_tot)\n",
    "    world_active.append(confirmed_tot - death_tot-recovered_tot)\n",
    "    world_mortality_rate.append((death_tot/confirmed_tot)*100)\n",
    "    world_recovery_rate.append((recovered_tot/confirmed_tot)*100)\n",
    "\n",
    "    #  for US\n",
    "    us_cases.append(confirmed_by_country.loc['US'][day].sum())\n",
    "    us_tot = confirmed_by_country.loc['US'][day].sum()\n",
    "    us_deaths.append(deaths_by_country.loc['US'][day].sum())\n",
    "    us_death_tot = deaths_by_country.loc['US'][day].sum()\n",
    "    us_recovered.append(recovered_by_country.loc['US'][day].sum())\n",
    "    us_recov_tot = recovered_by_country.loc['US'][day].sum()\n",
    "    us_active.append(us_tot - us_death_tot)\n",
    "    us_mortality.append((us_death_tot/us_tot)*100)\n",
    "    us_recovery_rate.append((us_recov_tot/us_tot)*100)\n",
    "\n",
    "    # for Poland\n",
    "    # starting at 3/4/20 as that is day 1 for Poland\n",
    "    pl_cases.append(confirmed_by_country.loc['Poland'][day].sum())\n",
    "    pl_tot = confirmed_by_country.loc['Poland'][day].sum()\n",
    "    pl_deaths.append(deaths_by_country.loc['Poland'][day].sum())\n",
    "    pl_death_tot = deaths_by_country.loc['Poland'][day].sum()\n",
    "    pl_recovered.append(recovered_by_country.loc['Poland'][day].sum())\n",
    "    pl_recov_tot = recovered_by_country.loc['Poland'][day].sum()\n",
    "    pl_active.append(pl_tot - pl_death_tot)\n",
    "    if day <= '3/3/20':\n",
    "        pl_mortality.append(0)\n",
    "        pl_recovery_rate.append(0)\n",
    "    if day > '3/3/20':\n",
    "        pl_mortality.append((pl_death_tot/pl_tot)*100)\n",
    "        pl_recovery_rate.append((pl_recov_tot/pl_tot)*100)\n",
    "\n",
    "    # for Spain\n",
    "    spain_cases.append(confirmed_by_country.loc['Spain'][day].sum())\n",
    "    spain_tot = confirmed_by_country.loc['Spain'][day].sum()\n",
    "    spain_deaths.append(deaths_by_country.loc['Spain'][day].sum())\n",
    "    spain_death_tot = deaths_by_country.loc['Spain'][day].sum()\n",
    "    spain_recovered.append(recovered_by_country.loc['Spain'][day].sum())\n",
    "    spain_recov_tot = recovered_by_country.loc['Spain'][day].sum()\n",
    "    spain_active.append(spain_tot - spain_death_tot)\n",
    "    if day <= '1/31/20':\n",
    "        spain_mortality.append(0)\n",
    "        spain_recovery_rate.append(0)\n",
    "    elif day > '1/31/20':\n",
    "        spain_mortality.append((spain_death_tot/spain_tot)*100)\n",
    "        spain_recovery_rate.append((spain_recov_tot/spain_tot)*100)\n",
    "\n",
    "     # for China\n",
    "    china_cases.append(confirmed_by_country.loc['China'][day].sum())\n",
    "    china_tot = confirmed_by_country.loc['China'][day].sum()\n",
    "    china_deaths.append(deaths_by_country.loc['China'][day].sum())\n",
    "    china_death_tot = deaths_by_country.loc['China'][day].sum()\n",
    "    china_recovered.append(recovered_by_country.loc['China'][day].sum())\n",
    "    china_recov_tot = recovered_by_country.loc['China'][day].sum()\n",
    "    china_active.append(china_tot - china_death_tot)\n",
    "    china_mortality.append((china_death_tot/china_tot)*100)\n",
    "    china_recovery_rate.append((china_recov_tot/china_tot)*100)\n",
    "\n",
    "    # for Italy\n",
    "    italy_cases.append(confirmed_by_country.loc['Italy'][day].sum())\n",
    "    italy_tot = confirmed_by_country.loc['Italy'][day].sum()\n",
    "    italy_deaths.append(deaths_by_country.loc['Italy'][day].sum())\n",
    "    italy_death_tot = deaths_by_country.loc['Italy'][day].sum()\n",
    "    italy_recovered.append(recovered_by_country.loc['Italy'][day].sum())\n",
    "    italy_recov_tot = recovered_by_country.loc['Italy'][day].sum()\n",
    "    italy_active.append(italy_tot - italy_death_tot)\n",
    "    if day <= '1/31/20':\n",
    "        italy_mortality.append(0)\n",
    "        italy_recovery_rate.append(0)\n",
    "    elif day > '1/31/20':\n",
    "        italy_mortality.append((italy_death_tot/italy_tot)*100)\n",
    "        italy_recovery_rate.append((italy_recov_tot/italy_tot)*100)"
   ]
  },
  {
   "cell_type": "code",
   "execution_count": 35,
   "metadata": {},
   "outputs": [],
   "source": [
    "latest_data = latest_data.drop(\n",
    "    ['FIPS', 'Admin2', 'Combined_Key', 'Lat', 'Long_'], axis=1)"
   ]
  },
  {
   "cell_type": "code",
   "execution_count": 36,
   "metadata": {},
   "outputs": [],
   "source": [
    "countries = np.asarray(latest_data['Country/Region'])\n",
    "\n",
    "north_america = ['Bahamas', 'Barbados', 'Belize', 'Canada', 'Costa Rica',\n",
    "                 'Cuba', 'Dominca', 'Dominican Republic', 'El Salvador', 'Grenada',\n",
    "                 'Guatemala', 'Haiti', 'Honduras', 'Jamiaca', 'Mexico', 'Nicaragua',\n",
    "                 'Panama', 'Saint Kitts and Nevis', 'Saint Lucia', 'Saint Vincent and the Grenadines', 'Trinidad and Tobago',\n",
    "                 'US', 'Anguilla', 'Aruba', 'Bermuda', 'Bonaire', 'British Virgin Islands', 'Cayman Islands', 'Clipperton Island', 'Curacao',\n",
    "                 'Greenland', 'Guadeloupe', 'Martinique', 'Monsterrat', 'Navassa Island', 'Puerto Rico', 'Saba', 'Saint Barthelemy', 'Saint Martin', 'Saint Pierre and Miquelon',\n",
    "                 'Sint Eustatius', 'Sint Maarten', 'Turks and Caicos Islands', 'US Virgin Islands']\n",
    "\n",
    "south_america = ['Argentina', 'Bolivia', 'Brazil', 'Chile', 'Colombia', 'Ecuador', 'Guyana', 'Paraguay', 'Peru', 'Suriname', 'Uruguay',\n",
    "                 'Venezuela', 'Falkland Islands', 'French Guiana', 'South Georgia and teh South Sandwich Islands']\n",
    "\n",
    "europe = ['Albania', 'Andorra', 'Armenia', 'Austria', 'Azerbaijan', 'Belarus', 'Belgium', 'Bosnia and Herzegovina',\n",
    "          'Bulgaria', 'Croatia', 'Cyprus', 'Czechia', 'Denmark', 'Estonia', 'Finland', 'France', 'Georgia', 'Germany',\n",
    "          'Hungary', 'Iceland', 'Ireland', 'Italy', 'Kazakhstan', 'Kosovo', 'Latvia', 'Liechtenstein', 'Lithuania',\n",
    "          'Luxembourg', 'Malta', 'Moldova', 'Monaco', 'Montenegro', 'Netherlands', 'Macedonia', 'Norway', 'Poland',\n",
    "          'Portugal', 'Romania', 'Russia', 'San Marino', 'Serbia', 'Slovakia', 'Slovenia', 'Spain', 'Sweden', 'Switzerland',\n",
    "          'Turkey', 'Ukraine', 'United Kingdom', 'UK', 'Vatican City']\n",
    "\n",
    "asia = ['Afghanistan', 'Armenia', 'Azerbaijan', 'Bahrain', 'Bangladesh', 'Bhutan', 'Brunei', 'Cambodia', 'China', 'Cyprus',\n",
    "        'India', 'Indonesia', 'Iran', 'Iraq', 'Israel', 'Japan', 'Jordan', 'Kazakhstan', 'Kuwait', 'Kyrgyzstan', 'Laos', 'Lebanon',\n",
    "        'Malaysia', 'Maldives', 'Mongolia', 'Myanmar', 'Nepal', 'Korea, North', 'Oman', 'Pakistan', 'Palestine', 'Philippines', 'Qatar',\n",
    "        'Russia', 'Saudi Arabia', 'Singapore', 'Korea, South', 'Sri Lanka', 'Syria', 'Taiwan*', 'Tajikisttan', 'Thailand', 'Timor-Liste',\n",
    "        'Turkmenistan', 'United Arab Emirates', 'Uzbekistan', 'Vietnam', 'Yemen']\n",
    "\n",
    "africa = ['Algeria', 'Angola', 'Benin', 'Botswana', 'Burkina Faso', 'Burundi', 'Cabo Verde', 'Cameroon', 'Central African Republic',\n",
    "          'Chad', 'Comoros', 'Congo (Brazzaville)', 'Djibouti', 'Egypt', 'Equatorial Guinea', 'Eritrea', 'Eswatini', 'Ethiopia', 'Gabom',\n",
    "          'Gambia', 'Ghana', 'Guinea', 'Guinea-Bissau', 'Kenya', 'Lesotho', 'Liberia', 'Libya', 'Madagascar', 'Malawi', 'Mali', 'Mauritania',\n",
    "          'Mauritius', 'Morocco', 'Mozambique', 'Namibia', 'Niger', 'Nigeria', 'Rwanda', 'Sao Tome and Principe', 'Senegal', 'Seychelles',\n",
    "          'Sierra Leone', 'Somalia', 'South Africa', 'South Sudan', 'Sudan', 'Tanzania', 'Togo', 'Tunisia', 'Uganda', 'Zambia', 'Zimbabwe']\n",
    "\n",
    "oceania = ['Australia', 'Fiji', 'Kiribati', 'Marshall Islands', 'Micronesia', 'Nauru', 'New Zealand', 'Palau', 'Papua New Guinea', 'Samoa',\n",
    "           'Solomon Islands', 'Tonga', 'Tuvalu', 'Vanuatu', 'American Samoa', 'Cook Islands', 'French Polynesia', 'Guam', 'New Caledonia',\n",
    "           'Nieu', 'Norfolk Island', 'Northern Mariana Islands', 'Pitcairn Islands', 'Tokelau', 'Wake Island', 'Wallis and Futuna']\n",
    "\n",
    "\n",
    "continents = []\n",
    "for country in countries:\n",
    "    if country in north_america:\n",
    "        continent = 'North America'\n",
    "        continents.append(continent)\n",
    "    elif country in south_america:\n",
    "        continent = 'South America'\n",
    "        continents.append(continent)\n",
    "    elif country in europe:\n",
    "        continent = 'Europe'\n",
    "        continents.append(continent)\n",
    "    elif country in asia:\n",
    "        continent = 'Asia'\n",
    "        continents.append(continent)\n",
    "    elif country in africa:\n",
    "        continent = 'Africa'\n",
    "        continents.append(continent)\n",
    "    elif country in oceania:\n",
    "        continent = 'Oceania'\n",
    "        continents.append(continent)\n",
    "    else:\n",
    "        continent = 'Others'\n",
    "        continents.append(continent)"
   ]
  },
  {
   "cell_type": "code",
   "execution_count": 37,
   "metadata": {},
   "outputs": [],
   "source": [
    "latest_data.insert(2,'Continent',continents)\n"
   ]
  },
  {
   "cell_type": "code",
   "execution_count": 38,
   "metadata": {},
   "outputs": [],
   "source": [
    "\n",
    "continent_cases = latest_data.groupby('Continent').sum()"
   ]
  },
  {
   "cell_type": "code",
   "execution_count": 39,
   "metadata": {},
   "outputs": [],
   "source": [
    "continent_cases['Mortality Rate'] = np.round(\n",
    "    (continent_cases['Deaths']/continent_cases['Confirmed'])*100, 2)"
   ]
  },
  {
   "cell_type": "markdown",
   "metadata": {},
   "source": [
    "<div id='LatestContinent'></div>"
   ]
  },
  {
   "cell_type": "markdown",
   "metadata": {},
   "source": [
    "## Latest Reported Cases by Continent:\n",
    "***\n"
   ]
  },
  {
   "cell_type": "code",
   "execution_count": 40,
   "metadata": {},
   "outputs": [
    {
     "data": {
      "text/html": [
       "<style  type=\"text/css\" >\n",
       "    #T_594c6142_8a41_11ea_94e3_50e0853f99e9row0_col0 {\n",
       "            background-color:  #fdfdfd;\n",
       "            color:  #000000;\n",
       "        }    #T_594c6142_8a41_11ea_94e3_50e0853f99e9row0_col1 {\n",
       "            background-color:  #fff4ee;\n",
       "            color:  #000000;\n",
       "        }    #T_594c6142_8a41_11ea_94e3_50e0853f99e9row0_col2 {\n",
       "            background-color:  #f5fbf3;\n",
       "            color:  #000000;\n",
       "        }    #T_594c6142_8a41_11ea_94e3_50e0853f99e9row0_col3 {\n",
       "            background-color:  #f3f8fe;\n",
       "            color:  #000000;\n",
       "        }    #T_594c6142_8a41_11ea_94e3_50e0853f99e9row0_col4 {\n",
       "            background-color:  #fda159;\n",
       "            color:  #000000;\n",
       "        }    #T_594c6142_8a41_11ea_94e3_50e0853f99e9row1_col0 {\n",
       "            background-color:  #d9d9d9;\n",
       "            color:  #000000;\n",
       "        }    #T_594c6142_8a41_11ea_94e3_50e0853f99e9row1_col1 {\n",
       "            background-color:  #fee2d5;\n",
       "            color:  #000000;\n",
       "        }    #T_594c6142_8a41_11ea_94e3_50e0853f99e9row1_col2 {\n",
       "            background-color:  #94d390;\n",
       "            color:  #000000;\n",
       "        }    #T_594c6142_8a41_11ea_94e3_50e0853f99e9row1_col3 {\n",
       "            background-color:  #d6e5f4;\n",
       "            color:  #000000;\n",
       "        }    #T_594c6142_8a41_11ea_94e3_50e0853f99e9row1_col4 {\n",
       "            background-color:  #fdb373;\n",
       "            color:  #000000;\n",
       "        }    #T_594c6142_8a41_11ea_94e3_50e0853f99e9row2_col0 {\n",
       "            background-color:  #000000;\n",
       "            color:  #f1f1f1;\n",
       "        }    #T_594c6142_8a41_11ea_94e3_50e0853f99e9row2_col1 {\n",
       "            background-color:  #67000d;\n",
       "            color:  #f1f1f1;\n",
       "        }    #T_594c6142_8a41_11ea_94e3_50e0853f99e9row2_col2 {\n",
       "            background-color:  #00441b;\n",
       "            color:  #f1f1f1;\n",
       "        }    #T_594c6142_8a41_11ea_94e3_50e0853f99e9row2_col3 {\n",
       "            background-color:  #084285;\n",
       "            color:  #f1f1f1;\n",
       "        }    #T_594c6142_8a41_11ea_94e3_50e0853f99e9row2_col4 {\n",
       "            background-color:  #7f2704;\n",
       "            color:  #f1f1f1;\n",
       "        }    #T_594c6142_8a41_11ea_94e3_50e0853f99e9row3_col0 {\n",
       "            background-color:  #515151;\n",
       "            color:  #f1f1f1;\n",
       "        }    #T_594c6142_8a41_11ea_94e3_50e0853f99e9row3_col1 {\n",
       "            background-color:  #fb7050;\n",
       "            color:  #000000;\n",
       "        }    #T_594c6142_8a41_11ea_94e3_50e0853f99e9row3_col2 {\n",
       "            background-color:  #bbe4b4;\n",
       "            color:  #000000;\n",
       "        }    #T_594c6142_8a41_11ea_94e3_50e0853f99e9row3_col3 {\n",
       "            background-color:  #08306b;\n",
       "            color:  #f1f1f1;\n",
       "        }    #T_594c6142_8a41_11ea_94e3_50e0853f99e9row3_col4 {\n",
       "            background-color:  #f57622;\n",
       "            color:  #000000;\n",
       "        }    #T_594c6142_8a41_11ea_94e3_50e0853f99e9row4_col0 {\n",
       "            background-color:  #ffffff;\n",
       "            color:  #000000;\n",
       "        }    #T_594c6142_8a41_11ea_94e3_50e0853f99e9row4_col1 {\n",
       "            background-color:  #fff5f0;\n",
       "            color:  #000000;\n",
       "        }    #T_594c6142_8a41_11ea_94e3_50e0853f99e9row4_col2 {\n",
       "            background-color:  #f6fcf4;\n",
       "            color:  #000000;\n",
       "        }    #T_594c6142_8a41_11ea_94e3_50e0853f99e9row4_col3 {\n",
       "            background-color:  #f7fbff;\n",
       "            color:  #000000;\n",
       "        }    #T_594c6142_8a41_11ea_94e3_50e0853f99e9row4_col4 {\n",
       "            background-color:  #fff5eb;\n",
       "            color:  #000000;\n",
       "        }    #T_594c6142_8a41_11ea_94e3_50e0853f99e9row5_col0 {\n",
       "            background-color:  #ffffff;\n",
       "            color:  #000000;\n",
       "        }    #T_594c6142_8a41_11ea_94e3_50e0853f99e9row5_col1 {\n",
       "            background-color:  #fff5f0;\n",
       "            color:  #000000;\n",
       "        }    #T_594c6142_8a41_11ea_94e3_50e0853f99e9row5_col2 {\n",
       "            background-color:  #f7fcf5;\n",
       "            color:  #000000;\n",
       "        }    #T_594c6142_8a41_11ea_94e3_50e0853f99e9row5_col3 {\n",
       "            background-color:  #f7fbff;\n",
       "            color:  #000000;\n",
       "        }    #T_594c6142_8a41_11ea_94e3_50e0853f99e9row5_col4 {\n",
       "            background-color:  #fdbb81;\n",
       "            color:  #000000;\n",
       "        }    #T_594c6142_8a41_11ea_94e3_50e0853f99e9row6_col0 {\n",
       "            background-color:  #f3f3f3;\n",
       "            color:  #000000;\n",
       "        }    #T_594c6142_8a41_11ea_94e3_50e0853f99e9row6_col1 {\n",
       "            background-color:  #ffece4;\n",
       "            color:  #000000;\n",
       "        }    #T_594c6142_8a41_11ea_94e3_50e0853f99e9row6_col2 {\n",
       "            background-color:  #e8f6e4;\n",
       "            color:  #000000;\n",
       "        }    #T_594c6142_8a41_11ea_94e3_50e0853f99e9row6_col3 {\n",
       "            background-color:  #e3eef9;\n",
       "            color:  #000000;\n",
       "        }    #T_594c6142_8a41_11ea_94e3_50e0853f99e9row6_col4 {\n",
       "            background-color:  #fd9b50;\n",
       "            color:  #000000;\n",
       "        }</style><table id=\"T_594c6142_8a41_11ea_94e3_50e0853f99e9\" ><thead>    <tr>        <th class=\"blank level0\" ></th>        <th class=\"col_heading level0 col0\" >Confirmed</th>        <th class=\"col_heading level0 col1\" >Deaths</th>        <th class=\"col_heading level0 col2\" >Recovered</th>        <th class=\"col_heading level0 col3\" >Active</th>        <th class=\"col_heading level0 col4\" >Mortality Rate</th>    </tr>    <tr>        <th class=\"index_name level0\" >Continent</th>        <th class=\"blank\" ></th>        <th class=\"blank\" ></th>        <th class=\"blank\" ></th>        <th class=\"blank\" ></th>        <th class=\"blank\" ></th>    </tr></thead><tbody>\n",
       "                <tr>\n",
       "                        <th id=\"T_594c6142_8a41_11ea_94e3_50e0853f99e9level0_row0\" class=\"row_heading level0 row0\" >Africa</th>\n",
       "                        <td id=\"T_594c6142_8a41_11ea_94e3_50e0853f99e9row0_col0\" class=\"data row0 col0\" >31333</td>\n",
       "                        <td id=\"T_594c6142_8a41_11ea_94e3_50e0853f99e9row0_col1\" class=\"data row0 col1\" >1417</td>\n",
       "                        <td id=\"T_594c6142_8a41_11ea_94e3_50e0853f99e9row0_col2\" class=\"data row0 col2\" >9534</td>\n",
       "                        <td id=\"T_594c6142_8a41_11ea_94e3_50e0853f99e9row0_col3\" class=\"data row0 col3\" >20382</td>\n",
       "                        <td id=\"T_594c6142_8a41_11ea_94e3_50e0853f99e9row0_col4\" class=\"data row0 col4\" >4.520000</td>\n",
       "            </tr>\n",
       "            <tr>\n",
       "                        <th id=\"T_594c6142_8a41_11ea_94e3_50e0853f99e9level0_row1\" class=\"row_heading level0 row1\" >Asia</th>\n",
       "                        <td id=\"T_594c6142_8a41_11ea_94e3_50e0853f99e9row1_col0\" class=\"data row1 col0\" >363371</td>\n",
       "                        <td id=\"T_594c6142_8a41_11ea_94e3_50e0853f99e9row1_col1\" class=\"data row1 col1\" >14585</td>\n",
       "                        <td id=\"T_594c6142_8a41_11ea_94e3_50e0853f99e9row1_col2\" class=\"data row1 col2\" >199820</td>\n",
       "                        <td id=\"T_594c6142_8a41_11ea_94e3_50e0853f99e9row1_col3\" class=\"data row1 col3\" >148966</td>\n",
       "                        <td id=\"T_594c6142_8a41_11ea_94e3_50e0853f99e9row1_col4\" class=\"data row1 col4\" >4.010000</td>\n",
       "            </tr>\n",
       "            <tr>\n",
       "                        <th id=\"T_594c6142_8a41_11ea_94e3_50e0853f99e9level0_row2\" class=\"row_heading level0 row2\" >Europe</th>\n",
       "                        <td id=\"T_594c6142_8a41_11ea_94e3_50e0853f99e9row2_col0\" class=\"data row2 col0\" >1416647</td>\n",
       "                        <td id=\"T_594c6142_8a41_11ea_94e3_50e0853f99e9row2_col1\" class=\"data row2 col1\" >126828</td>\n",
       "                        <td id=\"T_594c6142_8a41_11ea_94e3_50e0853f99e9row2_col2\" class=\"data row2 col2\" >482301</td>\n",
       "                        <td id=\"T_594c6142_8a41_11ea_94e3_50e0853f99e9row2_col3\" class=\"data row2 col3\" >807518</td>\n",
       "                        <td id=\"T_594c6142_8a41_11ea_94e3_50e0853f99e9row2_col4\" class=\"data row2 col4\" >8.950000</td>\n",
       "            </tr>\n",
       "            <tr>\n",
       "                        <th id=\"T_594c6142_8a41_11ea_94e3_50e0853f99e9level0_row3\" class=\"row_heading level0 row3\" >North America</th>\n",
       "                        <td id=\"T_594c6142_8a41_11ea_94e3_50e0853f99e9row3_col0\" class=\"data row3 col0\" >1069702</td>\n",
       "                        <td id=\"T_594c6142_8a41_11ea_94e3_50e0853f99e9row3_col1\" class=\"data row3 col1\" >61165</td>\n",
       "                        <td id=\"T_594c6142_8a41_11ea_94e3_50e0853f99e9row3_col2\" class=\"data row3 col2\" >141428</td>\n",
       "                        <td id=\"T_594c6142_8a41_11ea_94e3_50e0853f99e9row3_col3\" class=\"data row3 col3\" >867109</td>\n",
       "                        <td id=\"T_594c6142_8a41_11ea_94e3_50e0853f99e9row3_col4\" class=\"data row3 col4\" >5.720000</td>\n",
       "            </tr>\n",
       "            <tr>\n",
       "                        <th id=\"T_594c6142_8a41_11ea_94e3_50e0853f99e9level0_row4\" class=\"row_heading level0 row4\" >Oceania</th>\n",
       "                        <td id=\"T_594c6142_8a41_11ea_94e3_50e0853f99e9row4_col0\" class=\"data row4 col0\" >8219</td>\n",
       "                        <td id=\"T_594c6142_8a41_11ea_94e3_50e0853f99e9row4_col1\" class=\"data row4 col1\" >102</td>\n",
       "                        <td id=\"T_594c6142_8a41_11ea_94e3_50e0853f99e9row4_col2\" class=\"data row4 col2\" >6814</td>\n",
       "                        <td id=\"T_594c6142_8a41_11ea_94e3_50e0853f99e9row4_col3\" class=\"data row4 col3\" >1303</td>\n",
       "                        <td id=\"T_594c6142_8a41_11ea_94e3_50e0853f99e9row4_col4\" class=\"data row4 col4\" >1.240000</td>\n",
       "            </tr>\n",
       "            <tr>\n",
       "                        <th id=\"T_594c6142_8a41_11ea_94e3_50e0853f99e9level0_row5\" class=\"row_heading level0 row5\" >Others</th>\n",
       "                        <td id=\"T_594c6142_8a41_11ea_94e3_50e0853f99e9row5_col0\" class=\"data row5 col0\" >7419</td>\n",
       "                        <td id=\"T_594c6142_8a41_11ea_94e3_50e0853f99e9row5_col1\" class=\"data row5 col1\" >278</td>\n",
       "                        <td id=\"T_594c6142_8a41_11ea_94e3_50e0853f99e9row5_col2\" class=\"data row5 col2\" >2528</td>\n",
       "                        <td id=\"T_594c6142_8a41_11ea_94e3_50e0853f99e9row5_col3\" class=\"data row5 col3\" >4613</td>\n",
       "                        <td id=\"T_594c6142_8a41_11ea_94e3_50e0853f99e9row5_col4\" class=\"data row5 col4\" >3.750000</td>\n",
       "            </tr>\n",
       "            <tr>\n",
       "                        <th id=\"T_594c6142_8a41_11ea_94e3_50e0853f99e9level0_row6\" class=\"row_heading level0 row6\" >South America</th>\n",
       "                        <td id=\"T_594c6142_8a41_11ea_94e3_50e0853f99e9row6_col0\" class=\"data row6 col0\" >145073</td>\n",
       "                        <td id=\"T_594c6142_8a41_11ea_94e3_50e0853f99e9row6_col1\" class=\"data row6 col1\" >6792</td>\n",
       "                        <td id=\"T_594c6142_8a41_11ea_94e3_50e0853f99e9row6_col2\" class=\"data row6 col2\" >51542</td>\n",
       "                        <td id=\"T_594c6142_8a41_11ea_94e3_50e0853f99e9row6_col3\" class=\"data row6 col3\" >86739</td>\n",
       "                        <td id=\"T_594c6142_8a41_11ea_94e3_50e0853f99e9row6_col4\" class=\"data row6 col4\" >4.680000</td>\n",
       "            </tr>\n",
       "    </tbody></table>"
      ],
      "text/plain": [
       "<pandas.io.formats.style.Styler at 0x2b3dbd28a60>"
      ]
     },
     "execution_count": 40,
     "metadata": {},
     "output_type": "execute_result"
    }
   ],
   "source": [
    "continent_cases.style.background_gradient(cmap='Greys', subset=[\"Confirmed\"]).background_gradient(cmap='Reds', subset=['Deaths']).background_gradient(\n",
    "    cmap='Greens', subset=['Recovered']).background_gradient(cmap='Blues', subset=['Active']).background_gradient(cmap='Oranges', subset='Mortality Rate')"
   ]
  },
  {
   "cell_type": "code",
   "execution_count": 41,
   "metadata": {},
   "outputs": [],
   "source": [
    "latest_by_country = latest_data.groupby('Country/Region').sum().sort_values('Confirmed',ascending=False)"
   ]
  },
  {
   "cell_type": "code",
   "execution_count": 42,
   "metadata": {},
   "outputs": [],
   "source": [
    "latest_by_country['Mortality Rate'] = np.round(latest_by_country['Deaths']/latest_by_country['Confirmed']*100,2)"
   ]
  },
  {
   "cell_type": "code",
   "execution_count": 43,
   "metadata": {},
   "outputs": [],
   "source": [
    "latest_by_country['Recovery Rate'] = np.round(latest_by_country['Recovered']/latest_by_country['Confirmed']*100,2)"
   ]
  },
  {
   "cell_type": "markdown",
   "metadata": {},
   "source": [
    "<div id='LatestCountry'></div>"
   ]
  },
  {
   "cell_type": "markdown",
   "metadata": {},
   "source": [
    "## Latest Reported Cases by Country:\n",
    "***"
   ]
  },
  {
   "cell_type": "code",
   "execution_count": 44,
   "metadata": {
    "scrolled": false
   },
   "outputs": [
    {
     "data": {
      "text/html": [
       "<style  type=\"text/css\" >\n",
       "    #T_59dec74a_8a41_11ea_b087_50e0853f99e9row0_col0 {\n",
       "            background-color:  #000000;\n",
       "            color:  #f1f1f1;\n",
       "        }    #T_59dec74a_8a41_11ea_b087_50e0853f99e9row0_col1 {\n",
       "            background-color:  #67000d;\n",
       "            color:  #f1f1f1;\n",
       "        }    #T_59dec74a_8a41_11ea_b087_50e0853f99e9row0_col2 {\n",
       "            background-color:  #005c25;\n",
       "            color:  #f1f1f1;\n",
       "        }    #T_59dec74a_8a41_11ea_b087_50e0853f99e9row0_col3 {\n",
       "            background-color:  #08306b;\n",
       "            color:  #f1f1f1;\n",
       "        }    #T_59dec74a_8a41_11ea_b087_50e0853f99e9row0_col4 {\n",
       "            background-color:  #fdb170;\n",
       "            color:  #000000;\n",
       "        }    #T_59dec74a_8a41_11ea_b087_50e0853f99e9row0_col5 {\n",
       "            background-color:  #e6f5e1;\n",
       "            color:  #000000;\n",
       "        }    #T_59dec74a_8a41_11ea_b087_50e0853f99e9row1_col0 {\n",
       "            background-color:  #dedede;\n",
       "            color:  #000000;\n",
       "        }    #T_59dec74a_8a41_11ea_b087_50e0853f99e9row1_col1 {\n",
       "            background-color:  #fc8565;\n",
       "            color:  #000000;\n",
       "        }    #T_59dec74a_8a41_11ea_b087_50e0853f99e9row1_col2 {\n",
       "            background-color:  #00441b;\n",
       "            color:  #f1f1f1;\n",
       "        }    #T_59dec74a_8a41_11ea_b087_50e0853f99e9row1_col3 {\n",
       "            background-color:  #e3eef8;\n",
       "            color:  #000000;\n",
       "        }    #T_59dec74a_8a41_11ea_b087_50e0853f99e9row1_col4 {\n",
       "            background-color:  #ea5f0e;\n",
       "            color:  #000000;\n",
       "        }    #T_59dec74a_8a41_11ea_b087_50e0853f99e9row1_col5 {\n",
       "            background-color:  #5ab769;\n",
       "            color:  #000000;\n",
       "        }    #T_59dec74a_8a41_11ea_b087_50e0853f99e9row2_col0 {\n",
       "            background-color:  #e4e4e4;\n",
       "            color:  #000000;\n",
       "        }    #T_59dec74a_8a41_11ea_b087_50e0853f99e9row2_col1 {\n",
       "            background-color:  #fb7151;\n",
       "            color:  #000000;\n",
       "        }    #T_59dec74a_8a41_11ea_b087_50e0853f99e9row2_col2 {\n",
       "            background-color:  #5eb96b;\n",
       "            color:  #000000;\n",
       "        }    #T_59dec74a_8a41_11ea_b087_50e0853f99e9row2_col3 {\n",
       "            background-color:  #deebf7;\n",
       "            color:  #000000;\n",
       "        }    #T_59dec74a_8a41_11ea_b087_50e0853f99e9row2_col4 {\n",
       "            background-color:  #a53603;\n",
       "            color:  #f1f1f1;\n",
       "        }    #T_59dec74a_8a41_11ea_b087_50e0853f99e9row2_col5 {\n",
       "            background-color:  #a7dba0;\n",
       "            color:  #000000;\n",
       "        }    #T_59dec74a_8a41_11ea_b087_50e0853f99e9row3_col0 {\n",
       "            background-color:  #eaeaea;\n",
       "            color:  #000000;\n",
       "        }    #T_59dec74a_8a41_11ea_b087_50e0853f99e9row3_col1 {\n",
       "            background-color:  #fc8565;\n",
       "            color:  #000000;\n",
       "        }    #T_59dec74a_8a41_11ea_b087_50e0853f99e9row3_col2 {\n",
       "            background-color:  #9fd899;\n",
       "            color:  #000000;\n",
       "        }    #T_59dec74a_8a41_11ea_b087_50e0853f99e9row3_col3 {\n",
       "            background-color:  #e0ecf8;\n",
       "            color:  #000000;\n",
       "        }    #T_59dec74a_8a41_11ea_b087_50e0853f99e9row3_col4 {\n",
       "            background-color:  #9b3203;\n",
       "            color:  #f1f1f1;\n",
       "        }    #T_59dec74a_8a41_11ea_b087_50e0853f99e9row3_col5 {\n",
       "            background-color:  #bae3b3;\n",
       "            color:  #000000;\n",
       "        }    #T_59dec74a_8a41_11ea_b087_50e0853f99e9row4_col0 {\n",
       "            background-color:  #ececec;\n",
       "            color:  #000000;\n",
       "        }    #T_59dec74a_8a41_11ea_b087_50e0853f99e9row4_col1 {\n",
       "            background-color:  #fee3d7;\n",
       "            color:  #000000;\n",
       "        }    #T_59dec74a_8a41_11ea_b087_50e0853f99e9row4_col2 {\n",
       "            background-color:  #005522;\n",
       "            color:  #f1f1f1;\n",
       "        }    #T_59dec74a_8a41_11ea_b087_50e0853f99e9row4_col3 {\n",
       "            background-color:  #eef5fc;\n",
       "            color:  #000000;\n",
       "        }    #T_59dec74a_8a41_11ea_b087_50e0853f99e9row4_col4 {\n",
       "            background-color:  #fdd1a4;\n",
       "            color:  #000000;\n",
       "        }    #T_59dec74a_8a41_11ea_b087_50e0853f99e9row4_col5 {\n",
       "            background-color:  #1d8640;\n",
       "            color:  #000000;\n",
       "        }    #T_59dec74a_8a41_11ea_b087_50e0853f99e9row5_col0 {\n",
       "            background-color:  #ececec;\n",
       "            color:  #000000;\n",
       "        }    #T_59dec74a_8a41_11ea_b087_50e0853f99e9row5_col1 {\n",
       "            background-color:  #fc9272;\n",
       "            color:  #000000;\n",
       "        }    #T_59dec74a_8a41_11ea_b087_50e0853f99e9row5_col2 {\n",
       "            background-color:  #f6fcf4;\n",
       "            color:  #000000;\n",
       "        }    #T_59dec74a_8a41_11ea_b087_50e0853f99e9row5_col3 {\n",
       "            background-color:  #d6e6f4;\n",
       "            color:  #000000;\n",
       "        }    #T_59dec74a_8a41_11ea_b087_50e0853f99e9row5_col4 {\n",
       "            background-color:  #a93703;\n",
       "            color:  #f1f1f1;\n",
       "        }    #T_59dec74a_8a41_11ea_b087_50e0853f99e9row5_col5 {\n",
       "            background-color:  #f7fcf5;\n",
       "            color:  #000000;\n",
       "        }    #T_59dec74a_8a41_11ea_b087_50e0853f99e9row6_col0 {\n",
       "            background-color:  #f3f3f3;\n",
       "            color:  #000000;\n",
       "        }    #T_59dec74a_8a41_11ea_b087_50e0853f99e9row6_col1 {\n",
       "            background-color:  #ffece4;\n",
       "            color:  #000000;\n",
       "        }    #T_59dec74a_8a41_11ea_b087_50e0853f99e9row6_col2 {\n",
       "            background-color:  #bee5b8;\n",
       "            color:  #000000;\n",
       "        }    #T_59dec74a_8a41_11ea_b087_50e0853f99e9row6_col3 {\n",
       "            background-color:  #e5eff9;\n",
       "            color:  #000000;\n",
       "        }    #T_59dec74a_8a41_11ea_b087_50e0853f99e9row6_col4 {\n",
       "            background-color:  #fee0c1;\n",
       "            color:  #000000;\n",
       "        }    #T_59dec74a_8a41_11ea_b087_50e0853f99e9row6_col5 {\n",
       "            background-color:  #b2e0ac;\n",
       "            color:  #000000;\n",
       "        }    #T_59dec74a_8a41_11ea_b087_50e0853f99e9row7_col0 {\n",
       "            background-color:  #f6f6f6;\n",
       "            color:  #000000;\n",
       "        }    #T_59dec74a_8a41_11ea_b087_50e0853f99e9row7_col1 {\n",
       "            background-color:  #fee4d8;\n",
       "            color:  #000000;\n",
       "        }    #T_59dec74a_8a41_11ea_b087_50e0853f99e9row7_col2 {\n",
       "            background-color:  #50b264;\n",
       "            color:  #000000;\n",
       "        }    #T_59dec74a_8a41_11ea_b087_50e0853f99e9row7_col3 {\n",
       "            background-color:  #f4f9fe;\n",
       "            color:  #000000;\n",
       "        }    #T_59dec74a_8a41_11ea_b087_50e0853f99e9row7_col4 {\n",
       "            background-color:  #fda55f;\n",
       "            color:  #000000;\n",
       "        }    #T_59dec74a_8a41_11ea_b087_50e0853f99e9row7_col5 {\n",
       "            background-color:  #0c7735;\n",
       "            color:  #f1f1f1;\n",
       "        }    #T_59dec74a_8a41_11ea_b087_50e0853f99e9row8_col0 {\n",
       "            background-color:  #f6f6f6;\n",
       "            color:  #000000;\n",
       "        }    #T_59dec74a_8a41_11ea_b087_50e0853f99e9row8_col1 {\n",
       "            background-color:  #fff3ed;\n",
       "            color:  #000000;\n",
       "        }    #T_59dec74a_8a41_11ea_b087_50e0853f99e9row8_col2 {\n",
       "            background-color:  #eff9eb;\n",
       "            color:  #000000;\n",
       "        }    #T_59dec74a_8a41_11ea_b087_50e0853f99e9row8_col3 {\n",
       "            background-color:  #e4eff9;\n",
       "            color:  #000000;\n",
       "        }    #T_59dec74a_8a41_11ea_b087_50e0853f99e9row8_col4 {\n",
       "            background-color:  #ffefdf;\n",
       "            color:  #000000;\n",
       "        }    #T_59dec74a_8a41_11ea_b087_50e0853f99e9row8_col5 {\n",
       "            background-color:  #ebf7e7;\n",
       "            color:  #000000;\n",
       "        }    #T_59dec74a_8a41_11ea_b087_50e0853f99e9row9_col0 {\n",
       "            background-color:  #f7f7f7;\n",
       "            color:  #000000;\n",
       "        }    #T_59dec74a_8a41_11ea_b087_50e0853f99e9row9_col1 {\n",
       "            background-color:  #fee7dc;\n",
       "            color:  #000000;\n",
       "        }    #T_59dec74a_8a41_11ea_b087_50e0853f99e9row9_col2 {\n",
       "            background-color:  #3ca559;\n",
       "            color:  #000000;\n",
       "        }    #T_59dec74a_8a41_11ea_b087_50e0853f99e9row9_col3 {\n",
       "            background-color:  #f7fbff;\n",
       "            color:  #000000;\n",
       "        }    #T_59dec74a_8a41_11ea_b087_50e0853f99e9row9_col4 {\n",
       "            background-color:  #fdb475;\n",
       "            color:  #000000;\n",
       "        }    #T_59dec74a_8a41_11ea_b087_50e0853f99e9row9_col5 {\n",
       "            background-color:  #00441b;\n",
       "            color:  #f1f1f1;\n",
       "        }    #T_59dec74a_8a41_11ea_b087_50e0853f99e9row10_col0 {\n",
       "            background-color:  #f8f8f8;\n",
       "            color:  #000000;\n",
       "        }    #T_59dec74a_8a41_11ea_b087_50e0853f99e9row10_col1 {\n",
       "            background-color:  #fee8dd;\n",
       "            color:  #000000;\n",
       "        }    #T_59dec74a_8a41_11ea_b087_50e0853f99e9row10_col2 {\n",
       "            background-color:  #c6e8bf;\n",
       "            color:  #000000;\n",
       "        }    #T_59dec74a_8a41_11ea_b087_50e0853f99e9row10_col3 {\n",
       "            background-color:  #f0f6fd;\n",
       "            color:  #000000;\n",
       "        }    #T_59dec74a_8a41_11ea_b087_50e0853f99e9row10_col4 {\n",
       "            background-color:  #fd9d53;\n",
       "            color:  #000000;\n",
       "        }    #T_59dec74a_8a41_11ea_b087_50e0853f99e9row10_col5 {\n",
       "            background-color:  #76c578;\n",
       "            color:  #000000;\n",
       "        }    #T_59dec74a_8a41_11ea_b087_50e0853f99e9row11_col0 {\n",
       "            background-color:  #fbfbfb;\n",
       "            color:  #000000;\n",
       "        }    #T_59dec74a_8a41_11ea_b087_50e0853f99e9row11_col1 {\n",
       "            background-color:  #ffede5;\n",
       "            color:  #000000;\n",
       "        }    #T_59dec74a_8a41_11ea_b087_50e0853f99e9row11_col2 {\n",
       "            background-color:  #dff3da;\n",
       "            color:  #000000;\n",
       "        }    #T_59dec74a_8a41_11ea_b087_50e0853f99e9row11_col3 {\n",
       "            background-color:  #f1f7fd;\n",
       "            color:  #000000;\n",
       "        }    #T_59dec74a_8a41_11ea_b087_50e0853f99e9row11_col4 {\n",
       "            background-color:  #fdb170;\n",
       "            color:  #000000;\n",
       "        }    #T_59dec74a_8a41_11ea_b087_50e0853f99e9row11_col5 {\n",
       "            background-color:  #9bd696;\n",
       "            color:  #000000;\n",
       "        }    #T_59dec74a_8a41_11ea_b087_50e0853f99e9row12_col0 {\n",
       "            background-color:  #fbfbfb;\n",
       "            color:  #000000;\n",
       "        }    #T_59dec74a_8a41_11ea_b087_50e0853f99e9row12_col1 {\n",
       "            background-color:  #fee0d2;\n",
       "            color:  #000000;\n",
       "        }    #T_59dec74a_8a41_11ea_b087_50e0853f99e9row12_col2 {\n",
       "            background-color:  #ebf7e7;\n",
       "            color:  #000000;\n",
       "        }    #T_59dec74a_8a41_11ea_b087_50e0853f99e9row12_col3 {\n",
       "            background-color:  #f1f7fd;\n",
       "            color:  #000000;\n",
       "        }    #T_59dec74a_8a41_11ea_b087_50e0853f99e9row12_col4 {\n",
       "            background-color:  #7f2704;\n",
       "            color:  #f1f1f1;\n",
       "        }    #T_59dec74a_8a41_11ea_b087_50e0853f99e9row12_col5 {\n",
       "            background-color:  #c8e9c1;\n",
       "            color:  #000000;\n",
       "        }    #T_59dec74a_8a41_11ea_b087_50e0853f99e9row13_col0 {\n",
       "            background-color:  #fcfcfc;\n",
       "            color:  #000000;\n",
       "        }    #T_59dec74a_8a41_11ea_b087_50e0853f99e9row13_col1 {\n",
       "            background-color:  #fee8dd;\n",
       "            color:  #000000;\n",
       "        }    #T_59dec74a_8a41_11ea_b087_50e0853f99e9row13_col2 {\n",
       "            background-color:  #f7fcf5;\n",
       "            color:  #000000;\n",
       "        }    #T_59dec74a_8a41_11ea_b087_50e0853f99e9row13_col3 {\n",
       "            background-color:  #eff6fc;\n",
       "            color:  #000000;\n",
       "        }    #T_59dec74a_8a41_11ea_b087_50e0853f99e9row13_col4 {\n",
       "            background-color:  #d34601;\n",
       "            color:  #f1f1f1;\n",
       "        }    #T_59dec74a_8a41_11ea_b087_50e0853f99e9row13_col5 {\n",
       "            background-color:  #f7fcf5;\n",
       "            color:  #000000;\n",
       "        }    #T_59dec74a_8a41_11ea_b087_50e0853f99e9row14_col0 {\n",
       "            background-color:  #fdfdfd;\n",
       "            color:  #000000;\n",
       "        }    #T_59dec74a_8a41_11ea_b087_50e0853f99e9row14_col1 {\n",
       "            background-color:  #fff2ec;\n",
       "            color:  #000000;\n",
       "        }    #T_59dec74a_8a41_11ea_b087_50e0853f99e9row14_col2 {\n",
       "            background-color:  #eff9ec;\n",
       "            color:  #000000;\n",
       "        }    #T_59dec74a_8a41_11ea_b087_50e0853f99e9row14_col3 {\n",
       "            background-color:  #f2f8fd;\n",
       "            color:  #000000;\n",
       "        }    #T_59dec74a_8a41_11ea_b087_50e0853f99e9row14_col4 {\n",
       "            background-color:  #fdd9b4;\n",
       "            color:  #000000;\n",
       "        }    #T_59dec74a_8a41_11ea_b087_50e0853f99e9row14_col5 {\n",
       "            background-color:  #c6e8bf;\n",
       "            color:  #000000;\n",
       "        }    #T_59dec74a_8a41_11ea_b087_50e0853f99e9row15_col0 {\n",
       "            background-color:  #fdfdfd;\n",
       "            color:  #000000;\n",
       "        }    #T_59dec74a_8a41_11ea_b087_50e0853f99e9row15_col1 {\n",
       "            background-color:  #fff0e9;\n",
       "            color:  #000000;\n",
       "        }    #T_59dec74a_8a41_11ea_b087_50e0853f99e9row15_col2 {\n",
       "            background-color:  #d8f0d2;\n",
       "            color:  #000000;\n",
       "        }    #T_59dec74a_8a41_11ea_b087_50e0853f99e9row15_col3 {\n",
       "            background-color:  #f6faff;\n",
       "            color:  #000000;\n",
       "        }    #T_59dec74a_8a41_11ea_b087_50e0853f99e9row15_col4 {\n",
       "            background-color:  #fdb170;\n",
       "            color:  #000000;\n",
       "        }    #T_59dec74a_8a41_11ea_b087_50e0853f99e9row15_col5 {\n",
       "            background-color:  #117b38;\n",
       "            color:  #f1f1f1;\n",
       "        }    #T_59dec74a_8a41_11ea_b087_50e0853f99e9row16_col0 {\n",
       "            background-color:  #fdfdfd;\n",
       "            color:  #000000;\n",
       "        }    #T_59dec74a_8a41_11ea_b087_50e0853f99e9row16_col1 {\n",
       "            background-color:  #fff3ed;\n",
       "            color:  #000000;\n",
       "        }    #T_59dec74a_8a41_11ea_b087_50e0853f99e9row16_col2 {\n",
       "            background-color:  #edf8ea;\n",
       "            color:  #000000;\n",
       "        }    #T_59dec74a_8a41_11ea_b087_50e0853f99e9row16_col3 {\n",
       "            background-color:  #f3f8fe;\n",
       "            color:  #000000;\n",
       "        }    #T_59dec74a_8a41_11ea_b087_50e0853f99e9row16_col4 {\n",
       "            background-color:  #fedebf;\n",
       "            color:  #000000;\n",
       "        }    #T_59dec74a_8a41_11ea_b087_50e0853f99e9row16_col5 {\n",
       "            background-color:  #b5e1ae;\n",
       "            color:  #000000;\n",
       "        }    #T_59dec74a_8a41_11ea_b087_50e0853f99e9row17_col0 {\n",
       "            background-color:  #fefefe;\n",
       "            color:  #000000;\n",
       "        }    #T_59dec74a_8a41_11ea_b087_50e0853f99e9row17_col1 {\n",
       "            background-color:  #fff2ec;\n",
       "            color:  #000000;\n",
       "        }    #T_59dec74a_8a41_11ea_b087_50e0853f99e9row17_col2 {\n",
       "            background-color:  #f6fcf4;\n",
       "            color:  #000000;\n",
       "        }    #T_59dec74a_8a41_11ea_b087_50e0853f99e9row17_col3 {\n",
       "            background-color:  #f2f8fd;\n",
       "            color:  #000000;\n",
       "        }    #T_59dec74a_8a41_11ea_b087_50e0853f99e9row17_col4 {\n",
       "            background-color:  #fdd1a4;\n",
       "            color:  #000000;\n",
       "        }    #T_59dec74a_8a41_11ea_b087_50e0853f99e9row17_col5 {\n",
       "            background-color:  #eff9ec;\n",
       "            color:  #000000;\n",
       "        }    #T_59dec74a_8a41_11ea_b087_50e0853f99e9row18_col0 {\n",
       "            background-color:  #fefefe;\n",
       "            color:  #000000;\n",
       "        }    #T_59dec74a_8a41_11ea_b087_50e0853f99e9row18_col1 {\n",
       "            background-color:  #fff4ee;\n",
       "            color:  #000000;\n",
       "        }    #T_59dec74a_8a41_11ea_b087_50e0853f99e9row18_col2 {\n",
       "            background-color:  #f5fbf3;\n",
       "            color:  #000000;\n",
       "        }    #T_59dec74a_8a41_11ea_b087_50e0853f99e9row18_col3 {\n",
       "            background-color:  #f2f8fd;\n",
       "            color:  #000000;\n",
       "        }    #T_59dec74a_8a41_11ea_b087_50e0853f99e9row18_col4 {\n",
       "            background-color:  #feddbc;\n",
       "            color:  #000000;\n",
       "        }    #T_59dec74a_8a41_11ea_b087_50e0853f99e9row18_col5 {\n",
       "            background-color:  #edf8ea;\n",
       "            color:  #000000;\n",
       "        }    #T_59dec74a_8a41_11ea_b087_50e0853f99e9row19_col0 {\n",
       "            background-color:  #fefefe;\n",
       "            color:  #000000;\n",
       "        }    #T_59dec74a_8a41_11ea_b087_50e0853f99e9row19_col1 {\n",
       "            background-color:  #fff2ec;\n",
       "            color:  #000000;\n",
       "        }    #T_59dec74a_8a41_11ea_b087_50e0853f99e9row19_col2 {\n",
       "            background-color:  #ecf8e8;\n",
       "            color:  #000000;\n",
       "        }    #T_59dec74a_8a41_11ea_b087_50e0853f99e9row19_col3 {\n",
       "            background-color:  #f5fafe;\n",
       "            color:  #000000;\n",
       "        }    #T_59dec74a_8a41_11ea_b087_50e0853f99e9row19_col4 {\n",
       "            background-color:  #fdb373;\n",
       "            color:  #000000;\n",
       "        }    #T_59dec74a_8a41_11ea_b087_50e0853f99e9row19_col5 {\n",
       "            background-color:  #73c476;\n",
       "            color:  #000000;\n",
       "        }    #T_59dec74a_8a41_11ea_b087_50e0853f99e9row20_col0 {\n",
       "            background-color:  #ffffff;\n",
       "            color:  #000000;\n",
       "        }    #T_59dec74a_8a41_11ea_b087_50e0853f99e9row20_col1 {\n",
       "            background-color:  #ffeee7;\n",
       "            color:  #000000;\n",
       "        }    #T_59dec74a_8a41_11ea_b087_50e0853f99e9row20_col2 {\n",
       "            background-color:  #f6fcf4;\n",
       "            color:  #000000;\n",
       "        }    #T_59dec74a_8a41_11ea_b087_50e0853f99e9row20_col3 {\n",
       "            background-color:  #f4f9fe;\n",
       "            color:  #000000;\n",
       "        }    #T_59dec74a_8a41_11ea_b087_50e0853f99e9row20_col4 {\n",
       "            background-color:  #ce4401;\n",
       "            color:  #f1f1f1;\n",
       "        }    #T_59dec74a_8a41_11ea_b087_50e0853f99e9row20_col5 {\n",
       "            background-color:  #f0f9ec;\n",
       "            color:  #000000;\n",
       "        }    #T_59dec74a_8a41_11ea_b087_50e0853f99e9row21_col0 {\n",
       "            background-color:  #ffffff;\n",
       "            color:  #000000;\n",
       "        }    #T_59dec74a_8a41_11ea_b087_50e0853f99e9row21_col1 {\n",
       "            background-color:  #fff5f0;\n",
       "            color:  #000000;\n",
       "        }    #T_59dec74a_8a41_11ea_b087_50e0853f99e9row21_col2 {\n",
       "            background-color:  #f4fbf2;\n",
       "            color:  #000000;\n",
       "        }    #T_59dec74a_8a41_11ea_b087_50e0853f99e9row21_col3 {\n",
       "            background-color:  #f4f9fe;\n",
       "            color:  #000000;\n",
       "        }    #T_59dec74a_8a41_11ea_b087_50e0853f99e9row21_col4 {\n",
       "            background-color:  #fff0e1;\n",
       "            color:  #000000;\n",
       "        }    #T_59dec74a_8a41_11ea_b087_50e0853f99e9row21_col5 {\n",
       "            background-color:  #e1f3dc;\n",
       "            color:  #000000;\n",
       "        }    #T_59dec74a_8a41_11ea_b087_50e0853f99e9row22_col0 {\n",
       "            background-color:  #ffffff;\n",
       "            color:  #000000;\n",
       "        }    #T_59dec74a_8a41_11ea_b087_50e0853f99e9row22_col1 {\n",
       "            background-color:  #fff5f0;\n",
       "            color:  #000000;\n",
       "        }    #T_59dec74a_8a41_11ea_b087_50e0853f99e9row22_col2 {\n",
       "            background-color:  #eff9eb;\n",
       "            color:  #000000;\n",
       "        }    #T_59dec74a_8a41_11ea_b087_50e0853f99e9row22_col3 {\n",
       "            background-color:  #f5fafe;\n",
       "            color:  #000000;\n",
       "        }    #T_59dec74a_8a41_11ea_b087_50e0853f99e9row22_col4 {\n",
       "            background-color:  #feecd9;\n",
       "            color:  #000000;\n",
       "        }    #T_59dec74a_8a41_11ea_b087_50e0853f99e9row22_col5 {\n",
       "            background-color:  #76c578;\n",
       "            color:  #000000;\n",
       "        }    #T_59dec74a_8a41_11ea_b087_50e0853f99e9row23_col0 {\n",
       "            background-color:  #ffffff;\n",
       "            color:  #000000;\n",
       "        }    #T_59dec74a_8a41_11ea_b087_50e0853f99e9row23_col1 {\n",
       "            background-color:  #fff1ea;\n",
       "            color:  #000000;\n",
       "        }    #T_59dec74a_8a41_11ea_b087_50e0853f99e9row23_col2 {\n",
       "            background-color:  #ecf8e8;\n",
       "            color:  #000000;\n",
       "        }    #T_59dec74a_8a41_11ea_b087_50e0853f99e9row23_col3 {\n",
       "            background-color:  #f6faff;\n",
       "            color:  #000000;\n",
       "        }    #T_59dec74a_8a41_11ea_b087_50e0853f99e9row23_col4 {\n",
       "            background-color:  #f4711c;\n",
       "            color:  #000000;\n",
       "        }    #T_59dec74a_8a41_11ea_b087_50e0853f99e9row23_col5 {\n",
       "            background-color:  #40aa5d;\n",
       "            color:  #000000;\n",
       "        }    #T_59dec74a_8a41_11ea_b087_50e0853f99e9row24_col0 {\n",
       "            background-color:  #ffffff;\n",
       "            color:  #000000;\n",
       "        }    #T_59dec74a_8a41_11ea_b087_50e0853f99e9row24_col1 {\n",
       "            background-color:  #fff4ee;\n",
       "            color:  #000000;\n",
       "        }    #T_59dec74a_8a41_11ea_b087_50e0853f99e9row24_col2 {\n",
       "            background-color:  #e9f7e5;\n",
       "            color:  #000000;\n",
       "        }    #T_59dec74a_8a41_11ea_b087_50e0853f99e9row24_col3 {\n",
       "            background-color:  #f7fbff;\n",
       "            color:  #000000;\n",
       "        }    #T_59dec74a_8a41_11ea_b087_50e0853f99e9row24_col4 {\n",
       "            background-color:  #fdd4aa;\n",
       "            color:  #000000;\n",
       "        }    #T_59dec74a_8a41_11ea_b087_50e0853f99e9row24_col5 {\n",
       "            background-color:  #026f2e;\n",
       "            color:  #f1f1f1;\n",
       "        }    #T_59dec74a_8a41_11ea_b087_50e0853f99e9row25_col0 {\n",
       "            background-color:  #ffffff;\n",
       "            color:  #000000;\n",
       "        }    #T_59dec74a_8a41_11ea_b087_50e0853f99e9row25_col1 {\n",
       "            background-color:  #fff5f0;\n",
       "            color:  #000000;\n",
       "        }    #T_59dec74a_8a41_11ea_b087_50e0853f99e9row25_col2 {\n",
       "            background-color:  #f6fcf4;\n",
       "            color:  #000000;\n",
       "        }    #T_59dec74a_8a41_11ea_b087_50e0853f99e9row25_col3 {\n",
       "            background-color:  #f5f9fe;\n",
       "            color:  #000000;\n",
       "        }    #T_59dec74a_8a41_11ea_b087_50e0853f99e9row25_col4 {\n",
       "            background-color:  #fff5eb;\n",
       "            color:  #000000;\n",
       "        }    #T_59dec74a_8a41_11ea_b087_50e0853f99e9row25_col5 {\n",
       "            background-color:  #ecf8e8;\n",
       "            color:  #000000;\n",
       "        }    #T_59dec74a_8a41_11ea_b087_50e0853f99e9row26_col0 {\n",
       "            background-color:  #ffffff;\n",
       "            color:  #000000;\n",
       "        }    #T_59dec74a_8a41_11ea_b087_50e0853f99e9row26_col1 {\n",
       "            background-color:  #fff4ef;\n",
       "            color:  #000000;\n",
       "        }    #T_59dec74a_8a41_11ea_b087_50e0853f99e9row26_col2 {\n",
       "            background-color:  #f5fbf3;\n",
       "            color:  #000000;\n",
       "        }    #T_59dec74a_8a41_11ea_b087_50e0853f99e9row26_col3 {\n",
       "            background-color:  #f5f9fe;\n",
       "            color:  #000000;\n",
       "        }    #T_59dec74a_8a41_11ea_b087_50e0853f99e9row26_col4 {\n",
       "            background-color:  #fedebf;\n",
       "            color:  #000000;\n",
       "        }    #T_59dec74a_8a41_11ea_b087_50e0853f99e9row26_col5 {\n",
       "            background-color:  #e1f3dc;\n",
       "            color:  #000000;\n",
       "        }    #T_59dec74a_8a41_11ea_b087_50e0853f99e9row27_col0 {\n",
       "            background-color:  #ffffff;\n",
       "            color:  #000000;\n",
       "        }    #T_59dec74a_8a41_11ea_b087_50e0853f99e9row27_col1 {\n",
       "            background-color:  #fff4ef;\n",
       "            color:  #000000;\n",
       "        }    #T_59dec74a_8a41_11ea_b087_50e0853f99e9row27_col2 {\n",
       "            background-color:  #f4fbf1;\n",
       "            color:  #000000;\n",
       "        }    #T_59dec74a_8a41_11ea_b087_50e0853f99e9row27_col3 {\n",
       "            background-color:  #f5f9fe;\n",
       "            color:  #000000;\n",
       "        }    #T_59dec74a_8a41_11ea_b087_50e0853f99e9row27_col4 {\n",
       "            background-color:  #fee5cc;\n",
       "            color:  #000000;\n",
       "        }    #T_59dec74a_8a41_11ea_b087_50e0853f99e9row27_col5 {\n",
       "            background-color:  #cbebc5;\n",
       "            color:  #000000;\n",
       "        }    #T_59dec74a_8a41_11ea_b087_50e0853f99e9row28_col0 {\n",
       "            background-color:  #ffffff;\n",
       "            color:  #000000;\n",
       "        }    #T_59dec74a_8a41_11ea_b087_50e0853f99e9row28_col1 {\n",
       "            background-color:  #fff5f0;\n",
       "            color:  #000000;\n",
       "        }    #T_59dec74a_8a41_11ea_b087_50e0853f99e9row28_col2 {\n",
       "            background-color:  #eff9eb;\n",
       "            color:  #000000;\n",
       "        }    #T_59dec74a_8a41_11ea_b087_50e0853f99e9row28_col3 {\n",
       "            background-color:  #f6faff;\n",
       "            color:  #000000;\n",
       "        }    #T_59dec74a_8a41_11ea_b087_50e0853f99e9row28_col4 {\n",
       "            background-color:  #feebd7;\n",
       "            color:  #000000;\n",
       "        }    #T_59dec74a_8a41_11ea_b087_50e0853f99e9row28_col5 {\n",
       "            background-color:  #58b668;\n",
       "            color:  #000000;\n",
       "        }    #T_59dec74a_8a41_11ea_b087_50e0853f99e9row29_col0 {\n",
       "            background-color:  #ffffff;\n",
       "            color:  #000000;\n",
       "        }    #T_59dec74a_8a41_11ea_b087_50e0853f99e9row29_col1 {\n",
       "            background-color:  #fff4ee;\n",
       "            color:  #000000;\n",
       "        }    #T_59dec74a_8a41_11ea_b087_50e0853f99e9row29_col2 {\n",
       "            background-color:  #f5fbf2;\n",
       "            color:  #000000;\n",
       "        }    #T_59dec74a_8a41_11ea_b087_50e0853f99e9row29_col3 {\n",
       "            background-color:  #f5fafe;\n",
       "            color:  #000000;\n",
       "        }    #T_59dec74a_8a41_11ea_b087_50e0853f99e9row29_col4 {\n",
       "            background-color:  #fdc28b;\n",
       "            color:  #000000;\n",
       "        }    #T_59dec74a_8a41_11ea_b087_50e0853f99e9row29_col5 {\n",
       "            background-color:  #ceecc8;\n",
       "            color:  #000000;\n",
       "        }</style><table id=\"T_59dec74a_8a41_11ea_b087_50e0853f99e9\" ><thead>    <tr>        <th class=\"blank level0\" ></th>        <th class=\"col_heading level0 col0\" >Confirmed</th>        <th class=\"col_heading level0 col1\" >Deaths</th>        <th class=\"col_heading level0 col2\" >Recovered</th>        <th class=\"col_heading level0 col3\" >Active</th>        <th class=\"col_heading level0 col4\" >Mortality Rate</th>        <th class=\"col_heading level0 col5\" >Recovery Rate</th>    </tr>    <tr>        <th class=\"index_name level0\" >Country/Region</th>        <th class=\"blank\" ></th>        <th class=\"blank\" ></th>        <th class=\"blank\" ></th>        <th class=\"blank\" ></th>        <th class=\"blank\" ></th>        <th class=\"blank\" ></th>    </tr></thead><tbody>\n",
       "                <tr>\n",
       "                        <th id=\"T_59dec74a_8a41_11ea_b087_50e0853f99e9level0_row0\" class=\"row_heading level0 row0\" >US</th>\n",
       "                        <td id=\"T_59dec74a_8a41_11ea_b087_50e0853f99e9row0_col0\" class=\"data row0 col0\" >988197</td>\n",
       "                        <td id=\"T_59dec74a_8a41_11ea_b087_50e0853f99e9row0_col1\" class=\"data row0 col1\" >56259</td>\n",
       "                        <td id=\"T_59dec74a_8a41_11ea_b087_50e0853f99e9row0_col2\" class=\"data row0 col2\" >111424</td>\n",
       "                        <td id=\"T_59dec74a_8a41_11ea_b087_50e0853f99e9row0_col3\" class=\"data row0 col3\" >820514</td>\n",
       "                        <td id=\"T_59dec74a_8a41_11ea_b087_50e0853f99e9row0_col4\" class=\"data row0 col4\" >5.690000</td>\n",
       "                        <td id=\"T_59dec74a_8a41_11ea_b087_50e0853f99e9row0_col5\" class=\"data row0 col5\" >11.280000</td>\n",
       "            </tr>\n",
       "            <tr>\n",
       "                        <th id=\"T_59dec74a_8a41_11ea_b087_50e0853f99e9level0_row1\" class=\"row_heading level0 row1\" >Spain</th>\n",
       "                        <td id=\"T_59dec74a_8a41_11ea_b087_50e0853f99e9row1_col0\" class=\"data row1 col0\" >229422</td>\n",
       "                        <td id=\"T_59dec74a_8a41_11ea_b087_50e0853f99e9row1_col1\" class=\"data row1 col1\" >23521</td>\n",
       "                        <td id=\"T_59dec74a_8a41_11ea_b087_50e0853f99e9row1_col2\" class=\"data row1 col2\" >120832</td>\n",
       "                        <td id=\"T_59dec74a_8a41_11ea_b087_50e0853f99e9row1_col3\" class=\"data row1 col3\" >85069</td>\n",
       "                        <td id=\"T_59dec74a_8a41_11ea_b087_50e0853f99e9row1_col4\" class=\"data row1 col4\" >10.250000</td>\n",
       "                        <td id=\"T_59dec74a_8a41_11ea_b087_50e0853f99e9row1_col5\" class=\"data row1 col5\" >52.670000</td>\n",
       "            </tr>\n",
       "            <tr>\n",
       "                        <th id=\"T_59dec74a_8a41_11ea_b087_50e0853f99e9level0_row2\" class=\"row_heading level0 row2\" >Italy</th>\n",
       "                        <td id=\"T_59dec74a_8a41_11ea_b087_50e0853f99e9row2_col0\" class=\"data row2 col0\" >199414</td>\n",
       "                        <td id=\"T_59dec74a_8a41_11ea_b087_50e0853f99e9row2_col1\" class=\"data row2 col1\" >26977</td>\n",
       "                        <td id=\"T_59dec74a_8a41_11ea_b087_50e0853f99e9row2_col2\" class=\"data row2 col2\" >66624</td>\n",
       "                        <td id=\"T_59dec74a_8a41_11ea_b087_50e0853f99e9row2_col3\" class=\"data row2 col3\" >105813</td>\n",
       "                        <td id=\"T_59dec74a_8a41_11ea_b087_50e0853f99e9row2_col4\" class=\"data row2 col4\" >13.530000</td>\n",
       "                        <td id=\"T_59dec74a_8a41_11ea_b087_50e0853f99e9row2_col5\" class=\"data row2 col5\" >33.410000</td>\n",
       "            </tr>\n",
       "            <tr>\n",
       "                        <th id=\"T_59dec74a_8a41_11ea_b087_50e0853f99e9level0_row3\" class=\"row_heading level0 row3\" >France</th>\n",
       "                        <td id=\"T_59dec74a_8a41_11ea_b087_50e0853f99e9row3_col0\" class=\"data row3 col0\" >165963</td>\n",
       "                        <td id=\"T_59dec74a_8a41_11ea_b087_50e0853f99e9row3_col1\" class=\"data row3 col1\" >23327</td>\n",
       "                        <td id=\"T_59dec74a_8a41_11ea_b087_50e0853f99e9row3_col2\" class=\"data row3 col2\" >46293</td>\n",
       "                        <td id=\"T_59dec74a_8a41_11ea_b087_50e0853f99e9row3_col3\" class=\"data row3 col3\" >96343</td>\n",
       "                        <td id=\"T_59dec74a_8a41_11ea_b087_50e0853f99e9row3_col4\" class=\"data row3 col4\" >14.060000</td>\n",
       "                        <td id=\"T_59dec74a_8a41_11ea_b087_50e0853f99e9row3_col5\" class=\"data row3 col5\" >27.890000</td>\n",
       "            </tr>\n",
       "            <tr>\n",
       "                        <th id=\"T_59dec74a_8a41_11ea_b087_50e0853f99e9level0_row4\" class=\"row_heading level0 row4\" >Germany</th>\n",
       "                        <td id=\"T_59dec74a_8a41_11ea_b087_50e0853f99e9row4_col0\" class=\"data row4 col0\" >158758</td>\n",
       "                        <td id=\"T_59dec74a_8a41_11ea_b087_50e0853f99e9row4_col1\" class=\"data row4 col1\" >6126</td>\n",
       "                        <td id=\"T_59dec74a_8a41_11ea_b087_50e0853f99e9row4_col2\" class=\"data row4 col2\" >114500</td>\n",
       "                        <td id=\"T_59dec74a_8a41_11ea_b087_50e0853f99e9row4_col3\" class=\"data row4 col3\" >38132</td>\n",
       "                        <td id=\"T_59dec74a_8a41_11ea_b087_50e0853f99e9row4_col4\" class=\"data row4 col4\" >3.860000</td>\n",
       "                        <td id=\"T_59dec74a_8a41_11ea_b087_50e0853f99e9row4_col5\" class=\"data row4 col5\" >72.120000</td>\n",
       "            </tr>\n",
       "            <tr>\n",
       "                        <th id=\"T_59dec74a_8a41_11ea_b087_50e0853f99e9level0_row5\" class=\"row_heading level0 row5\" >United Kingdom</th>\n",
       "                        <td id=\"T_59dec74a_8a41_11ea_b087_50e0853f99e9row5_col0\" class=\"data row5 col0\" >158348</td>\n",
       "                        <td id=\"T_59dec74a_8a41_11ea_b087_50e0853f99e9row5_col1\" class=\"data row5 col1\" >21157</td>\n",
       "                        <td id=\"T_59dec74a_8a41_11ea_b087_50e0853f99e9row5_col2\" class=\"data row5 col2\" >807</td>\n",
       "                        <td id=\"T_59dec74a_8a41_11ea_b087_50e0853f99e9row5_col3\" class=\"data row5 col3\" >136384</td>\n",
       "                        <td id=\"T_59dec74a_8a41_11ea_b087_50e0853f99e9row5_col4\" class=\"data row5 col4\" >13.360000</td>\n",
       "                        <td id=\"T_59dec74a_8a41_11ea_b087_50e0853f99e9row5_col5\" class=\"data row5 col5\" >0.510000</td>\n",
       "            </tr>\n",
       "            <tr>\n",
       "                        <th id=\"T_59dec74a_8a41_11ea_b087_50e0853f99e9level0_row6\" class=\"row_heading level0 row6\" >Turkey</th>\n",
       "                        <td id=\"T_59dec74a_8a41_11ea_b087_50e0853f99e9row6_col0\" class=\"data row6 col0\" >112261</td>\n",
       "                        <td id=\"T_59dec74a_8a41_11ea_b087_50e0853f99e9row6_col1\" class=\"data row6 col1\" >2900</td>\n",
       "                        <td id=\"T_59dec74a_8a41_11ea_b087_50e0853f99e9row6_col2\" class=\"data row6 col2\" >33791</td>\n",
       "                        <td id=\"T_59dec74a_8a41_11ea_b087_50e0853f99e9row6_col3\" class=\"data row6 col3\" >75570</td>\n",
       "                        <td id=\"T_59dec74a_8a41_11ea_b087_50e0853f99e9row6_col4\" class=\"data row6 col4\" >2.580000</td>\n",
       "                        <td id=\"T_59dec74a_8a41_11ea_b087_50e0853f99e9row6_col5\" class=\"data row6 col5\" >30.100000</td>\n",
       "            </tr>\n",
       "            <tr>\n",
       "                        <th id=\"T_59dec74a_8a41_11ea_b087_50e0853f99e9level0_row7\" class=\"row_heading level0 row7\" >Iran</th>\n",
       "                        <td id=\"T_59dec74a_8a41_11ea_b087_50e0853f99e9row7_col0\" class=\"data row7 col0\" >91472</td>\n",
       "                        <td id=\"T_59dec74a_8a41_11ea_b087_50e0853f99e9row7_col1\" class=\"data row7 col1\" >5806</td>\n",
       "                        <td id=\"T_59dec74a_8a41_11ea_b087_50e0853f99e9row7_col2\" class=\"data row7 col2\" >70933</td>\n",
       "                        <td id=\"T_59dec74a_8a41_11ea_b087_50e0853f99e9row7_col3\" class=\"data row7 col3\" >14733</td>\n",
       "                        <td id=\"T_59dec74a_8a41_11ea_b087_50e0853f99e9row7_col4\" class=\"data row7 col4\" >6.350000</td>\n",
       "                        <td id=\"T_59dec74a_8a41_11ea_b087_50e0853f99e9row7_col5\" class=\"data row7 col5\" >77.550000</td>\n",
       "            </tr>\n",
       "            <tr>\n",
       "                        <th id=\"T_59dec74a_8a41_11ea_b087_50e0853f99e9level0_row8\" class=\"row_heading level0 row8\" >Russia</th>\n",
       "                        <td id=\"T_59dec74a_8a41_11ea_b087_50e0853f99e9row8_col0\" class=\"data row8 col0\" >87147</td>\n",
       "                        <td id=\"T_59dec74a_8a41_11ea_b087_50e0853f99e9row8_col1\" class=\"data row8 col1\" >794</td>\n",
       "                        <td id=\"T_59dec74a_8a41_11ea_b087_50e0853f99e9row8_col2\" class=\"data row8 col2\" >7346</td>\n",
       "                        <td id=\"T_59dec74a_8a41_11ea_b087_50e0853f99e9row8_col3\" class=\"data row8 col3\" >79007</td>\n",
       "                        <td id=\"T_59dec74a_8a41_11ea_b087_50e0853f99e9row8_col4\" class=\"data row8 col4\" >0.910000</td>\n",
       "                        <td id=\"T_59dec74a_8a41_11ea_b087_50e0853f99e9row8_col5\" class=\"data row8 col5\" >8.430000</td>\n",
       "            </tr>\n",
       "            <tr>\n",
       "                        <th id=\"T_59dec74a_8a41_11ea_b087_50e0853f99e9level0_row9\" class=\"row_heading level0 row9\" >China</th>\n",
       "                        <td id=\"T_59dec74a_8a41_11ea_b087_50e0853f99e9row9_col0\" class=\"data row9 col0\" >83918</td>\n",
       "                        <td id=\"T_59dec74a_8a41_11ea_b087_50e0853f99e9row9_col1\" class=\"data row9 col1\" >4637</td>\n",
       "                        <td id=\"T_59dec74a_8a41_11ea_b087_50e0853f99e9row9_col2\" class=\"data row9 col2\" >78374</td>\n",
       "                        <td id=\"T_59dec74a_8a41_11ea_b087_50e0853f99e9row9_col3\" class=\"data row9 col3\" >907</td>\n",
       "                        <td id=\"T_59dec74a_8a41_11ea_b087_50e0853f99e9row9_col4\" class=\"data row9 col4\" >5.530000</td>\n",
       "                        <td id=\"T_59dec74a_8a41_11ea_b087_50e0853f99e9row9_col5\" class=\"data row9 col5\" >93.390000</td>\n",
       "            </tr>\n",
       "            <tr>\n",
       "                        <th id=\"T_59dec74a_8a41_11ea_b087_50e0853f99e9level0_row10\" class=\"row_heading level0 row10\" >Brazil</th>\n",
       "                        <td id=\"T_59dec74a_8a41_11ea_b087_50e0853f99e9row10_col0\" class=\"data row10 col0\" >67446</td>\n",
       "                        <td id=\"T_59dec74a_8a41_11ea_b087_50e0853f99e9row10_col1\" class=\"data row10 col1\" >4603</td>\n",
       "                        <td id=\"T_59dec74a_8a41_11ea_b087_50e0853f99e9row10_col2\" class=\"data row10 col2\" >31142</td>\n",
       "                        <td id=\"T_59dec74a_8a41_11ea_b087_50e0853f99e9row10_col3\" class=\"data row10 col3\" >31701</td>\n",
       "                        <td id=\"T_59dec74a_8a41_11ea_b087_50e0853f99e9row10_col4\" class=\"data row10 col4\" >6.820000</td>\n",
       "                        <td id=\"T_59dec74a_8a41_11ea_b087_50e0853f99e9row10_col5\" class=\"data row10 col5\" >46.170000</td>\n",
       "            </tr>\n",
       "            <tr>\n",
       "                        <th id=\"T_59dec74a_8a41_11ea_b087_50e0853f99e9level0_row11\" class=\"row_heading level0 row11\" >Canada</th>\n",
       "                        <td id=\"T_59dec74a_8a41_11ea_b087_50e0853f99e9row11_col0\" class=\"data row11 col0\" >49616</td>\n",
       "                        <td id=\"T_59dec74a_8a41_11ea_b087_50e0853f99e9row11_col1\" class=\"data row11 col1\" >2841</td>\n",
       "                        <td id=\"T_59dec74a_8a41_11ea_b087_50e0853f99e9row11_col2\" class=\"data row11 col2\" >18268</td>\n",
       "                        <td id=\"T_59dec74a_8a41_11ea_b087_50e0853f99e9row11_col3\" class=\"data row11 col3\" >28507</td>\n",
       "                        <td id=\"T_59dec74a_8a41_11ea_b087_50e0853f99e9row11_col4\" class=\"data row11 col4\" >5.730000</td>\n",
       "                        <td id=\"T_59dec74a_8a41_11ea_b087_50e0853f99e9row11_col5\" class=\"data row11 col5\" >36.820000</td>\n",
       "            </tr>\n",
       "            <tr>\n",
       "                        <th id=\"T_59dec74a_8a41_11ea_b087_50e0853f99e9level0_row12\" class=\"row_heading level0 row12\" >Belgium</th>\n",
       "                        <td id=\"T_59dec74a_8a41_11ea_b087_50e0853f99e9row12_col0\" class=\"data row12 col0\" >46687</td>\n",
       "                        <td id=\"T_59dec74a_8a41_11ea_b087_50e0853f99e9row12_col1\" class=\"data row12 col1\" >7207</td>\n",
       "                        <td id=\"T_59dec74a_8a41_11ea_b087_50e0853f99e9row12_col2\" class=\"data row12 col2\" >10878</td>\n",
       "                        <td id=\"T_59dec74a_8a41_11ea_b087_50e0853f99e9row12_col3\" class=\"data row12 col3\" >28602</td>\n",
       "                        <td id=\"T_59dec74a_8a41_11ea_b087_50e0853f99e9row12_col4\" class=\"data row12 col4\" >15.440000</td>\n",
       "                        <td id=\"T_59dec74a_8a41_11ea_b087_50e0853f99e9row12_col5\" class=\"data row12 col5\" >23.300000</td>\n",
       "            </tr>\n",
       "            <tr>\n",
       "                        <th id=\"T_59dec74a_8a41_11ea_b087_50e0853f99e9level0_row13\" class=\"row_heading level0 row13\" >Netherlands</th>\n",
       "                        <td id=\"T_59dec74a_8a41_11ea_b087_50e0853f99e9row13_col0\" class=\"data row13 col0\" >38440</td>\n",
       "                        <td id=\"T_59dec74a_8a41_11ea_b087_50e0853f99e9row13_col1\" class=\"data row13 col1\" >4534</td>\n",
       "                        <td id=\"T_59dec74a_8a41_11ea_b087_50e0853f99e9row13_col2\" class=\"data row13 col2\" >117</td>\n",
       "                        <td id=\"T_59dec74a_8a41_11ea_b087_50e0853f99e9row13_col3\" class=\"data row13 col3\" >33789</td>\n",
       "                        <td id=\"T_59dec74a_8a41_11ea_b087_50e0853f99e9row13_col4\" class=\"data row13 col4\" >11.800000</td>\n",
       "                        <td id=\"T_59dec74a_8a41_11ea_b087_50e0853f99e9row13_col5\" class=\"data row13 col5\" >0.300000</td>\n",
       "            </tr>\n",
       "            <tr>\n",
       "                        <th id=\"T_59dec74a_8a41_11ea_b087_50e0853f99e9level0_row14\" class=\"row_heading level0 row14\" >India</th>\n",
       "                        <td id=\"T_59dec74a_8a41_11ea_b087_50e0853f99e9row14_col0\" class=\"data row14 col0\" >29451</td>\n",
       "                        <td id=\"T_59dec74a_8a41_11ea_b087_50e0853f99e9row14_col1\" class=\"data row14 col1\" >939</td>\n",
       "                        <td id=\"T_59dec74a_8a41_11ea_b087_50e0853f99e9row14_col2\" class=\"data row14 col2\" >7137</td>\n",
       "                        <td id=\"T_59dec74a_8a41_11ea_b087_50e0853f99e9row14_col3\" class=\"data row14 col3\" >21375</td>\n",
       "                        <td id=\"T_59dec74a_8a41_11ea_b087_50e0853f99e9row14_col4\" class=\"data row14 col4\" >3.190000</td>\n",
       "                        <td id=\"T_59dec74a_8a41_11ea_b087_50e0853f99e9row14_col5\" class=\"data row14 col5\" >24.230000</td>\n",
       "            </tr>\n",
       "            <tr>\n",
       "                        <th id=\"T_59dec74a_8a41_11ea_b087_50e0853f99e9level0_row15\" class=\"row_heading level0 row15\" >Switzerland</th>\n",
       "                        <td id=\"T_59dec74a_8a41_11ea_b087_50e0853f99e9row15_col0\" class=\"data row15 col0\" >29164</td>\n",
       "                        <td id=\"T_59dec74a_8a41_11ea_b087_50e0853f99e9row15_col1\" class=\"data row15 col1\" >1665</td>\n",
       "                        <td id=\"T_59dec74a_8a41_11ea_b087_50e0853f99e9row15_col2\" class=\"data row15 col2\" >22200</td>\n",
       "                        <td id=\"T_59dec74a_8a41_11ea_b087_50e0853f99e9row15_col3\" class=\"data row15 col3\" >5299</td>\n",
       "                        <td id=\"T_59dec74a_8a41_11ea_b087_50e0853f99e9row15_col4\" class=\"data row15 col4\" >5.710000</td>\n",
       "                        <td id=\"T_59dec74a_8a41_11ea_b087_50e0853f99e9row15_col5\" class=\"data row15 col5\" >76.120000</td>\n",
       "            </tr>\n",
       "            <tr>\n",
       "                        <th id=\"T_59dec74a_8a41_11ea_b087_50e0853f99e9level0_row16\" class=\"row_heading level0 row16\" >Peru</th>\n",
       "                        <td id=\"T_59dec74a_8a41_11ea_b087_50e0853f99e9row16_col0\" class=\"data row16 col0\" >28699</td>\n",
       "                        <td id=\"T_59dec74a_8a41_11ea_b087_50e0853f99e9row16_col1\" class=\"data row16 col1\" >782</td>\n",
       "                        <td id=\"T_59dec74a_8a41_11ea_b087_50e0853f99e9row16_col2\" class=\"data row16 col2\" >8425</td>\n",
       "                        <td id=\"T_59dec74a_8a41_11ea_b087_50e0853f99e9row16_col3\" class=\"data row16 col3\" >19492</td>\n",
       "                        <td id=\"T_59dec74a_8a41_11ea_b087_50e0853f99e9row16_col4\" class=\"data row16 col4\" >2.720000</td>\n",
       "                        <td id=\"T_59dec74a_8a41_11ea_b087_50e0853f99e9row16_col5\" class=\"data row16 col5\" >29.360000</td>\n",
       "            </tr>\n",
       "            <tr>\n",
       "                        <th id=\"T_59dec74a_8a41_11ea_b087_50e0853f99e9level0_row17\" class=\"row_heading level0 row17\" >Portugal</th>\n",
       "                        <td id=\"T_59dec74a_8a41_11ea_b087_50e0853f99e9row17_col0\" class=\"data row17 col0\" >24027</td>\n",
       "                        <td id=\"T_59dec74a_8a41_11ea_b087_50e0853f99e9row17_col1\" class=\"data row17 col1\" >928</td>\n",
       "                        <td id=\"T_59dec74a_8a41_11ea_b087_50e0853f99e9row17_col2\" class=\"data row17 col2\" >1357</td>\n",
       "                        <td id=\"T_59dec74a_8a41_11ea_b087_50e0853f99e9row17_col3\" class=\"data row17 col3\" >21742</td>\n",
       "                        <td id=\"T_59dec74a_8a41_11ea_b087_50e0853f99e9row17_col4\" class=\"data row17 col4\" >3.860000</td>\n",
       "                        <td id=\"T_59dec74a_8a41_11ea_b087_50e0853f99e9row17_col5\" class=\"data row17 col5\" >5.650000</td>\n",
       "            </tr>\n",
       "            <tr>\n",
       "                        <th id=\"T_59dec74a_8a41_11ea_b087_50e0853f99e9level0_row18\" class=\"row_heading level0 row18\" >Ecuador</th>\n",
       "                        <td id=\"T_59dec74a_8a41_11ea_b087_50e0853f99e9row18_col0\" class=\"data row18 col0\" >23240</td>\n",
       "                        <td id=\"T_59dec74a_8a41_11ea_b087_50e0853f99e9row18_col1\" class=\"data row18 col1\" >663</td>\n",
       "                        <td id=\"T_59dec74a_8a41_11ea_b087_50e0853f99e9row18_col2\" class=\"data row18 col2\" >1557</td>\n",
       "                        <td id=\"T_59dec74a_8a41_11ea_b087_50e0853f99e9row18_col3\" class=\"data row18 col3\" >21020</td>\n",
       "                        <td id=\"T_59dec74a_8a41_11ea_b087_50e0853f99e9row18_col4\" class=\"data row18 col4\" >2.850000</td>\n",
       "                        <td id=\"T_59dec74a_8a41_11ea_b087_50e0853f99e9row18_col5\" class=\"data row18 col5\" >6.700000</td>\n",
       "            </tr>\n",
       "            <tr>\n",
       "                        <th id=\"T_59dec74a_8a41_11ea_b087_50e0853f99e9level0_row19\" class=\"row_heading level0 row19\" >Ireland</th>\n",
       "                        <td id=\"T_59dec74a_8a41_11ea_b087_50e0853f99e9row19_col0\" class=\"data row19 col0\" >19648</td>\n",
       "                        <td id=\"T_59dec74a_8a41_11ea_b087_50e0853f99e9row19_col1\" class=\"data row19 col1\" >1102</td>\n",
       "                        <td id=\"T_59dec74a_8a41_11ea_b087_50e0853f99e9row19_col2\" class=\"data row19 col2\" >9233</td>\n",
       "                        <td id=\"T_59dec74a_8a41_11ea_b087_50e0853f99e9row19_col3\" class=\"data row19 col3\" >9313</td>\n",
       "                        <td id=\"T_59dec74a_8a41_11ea_b087_50e0853f99e9row19_col4\" class=\"data row19 col4\" >5.610000</td>\n",
       "                        <td id=\"T_59dec74a_8a41_11ea_b087_50e0853f99e9row19_col5\" class=\"data row19 col5\" >46.990000</td>\n",
       "            </tr>\n",
       "            <tr>\n",
       "                        <th id=\"T_59dec74a_8a41_11ea_b087_50e0853f99e9level0_row20\" class=\"row_heading level0 row20\" >Sweden</th>\n",
       "                        <td id=\"T_59dec74a_8a41_11ea_b087_50e0853f99e9row20_col0\" class=\"data row20 col0\" >18926</td>\n",
       "                        <td id=\"T_59dec74a_8a41_11ea_b087_50e0853f99e9row20_col1\" class=\"data row20 col1\" >2274</td>\n",
       "                        <td id=\"T_59dec74a_8a41_11ea_b087_50e0853f99e9row20_col2\" class=\"data row20 col2\" >1005</td>\n",
       "                        <td id=\"T_59dec74a_8a41_11ea_b087_50e0853f99e9row20_col3\" class=\"data row20 col3\" >15647</td>\n",
       "                        <td id=\"T_59dec74a_8a41_11ea_b087_50e0853f99e9row20_col4\" class=\"data row20 col4\" >12.020000</td>\n",
       "                        <td id=\"T_59dec74a_8a41_11ea_b087_50e0853f99e9row20_col5\" class=\"data row20 col5\" >5.310000</td>\n",
       "            </tr>\n",
       "            <tr>\n",
       "                        <th id=\"T_59dec74a_8a41_11ea_b087_50e0853f99e9level0_row21\" class=\"row_heading level0 row21\" >Saudi Arabia</th>\n",
       "                        <td id=\"T_59dec74a_8a41_11ea_b087_50e0853f99e9row21_col0\" class=\"data row21 col0\" >18811</td>\n",
       "                        <td id=\"T_59dec74a_8a41_11ea_b087_50e0853f99e9row21_col1\" class=\"data row21 col1\" >144</td>\n",
       "                        <td id=\"T_59dec74a_8a41_11ea_b087_50e0853f99e9row21_col2\" class=\"data row21 col2\" >2531</td>\n",
       "                        <td id=\"T_59dec74a_8a41_11ea_b087_50e0853f99e9row21_col3\" class=\"data row21 col3\" >16136</td>\n",
       "                        <td id=\"T_59dec74a_8a41_11ea_b087_50e0853f99e9row21_col4\" class=\"data row21 col4\" >0.770000</td>\n",
       "                        <td id=\"T_59dec74a_8a41_11ea_b087_50e0853f99e9row21_col5\" class=\"data row21 col5\" >13.450000</td>\n",
       "            </tr>\n",
       "            <tr>\n",
       "                        <th id=\"T_59dec74a_8a41_11ea_b087_50e0853f99e9level0_row22\" class=\"row_heading level0 row22\" >Israel</th>\n",
       "                        <td id=\"T_59dec74a_8a41_11ea_b087_50e0853f99e9row22_col0\" class=\"data row22 col0\" >15555</td>\n",
       "                        <td id=\"T_59dec74a_8a41_11ea_b087_50e0853f99e9row22_col1\" class=\"data row22 col1\" >204</td>\n",
       "                        <td id=\"T_59dec74a_8a41_11ea_b087_50e0853f99e9row22_col2\" class=\"data row22 col2\" >7200</td>\n",
       "                        <td id=\"T_59dec74a_8a41_11ea_b087_50e0853f99e9row22_col3\" class=\"data row22 col3\" >8151</td>\n",
       "                        <td id=\"T_59dec74a_8a41_11ea_b087_50e0853f99e9row22_col4\" class=\"data row22 col4\" >1.310000</td>\n",
       "                        <td id=\"T_59dec74a_8a41_11ea_b087_50e0853f99e9row22_col5\" class=\"data row22 col5\" >46.290000</td>\n",
       "            </tr>\n",
       "            <tr>\n",
       "                        <th id=\"T_59dec74a_8a41_11ea_b087_50e0853f99e9level0_row23\" class=\"row_heading level0 row23\" >Mexico</th>\n",
       "                        <td id=\"T_59dec74a_8a41_11ea_b087_50e0853f99e9row23_col0\" class=\"data row23 col0\" >15529</td>\n",
       "                        <td id=\"T_59dec74a_8a41_11ea_b087_50e0853f99e9row23_col1\" class=\"data row23 col1\" >1434</td>\n",
       "                        <td id=\"T_59dec74a_8a41_11ea_b087_50e0853f99e9row23_col2\" class=\"data row23 col2\" >9086</td>\n",
       "                        <td id=\"T_59dec74a_8a41_11ea_b087_50e0853f99e9row23_col3\" class=\"data row23 col3\" >5009</td>\n",
       "                        <td id=\"T_59dec74a_8a41_11ea_b087_50e0853f99e9row23_col4\" class=\"data row23 col4\" >9.230000</td>\n",
       "                        <td id=\"T_59dec74a_8a41_11ea_b087_50e0853f99e9row23_col5\" class=\"data row23 col5\" >58.510000</td>\n",
       "            </tr>\n",
       "            <tr>\n",
       "                        <th id=\"T_59dec74a_8a41_11ea_b087_50e0853f99e9level0_row24\" class=\"row_heading level0 row24\" >Austria</th>\n",
       "                        <td id=\"T_59dec74a_8a41_11ea_b087_50e0853f99e9row24_col0\" class=\"data row24 col0\" >15274</td>\n",
       "                        <td id=\"T_59dec74a_8a41_11ea_b087_50e0853f99e9row24_col1\" class=\"data row24 col1\" >549</td>\n",
       "                        <td id=\"T_59dec74a_8a41_11ea_b087_50e0853f99e9row24_col2\" class=\"data row24 col2\" >12362</td>\n",
       "                        <td id=\"T_59dec74a_8a41_11ea_b087_50e0853f99e9row24_col3\" class=\"data row24 col3\" >2363</td>\n",
       "                        <td id=\"T_59dec74a_8a41_11ea_b087_50e0853f99e9row24_col4\" class=\"data row24 col4\" >3.590000</td>\n",
       "                        <td id=\"T_59dec74a_8a41_11ea_b087_50e0853f99e9row24_col5\" class=\"data row24 col5\" >80.930000</td>\n",
       "            </tr>\n",
       "            <tr>\n",
       "                        <th id=\"T_59dec74a_8a41_11ea_b087_50e0853f99e9level0_row25\" class=\"row_heading level0 row25\" >Singapore</th>\n",
       "                        <td id=\"T_59dec74a_8a41_11ea_b087_50e0853f99e9row25_col0\" class=\"data row25 col0\" >14423</td>\n",
       "                        <td id=\"T_59dec74a_8a41_11ea_b087_50e0853f99e9row25_col1\" class=\"data row25 col1\" >14</td>\n",
       "                        <td id=\"T_59dec74a_8a41_11ea_b087_50e0853f99e9row25_col2\" class=\"data row25 col2\" >1095</td>\n",
       "                        <td id=\"T_59dec74a_8a41_11ea_b087_50e0853f99e9row25_col3\" class=\"data row25 col3\" >13314</td>\n",
       "                        <td id=\"T_59dec74a_8a41_11ea_b087_50e0853f99e9row25_col4\" class=\"data row25 col4\" >0.100000</td>\n",
       "                        <td id=\"T_59dec74a_8a41_11ea_b087_50e0853f99e9row25_col5\" class=\"data row25 col5\" >7.590000</td>\n",
       "            </tr>\n",
       "            <tr>\n",
       "                        <th id=\"T_59dec74a_8a41_11ea_b087_50e0853f99e9level0_row26\" class=\"row_heading level0 row26\" >Japan</th>\n",
       "                        <td id=\"T_59dec74a_8a41_11ea_b087_50e0853f99e9row26_col0\" class=\"data row26 col0\" >14153</td>\n",
       "                        <td id=\"T_59dec74a_8a41_11ea_b087_50e0853f99e9row26_col1\" class=\"data row26 col1\" >385</td>\n",
       "                        <td id=\"T_59dec74a_8a41_11ea_b087_50e0853f99e9row26_col2\" class=\"data row26 col2\" >1899</td>\n",
       "                        <td id=\"T_59dec74a_8a41_11ea_b087_50e0853f99e9row26_col3\" class=\"data row26 col3\" >11869</td>\n",
       "                        <td id=\"T_59dec74a_8a41_11ea_b087_50e0853f99e9row26_col4\" class=\"data row26 col4\" >2.720000</td>\n",
       "                        <td id=\"T_59dec74a_8a41_11ea_b087_50e0853f99e9row26_col5\" class=\"data row26 col5\" >13.420000</td>\n",
       "            </tr>\n",
       "            <tr>\n",
       "                        <th id=\"T_59dec74a_8a41_11ea_b087_50e0853f99e9level0_row27\" class=\"row_heading level0 row27\" >Pakistan</th>\n",
       "                        <td id=\"T_59dec74a_8a41_11ea_b087_50e0853f99e9row27_col0\" class=\"data row27 col0\" >13915</td>\n",
       "                        <td id=\"T_59dec74a_8a41_11ea_b087_50e0853f99e9row27_col1\" class=\"data row27 col1\" >292</td>\n",
       "                        <td id=\"T_59dec74a_8a41_11ea_b087_50e0853f99e9row27_col2\" class=\"data row27 col2\" >3029</td>\n",
       "                        <td id=\"T_59dec74a_8a41_11ea_b087_50e0853f99e9row27_col3\" class=\"data row27 col3\" >10594</td>\n",
       "                        <td id=\"T_59dec74a_8a41_11ea_b087_50e0853f99e9row27_col4\" class=\"data row27 col4\" >2.100000</td>\n",
       "                        <td id=\"T_59dec74a_8a41_11ea_b087_50e0853f99e9row27_col5\" class=\"data row27 col5\" >21.770000</td>\n",
       "            </tr>\n",
       "            <tr>\n",
       "                        <th id=\"T_59dec74a_8a41_11ea_b087_50e0853f99e9level0_row28\" class=\"row_heading level0 row28\" >Chile</th>\n",
       "                        <td id=\"T_59dec74a_8a41_11ea_b087_50e0853f99e9row28_col0\" class=\"data row28 col0\" >13813</td>\n",
       "                        <td id=\"T_59dec74a_8a41_11ea_b087_50e0853f99e9row28_col1\" class=\"data row28 col1\" >198</td>\n",
       "                        <td id=\"T_59dec74a_8a41_11ea_b087_50e0853f99e9row28_col2\" class=\"data row28 col2\" >7327</td>\n",
       "                        <td id=\"T_59dec74a_8a41_11ea_b087_50e0853f99e9row28_col3\" class=\"data row28 col3\" >6288</td>\n",
       "                        <td id=\"T_59dec74a_8a41_11ea_b087_50e0853f99e9row28_col4\" class=\"data row28 col4\" >1.430000</td>\n",
       "                        <td id=\"T_59dec74a_8a41_11ea_b087_50e0853f99e9row28_col5\" class=\"data row28 col5\" >53.040000</td>\n",
       "            </tr>\n",
       "            <tr>\n",
       "                        <th id=\"T_59dec74a_8a41_11ea_b087_50e0853f99e9level0_row29\" class=\"row_heading level0 row29\" >Poland</th>\n",
       "                        <td id=\"T_59dec74a_8a41_11ea_b087_50e0853f99e9row29_col0\" class=\"data row29 col0\" >11902</td>\n",
       "                        <td id=\"T_59dec74a_8a41_11ea_b087_50e0853f99e9row29_col1\" class=\"data row29 col1\" >562</td>\n",
       "                        <td id=\"T_59dec74a_8a41_11ea_b087_50e0853f99e9row29_col2\" class=\"data row29 col2\" >2466</td>\n",
       "                        <td id=\"T_59dec74a_8a41_11ea_b087_50e0853f99e9row29_col3\" class=\"data row29 col3\" >8874</td>\n",
       "                        <td id=\"T_59dec74a_8a41_11ea_b087_50e0853f99e9row29_col4\" class=\"data row29 col4\" >4.720000</td>\n",
       "                        <td id=\"T_59dec74a_8a41_11ea_b087_50e0853f99e9row29_col5\" class=\"data row29 col5\" >20.720000</td>\n",
       "            </tr>\n",
       "    </tbody></table>"
      ],
      "text/plain": [
       "<pandas.io.formats.style.Styler at 0x2b3dbd3a880>"
      ]
     },
     "execution_count": 44,
     "metadata": {},
     "output_type": "execute_result"
    }
   ],
   "source": [
    "latest_by_country.head(30).style.background_gradient(cmap='Greys', subset=[\"Confirmed\"]).background_gradient(cmap='Reds', subset=['Deaths']).background_gradient(\n",
    "    cmap='Greens', subset=['Recovered']).background_gradient(cmap='Blues', subset=['Active']).background_gradient(cmap='Oranges', subset='Mortality Rate').background_gradient(cmap='Greens',subset='Recovery Rate')"
   ]
  },
  {
   "cell_type": "code",
   "execution_count": 45,
   "metadata": {
    "hide_input": true
   },
   "outputs": [],
   "source": [
    "# grabbing list with dates converted to integers 0,1,2..etd\n",
    "adjusted_dates = np.array([i for i in range(len(dates))]).reshape(1, -1)[0]\n",
    "\n",
    "# figure for # of cases\n",
    "#\n",
    "layout1 = go.Layout(\n",
    "    title=\"# of Cases Over Time\",\n",
    "    yaxis=dict(title=\"Number of People Affected\"),\n",
    "    xaxis=dict(title=\"Days since 1/22/20\"),\n",
    ")\n",
    "\n",
    "trace1 = go.Scatter(\n",
    "    x=adjusted_dates,\n",
    "    y=world_cases,\n",
    "    # markers, lines, or lines+markers\n",
    "    mode=\"lines\",\n",
    "    name=\"Cases\",\n",
    "    line=dict(color=\"orange\"),\n",
    "    hovertemplate=\" %{y:.0f}\",\n",
    ")\n",
    "\n",
    "# figure for # of deaths\n",
    "layout2 = go.Layout(\n",
    "    title=\"# of Deaths Over Time\",\n",
    "    yaxis=dict(title=\"Number of Deaths\"),\n",
    "    xaxis=dict(title=\"Days since 1/22/20\"),\n",
    ")\n",
    "\n",
    "trace2 = go.Scatter(\n",
    "    x=adjusted_dates,\n",
    "    y=world_deaths,\n",
    "    # markers, lines, or lines+markers\n",
    "    mode=\"lines\",\n",
    "    name=\"Deaths\",\n",
    "    line=dict(color=\"red\"),\n",
    "    hovertemplate=\" %{y:.0f}\",\n",
    ")\n",
    "\n",
    "# figure for # of recoveries\n",
    "layout3 = go.Layout(\n",
    "    title=\"# of Recoveries Over Time\",\n",
    "    yaxis=dict(title=\"Number of Recoveries\"),\n",
    "    xaxis=dict(title=\"Days since 1/22/20\"),\n",
    ")\n",
    "\n",
    "trace3 = go.Scatter(\n",
    "    x=adjusted_dates,\n",
    "    y=world_recovered,\n",
    "    mode=\"lines\",\n",
    "    name=\"Recovered\",\n",
    "    line=dict(color=\"green\"),\n",
    "    hovertemplate=\" %{y:.0f}\",\n",
    ")"
   ]
  },
  {
   "cell_type": "markdown",
   "metadata": {},
   "source": [
    "<div id='Combined'></div>"
   ]
  },
  {
   "cell_type": "markdown",
   "metadata": {},
   "source": [
    "## Reported Cases, Deaths, Recoveries:\n",
    "***"
   ]
  },
  {
   "cell_type": "code",
   "execution_count": 46,
   "metadata": {
    "hide_input": true
   },
   "outputs": [
    {
     "data": {
      "application/vnd.plotly.v1+json": {
       "config": {
        "linkText": "Export to plot.ly",
        "plotlyServerURL": "https://plot.ly",
        "showLink": false
       },
       "data": [
        {
         "hovertemplate": " %{y:.0f}",
         "line": {
          "color": "orange"
         },
         "mode": "lines",
         "name": "Cases",
         "type": "scatter",
         "x": [
          0,
          1,
          2,
          3,
          4,
          5,
          6,
          7,
          8,
          9,
          10,
          11,
          12,
          13,
          14,
          15,
          16,
          17,
          18,
          19,
          20,
          21,
          22,
          23,
          24,
          25,
          26,
          27,
          28,
          29,
          30,
          31,
          32,
          33,
          34,
          35,
          36,
          37,
          38,
          39,
          40,
          41,
          42,
          43,
          44,
          45,
          46,
          47,
          48,
          49,
          50,
          51,
          52,
          53,
          54,
          55,
          56,
          57,
          58,
          59,
          60,
          61,
          62,
          63,
          64,
          65,
          66,
          67,
          68,
          69,
          70,
          71,
          72,
          73,
          74,
          75,
          76,
          77,
          78,
          79,
          80,
          81,
          82,
          83,
          84,
          85,
          86,
          87,
          88,
          89,
          90,
          91,
          92,
          93,
          94,
          95,
          96,
          97
         ],
         "y": [
          555,
          654,
          941,
          1434,
          2118,
          2927,
          5578,
          6166,
          8234,
          9927,
          12038,
          16787,
          19881,
          23892,
          27635,
          30794,
          34391,
          37120,
          40150,
          42762,
          44802,
          45221,
          60368,
          66885,
          69030,
          71224,
          73258,
          75136,
          75639,
          76197,
          76819,
          78572,
          78958,
          79561,
          80406,
          81388,
          82746,
          84112,
          86011,
          88369,
          90306,
          92840,
          95120,
          97886,
          101801,
          105847,
          109821,
          113590,
          118620,
          125875,
          128352,
          145219,
          156116,
          167466,
          181603,
          197113,
          214846,
          242616,
          272247,
          304555,
          337018,
          378282,
          418079,
          467723,
          529701,
          593423,
          660824,
          720285,
          782490,
          857608,
          932638,
          1013458,
          1095876,
          1176059,
          1249737,
          1321427,
          1396438,
          1480200,
          1565538,
          1657929,
          1736025,
          1835164,
          1905192,
          1975581,
          2055506,
          2151872,
          2239723,
          2317339,
          2400843,
          2471759,
          2548821,
          2624107,
          2707742,
          2811603,
          2897624,
          2972363,
          3041764,
          3116398
         ]
        },
        {
         "hovertemplate": " %{y:.0f}",
         "line": {
          "color": "red"
         },
         "mode": "lines",
         "name": "Deaths",
         "type": "scatter",
         "x": [
          0,
          1,
          2,
          3,
          4,
          5,
          6,
          7,
          8,
          9,
          10,
          11,
          12,
          13,
          14,
          15,
          16,
          17,
          18,
          19,
          20,
          21,
          22,
          23,
          24,
          25,
          26,
          27,
          28,
          29,
          30,
          31,
          32,
          33,
          34,
          35,
          36,
          37,
          38,
          39,
          40,
          41,
          42,
          43,
          44,
          45,
          46,
          47,
          48,
          49,
          50,
          51,
          52,
          53,
          54,
          55,
          56,
          57,
          58,
          59,
          60,
          61,
          62,
          63,
          64,
          65,
          66,
          67,
          68,
          69,
          70,
          71,
          72,
          73,
          74,
          75,
          76,
          77,
          78,
          79,
          80,
          81,
          82,
          83,
          84,
          85,
          86,
          87,
          88,
          89,
          90,
          91,
          92,
          93,
          94,
          95,
          96,
          97
         ],
         "y": [
          17,
          18,
          26,
          42,
          56,
          82,
          131,
          133,
          171,
          213,
          259,
          362,
          426,
          492,
          564,
          634,
          719,
          806,
          906,
          1013,
          1113,
          1118,
          1371,
          1523,
          1666,
          1770,
          1868,
          2007,
          2122,
          2247,
          2251,
          2458,
          2469,
          2629,
          2708,
          2770,
          2814,
          2872,
          2941,
          2996,
          3085,
          3160,
          3254,
          3348,
          3460,
          3558,
          3802,
          3988,
          4262,
          4615,
          4721,
          5406,
          5823,
          6450,
          7140,
          7930,
          8779,
          9925,
          11405,
          13108,
          14821,
          16735,
          18928,
          21556,
          24489,
          27886,
          31361,
          34882,
          38804,
          43602,
          48932,
          54991,
          60956,
          67073,
          72145,
          77707,
          85350,
          91946,
          99252,
          106311,
          112422,
          118180,
          123861,
          130490,
          138630,
          145750,
          154521,
          160704,
          165365,
          170578,
          177371,
          183970,
          190628,
          196718,
          202868,
          206568,
          211167,
          217153
         ]
        },
        {
         "hovertemplate": " %{y:.0f}",
         "line": {
          "color": "green"
         },
         "mode": "lines",
         "name": "Recovered",
         "type": "scatter",
         "x": [
          0,
          1,
          2,
          3,
          4,
          5,
          6,
          7,
          8,
          9,
          10,
          11,
          12,
          13,
          14,
          15,
          16,
          17,
          18,
          19,
          20,
          21,
          22,
          23,
          24,
          25,
          26,
          27,
          28,
          29,
          30,
          31,
          32,
          33,
          34,
          35,
          36,
          37,
          38,
          39,
          40,
          41,
          42,
          43,
          44,
          45,
          46,
          47,
          48,
          49,
          50,
          51,
          52,
          53,
          54,
          55,
          56,
          57,
          58,
          59,
          60,
          61,
          62,
          63,
          64,
          65,
          66,
          67,
          68,
          69,
          70,
          71,
          72,
          73,
          74,
          75,
          76,
          77,
          78,
          79,
          80,
          81,
          82,
          83,
          84,
          85,
          86,
          87,
          88,
          89,
          90,
          91,
          92,
          93,
          94,
          95,
          96,
          97
         ],
         "y": [
          28,
          30,
          36,
          39,
          52,
          61,
          107,
          126,
          143,
          222,
          284,
          472,
          623,
          852,
          1124,
          1487,
          2011,
          2616,
          3244,
          3946,
          4683,
          5150,
          6295,
          8058,
          9395,
          10865,
          12583,
          14352,
          16121,
          18177,
          18890,
          22886,
          23394,
          25227,
          27905,
          30384,
          33277,
          36711,
          39782,
          42716,
          45602,
          48228,
          51170,
          53796,
          55865,
          58358,
          60694,
          62494,
          64404,
          67003,
          68324,
          70251,
          72624,
          76034,
          78088,
          80840,
          83312,
          84975,
          87420,
          91692,
          97899,
          98351,
          108000,
          113787,
          122150,
          130915,
          139415,
          149082,
          164566,
          178034,
          193177,
          210263,
          225796,
          246152,
          260012,
          276515,
          300054,
          328661,
          353975,
          376096,
          402110,
          421722,
          448655,
          474261,
          511019,
          542107,
          568343,
          592319,
          623903,
          645905,
          680390,
          710502,
          739409,
          790081,
          817838,
          865733,
          893967,
          928658
         ]
        }
       ],
       "layout": {
        "hovermode": "x unified",
        "template": {
         "data": {
          "bar": [
           {
            "error_x": {
             "color": "#2a3f5f"
            },
            "error_y": {
             "color": "#2a3f5f"
            },
            "marker": {
             "line": {
              "color": "#E5ECF6",
              "width": 0.5
             }
            },
            "type": "bar"
           }
          ],
          "barpolar": [
           {
            "marker": {
             "line": {
              "color": "#E5ECF6",
              "width": 0.5
             }
            },
            "type": "barpolar"
           }
          ],
          "carpet": [
           {
            "aaxis": {
             "endlinecolor": "#2a3f5f",
             "gridcolor": "white",
             "linecolor": "white",
             "minorgridcolor": "white",
             "startlinecolor": "#2a3f5f"
            },
            "baxis": {
             "endlinecolor": "#2a3f5f",
             "gridcolor": "white",
             "linecolor": "white",
             "minorgridcolor": "white",
             "startlinecolor": "#2a3f5f"
            },
            "type": "carpet"
           }
          ],
          "choropleth": [
           {
            "colorbar": {
             "outlinewidth": 0,
             "ticks": ""
            },
            "type": "choropleth"
           }
          ],
          "contour": [
           {
            "colorbar": {
             "outlinewidth": 0,
             "ticks": ""
            },
            "colorscale": [
             [
              0,
              "#0d0887"
             ],
             [
              0.1111111111111111,
              "#46039f"
             ],
             [
              0.2222222222222222,
              "#7201a8"
             ],
             [
              0.3333333333333333,
              "#9c179e"
             ],
             [
              0.4444444444444444,
              "#bd3786"
             ],
             [
              0.5555555555555556,
              "#d8576b"
             ],
             [
              0.6666666666666666,
              "#ed7953"
             ],
             [
              0.7777777777777778,
              "#fb9f3a"
             ],
             [
              0.8888888888888888,
              "#fdca26"
             ],
             [
              1,
              "#f0f921"
             ]
            ],
            "type": "contour"
           }
          ],
          "contourcarpet": [
           {
            "colorbar": {
             "outlinewidth": 0,
             "ticks": ""
            },
            "type": "contourcarpet"
           }
          ],
          "heatmap": [
           {
            "colorbar": {
             "outlinewidth": 0,
             "ticks": ""
            },
            "colorscale": [
             [
              0,
              "#0d0887"
             ],
             [
              0.1111111111111111,
              "#46039f"
             ],
             [
              0.2222222222222222,
              "#7201a8"
             ],
             [
              0.3333333333333333,
              "#9c179e"
             ],
             [
              0.4444444444444444,
              "#bd3786"
             ],
             [
              0.5555555555555556,
              "#d8576b"
             ],
             [
              0.6666666666666666,
              "#ed7953"
             ],
             [
              0.7777777777777778,
              "#fb9f3a"
             ],
             [
              0.8888888888888888,
              "#fdca26"
             ],
             [
              1,
              "#f0f921"
             ]
            ],
            "type": "heatmap"
           }
          ],
          "heatmapgl": [
           {
            "colorbar": {
             "outlinewidth": 0,
             "ticks": ""
            },
            "colorscale": [
             [
              0,
              "#0d0887"
             ],
             [
              0.1111111111111111,
              "#46039f"
             ],
             [
              0.2222222222222222,
              "#7201a8"
             ],
             [
              0.3333333333333333,
              "#9c179e"
             ],
             [
              0.4444444444444444,
              "#bd3786"
             ],
             [
              0.5555555555555556,
              "#d8576b"
             ],
             [
              0.6666666666666666,
              "#ed7953"
             ],
             [
              0.7777777777777778,
              "#fb9f3a"
             ],
             [
              0.8888888888888888,
              "#fdca26"
             ],
             [
              1,
              "#f0f921"
             ]
            ],
            "type": "heatmapgl"
           }
          ],
          "histogram": [
           {
            "marker": {
             "colorbar": {
              "outlinewidth": 0,
              "ticks": ""
             }
            },
            "type": "histogram"
           }
          ],
          "histogram2d": [
           {
            "colorbar": {
             "outlinewidth": 0,
             "ticks": ""
            },
            "colorscale": [
             [
              0,
              "#0d0887"
             ],
             [
              0.1111111111111111,
              "#46039f"
             ],
             [
              0.2222222222222222,
              "#7201a8"
             ],
             [
              0.3333333333333333,
              "#9c179e"
             ],
             [
              0.4444444444444444,
              "#bd3786"
             ],
             [
              0.5555555555555556,
              "#d8576b"
             ],
             [
              0.6666666666666666,
              "#ed7953"
             ],
             [
              0.7777777777777778,
              "#fb9f3a"
             ],
             [
              0.8888888888888888,
              "#fdca26"
             ],
             [
              1,
              "#f0f921"
             ]
            ],
            "type": "histogram2d"
           }
          ],
          "histogram2dcontour": [
           {
            "colorbar": {
             "outlinewidth": 0,
             "ticks": ""
            },
            "colorscale": [
             [
              0,
              "#0d0887"
             ],
             [
              0.1111111111111111,
              "#46039f"
             ],
             [
              0.2222222222222222,
              "#7201a8"
             ],
             [
              0.3333333333333333,
              "#9c179e"
             ],
             [
              0.4444444444444444,
              "#bd3786"
             ],
             [
              0.5555555555555556,
              "#d8576b"
             ],
             [
              0.6666666666666666,
              "#ed7953"
             ],
             [
              0.7777777777777778,
              "#fb9f3a"
             ],
             [
              0.8888888888888888,
              "#fdca26"
             ],
             [
              1,
              "#f0f921"
             ]
            ],
            "type": "histogram2dcontour"
           }
          ],
          "mesh3d": [
           {
            "colorbar": {
             "outlinewidth": 0,
             "ticks": ""
            },
            "type": "mesh3d"
           }
          ],
          "parcoords": [
           {
            "line": {
             "colorbar": {
              "outlinewidth": 0,
              "ticks": ""
             }
            },
            "type": "parcoords"
           }
          ],
          "pie": [
           {
            "automargin": true,
            "type": "pie"
           }
          ],
          "scatter": [
           {
            "marker": {
             "colorbar": {
              "outlinewidth": 0,
              "ticks": ""
             }
            },
            "type": "scatter"
           }
          ],
          "scatter3d": [
           {
            "line": {
             "colorbar": {
              "outlinewidth": 0,
              "ticks": ""
             }
            },
            "marker": {
             "colorbar": {
              "outlinewidth": 0,
              "ticks": ""
             }
            },
            "type": "scatter3d"
           }
          ],
          "scattercarpet": [
           {
            "marker": {
             "colorbar": {
              "outlinewidth": 0,
              "ticks": ""
             }
            },
            "type": "scattercarpet"
           }
          ],
          "scattergeo": [
           {
            "marker": {
             "colorbar": {
              "outlinewidth": 0,
              "ticks": ""
             }
            },
            "type": "scattergeo"
           }
          ],
          "scattergl": [
           {
            "marker": {
             "colorbar": {
              "outlinewidth": 0,
              "ticks": ""
             }
            },
            "type": "scattergl"
           }
          ],
          "scattermapbox": [
           {
            "marker": {
             "colorbar": {
              "outlinewidth": 0,
              "ticks": ""
             }
            },
            "type": "scattermapbox"
           }
          ],
          "scatterpolar": [
           {
            "marker": {
             "colorbar": {
              "outlinewidth": 0,
              "ticks": ""
             }
            },
            "type": "scatterpolar"
           }
          ],
          "scatterpolargl": [
           {
            "marker": {
             "colorbar": {
              "outlinewidth": 0,
              "ticks": ""
             }
            },
            "type": "scatterpolargl"
           }
          ],
          "scatterternary": [
           {
            "marker": {
             "colorbar": {
              "outlinewidth": 0,
              "ticks": ""
             }
            },
            "type": "scatterternary"
           }
          ],
          "surface": [
           {
            "colorbar": {
             "outlinewidth": 0,
             "ticks": ""
            },
            "colorscale": [
             [
              0,
              "#0d0887"
             ],
             [
              0.1111111111111111,
              "#46039f"
             ],
             [
              0.2222222222222222,
              "#7201a8"
             ],
             [
              0.3333333333333333,
              "#9c179e"
             ],
             [
              0.4444444444444444,
              "#bd3786"
             ],
             [
              0.5555555555555556,
              "#d8576b"
             ],
             [
              0.6666666666666666,
              "#ed7953"
             ],
             [
              0.7777777777777778,
              "#fb9f3a"
             ],
             [
              0.8888888888888888,
              "#fdca26"
             ],
             [
              1,
              "#f0f921"
             ]
            ],
            "type": "surface"
           }
          ],
          "table": [
           {
            "cells": {
             "fill": {
              "color": "#EBF0F8"
             },
             "line": {
              "color": "white"
             }
            },
            "header": {
             "fill": {
              "color": "#C8D4E3"
             },
             "line": {
              "color": "white"
             }
            },
            "type": "table"
           }
          ]
         },
         "layout": {
          "annotationdefaults": {
           "arrowcolor": "#2a3f5f",
           "arrowhead": 0,
           "arrowwidth": 1
          },
          "coloraxis": {
           "colorbar": {
            "outlinewidth": 0,
            "ticks": ""
           }
          },
          "colorscale": {
           "diverging": [
            [
             0,
             "#8e0152"
            ],
            [
             0.1,
             "#c51b7d"
            ],
            [
             0.2,
             "#de77ae"
            ],
            [
             0.3,
             "#f1b6da"
            ],
            [
             0.4,
             "#fde0ef"
            ],
            [
             0.5,
             "#f7f7f7"
            ],
            [
             0.6,
             "#e6f5d0"
            ],
            [
             0.7,
             "#b8e186"
            ],
            [
             0.8,
             "#7fbc41"
            ],
            [
             0.9,
             "#4d9221"
            ],
            [
             1,
             "#276419"
            ]
           ],
           "sequential": [
            [
             0,
             "#0d0887"
            ],
            [
             0.1111111111111111,
             "#46039f"
            ],
            [
             0.2222222222222222,
             "#7201a8"
            ],
            [
             0.3333333333333333,
             "#9c179e"
            ],
            [
             0.4444444444444444,
             "#bd3786"
            ],
            [
             0.5555555555555556,
             "#d8576b"
            ],
            [
             0.6666666666666666,
             "#ed7953"
            ],
            [
             0.7777777777777778,
             "#fb9f3a"
            ],
            [
             0.8888888888888888,
             "#fdca26"
            ],
            [
             1,
             "#f0f921"
            ]
           ],
           "sequentialminus": [
            [
             0,
             "#0d0887"
            ],
            [
             0.1111111111111111,
             "#46039f"
            ],
            [
             0.2222222222222222,
             "#7201a8"
            ],
            [
             0.3333333333333333,
             "#9c179e"
            ],
            [
             0.4444444444444444,
             "#bd3786"
            ],
            [
             0.5555555555555556,
             "#d8576b"
            ],
            [
             0.6666666666666666,
             "#ed7953"
            ],
            [
             0.7777777777777778,
             "#fb9f3a"
            ],
            [
             0.8888888888888888,
             "#fdca26"
            ],
            [
             1,
             "#f0f921"
            ]
           ]
          },
          "colorway": [
           "#636efa",
           "#EF553B",
           "#00cc96",
           "#ab63fa",
           "#FFA15A",
           "#19d3f3",
           "#FF6692",
           "#B6E880",
           "#FF97FF",
           "#FECB52"
          ],
          "font": {
           "color": "#2a3f5f"
          },
          "geo": {
           "bgcolor": "white",
           "lakecolor": "white",
           "landcolor": "#E5ECF6",
           "showlakes": true,
           "showland": true,
           "subunitcolor": "white"
          },
          "hoverlabel": {
           "align": "left"
          },
          "hovermode": "closest",
          "mapbox": {
           "style": "light"
          },
          "paper_bgcolor": "white",
          "plot_bgcolor": "#E5ECF6",
          "polar": {
           "angularaxis": {
            "gridcolor": "white",
            "linecolor": "white",
            "ticks": ""
           },
           "bgcolor": "#E5ECF6",
           "radialaxis": {
            "gridcolor": "white",
            "linecolor": "white",
            "ticks": ""
           }
          },
          "scene": {
           "xaxis": {
            "backgroundcolor": "#E5ECF6",
            "gridcolor": "white",
            "gridwidth": 2,
            "linecolor": "white",
            "showbackground": true,
            "ticks": "",
            "zerolinecolor": "white"
           },
           "yaxis": {
            "backgroundcolor": "#E5ECF6",
            "gridcolor": "white",
            "gridwidth": 2,
            "linecolor": "white",
            "showbackground": true,
            "ticks": "",
            "zerolinecolor": "white"
           },
           "zaxis": {
            "backgroundcolor": "#E5ECF6",
            "gridcolor": "white",
            "gridwidth": 2,
            "linecolor": "white",
            "showbackground": true,
            "ticks": "",
            "zerolinecolor": "white"
           }
          },
          "shapedefaults": {
           "line": {
            "color": "#2a3f5f"
           }
          },
          "ternary": {
           "aaxis": {
            "gridcolor": "white",
            "linecolor": "white",
            "ticks": ""
           },
           "baxis": {
            "gridcolor": "white",
            "linecolor": "white",
            "ticks": ""
           },
           "bgcolor": "#E5ECF6",
           "caxis": {
            "gridcolor": "white",
            "linecolor": "white",
            "ticks": ""
           }
          },
          "title": {
           "x": 0.05
          },
          "xaxis": {
           "automargin": true,
           "gridcolor": "white",
           "linecolor": "white",
           "ticks": "",
           "title": {
            "standoff": 15
           },
           "zerolinecolor": "white",
           "zerolinewidth": 2
          },
          "yaxis": {
           "automargin": true,
           "gridcolor": "white",
           "linecolor": "white",
           "ticks": "",
           "title": {
            "standoff": 15
           },
           "zerolinecolor": "white",
           "zerolinewidth": 2
          }
         }
        },
        "title": {
         "text": "Combined World Sats"
        },
        "xaxis": {
         "title": {
          "text": "Days since 1/22/20"
         }
        },
        "yaxis": {
         "title": {
          "text": "Number of People"
         }
        }
       }
      },
      "text/html": [
       "<div>\n",
       "        \n",
       "        \n",
       "            <div id=\"8e9f4ca3-a976-4fdf-b7c4-62c1209410da\" class=\"plotly-graph-div\" style=\"height:525px; width:100%;\"></div>\n",
       "            <script type=\"text/javascript\">\n",
       "                require([\"plotly\"], function(Plotly) {\n",
       "                    window.PLOTLYENV=window.PLOTLYENV || {};\n",
       "                    \n",
       "                if (document.getElementById(\"8e9f4ca3-a976-4fdf-b7c4-62c1209410da\")) {\n",
       "                    Plotly.newPlot(\n",
       "                        '8e9f4ca3-a976-4fdf-b7c4-62c1209410da',\n",
       "                        [{\"hovertemplate\": \" %{y:.0f}\", \"line\": {\"color\": \"orange\"}, \"mode\": \"lines\", \"name\": \"Cases\", \"type\": \"scatter\", \"x\": [0, 1, 2, 3, 4, 5, 6, 7, 8, 9, 10, 11, 12, 13, 14, 15, 16, 17, 18, 19, 20, 21, 22, 23, 24, 25, 26, 27, 28, 29, 30, 31, 32, 33, 34, 35, 36, 37, 38, 39, 40, 41, 42, 43, 44, 45, 46, 47, 48, 49, 50, 51, 52, 53, 54, 55, 56, 57, 58, 59, 60, 61, 62, 63, 64, 65, 66, 67, 68, 69, 70, 71, 72, 73, 74, 75, 76, 77, 78, 79, 80, 81, 82, 83, 84, 85, 86, 87, 88, 89, 90, 91, 92, 93, 94, 95, 96, 97], \"y\": [555, 654, 941, 1434, 2118, 2927, 5578, 6166, 8234, 9927, 12038, 16787, 19881, 23892, 27635, 30794, 34391, 37120, 40150, 42762, 44802, 45221, 60368, 66885, 69030, 71224, 73258, 75136, 75639, 76197, 76819, 78572, 78958, 79561, 80406, 81388, 82746, 84112, 86011, 88369, 90306, 92840, 95120, 97886, 101801, 105847, 109821, 113590, 118620, 125875, 128352, 145219, 156116, 167466, 181603, 197113, 214846, 242616, 272247, 304555, 337018, 378282, 418079, 467723, 529701, 593423, 660824, 720285, 782490, 857608, 932638, 1013458, 1095876, 1176059, 1249737, 1321427, 1396438, 1480200, 1565538, 1657929, 1736025, 1835164, 1905192, 1975581, 2055506, 2151872, 2239723, 2317339, 2400843, 2471759, 2548821, 2624107, 2707742, 2811603, 2897624, 2972363, 3041764, 3116398]}, {\"hovertemplate\": \" %{y:.0f}\", \"line\": {\"color\": \"red\"}, \"mode\": \"lines\", \"name\": \"Deaths\", \"type\": \"scatter\", \"x\": [0, 1, 2, 3, 4, 5, 6, 7, 8, 9, 10, 11, 12, 13, 14, 15, 16, 17, 18, 19, 20, 21, 22, 23, 24, 25, 26, 27, 28, 29, 30, 31, 32, 33, 34, 35, 36, 37, 38, 39, 40, 41, 42, 43, 44, 45, 46, 47, 48, 49, 50, 51, 52, 53, 54, 55, 56, 57, 58, 59, 60, 61, 62, 63, 64, 65, 66, 67, 68, 69, 70, 71, 72, 73, 74, 75, 76, 77, 78, 79, 80, 81, 82, 83, 84, 85, 86, 87, 88, 89, 90, 91, 92, 93, 94, 95, 96, 97], \"y\": [17, 18, 26, 42, 56, 82, 131, 133, 171, 213, 259, 362, 426, 492, 564, 634, 719, 806, 906, 1013, 1113, 1118, 1371, 1523, 1666, 1770, 1868, 2007, 2122, 2247, 2251, 2458, 2469, 2629, 2708, 2770, 2814, 2872, 2941, 2996, 3085, 3160, 3254, 3348, 3460, 3558, 3802, 3988, 4262, 4615, 4721, 5406, 5823, 6450, 7140, 7930, 8779, 9925, 11405, 13108, 14821, 16735, 18928, 21556, 24489, 27886, 31361, 34882, 38804, 43602, 48932, 54991, 60956, 67073, 72145, 77707, 85350, 91946, 99252, 106311, 112422, 118180, 123861, 130490, 138630, 145750, 154521, 160704, 165365, 170578, 177371, 183970, 190628, 196718, 202868, 206568, 211167, 217153]}, {\"hovertemplate\": \" %{y:.0f}\", \"line\": {\"color\": \"green\"}, \"mode\": \"lines\", \"name\": \"Recovered\", \"type\": \"scatter\", \"x\": [0, 1, 2, 3, 4, 5, 6, 7, 8, 9, 10, 11, 12, 13, 14, 15, 16, 17, 18, 19, 20, 21, 22, 23, 24, 25, 26, 27, 28, 29, 30, 31, 32, 33, 34, 35, 36, 37, 38, 39, 40, 41, 42, 43, 44, 45, 46, 47, 48, 49, 50, 51, 52, 53, 54, 55, 56, 57, 58, 59, 60, 61, 62, 63, 64, 65, 66, 67, 68, 69, 70, 71, 72, 73, 74, 75, 76, 77, 78, 79, 80, 81, 82, 83, 84, 85, 86, 87, 88, 89, 90, 91, 92, 93, 94, 95, 96, 97], \"y\": [28, 30, 36, 39, 52, 61, 107, 126, 143, 222, 284, 472, 623, 852, 1124, 1487, 2011, 2616, 3244, 3946, 4683, 5150, 6295, 8058, 9395, 10865, 12583, 14352, 16121, 18177, 18890, 22886, 23394, 25227, 27905, 30384, 33277, 36711, 39782, 42716, 45602, 48228, 51170, 53796, 55865, 58358, 60694, 62494, 64404, 67003, 68324, 70251, 72624, 76034, 78088, 80840, 83312, 84975, 87420, 91692, 97899, 98351, 108000, 113787, 122150, 130915, 139415, 149082, 164566, 178034, 193177, 210263, 225796, 246152, 260012, 276515, 300054, 328661, 353975, 376096, 402110, 421722, 448655, 474261, 511019, 542107, 568343, 592319, 623903, 645905, 680390, 710502, 739409, 790081, 817838, 865733, 893967, 928658]}],\n",
       "                        {\"hovermode\": \"x unified\", \"template\": {\"data\": {\"bar\": [{\"error_x\": {\"color\": \"#2a3f5f\"}, \"error_y\": {\"color\": \"#2a3f5f\"}, \"marker\": {\"line\": {\"color\": \"#E5ECF6\", \"width\": 0.5}}, \"type\": \"bar\"}], \"barpolar\": [{\"marker\": {\"line\": {\"color\": \"#E5ECF6\", \"width\": 0.5}}, \"type\": \"barpolar\"}], \"carpet\": [{\"aaxis\": {\"endlinecolor\": \"#2a3f5f\", \"gridcolor\": \"white\", \"linecolor\": \"white\", \"minorgridcolor\": \"white\", \"startlinecolor\": \"#2a3f5f\"}, \"baxis\": {\"endlinecolor\": \"#2a3f5f\", \"gridcolor\": \"white\", \"linecolor\": \"white\", \"minorgridcolor\": \"white\", \"startlinecolor\": \"#2a3f5f\"}, \"type\": \"carpet\"}], \"choropleth\": [{\"colorbar\": {\"outlinewidth\": 0, \"ticks\": \"\"}, \"type\": \"choropleth\"}], \"contour\": [{\"colorbar\": {\"outlinewidth\": 0, \"ticks\": \"\"}, \"colorscale\": [[0.0, \"#0d0887\"], [0.1111111111111111, \"#46039f\"], [0.2222222222222222, \"#7201a8\"], [0.3333333333333333, \"#9c179e\"], [0.4444444444444444, \"#bd3786\"], [0.5555555555555556, \"#d8576b\"], [0.6666666666666666, \"#ed7953\"], [0.7777777777777778, \"#fb9f3a\"], [0.8888888888888888, \"#fdca26\"], [1.0, \"#f0f921\"]], \"type\": \"contour\"}], \"contourcarpet\": [{\"colorbar\": {\"outlinewidth\": 0, \"ticks\": \"\"}, \"type\": \"contourcarpet\"}], \"heatmap\": [{\"colorbar\": {\"outlinewidth\": 0, \"ticks\": \"\"}, \"colorscale\": [[0.0, \"#0d0887\"], [0.1111111111111111, \"#46039f\"], [0.2222222222222222, \"#7201a8\"], [0.3333333333333333, \"#9c179e\"], [0.4444444444444444, \"#bd3786\"], [0.5555555555555556, \"#d8576b\"], [0.6666666666666666, \"#ed7953\"], [0.7777777777777778, \"#fb9f3a\"], [0.8888888888888888, \"#fdca26\"], [1.0, \"#f0f921\"]], \"type\": \"heatmap\"}], \"heatmapgl\": [{\"colorbar\": {\"outlinewidth\": 0, \"ticks\": \"\"}, \"colorscale\": [[0.0, \"#0d0887\"], [0.1111111111111111, \"#46039f\"], [0.2222222222222222, \"#7201a8\"], [0.3333333333333333, \"#9c179e\"], [0.4444444444444444, \"#bd3786\"], [0.5555555555555556, \"#d8576b\"], [0.6666666666666666, \"#ed7953\"], [0.7777777777777778, \"#fb9f3a\"], [0.8888888888888888, \"#fdca26\"], [1.0, \"#f0f921\"]], \"type\": \"heatmapgl\"}], \"histogram\": [{\"marker\": {\"colorbar\": {\"outlinewidth\": 0, \"ticks\": \"\"}}, \"type\": \"histogram\"}], \"histogram2d\": [{\"colorbar\": {\"outlinewidth\": 0, \"ticks\": \"\"}, \"colorscale\": [[0.0, \"#0d0887\"], [0.1111111111111111, \"#46039f\"], [0.2222222222222222, \"#7201a8\"], [0.3333333333333333, \"#9c179e\"], [0.4444444444444444, \"#bd3786\"], [0.5555555555555556, \"#d8576b\"], [0.6666666666666666, \"#ed7953\"], [0.7777777777777778, \"#fb9f3a\"], [0.8888888888888888, \"#fdca26\"], [1.0, \"#f0f921\"]], \"type\": \"histogram2d\"}], \"histogram2dcontour\": [{\"colorbar\": {\"outlinewidth\": 0, \"ticks\": \"\"}, \"colorscale\": [[0.0, \"#0d0887\"], [0.1111111111111111, \"#46039f\"], [0.2222222222222222, \"#7201a8\"], [0.3333333333333333, \"#9c179e\"], [0.4444444444444444, \"#bd3786\"], [0.5555555555555556, \"#d8576b\"], [0.6666666666666666, \"#ed7953\"], [0.7777777777777778, \"#fb9f3a\"], [0.8888888888888888, \"#fdca26\"], [1.0, \"#f0f921\"]], \"type\": \"histogram2dcontour\"}], \"mesh3d\": [{\"colorbar\": {\"outlinewidth\": 0, \"ticks\": \"\"}, \"type\": \"mesh3d\"}], \"parcoords\": [{\"line\": {\"colorbar\": {\"outlinewidth\": 0, \"ticks\": \"\"}}, \"type\": \"parcoords\"}], \"pie\": [{\"automargin\": true, \"type\": \"pie\"}], \"scatter\": [{\"marker\": {\"colorbar\": {\"outlinewidth\": 0, \"ticks\": \"\"}}, \"type\": \"scatter\"}], \"scatter3d\": [{\"line\": {\"colorbar\": {\"outlinewidth\": 0, \"ticks\": \"\"}}, \"marker\": {\"colorbar\": {\"outlinewidth\": 0, \"ticks\": \"\"}}, \"type\": \"scatter3d\"}], \"scattercarpet\": [{\"marker\": {\"colorbar\": {\"outlinewidth\": 0, \"ticks\": \"\"}}, \"type\": \"scattercarpet\"}], \"scattergeo\": [{\"marker\": {\"colorbar\": {\"outlinewidth\": 0, \"ticks\": \"\"}}, \"type\": \"scattergeo\"}], \"scattergl\": [{\"marker\": {\"colorbar\": {\"outlinewidth\": 0, \"ticks\": \"\"}}, \"type\": \"scattergl\"}], \"scattermapbox\": [{\"marker\": {\"colorbar\": {\"outlinewidth\": 0, \"ticks\": \"\"}}, \"type\": \"scattermapbox\"}], \"scatterpolar\": [{\"marker\": {\"colorbar\": {\"outlinewidth\": 0, \"ticks\": \"\"}}, \"type\": \"scatterpolar\"}], \"scatterpolargl\": [{\"marker\": {\"colorbar\": {\"outlinewidth\": 0, \"ticks\": \"\"}}, \"type\": \"scatterpolargl\"}], \"scatterternary\": [{\"marker\": {\"colorbar\": {\"outlinewidth\": 0, \"ticks\": \"\"}}, \"type\": \"scatterternary\"}], \"surface\": [{\"colorbar\": {\"outlinewidth\": 0, \"ticks\": \"\"}, \"colorscale\": [[0.0, \"#0d0887\"], [0.1111111111111111, \"#46039f\"], [0.2222222222222222, \"#7201a8\"], [0.3333333333333333, \"#9c179e\"], [0.4444444444444444, \"#bd3786\"], [0.5555555555555556, \"#d8576b\"], [0.6666666666666666, \"#ed7953\"], [0.7777777777777778, \"#fb9f3a\"], [0.8888888888888888, \"#fdca26\"], [1.0, \"#f0f921\"]], \"type\": \"surface\"}], \"table\": [{\"cells\": {\"fill\": {\"color\": \"#EBF0F8\"}, \"line\": {\"color\": \"white\"}}, \"header\": {\"fill\": {\"color\": \"#C8D4E3\"}, \"line\": {\"color\": \"white\"}}, \"type\": \"table\"}]}, \"layout\": {\"annotationdefaults\": {\"arrowcolor\": \"#2a3f5f\", \"arrowhead\": 0, \"arrowwidth\": 1}, \"coloraxis\": {\"colorbar\": {\"outlinewidth\": 0, \"ticks\": \"\"}}, \"colorscale\": {\"diverging\": [[0, \"#8e0152\"], [0.1, \"#c51b7d\"], [0.2, \"#de77ae\"], [0.3, \"#f1b6da\"], [0.4, \"#fde0ef\"], [0.5, \"#f7f7f7\"], [0.6, \"#e6f5d0\"], [0.7, \"#b8e186\"], [0.8, \"#7fbc41\"], [0.9, \"#4d9221\"], [1, \"#276419\"]], \"sequential\": [[0.0, \"#0d0887\"], [0.1111111111111111, \"#46039f\"], [0.2222222222222222, \"#7201a8\"], [0.3333333333333333, \"#9c179e\"], [0.4444444444444444, \"#bd3786\"], [0.5555555555555556, \"#d8576b\"], [0.6666666666666666, \"#ed7953\"], [0.7777777777777778, \"#fb9f3a\"], [0.8888888888888888, \"#fdca26\"], [1.0, \"#f0f921\"]], \"sequentialminus\": [[0.0, \"#0d0887\"], [0.1111111111111111, \"#46039f\"], [0.2222222222222222, \"#7201a8\"], [0.3333333333333333, \"#9c179e\"], [0.4444444444444444, \"#bd3786\"], [0.5555555555555556, \"#d8576b\"], [0.6666666666666666, \"#ed7953\"], [0.7777777777777778, \"#fb9f3a\"], [0.8888888888888888, \"#fdca26\"], [1.0, \"#f0f921\"]]}, \"colorway\": [\"#636efa\", \"#EF553B\", \"#00cc96\", \"#ab63fa\", \"#FFA15A\", \"#19d3f3\", \"#FF6692\", \"#B6E880\", \"#FF97FF\", \"#FECB52\"], \"font\": {\"color\": \"#2a3f5f\"}, \"geo\": {\"bgcolor\": \"white\", \"lakecolor\": \"white\", \"landcolor\": \"#E5ECF6\", \"showlakes\": true, \"showland\": true, \"subunitcolor\": \"white\"}, \"hoverlabel\": {\"align\": \"left\"}, \"hovermode\": \"closest\", \"mapbox\": {\"style\": \"light\"}, \"paper_bgcolor\": \"white\", \"plot_bgcolor\": \"#E5ECF6\", \"polar\": {\"angularaxis\": {\"gridcolor\": \"white\", \"linecolor\": \"white\", \"ticks\": \"\"}, \"bgcolor\": \"#E5ECF6\", \"radialaxis\": {\"gridcolor\": \"white\", \"linecolor\": \"white\", \"ticks\": \"\"}}, \"scene\": {\"xaxis\": {\"backgroundcolor\": \"#E5ECF6\", \"gridcolor\": \"white\", \"gridwidth\": 2, \"linecolor\": \"white\", \"showbackground\": true, \"ticks\": \"\", \"zerolinecolor\": \"white\"}, \"yaxis\": {\"backgroundcolor\": \"#E5ECF6\", \"gridcolor\": \"white\", \"gridwidth\": 2, \"linecolor\": \"white\", \"showbackground\": true, \"ticks\": \"\", \"zerolinecolor\": \"white\"}, \"zaxis\": {\"backgroundcolor\": \"#E5ECF6\", \"gridcolor\": \"white\", \"gridwidth\": 2, \"linecolor\": \"white\", \"showbackground\": true, \"ticks\": \"\", \"zerolinecolor\": \"white\"}}, \"shapedefaults\": {\"line\": {\"color\": \"#2a3f5f\"}}, \"ternary\": {\"aaxis\": {\"gridcolor\": \"white\", \"linecolor\": \"white\", \"ticks\": \"\"}, \"baxis\": {\"gridcolor\": \"white\", \"linecolor\": \"white\", \"ticks\": \"\"}, \"bgcolor\": \"#E5ECF6\", \"caxis\": {\"gridcolor\": \"white\", \"linecolor\": \"white\", \"ticks\": \"\"}}, \"title\": {\"x\": 0.05}, \"xaxis\": {\"automargin\": true, \"gridcolor\": \"white\", \"linecolor\": \"white\", \"ticks\": \"\", \"title\": {\"standoff\": 15}, \"zerolinecolor\": \"white\", \"zerolinewidth\": 2}, \"yaxis\": {\"automargin\": true, \"gridcolor\": \"white\", \"linecolor\": \"white\", \"ticks\": \"\", \"title\": {\"standoff\": 15}, \"zerolinecolor\": \"white\", \"zerolinewidth\": 2}}}, \"title\": {\"text\": \"Combined World Sats\"}, \"xaxis\": {\"title\": {\"text\": \"Days since 1/22/20\"}}, \"yaxis\": {\"title\": {\"text\": \"Number of People\"}}},\n",
       "                        {\"responsive\": true}\n",
       "                    ).then(function(){\n",
       "                            \n",
       "var gd = document.getElementById('8e9f4ca3-a976-4fdf-b7c4-62c1209410da');\n",
       "var x = new MutationObserver(function (mutations, observer) {{\n",
       "        var display = window.getComputedStyle(gd).display;\n",
       "        if (!display || display === 'none') {{\n",
       "            console.log([gd, 'removed!']);\n",
       "            Plotly.purge(gd);\n",
       "            observer.disconnect();\n",
       "        }}\n",
       "}});\n",
       "\n",
       "// Listen for the removal of the full notebook cells\n",
       "var notebookContainer = gd.closest('#notebook-container');\n",
       "if (notebookContainer) {{\n",
       "    x.observe(notebookContainer, {childList: true});\n",
       "}}\n",
       "\n",
       "// Listen for the clearing of the current output cell\n",
       "var outputEl = gd.closest('.output');\n",
       "if (outputEl) {{\n",
       "    x.observe(outputEl, {childList: true});\n",
       "}}\n",
       "\n",
       "                        })\n",
       "                };\n",
       "                });\n",
       "            </script>\n",
       "        </div>"
      ]
     },
     "metadata": {},
     "output_type": "display_data"
    }
   ],
   "source": [
    "# individual graph for cases\n",
    "fig1 = go.Figure(data=[trace1], layout=layout1)\n",
    "# fig1\n",
    "\n",
    "# for deaths\n",
    "fig2 = go.Figure(data=[trace2], layout=layout2)\n",
    "# fig2\n",
    "\n",
    "# for recoveries\n",
    "fig3 = go.Figure(data=[trace3], layout=layout3)\n",
    "# fig3\n",
    "\n",
    "# combined for cases, deaths, recoveries\n",
    "fig4 = go.Figure().add_trace(trace1).add_trace(trace2).add_trace(trace3).update_layout(\n",
    "    title='Combined World Sats',\n",
    "    xaxis=dict(\n",
    "        title='Days since 1/22/20'\n",
    "    ),\n",
    "    yaxis=dict(\n",
    "        title='Number of People'\n",
    "    ),\n",
    "    hovermode='x unified'\n",
    ")\n",
    "\n",
    "ply.offline.iplot(fig4,filename='fig4'+'html')\n"
   ]
  },
  {
   "cell_type": "code",
   "execution_count": 47,
   "metadata": {
    "hide_input": false
   },
   "outputs": [],
   "source": [
    "# created class that will generate componenets for Figure()\n",
    "class Graph():\n",
    "    \n",
    "    dates= adjusted_dates\n",
    "    \n",
    "    def __init__(self,country,case_stats,death_stats,recovery_stats,mean_stats):\n",
    "            self.country = country\n",
    "            self.case_stats = case_stats\n",
    "            self.death_stats = death_stats\n",
    "            self.recovery_stats = recovery_stats\n",
    "            self.mean_stats = mean_stats\n",
    "            \n",
    "\n",
    "            \n",
    "    def glayout(self):\n",
    "        layout = go.Layout(\n",
    "            title = f'{self.country} Combined Stats',\n",
    "            yaxis=dict(\n",
    "                title='Number of People'\n",
    "            ),\n",
    "            xaxis=dict(\n",
    "                title='Days since 1/22/20'\n",
    "            ),\n",
    "            hovermode='x unified'\n",
    "        )\n",
    "        return layout\n",
    "        \n",
    "    def c_trace(self):\n",
    "        trace = go.Scatter(\n",
    "            x=self.dates,\n",
    "            y=self.case_stats,\n",
    "            #markers, lines, or lines+markers\n",
    "            mode='lines',\n",
    "            name='Cases',\n",
    "            line=dict(\n",
    "                color='orange'\n",
    "            ),\n",
    "            hovertemplate=\n",
    "                ' %{y:.0f}'#plotly formating syntax  for numbers%{varialbe:d3-format}\n",
    "        )\n",
    "        return trace\n",
    "    \n",
    "    def d_trace(self):\n",
    "        trace = go.Scatter(\n",
    "            x=self.dates,\n",
    "            y=self.death_stats,\n",
    "            #markers, lines, or lines+markers\n",
    "            mode='lines',\n",
    "            name='Deaths',\n",
    "            line=dict(\n",
    "                color='red'\n",
    "            ),\n",
    "            hovertemplate=\n",
    "                ' %{y:.0f}'\n",
    "        )\n",
    "        return trace\n",
    "    \n",
    "    def r_trace(self):\n",
    "        trace = go.Scatter(\n",
    "            x=self.dates,\n",
    "            y=self.recovery_stats,\n",
    "            #markers, lines, or lines+markers\n",
    "            mode='lines',\n",
    "            name='Recovered',\n",
    "            line=dict(\n",
    "                color='green'\n",
    "            ),\n",
    "            hovertemplate=\n",
    "                ' %{y:.0f}'\n",
    "        )\n",
    "        return trace\n",
    "    \n",
    "    def m_trace(self):\n",
    "        trace = go.Scatter(\n",
    "            y=(self.mean_stats),\n",
    "            #markers, lines, or lines+markers\n",
    "            mode='lines',\n",
    "            name='Mean',\n",
    "            line=dict(\n",
    "                color='black',\n",
    "                dash='dash'\n",
    "            ),\n",
    "            hovertemplate=\n",
    "                '%{y:.0f}%'\n",
    "        )\n",
    "        return trace\n"
   ]
  },
  {
   "cell_type": "code",
   "execution_count": 48,
   "metadata": {
    "scrolled": false
   },
   "outputs": [
    {
     "data": {
      "application/vnd.plotly.v1+json": {
       "config": {
        "linkText": "Export to plot.ly",
        "plotlyServerURL": "https://plot.ly",
        "showLink": false
       },
       "data": [
        {
         "hovertemplate": " %{y:.0f}",
         "line": {
          "color": "orange"
         },
         "mode": "lines",
         "name": "Cases",
         "type": "scatter",
         "x": [
          0,
          1,
          2,
          3,
          4,
          5,
          6,
          7,
          8,
          9,
          10,
          11,
          12,
          13,
          14,
          15,
          16,
          17,
          18,
          19,
          20,
          21,
          22,
          23,
          24,
          25,
          26,
          27,
          28,
          29,
          30,
          31,
          32,
          33,
          34,
          35,
          36,
          37,
          38,
          39,
          40,
          41,
          42,
          43,
          44,
          45,
          46,
          47,
          48,
          49,
          50,
          51,
          52,
          53,
          54,
          55,
          56,
          57,
          58,
          59,
          60,
          61,
          62,
          63,
          64,
          65,
          66,
          67,
          68,
          69,
          70,
          71,
          72,
          73,
          74,
          75,
          76,
          77,
          78,
          79,
          80,
          81,
          82,
          83,
          84,
          85,
          86,
          87,
          88,
          89,
          90,
          91,
          92,
          93,
          94,
          95,
          96,
          97
         ],
         "y": [
          1,
          1,
          2,
          2,
          5,
          5,
          5,
          5,
          5,
          7,
          8,
          8,
          11,
          11,
          11,
          11,
          11,
          11,
          11,
          11,
          12,
          12,
          13,
          13,
          13,
          13,
          13,
          13,
          13,
          13,
          15,
          15,
          15,
          51,
          51,
          57,
          58,
          60,
          68,
          74,
          98,
          118,
          149,
          217,
          262,
          402,
          518,
          583,
          959,
          1281,
          1663,
          2179,
          2727,
          3499,
          4632,
          6421,
          7783,
          13747,
          19273,
          25600,
          33276,
          43843,
          53736,
          65778,
          83836,
          101657,
          121465,
          140909,
          161831,
          188172,
          213242,
          243622,
          275367,
          308650,
          336802,
          366317,
          397121,
          428654,
          462780,
          496535,
          526396,
          555313,
          580619,
          607670,
          636350,
          667592,
          699706,
          732197,
          758809,
          784326,
          811865,
          840351,
          869170,
          905358,
          938154,
          965785,
          988197,
          1012582
         ]
        },
        {
         "hovertemplate": " %{y:.0f}",
         "line": {
          "color": "red"
         },
         "mode": "lines",
         "name": "Deaths",
         "type": "scatter",
         "x": [
          0,
          1,
          2,
          3,
          4,
          5,
          6,
          7,
          8,
          9,
          10,
          11,
          12,
          13,
          14,
          15,
          16,
          17,
          18,
          19,
          20,
          21,
          22,
          23,
          24,
          25,
          26,
          27,
          28,
          29,
          30,
          31,
          32,
          33,
          34,
          35,
          36,
          37,
          38,
          39,
          40,
          41,
          42,
          43,
          44,
          45,
          46,
          47,
          48,
          49,
          50,
          51,
          52,
          53,
          54,
          55,
          56,
          57,
          58,
          59,
          60,
          61,
          62,
          63,
          64,
          65,
          66,
          67,
          68,
          69,
          70,
          71,
          72,
          73,
          74,
          75,
          76,
          77,
          78,
          79,
          80,
          81,
          82,
          83,
          84,
          85,
          86,
          87,
          88,
          89,
          90,
          91,
          92,
          93,
          94,
          95,
          96,
          97
         ],
         "y": [
          0,
          0,
          0,
          0,
          0,
          0,
          0,
          0,
          0,
          0,
          0,
          0,
          0,
          0,
          0,
          0,
          0,
          0,
          0,
          0,
          0,
          0,
          0,
          0,
          0,
          0,
          0,
          0,
          0,
          0,
          0,
          0,
          0,
          0,
          0,
          0,
          0,
          0,
          1,
          1,
          6,
          7,
          11,
          12,
          14,
          17,
          21,
          22,
          28,
          36,
          41,
          49,
          58,
          73,
          99,
          133,
          164,
          258,
          349,
          442,
          586,
          786,
          1008,
          1316,
          1726,
          2265,
          2731,
          3420,
          4192,
          5367,
          6501,
          7921,
          9246,
          10855,
          12375,
          13894,
          16191,
          18270,
          20255,
          22333,
          24342,
          26086,
          27870,
          30262,
          32734,
          34827,
          37411,
          39753,
          40945,
          42659,
          45086,
          47412,
          49724,
          51493,
          53755,
          54881,
          56259,
          58355
         ]
        },
        {
         "hovertemplate": " %{y:.0f}",
         "line": {
          "color": "green"
         },
         "mode": "lines",
         "name": "Recovered",
         "type": "scatter",
         "x": [
          0,
          1,
          2,
          3,
          4,
          5,
          6,
          7,
          8,
          9,
          10,
          11,
          12,
          13,
          14,
          15,
          16,
          17,
          18,
          19,
          20,
          21,
          22,
          23,
          24,
          25,
          26,
          27,
          28,
          29,
          30,
          31,
          32,
          33,
          34,
          35,
          36,
          37,
          38,
          39,
          40,
          41,
          42,
          43,
          44,
          45,
          46,
          47,
          48,
          49,
          50,
          51,
          52,
          53,
          54,
          55,
          56,
          57,
          58,
          59,
          60,
          61,
          62,
          63,
          64,
          65,
          66,
          67,
          68,
          69,
          70,
          71,
          72,
          73,
          74,
          75,
          76,
          77,
          78,
          79,
          80,
          81,
          82,
          83,
          84,
          85,
          86,
          87,
          88,
          89,
          90,
          91,
          92,
          93,
          94,
          95,
          96,
          97
         ],
         "y": [
          0,
          0,
          0,
          0,
          0,
          0,
          0,
          0,
          0,
          0,
          0,
          0,
          0,
          0,
          0,
          0,
          0,
          0,
          3,
          3,
          3,
          3,
          3,
          3,
          3,
          3,
          3,
          3,
          3,
          3,
          5,
          5,
          5,
          5,
          6,
          6,
          6,
          7,
          7,
          7,
          7,
          7,
          7,
          7,
          7,
          7,
          7,
          7,
          8,
          8,
          12,
          12,
          12,
          12,
          17,
          17,
          105,
          121,
          147,
          176,
          178,
          178,
          348,
          361,
          681,
          869,
          1072,
          2665,
          5644,
          7024,
          8474,
          9001,
          9707,
          14652,
          17448,
          19581,
          21763,
          23559,
          25410,
          28790,
          31270,
          32988,
          43482,
          47763,
          52096,
          54703,
          58545,
          64840,
          70337,
          72329,
          75204,
          77366,
          80203,
          99079,
          100372,
          106988,
          111424,
          115936
         ]
        }
       ],
       "layout": {
        "hovermode": "x unified",
        "template": {
         "data": {
          "bar": [
           {
            "error_x": {
             "color": "#2a3f5f"
            },
            "error_y": {
             "color": "#2a3f5f"
            },
            "marker": {
             "line": {
              "color": "#E5ECF6",
              "width": 0.5
             }
            },
            "type": "bar"
           }
          ],
          "barpolar": [
           {
            "marker": {
             "line": {
              "color": "#E5ECF6",
              "width": 0.5
             }
            },
            "type": "barpolar"
           }
          ],
          "carpet": [
           {
            "aaxis": {
             "endlinecolor": "#2a3f5f",
             "gridcolor": "white",
             "linecolor": "white",
             "minorgridcolor": "white",
             "startlinecolor": "#2a3f5f"
            },
            "baxis": {
             "endlinecolor": "#2a3f5f",
             "gridcolor": "white",
             "linecolor": "white",
             "minorgridcolor": "white",
             "startlinecolor": "#2a3f5f"
            },
            "type": "carpet"
           }
          ],
          "choropleth": [
           {
            "colorbar": {
             "outlinewidth": 0,
             "ticks": ""
            },
            "type": "choropleth"
           }
          ],
          "contour": [
           {
            "colorbar": {
             "outlinewidth": 0,
             "ticks": ""
            },
            "colorscale": [
             [
              0,
              "#0d0887"
             ],
             [
              0.1111111111111111,
              "#46039f"
             ],
             [
              0.2222222222222222,
              "#7201a8"
             ],
             [
              0.3333333333333333,
              "#9c179e"
             ],
             [
              0.4444444444444444,
              "#bd3786"
             ],
             [
              0.5555555555555556,
              "#d8576b"
             ],
             [
              0.6666666666666666,
              "#ed7953"
             ],
             [
              0.7777777777777778,
              "#fb9f3a"
             ],
             [
              0.8888888888888888,
              "#fdca26"
             ],
             [
              1,
              "#f0f921"
             ]
            ],
            "type": "contour"
           }
          ],
          "contourcarpet": [
           {
            "colorbar": {
             "outlinewidth": 0,
             "ticks": ""
            },
            "type": "contourcarpet"
           }
          ],
          "heatmap": [
           {
            "colorbar": {
             "outlinewidth": 0,
             "ticks": ""
            },
            "colorscale": [
             [
              0,
              "#0d0887"
             ],
             [
              0.1111111111111111,
              "#46039f"
             ],
             [
              0.2222222222222222,
              "#7201a8"
             ],
             [
              0.3333333333333333,
              "#9c179e"
             ],
             [
              0.4444444444444444,
              "#bd3786"
             ],
             [
              0.5555555555555556,
              "#d8576b"
             ],
             [
              0.6666666666666666,
              "#ed7953"
             ],
             [
              0.7777777777777778,
              "#fb9f3a"
             ],
             [
              0.8888888888888888,
              "#fdca26"
             ],
             [
              1,
              "#f0f921"
             ]
            ],
            "type": "heatmap"
           }
          ],
          "heatmapgl": [
           {
            "colorbar": {
             "outlinewidth": 0,
             "ticks": ""
            },
            "colorscale": [
             [
              0,
              "#0d0887"
             ],
             [
              0.1111111111111111,
              "#46039f"
             ],
             [
              0.2222222222222222,
              "#7201a8"
             ],
             [
              0.3333333333333333,
              "#9c179e"
             ],
             [
              0.4444444444444444,
              "#bd3786"
             ],
             [
              0.5555555555555556,
              "#d8576b"
             ],
             [
              0.6666666666666666,
              "#ed7953"
             ],
             [
              0.7777777777777778,
              "#fb9f3a"
             ],
             [
              0.8888888888888888,
              "#fdca26"
             ],
             [
              1,
              "#f0f921"
             ]
            ],
            "type": "heatmapgl"
           }
          ],
          "histogram": [
           {
            "marker": {
             "colorbar": {
              "outlinewidth": 0,
              "ticks": ""
             }
            },
            "type": "histogram"
           }
          ],
          "histogram2d": [
           {
            "colorbar": {
             "outlinewidth": 0,
             "ticks": ""
            },
            "colorscale": [
             [
              0,
              "#0d0887"
             ],
             [
              0.1111111111111111,
              "#46039f"
             ],
             [
              0.2222222222222222,
              "#7201a8"
             ],
             [
              0.3333333333333333,
              "#9c179e"
             ],
             [
              0.4444444444444444,
              "#bd3786"
             ],
             [
              0.5555555555555556,
              "#d8576b"
             ],
             [
              0.6666666666666666,
              "#ed7953"
             ],
             [
              0.7777777777777778,
              "#fb9f3a"
             ],
             [
              0.8888888888888888,
              "#fdca26"
             ],
             [
              1,
              "#f0f921"
             ]
            ],
            "type": "histogram2d"
           }
          ],
          "histogram2dcontour": [
           {
            "colorbar": {
             "outlinewidth": 0,
             "ticks": ""
            },
            "colorscale": [
             [
              0,
              "#0d0887"
             ],
             [
              0.1111111111111111,
              "#46039f"
             ],
             [
              0.2222222222222222,
              "#7201a8"
             ],
             [
              0.3333333333333333,
              "#9c179e"
             ],
             [
              0.4444444444444444,
              "#bd3786"
             ],
             [
              0.5555555555555556,
              "#d8576b"
             ],
             [
              0.6666666666666666,
              "#ed7953"
             ],
             [
              0.7777777777777778,
              "#fb9f3a"
             ],
             [
              0.8888888888888888,
              "#fdca26"
             ],
             [
              1,
              "#f0f921"
             ]
            ],
            "type": "histogram2dcontour"
           }
          ],
          "mesh3d": [
           {
            "colorbar": {
             "outlinewidth": 0,
             "ticks": ""
            },
            "type": "mesh3d"
           }
          ],
          "parcoords": [
           {
            "line": {
             "colorbar": {
              "outlinewidth": 0,
              "ticks": ""
             }
            },
            "type": "parcoords"
           }
          ],
          "pie": [
           {
            "automargin": true,
            "type": "pie"
           }
          ],
          "scatter": [
           {
            "marker": {
             "colorbar": {
              "outlinewidth": 0,
              "ticks": ""
             }
            },
            "type": "scatter"
           }
          ],
          "scatter3d": [
           {
            "line": {
             "colorbar": {
              "outlinewidth": 0,
              "ticks": ""
             }
            },
            "marker": {
             "colorbar": {
              "outlinewidth": 0,
              "ticks": ""
             }
            },
            "type": "scatter3d"
           }
          ],
          "scattercarpet": [
           {
            "marker": {
             "colorbar": {
              "outlinewidth": 0,
              "ticks": ""
             }
            },
            "type": "scattercarpet"
           }
          ],
          "scattergeo": [
           {
            "marker": {
             "colorbar": {
              "outlinewidth": 0,
              "ticks": ""
             }
            },
            "type": "scattergeo"
           }
          ],
          "scattergl": [
           {
            "marker": {
             "colorbar": {
              "outlinewidth": 0,
              "ticks": ""
             }
            },
            "type": "scattergl"
           }
          ],
          "scattermapbox": [
           {
            "marker": {
             "colorbar": {
              "outlinewidth": 0,
              "ticks": ""
             }
            },
            "type": "scattermapbox"
           }
          ],
          "scatterpolar": [
           {
            "marker": {
             "colorbar": {
              "outlinewidth": 0,
              "ticks": ""
             }
            },
            "type": "scatterpolar"
           }
          ],
          "scatterpolargl": [
           {
            "marker": {
             "colorbar": {
              "outlinewidth": 0,
              "ticks": ""
             }
            },
            "type": "scatterpolargl"
           }
          ],
          "scatterternary": [
           {
            "marker": {
             "colorbar": {
              "outlinewidth": 0,
              "ticks": ""
             }
            },
            "type": "scatterternary"
           }
          ],
          "surface": [
           {
            "colorbar": {
             "outlinewidth": 0,
             "ticks": ""
            },
            "colorscale": [
             [
              0,
              "#0d0887"
             ],
             [
              0.1111111111111111,
              "#46039f"
             ],
             [
              0.2222222222222222,
              "#7201a8"
             ],
             [
              0.3333333333333333,
              "#9c179e"
             ],
             [
              0.4444444444444444,
              "#bd3786"
             ],
             [
              0.5555555555555556,
              "#d8576b"
             ],
             [
              0.6666666666666666,
              "#ed7953"
             ],
             [
              0.7777777777777778,
              "#fb9f3a"
             ],
             [
              0.8888888888888888,
              "#fdca26"
             ],
             [
              1,
              "#f0f921"
             ]
            ],
            "type": "surface"
           }
          ],
          "table": [
           {
            "cells": {
             "fill": {
              "color": "#EBF0F8"
             },
             "line": {
              "color": "white"
             }
            },
            "header": {
             "fill": {
              "color": "#C8D4E3"
             },
             "line": {
              "color": "white"
             }
            },
            "type": "table"
           }
          ]
         },
         "layout": {
          "annotationdefaults": {
           "arrowcolor": "#2a3f5f",
           "arrowhead": 0,
           "arrowwidth": 1
          },
          "coloraxis": {
           "colorbar": {
            "outlinewidth": 0,
            "ticks": ""
           }
          },
          "colorscale": {
           "diverging": [
            [
             0,
             "#8e0152"
            ],
            [
             0.1,
             "#c51b7d"
            ],
            [
             0.2,
             "#de77ae"
            ],
            [
             0.3,
             "#f1b6da"
            ],
            [
             0.4,
             "#fde0ef"
            ],
            [
             0.5,
             "#f7f7f7"
            ],
            [
             0.6,
             "#e6f5d0"
            ],
            [
             0.7,
             "#b8e186"
            ],
            [
             0.8,
             "#7fbc41"
            ],
            [
             0.9,
             "#4d9221"
            ],
            [
             1,
             "#276419"
            ]
           ],
           "sequential": [
            [
             0,
             "#0d0887"
            ],
            [
             0.1111111111111111,
             "#46039f"
            ],
            [
             0.2222222222222222,
             "#7201a8"
            ],
            [
             0.3333333333333333,
             "#9c179e"
            ],
            [
             0.4444444444444444,
             "#bd3786"
            ],
            [
             0.5555555555555556,
             "#d8576b"
            ],
            [
             0.6666666666666666,
             "#ed7953"
            ],
            [
             0.7777777777777778,
             "#fb9f3a"
            ],
            [
             0.8888888888888888,
             "#fdca26"
            ],
            [
             1,
             "#f0f921"
            ]
           ],
           "sequentialminus": [
            [
             0,
             "#0d0887"
            ],
            [
             0.1111111111111111,
             "#46039f"
            ],
            [
             0.2222222222222222,
             "#7201a8"
            ],
            [
             0.3333333333333333,
             "#9c179e"
            ],
            [
             0.4444444444444444,
             "#bd3786"
            ],
            [
             0.5555555555555556,
             "#d8576b"
            ],
            [
             0.6666666666666666,
             "#ed7953"
            ],
            [
             0.7777777777777778,
             "#fb9f3a"
            ],
            [
             0.8888888888888888,
             "#fdca26"
            ],
            [
             1,
             "#f0f921"
            ]
           ]
          },
          "colorway": [
           "#636efa",
           "#EF553B",
           "#00cc96",
           "#ab63fa",
           "#FFA15A",
           "#19d3f3",
           "#FF6692",
           "#B6E880",
           "#FF97FF",
           "#FECB52"
          ],
          "font": {
           "color": "#2a3f5f"
          },
          "geo": {
           "bgcolor": "white",
           "lakecolor": "white",
           "landcolor": "#E5ECF6",
           "showlakes": true,
           "showland": true,
           "subunitcolor": "white"
          },
          "hoverlabel": {
           "align": "left"
          },
          "hovermode": "closest",
          "mapbox": {
           "style": "light"
          },
          "paper_bgcolor": "white",
          "plot_bgcolor": "#E5ECF6",
          "polar": {
           "angularaxis": {
            "gridcolor": "white",
            "linecolor": "white",
            "ticks": ""
           },
           "bgcolor": "#E5ECF6",
           "radialaxis": {
            "gridcolor": "white",
            "linecolor": "white",
            "ticks": ""
           }
          },
          "scene": {
           "xaxis": {
            "backgroundcolor": "#E5ECF6",
            "gridcolor": "white",
            "gridwidth": 2,
            "linecolor": "white",
            "showbackground": true,
            "ticks": "",
            "zerolinecolor": "white"
           },
           "yaxis": {
            "backgroundcolor": "#E5ECF6",
            "gridcolor": "white",
            "gridwidth": 2,
            "linecolor": "white",
            "showbackground": true,
            "ticks": "",
            "zerolinecolor": "white"
           },
           "zaxis": {
            "backgroundcolor": "#E5ECF6",
            "gridcolor": "white",
            "gridwidth": 2,
            "linecolor": "white",
            "showbackground": true,
            "ticks": "",
            "zerolinecolor": "white"
           }
          },
          "shapedefaults": {
           "line": {
            "color": "#2a3f5f"
           }
          },
          "ternary": {
           "aaxis": {
            "gridcolor": "white",
            "linecolor": "white",
            "ticks": ""
           },
           "baxis": {
            "gridcolor": "white",
            "linecolor": "white",
            "ticks": ""
           },
           "bgcolor": "#E5ECF6",
           "caxis": {
            "gridcolor": "white",
            "linecolor": "white",
            "ticks": ""
           }
          },
          "title": {
           "x": 0.05
          },
          "xaxis": {
           "automargin": true,
           "gridcolor": "white",
           "linecolor": "white",
           "ticks": "",
           "title": {
            "standoff": 15
           },
           "zerolinecolor": "white",
           "zerolinewidth": 2
          },
          "yaxis": {
           "automargin": true,
           "gridcolor": "white",
           "linecolor": "white",
           "ticks": "",
           "title": {
            "standoff": 15
           },
           "zerolinecolor": "white",
           "zerolinewidth": 2
          }
         }
        },
        "title": {
         "text": "US Combined Stats"
        },
        "xaxis": {
         "title": {
          "text": "Days since 1/22/20"
         }
        },
        "yaxis": {
         "title": {
          "text": "Number of People"
         }
        }
       }
      },
      "text/html": [
       "<div>\n",
       "        \n",
       "        \n",
       "            <div id=\"7eafd2fe-f531-4aa4-a4ad-8aab62a0e306\" class=\"plotly-graph-div\" style=\"height:525px; width:100%;\"></div>\n",
       "            <script type=\"text/javascript\">\n",
       "                require([\"plotly\"], function(Plotly) {\n",
       "                    window.PLOTLYENV=window.PLOTLYENV || {};\n",
       "                    \n",
       "                if (document.getElementById(\"7eafd2fe-f531-4aa4-a4ad-8aab62a0e306\")) {\n",
       "                    Plotly.newPlot(\n",
       "                        '7eafd2fe-f531-4aa4-a4ad-8aab62a0e306',\n",
       "                        [{\"hovertemplate\": \" %{y:.0f}\", \"line\": {\"color\": \"orange\"}, \"mode\": \"lines\", \"name\": \"Cases\", \"type\": \"scatter\", \"x\": [0, 1, 2, 3, 4, 5, 6, 7, 8, 9, 10, 11, 12, 13, 14, 15, 16, 17, 18, 19, 20, 21, 22, 23, 24, 25, 26, 27, 28, 29, 30, 31, 32, 33, 34, 35, 36, 37, 38, 39, 40, 41, 42, 43, 44, 45, 46, 47, 48, 49, 50, 51, 52, 53, 54, 55, 56, 57, 58, 59, 60, 61, 62, 63, 64, 65, 66, 67, 68, 69, 70, 71, 72, 73, 74, 75, 76, 77, 78, 79, 80, 81, 82, 83, 84, 85, 86, 87, 88, 89, 90, 91, 92, 93, 94, 95, 96, 97], \"y\": [1.0, 1.0, 2.0, 2.0, 5.0, 5.0, 5.0, 5.0, 5.0, 7.0, 8.0, 8.0, 11.0, 11.0, 11.0, 11.0, 11.0, 11.0, 11.0, 11.0, 12.0, 12.0, 13.0, 13.0, 13.0, 13.0, 13.0, 13.0, 13.0, 13.0, 15.0, 15.0, 15.0, 51.0, 51.0, 57.0, 58.0, 60.0, 68.0, 74.0, 98.0, 118.0, 149.0, 217.0, 262.0, 402.0, 518.0, 583.0, 959.0, 1281.0, 1663.0, 2179.0, 2727.0, 3499.0, 4632.0, 6421.0, 7783.0, 13747.0, 19273.0, 25600.0, 33276.0, 43843.0, 53736.0, 65778.0, 83836.0, 101657.0, 121465.0, 140909.0, 161831.0, 188172.0, 213242.0, 243622.0, 275367.0, 308650.0, 336802.0, 366317.0, 397121.0, 428654.0, 462780.0, 496535.0, 526396.0, 555313.0, 580619.0, 607670.0, 636350.0, 667592.0, 699706.0, 732197.0, 758809.0, 784326.0, 811865.0, 840351.0, 869170.0, 905358.0, 938154.0, 965785.0, 988197.0, 1012582.0]}, {\"hovertemplate\": \" %{y:.0f}\", \"line\": {\"color\": \"red\"}, \"mode\": \"lines\", \"name\": \"Deaths\", \"type\": \"scatter\", \"x\": [0, 1, 2, 3, 4, 5, 6, 7, 8, 9, 10, 11, 12, 13, 14, 15, 16, 17, 18, 19, 20, 21, 22, 23, 24, 25, 26, 27, 28, 29, 30, 31, 32, 33, 34, 35, 36, 37, 38, 39, 40, 41, 42, 43, 44, 45, 46, 47, 48, 49, 50, 51, 52, 53, 54, 55, 56, 57, 58, 59, 60, 61, 62, 63, 64, 65, 66, 67, 68, 69, 70, 71, 72, 73, 74, 75, 76, 77, 78, 79, 80, 81, 82, 83, 84, 85, 86, 87, 88, 89, 90, 91, 92, 93, 94, 95, 96, 97], \"y\": [0.0, 0.0, 0.0, 0.0, 0.0, 0.0, 0.0, 0.0, 0.0, 0.0, 0.0, 0.0, 0.0, 0.0, 0.0, 0.0, 0.0, 0.0, 0.0, 0.0, 0.0, 0.0, 0.0, 0.0, 0.0, 0.0, 0.0, 0.0, 0.0, 0.0, 0.0, 0.0, 0.0, 0.0, 0.0, 0.0, 0.0, 0.0, 1.0, 1.0, 6.0, 7.0, 11.0, 12.0, 14.0, 17.0, 21.0, 22.0, 28.0, 36.0, 41.0, 49.0, 58.0, 73.0, 99.0, 133.0, 164.0, 258.0, 349.0, 442.0, 586.0, 786.0, 1008.0, 1316.0, 1726.0, 2265.0, 2731.0, 3420.0, 4192.0, 5367.0, 6501.0, 7921.0, 9246.0, 10855.0, 12375.0, 13894.0, 16191.0, 18270.0, 20255.0, 22333.0, 24342.0, 26086.0, 27870.0, 30262.0, 32734.0, 34827.0, 37411.0, 39753.0, 40945.0, 42659.0, 45086.0, 47412.0, 49724.0, 51493.0, 53755.0, 54881.0, 56259.0, 58355.0]}, {\"hovertemplate\": \" %{y:.0f}\", \"line\": {\"color\": \"green\"}, \"mode\": \"lines\", \"name\": \"Recovered\", \"type\": \"scatter\", \"x\": [0, 1, 2, 3, 4, 5, 6, 7, 8, 9, 10, 11, 12, 13, 14, 15, 16, 17, 18, 19, 20, 21, 22, 23, 24, 25, 26, 27, 28, 29, 30, 31, 32, 33, 34, 35, 36, 37, 38, 39, 40, 41, 42, 43, 44, 45, 46, 47, 48, 49, 50, 51, 52, 53, 54, 55, 56, 57, 58, 59, 60, 61, 62, 63, 64, 65, 66, 67, 68, 69, 70, 71, 72, 73, 74, 75, 76, 77, 78, 79, 80, 81, 82, 83, 84, 85, 86, 87, 88, 89, 90, 91, 92, 93, 94, 95, 96, 97], \"y\": [0.0, 0.0, 0.0, 0.0, 0.0, 0.0, 0.0, 0.0, 0.0, 0.0, 0.0, 0.0, 0.0, 0.0, 0.0, 0.0, 0.0, 0.0, 3.0, 3.0, 3.0, 3.0, 3.0, 3.0, 3.0, 3.0, 3.0, 3.0, 3.0, 3.0, 5.0, 5.0, 5.0, 5.0, 6.0, 6.0, 6.0, 7.0, 7.0, 7.0, 7.0, 7.0, 7.0, 7.0, 7.0, 7.0, 7.0, 7.0, 8.0, 8.0, 12.0, 12.0, 12.0, 12.0, 17.0, 17.0, 105.0, 121.0, 147.0, 176.0, 178.0, 178.0, 348.0, 361.0, 681.0, 869.0, 1072.0, 2665.0, 5644.0, 7024.0, 8474.0, 9001.0, 9707.0, 14652.0, 17448.0, 19581.0, 21763.0, 23559.0, 25410.0, 28790.0, 31270.0, 32988.0, 43482.0, 47763.0, 52096.0, 54703.0, 58545.0, 64840.0, 70337.0, 72329.0, 75204.0, 77366.0, 80203.0, 99079.0, 100372.0, 106988.0, 111424.0, 115936.0]}],\n",
       "                        {\"hovermode\": \"x unified\", \"template\": {\"data\": {\"bar\": [{\"error_x\": {\"color\": \"#2a3f5f\"}, \"error_y\": {\"color\": \"#2a3f5f\"}, \"marker\": {\"line\": {\"color\": \"#E5ECF6\", \"width\": 0.5}}, \"type\": \"bar\"}], \"barpolar\": [{\"marker\": {\"line\": {\"color\": \"#E5ECF6\", \"width\": 0.5}}, \"type\": \"barpolar\"}], \"carpet\": [{\"aaxis\": {\"endlinecolor\": \"#2a3f5f\", \"gridcolor\": \"white\", \"linecolor\": \"white\", \"minorgridcolor\": \"white\", \"startlinecolor\": \"#2a3f5f\"}, \"baxis\": {\"endlinecolor\": \"#2a3f5f\", \"gridcolor\": \"white\", \"linecolor\": \"white\", \"minorgridcolor\": \"white\", \"startlinecolor\": \"#2a3f5f\"}, \"type\": \"carpet\"}], \"choropleth\": [{\"colorbar\": {\"outlinewidth\": 0, \"ticks\": \"\"}, \"type\": \"choropleth\"}], \"contour\": [{\"colorbar\": {\"outlinewidth\": 0, \"ticks\": \"\"}, \"colorscale\": [[0.0, \"#0d0887\"], [0.1111111111111111, \"#46039f\"], [0.2222222222222222, \"#7201a8\"], [0.3333333333333333, \"#9c179e\"], [0.4444444444444444, \"#bd3786\"], [0.5555555555555556, \"#d8576b\"], [0.6666666666666666, \"#ed7953\"], [0.7777777777777778, \"#fb9f3a\"], [0.8888888888888888, \"#fdca26\"], [1.0, \"#f0f921\"]], \"type\": \"contour\"}], \"contourcarpet\": [{\"colorbar\": {\"outlinewidth\": 0, \"ticks\": \"\"}, \"type\": \"contourcarpet\"}], \"heatmap\": [{\"colorbar\": {\"outlinewidth\": 0, \"ticks\": \"\"}, \"colorscale\": [[0.0, \"#0d0887\"], [0.1111111111111111, \"#46039f\"], [0.2222222222222222, \"#7201a8\"], [0.3333333333333333, \"#9c179e\"], [0.4444444444444444, \"#bd3786\"], [0.5555555555555556, \"#d8576b\"], [0.6666666666666666, \"#ed7953\"], [0.7777777777777778, \"#fb9f3a\"], [0.8888888888888888, \"#fdca26\"], [1.0, \"#f0f921\"]], \"type\": \"heatmap\"}], \"heatmapgl\": [{\"colorbar\": {\"outlinewidth\": 0, \"ticks\": \"\"}, \"colorscale\": [[0.0, \"#0d0887\"], [0.1111111111111111, \"#46039f\"], [0.2222222222222222, \"#7201a8\"], [0.3333333333333333, \"#9c179e\"], [0.4444444444444444, \"#bd3786\"], [0.5555555555555556, \"#d8576b\"], [0.6666666666666666, \"#ed7953\"], [0.7777777777777778, \"#fb9f3a\"], [0.8888888888888888, \"#fdca26\"], [1.0, \"#f0f921\"]], \"type\": \"heatmapgl\"}], \"histogram\": [{\"marker\": {\"colorbar\": {\"outlinewidth\": 0, \"ticks\": \"\"}}, \"type\": \"histogram\"}], \"histogram2d\": [{\"colorbar\": {\"outlinewidth\": 0, \"ticks\": \"\"}, \"colorscale\": [[0.0, \"#0d0887\"], [0.1111111111111111, \"#46039f\"], [0.2222222222222222, \"#7201a8\"], [0.3333333333333333, \"#9c179e\"], [0.4444444444444444, \"#bd3786\"], [0.5555555555555556, \"#d8576b\"], [0.6666666666666666, \"#ed7953\"], [0.7777777777777778, \"#fb9f3a\"], [0.8888888888888888, \"#fdca26\"], [1.0, \"#f0f921\"]], \"type\": \"histogram2d\"}], \"histogram2dcontour\": [{\"colorbar\": {\"outlinewidth\": 0, \"ticks\": \"\"}, \"colorscale\": [[0.0, \"#0d0887\"], [0.1111111111111111, \"#46039f\"], [0.2222222222222222, \"#7201a8\"], [0.3333333333333333, \"#9c179e\"], [0.4444444444444444, \"#bd3786\"], [0.5555555555555556, \"#d8576b\"], [0.6666666666666666, \"#ed7953\"], [0.7777777777777778, \"#fb9f3a\"], [0.8888888888888888, \"#fdca26\"], [1.0, \"#f0f921\"]], \"type\": \"histogram2dcontour\"}], \"mesh3d\": [{\"colorbar\": {\"outlinewidth\": 0, \"ticks\": \"\"}, \"type\": \"mesh3d\"}], \"parcoords\": [{\"line\": {\"colorbar\": {\"outlinewidth\": 0, \"ticks\": \"\"}}, \"type\": \"parcoords\"}], \"pie\": [{\"automargin\": true, \"type\": \"pie\"}], \"scatter\": [{\"marker\": {\"colorbar\": {\"outlinewidth\": 0, \"ticks\": \"\"}}, \"type\": \"scatter\"}], \"scatter3d\": [{\"line\": {\"colorbar\": {\"outlinewidth\": 0, \"ticks\": \"\"}}, \"marker\": {\"colorbar\": {\"outlinewidth\": 0, \"ticks\": \"\"}}, \"type\": \"scatter3d\"}], \"scattercarpet\": [{\"marker\": {\"colorbar\": {\"outlinewidth\": 0, \"ticks\": \"\"}}, \"type\": \"scattercarpet\"}], \"scattergeo\": [{\"marker\": {\"colorbar\": {\"outlinewidth\": 0, \"ticks\": \"\"}}, \"type\": \"scattergeo\"}], \"scattergl\": [{\"marker\": {\"colorbar\": {\"outlinewidth\": 0, \"ticks\": \"\"}}, \"type\": \"scattergl\"}], \"scattermapbox\": [{\"marker\": {\"colorbar\": {\"outlinewidth\": 0, \"ticks\": \"\"}}, \"type\": \"scattermapbox\"}], \"scatterpolar\": [{\"marker\": {\"colorbar\": {\"outlinewidth\": 0, \"ticks\": \"\"}}, \"type\": \"scatterpolar\"}], \"scatterpolargl\": [{\"marker\": {\"colorbar\": {\"outlinewidth\": 0, \"ticks\": \"\"}}, \"type\": \"scatterpolargl\"}], \"scatterternary\": [{\"marker\": {\"colorbar\": {\"outlinewidth\": 0, \"ticks\": \"\"}}, \"type\": \"scatterternary\"}], \"surface\": [{\"colorbar\": {\"outlinewidth\": 0, \"ticks\": \"\"}, \"colorscale\": [[0.0, \"#0d0887\"], [0.1111111111111111, \"#46039f\"], [0.2222222222222222, \"#7201a8\"], [0.3333333333333333, \"#9c179e\"], [0.4444444444444444, \"#bd3786\"], [0.5555555555555556, \"#d8576b\"], [0.6666666666666666, \"#ed7953\"], [0.7777777777777778, \"#fb9f3a\"], [0.8888888888888888, \"#fdca26\"], [1.0, \"#f0f921\"]], \"type\": \"surface\"}], \"table\": [{\"cells\": {\"fill\": {\"color\": \"#EBF0F8\"}, \"line\": {\"color\": \"white\"}}, \"header\": {\"fill\": {\"color\": \"#C8D4E3\"}, \"line\": {\"color\": \"white\"}}, \"type\": \"table\"}]}, \"layout\": {\"annotationdefaults\": {\"arrowcolor\": \"#2a3f5f\", \"arrowhead\": 0, \"arrowwidth\": 1}, \"coloraxis\": {\"colorbar\": {\"outlinewidth\": 0, \"ticks\": \"\"}}, \"colorscale\": {\"diverging\": [[0, \"#8e0152\"], [0.1, \"#c51b7d\"], [0.2, \"#de77ae\"], [0.3, \"#f1b6da\"], [0.4, \"#fde0ef\"], [0.5, \"#f7f7f7\"], [0.6, \"#e6f5d0\"], [0.7, \"#b8e186\"], [0.8, \"#7fbc41\"], [0.9, \"#4d9221\"], [1, \"#276419\"]], \"sequential\": [[0.0, \"#0d0887\"], [0.1111111111111111, \"#46039f\"], [0.2222222222222222, \"#7201a8\"], [0.3333333333333333, \"#9c179e\"], [0.4444444444444444, \"#bd3786\"], [0.5555555555555556, \"#d8576b\"], [0.6666666666666666, \"#ed7953\"], [0.7777777777777778, \"#fb9f3a\"], [0.8888888888888888, \"#fdca26\"], [1.0, \"#f0f921\"]], \"sequentialminus\": [[0.0, \"#0d0887\"], [0.1111111111111111, \"#46039f\"], [0.2222222222222222, \"#7201a8\"], [0.3333333333333333, \"#9c179e\"], [0.4444444444444444, \"#bd3786\"], [0.5555555555555556, \"#d8576b\"], [0.6666666666666666, \"#ed7953\"], [0.7777777777777778, \"#fb9f3a\"], [0.8888888888888888, \"#fdca26\"], [1.0, \"#f0f921\"]]}, \"colorway\": [\"#636efa\", \"#EF553B\", \"#00cc96\", \"#ab63fa\", \"#FFA15A\", \"#19d3f3\", \"#FF6692\", \"#B6E880\", \"#FF97FF\", \"#FECB52\"], \"font\": {\"color\": \"#2a3f5f\"}, \"geo\": {\"bgcolor\": \"white\", \"lakecolor\": \"white\", \"landcolor\": \"#E5ECF6\", \"showlakes\": true, \"showland\": true, \"subunitcolor\": \"white\"}, \"hoverlabel\": {\"align\": \"left\"}, \"hovermode\": \"closest\", \"mapbox\": {\"style\": \"light\"}, \"paper_bgcolor\": \"white\", \"plot_bgcolor\": \"#E5ECF6\", \"polar\": {\"angularaxis\": {\"gridcolor\": \"white\", \"linecolor\": \"white\", \"ticks\": \"\"}, \"bgcolor\": \"#E5ECF6\", \"radialaxis\": {\"gridcolor\": \"white\", \"linecolor\": \"white\", \"ticks\": \"\"}}, \"scene\": {\"xaxis\": {\"backgroundcolor\": \"#E5ECF6\", \"gridcolor\": \"white\", \"gridwidth\": 2, \"linecolor\": \"white\", \"showbackground\": true, \"ticks\": \"\", \"zerolinecolor\": \"white\"}, \"yaxis\": {\"backgroundcolor\": \"#E5ECF6\", \"gridcolor\": \"white\", \"gridwidth\": 2, \"linecolor\": \"white\", \"showbackground\": true, \"ticks\": \"\", \"zerolinecolor\": \"white\"}, \"zaxis\": {\"backgroundcolor\": \"#E5ECF6\", \"gridcolor\": \"white\", \"gridwidth\": 2, \"linecolor\": \"white\", \"showbackground\": true, \"ticks\": \"\", \"zerolinecolor\": \"white\"}}, \"shapedefaults\": {\"line\": {\"color\": \"#2a3f5f\"}}, \"ternary\": {\"aaxis\": {\"gridcolor\": \"white\", \"linecolor\": \"white\", \"ticks\": \"\"}, \"baxis\": {\"gridcolor\": \"white\", \"linecolor\": \"white\", \"ticks\": \"\"}, \"bgcolor\": \"#E5ECF6\", \"caxis\": {\"gridcolor\": \"white\", \"linecolor\": \"white\", \"ticks\": \"\"}}, \"title\": {\"x\": 0.05}, \"xaxis\": {\"automargin\": true, \"gridcolor\": \"white\", \"linecolor\": \"white\", \"ticks\": \"\", \"title\": {\"standoff\": 15}, \"zerolinecolor\": \"white\", \"zerolinewidth\": 2}, \"yaxis\": {\"automargin\": true, \"gridcolor\": \"white\", \"linecolor\": \"white\", \"ticks\": \"\", \"title\": {\"standoff\": 15}, \"zerolinecolor\": \"white\", \"zerolinewidth\": 2}}}, \"title\": {\"text\": \"US Combined Stats\"}, \"xaxis\": {\"title\": {\"text\": \"Days since 1/22/20\"}}, \"yaxis\": {\"title\": {\"text\": \"Number of People\"}}},\n",
       "                        {\"responsive\": true}\n",
       "                    ).then(function(){\n",
       "                            \n",
       "var gd = document.getElementById('7eafd2fe-f531-4aa4-a4ad-8aab62a0e306');\n",
       "var x = new MutationObserver(function (mutations, observer) {{\n",
       "        var display = window.getComputedStyle(gd).display;\n",
       "        if (!display || display === 'none') {{\n",
       "            console.log([gd, 'removed!']);\n",
       "            Plotly.purge(gd);\n",
       "            observer.disconnect();\n",
       "        }}\n",
       "}});\n",
       "\n",
       "// Listen for the removal of the full notebook cells\n",
       "var notebookContainer = gd.closest('#notebook-container');\n",
       "if (notebookContainer) {{\n",
       "    x.observe(notebookContainer, {childList: true});\n",
       "}}\n",
       "\n",
       "// Listen for the clearing of the current output cell\n",
       "var outputEl = gd.closest('.output');\n",
       "if (outputEl) {{\n",
       "    x.observe(outputEl, {childList: true});\n",
       "}}\n",
       "\n",
       "                        })\n",
       "                };\n",
       "                });\n",
       "            </script>\n",
       "        </div>"
      ]
     },
     "metadata": {},
     "output_type": "display_data"
    }
   ],
   "source": [
    "# US Stats\n",
    "us_gd = Graph(\"US\", us_cases, us_deaths, us_recovered, \"\")\n",
    "us_fig = (\n",
    "    go.Figure(layout=us_gd.glayout())\n",
    "    .add_trace(us_gd.c_trace())\n",
    "    .add_trace(us_gd.d_trace())\n",
    "    .add_trace(us_gd.r_trace())\n",
    ")\n",
    "\n",
    "ply.offline.iplot(us_fig)"
   ]
  },
  {
   "cell_type": "code",
   "execution_count": 49,
   "metadata": {},
   "outputs": [
    {
     "data": {
      "application/vnd.plotly.v1+json": {
       "config": {
        "linkText": "Export to plot.ly",
        "plotlyServerURL": "https://plot.ly",
        "showLink": false
       },
       "data": [
        {
         "hovertemplate": " %{y:.0f}",
         "line": {
          "color": "orange"
         },
         "mode": "lines",
         "name": "Cases",
         "type": "scatter",
         "x": [
          0,
          1,
          2,
          3,
          4,
          5,
          6,
          7,
          8,
          9,
          10,
          11,
          12,
          13,
          14,
          15,
          16,
          17,
          18,
          19,
          20,
          21,
          22,
          23,
          24,
          25,
          26,
          27,
          28,
          29,
          30,
          31,
          32,
          33,
          34,
          35,
          36,
          37,
          38,
          39,
          40,
          41,
          42,
          43,
          44,
          45,
          46,
          47,
          48,
          49,
          50,
          51,
          52,
          53,
          54,
          55,
          56,
          57,
          58,
          59,
          60,
          61,
          62,
          63,
          64,
          65,
          66,
          67,
          68,
          69,
          70,
          71,
          72,
          73,
          74,
          75,
          76,
          77,
          78,
          79,
          80,
          81,
          82,
          83,
          84,
          85,
          86,
          87,
          88,
          89,
          90,
          91,
          92,
          93,
          94,
          95,
          96,
          97
         ],
         "y": [
          548,
          643,
          920,
          1406,
          2075,
          2877,
          5509,
          6087,
          8141,
          9802,
          11891,
          16630,
          19716,
          23707,
          27440,
          30587,
          34110,
          36814,
          39829,
          42354,
          44386,
          44759,
          59895,
          66358,
          68413,
          70513,
          72434,
          74211,
          74619,
          75077,
          75550,
          77001,
          77022,
          77241,
          77754,
          78166,
          78600,
          78928,
          79356,
          79932,
          80136,
          80261,
          80386,
          80537,
          80690,
          80770,
          80823,
          80860,
          80887,
          80921,
          80932,
          80945,
          80977,
          81003,
          81033,
          81058,
          81102,
          81156,
          81250,
          81305,
          81435,
          81498,
          81591,
          81661,
          81782,
          81897,
          81999,
          82122,
          82198,
          82279,
          82361,
          82432,
          82511,
          82543,
          82602,
          82665,
          82718,
          82809,
          82883,
          82941,
          83014,
          83134,
          83213,
          83306,
          83356,
          83403,
          83760,
          83787,
          83805,
          83817,
          83853,
          83868,
          83884,
          83899,
          83909,
          83912,
          83918,
          83940
         ]
        },
        {
         "hovertemplate": " %{y:.0f}",
         "line": {
          "color": "red"
         },
         "mode": "lines",
         "name": "Deaths",
         "type": "scatter",
         "x": [
          0,
          1,
          2,
          3,
          4,
          5,
          6,
          7,
          8,
          9,
          10,
          11,
          12,
          13,
          14,
          15,
          16,
          17,
          18,
          19,
          20,
          21,
          22,
          23,
          24,
          25,
          26,
          27,
          28,
          29,
          30,
          31,
          32,
          33,
          34,
          35,
          36,
          37,
          38,
          39,
          40,
          41,
          42,
          43,
          44,
          45,
          46,
          47,
          48,
          49,
          50,
          51,
          52,
          53,
          54,
          55,
          56,
          57,
          58,
          59,
          60,
          61,
          62,
          63,
          64,
          65,
          66,
          67,
          68,
          69,
          70,
          71,
          72,
          73,
          74,
          75,
          76,
          77,
          78,
          79,
          80,
          81,
          82,
          83,
          84,
          85,
          86,
          87,
          88,
          89,
          90,
          91,
          92,
          93,
          94,
          95,
          96,
          97
         ],
         "y": [
          17,
          18,
          26,
          42,
          56,
          82,
          131,
          133,
          171,
          213,
          259,
          361,
          425,
          491,
          563,
          633,
          718,
          805,
          905,
          1012,
          1112,
          1117,
          1369,
          1521,
          1663,
          1766,
          1864,
          2003,
          2116,
          2238,
          2238,
          2443,
          2445,
          2595,
          2665,
          2717,
          2746,
          2790,
          2837,
          2872,
          2914,
          2947,
          2983,
          3015,
          3044,
          3072,
          3100,
          3123,
          3139,
          3161,
          3172,
          3180,
          3193,
          3203,
          3217,
          3230,
          3241,
          3249,
          3253,
          3259,
          3274,
          3274,
          3281,
          3285,
          3291,
          3296,
          3299,
          3304,
          3308,
          3309,
          3316,
          3322,
          3326,
          3330,
          3333,
          3335,
          3335,
          3337,
          3339,
          3340,
          3343,
          3343,
          3345,
          3345,
          3346,
          3346,
          4636,
          4636,
          4636,
          4636,
          4636,
          4636,
          4636,
          4636,
          4636,
          4637,
          4637,
          4637
         ]
        },
        {
         "hovertemplate": " %{y:.0f}",
         "line": {
          "color": "green"
         },
         "mode": "lines",
         "name": "Recovered",
         "type": "scatter",
         "x": [
          0,
          1,
          2,
          3,
          4,
          5,
          6,
          7,
          8,
          9,
          10,
          11,
          12,
          13,
          14,
          15,
          16,
          17,
          18,
          19,
          20,
          21,
          22,
          23,
          24,
          25,
          26,
          27,
          28,
          29,
          30,
          31,
          32,
          33,
          34,
          35,
          36,
          37,
          38,
          39,
          40,
          41,
          42,
          43,
          44,
          45,
          46,
          47,
          48,
          49,
          50,
          51,
          52,
          53,
          54,
          55,
          56,
          57,
          58,
          59,
          60,
          61,
          62,
          63,
          64,
          65,
          66,
          67,
          68,
          69,
          70,
          71,
          72,
          73,
          74,
          75,
          76,
          77,
          78,
          79,
          80,
          81,
          82,
          83,
          84,
          85,
          86,
          87,
          88,
          89,
          90,
          91,
          92,
          93,
          94,
          95,
          96,
          97
         ],
         "y": [
          28,
          30,
          36,
          39,
          49,
          58,
          101,
          120,
          135,
          214,
          275,
          463,
          614,
          843,
          1115,
          1477,
          1999,
          2596,
          3219,
          3918,
          4636,
          5082,
          6217,
          7977,
          9298,
          10755,
          12462,
          14206,
          15962,
          18014,
          18704,
          22699,
          23187,
          25015,
          27676,
          30084,
          32930,
          36329,
          39320,
          42162,
          44854,
          47450,
          50001,
          52292,
          53944,
          55539,
          57388,
          58804,
          60181,
          61644,
          62901,
          64196,
          65660,
          67017,
          67910,
          68798,
          69755,
          70535,
          71266,
          71857,
          72362,
          72814,
          73280,
          73773,
          74181,
          74720,
          75100,
          75582,
          75923,
          76206,
          76405,
          76565,
          76760,
          76946,
          77207,
          77310,
          77410,
          77567,
          77679,
          77791,
          77877,
          77956,
          78039,
          78200,
          78311,
          78401,
          77552,
          77614,
          77690,
          77745,
          77799,
          77861,
          77983,
          78109,
          78175,
          78277,
          78374,
          78422
         ]
        }
       ],
       "layout": {
        "hovermode": "x unified",
        "template": {
         "data": {
          "bar": [
           {
            "error_x": {
             "color": "#2a3f5f"
            },
            "error_y": {
             "color": "#2a3f5f"
            },
            "marker": {
             "line": {
              "color": "#E5ECF6",
              "width": 0.5
             }
            },
            "type": "bar"
           }
          ],
          "barpolar": [
           {
            "marker": {
             "line": {
              "color": "#E5ECF6",
              "width": 0.5
             }
            },
            "type": "barpolar"
           }
          ],
          "carpet": [
           {
            "aaxis": {
             "endlinecolor": "#2a3f5f",
             "gridcolor": "white",
             "linecolor": "white",
             "minorgridcolor": "white",
             "startlinecolor": "#2a3f5f"
            },
            "baxis": {
             "endlinecolor": "#2a3f5f",
             "gridcolor": "white",
             "linecolor": "white",
             "minorgridcolor": "white",
             "startlinecolor": "#2a3f5f"
            },
            "type": "carpet"
           }
          ],
          "choropleth": [
           {
            "colorbar": {
             "outlinewidth": 0,
             "ticks": ""
            },
            "type": "choropleth"
           }
          ],
          "contour": [
           {
            "colorbar": {
             "outlinewidth": 0,
             "ticks": ""
            },
            "colorscale": [
             [
              0,
              "#0d0887"
             ],
             [
              0.1111111111111111,
              "#46039f"
             ],
             [
              0.2222222222222222,
              "#7201a8"
             ],
             [
              0.3333333333333333,
              "#9c179e"
             ],
             [
              0.4444444444444444,
              "#bd3786"
             ],
             [
              0.5555555555555556,
              "#d8576b"
             ],
             [
              0.6666666666666666,
              "#ed7953"
             ],
             [
              0.7777777777777778,
              "#fb9f3a"
             ],
             [
              0.8888888888888888,
              "#fdca26"
             ],
             [
              1,
              "#f0f921"
             ]
            ],
            "type": "contour"
           }
          ],
          "contourcarpet": [
           {
            "colorbar": {
             "outlinewidth": 0,
             "ticks": ""
            },
            "type": "contourcarpet"
           }
          ],
          "heatmap": [
           {
            "colorbar": {
             "outlinewidth": 0,
             "ticks": ""
            },
            "colorscale": [
             [
              0,
              "#0d0887"
             ],
             [
              0.1111111111111111,
              "#46039f"
             ],
             [
              0.2222222222222222,
              "#7201a8"
             ],
             [
              0.3333333333333333,
              "#9c179e"
             ],
             [
              0.4444444444444444,
              "#bd3786"
             ],
             [
              0.5555555555555556,
              "#d8576b"
             ],
             [
              0.6666666666666666,
              "#ed7953"
             ],
             [
              0.7777777777777778,
              "#fb9f3a"
             ],
             [
              0.8888888888888888,
              "#fdca26"
             ],
             [
              1,
              "#f0f921"
             ]
            ],
            "type": "heatmap"
           }
          ],
          "heatmapgl": [
           {
            "colorbar": {
             "outlinewidth": 0,
             "ticks": ""
            },
            "colorscale": [
             [
              0,
              "#0d0887"
             ],
             [
              0.1111111111111111,
              "#46039f"
             ],
             [
              0.2222222222222222,
              "#7201a8"
             ],
             [
              0.3333333333333333,
              "#9c179e"
             ],
             [
              0.4444444444444444,
              "#bd3786"
             ],
             [
              0.5555555555555556,
              "#d8576b"
             ],
             [
              0.6666666666666666,
              "#ed7953"
             ],
             [
              0.7777777777777778,
              "#fb9f3a"
             ],
             [
              0.8888888888888888,
              "#fdca26"
             ],
             [
              1,
              "#f0f921"
             ]
            ],
            "type": "heatmapgl"
           }
          ],
          "histogram": [
           {
            "marker": {
             "colorbar": {
              "outlinewidth": 0,
              "ticks": ""
             }
            },
            "type": "histogram"
           }
          ],
          "histogram2d": [
           {
            "colorbar": {
             "outlinewidth": 0,
             "ticks": ""
            },
            "colorscale": [
             [
              0,
              "#0d0887"
             ],
             [
              0.1111111111111111,
              "#46039f"
             ],
             [
              0.2222222222222222,
              "#7201a8"
             ],
             [
              0.3333333333333333,
              "#9c179e"
             ],
             [
              0.4444444444444444,
              "#bd3786"
             ],
             [
              0.5555555555555556,
              "#d8576b"
             ],
             [
              0.6666666666666666,
              "#ed7953"
             ],
             [
              0.7777777777777778,
              "#fb9f3a"
             ],
             [
              0.8888888888888888,
              "#fdca26"
             ],
             [
              1,
              "#f0f921"
             ]
            ],
            "type": "histogram2d"
           }
          ],
          "histogram2dcontour": [
           {
            "colorbar": {
             "outlinewidth": 0,
             "ticks": ""
            },
            "colorscale": [
             [
              0,
              "#0d0887"
             ],
             [
              0.1111111111111111,
              "#46039f"
             ],
             [
              0.2222222222222222,
              "#7201a8"
             ],
             [
              0.3333333333333333,
              "#9c179e"
             ],
             [
              0.4444444444444444,
              "#bd3786"
             ],
             [
              0.5555555555555556,
              "#d8576b"
             ],
             [
              0.6666666666666666,
              "#ed7953"
             ],
             [
              0.7777777777777778,
              "#fb9f3a"
             ],
             [
              0.8888888888888888,
              "#fdca26"
             ],
             [
              1,
              "#f0f921"
             ]
            ],
            "type": "histogram2dcontour"
           }
          ],
          "mesh3d": [
           {
            "colorbar": {
             "outlinewidth": 0,
             "ticks": ""
            },
            "type": "mesh3d"
           }
          ],
          "parcoords": [
           {
            "line": {
             "colorbar": {
              "outlinewidth": 0,
              "ticks": ""
             }
            },
            "type": "parcoords"
           }
          ],
          "pie": [
           {
            "automargin": true,
            "type": "pie"
           }
          ],
          "scatter": [
           {
            "marker": {
             "colorbar": {
              "outlinewidth": 0,
              "ticks": ""
             }
            },
            "type": "scatter"
           }
          ],
          "scatter3d": [
           {
            "line": {
             "colorbar": {
              "outlinewidth": 0,
              "ticks": ""
             }
            },
            "marker": {
             "colorbar": {
              "outlinewidth": 0,
              "ticks": ""
             }
            },
            "type": "scatter3d"
           }
          ],
          "scattercarpet": [
           {
            "marker": {
             "colorbar": {
              "outlinewidth": 0,
              "ticks": ""
             }
            },
            "type": "scattercarpet"
           }
          ],
          "scattergeo": [
           {
            "marker": {
             "colorbar": {
              "outlinewidth": 0,
              "ticks": ""
             }
            },
            "type": "scattergeo"
           }
          ],
          "scattergl": [
           {
            "marker": {
             "colorbar": {
              "outlinewidth": 0,
              "ticks": ""
             }
            },
            "type": "scattergl"
           }
          ],
          "scattermapbox": [
           {
            "marker": {
             "colorbar": {
              "outlinewidth": 0,
              "ticks": ""
             }
            },
            "type": "scattermapbox"
           }
          ],
          "scatterpolar": [
           {
            "marker": {
             "colorbar": {
              "outlinewidth": 0,
              "ticks": ""
             }
            },
            "type": "scatterpolar"
           }
          ],
          "scatterpolargl": [
           {
            "marker": {
             "colorbar": {
              "outlinewidth": 0,
              "ticks": ""
             }
            },
            "type": "scatterpolargl"
           }
          ],
          "scatterternary": [
           {
            "marker": {
             "colorbar": {
              "outlinewidth": 0,
              "ticks": ""
             }
            },
            "type": "scatterternary"
           }
          ],
          "surface": [
           {
            "colorbar": {
             "outlinewidth": 0,
             "ticks": ""
            },
            "colorscale": [
             [
              0,
              "#0d0887"
             ],
             [
              0.1111111111111111,
              "#46039f"
             ],
             [
              0.2222222222222222,
              "#7201a8"
             ],
             [
              0.3333333333333333,
              "#9c179e"
             ],
             [
              0.4444444444444444,
              "#bd3786"
             ],
             [
              0.5555555555555556,
              "#d8576b"
             ],
             [
              0.6666666666666666,
              "#ed7953"
             ],
             [
              0.7777777777777778,
              "#fb9f3a"
             ],
             [
              0.8888888888888888,
              "#fdca26"
             ],
             [
              1,
              "#f0f921"
             ]
            ],
            "type": "surface"
           }
          ],
          "table": [
           {
            "cells": {
             "fill": {
              "color": "#EBF0F8"
             },
             "line": {
              "color": "white"
             }
            },
            "header": {
             "fill": {
              "color": "#C8D4E3"
             },
             "line": {
              "color": "white"
             }
            },
            "type": "table"
           }
          ]
         },
         "layout": {
          "annotationdefaults": {
           "arrowcolor": "#2a3f5f",
           "arrowhead": 0,
           "arrowwidth": 1
          },
          "coloraxis": {
           "colorbar": {
            "outlinewidth": 0,
            "ticks": ""
           }
          },
          "colorscale": {
           "diverging": [
            [
             0,
             "#8e0152"
            ],
            [
             0.1,
             "#c51b7d"
            ],
            [
             0.2,
             "#de77ae"
            ],
            [
             0.3,
             "#f1b6da"
            ],
            [
             0.4,
             "#fde0ef"
            ],
            [
             0.5,
             "#f7f7f7"
            ],
            [
             0.6,
             "#e6f5d0"
            ],
            [
             0.7,
             "#b8e186"
            ],
            [
             0.8,
             "#7fbc41"
            ],
            [
             0.9,
             "#4d9221"
            ],
            [
             1,
             "#276419"
            ]
           ],
           "sequential": [
            [
             0,
             "#0d0887"
            ],
            [
             0.1111111111111111,
             "#46039f"
            ],
            [
             0.2222222222222222,
             "#7201a8"
            ],
            [
             0.3333333333333333,
             "#9c179e"
            ],
            [
             0.4444444444444444,
             "#bd3786"
            ],
            [
             0.5555555555555556,
             "#d8576b"
            ],
            [
             0.6666666666666666,
             "#ed7953"
            ],
            [
             0.7777777777777778,
             "#fb9f3a"
            ],
            [
             0.8888888888888888,
             "#fdca26"
            ],
            [
             1,
             "#f0f921"
            ]
           ],
           "sequentialminus": [
            [
             0,
             "#0d0887"
            ],
            [
             0.1111111111111111,
             "#46039f"
            ],
            [
             0.2222222222222222,
             "#7201a8"
            ],
            [
             0.3333333333333333,
             "#9c179e"
            ],
            [
             0.4444444444444444,
             "#bd3786"
            ],
            [
             0.5555555555555556,
             "#d8576b"
            ],
            [
             0.6666666666666666,
             "#ed7953"
            ],
            [
             0.7777777777777778,
             "#fb9f3a"
            ],
            [
             0.8888888888888888,
             "#fdca26"
            ],
            [
             1,
             "#f0f921"
            ]
           ]
          },
          "colorway": [
           "#636efa",
           "#EF553B",
           "#00cc96",
           "#ab63fa",
           "#FFA15A",
           "#19d3f3",
           "#FF6692",
           "#B6E880",
           "#FF97FF",
           "#FECB52"
          ],
          "font": {
           "color": "#2a3f5f"
          },
          "geo": {
           "bgcolor": "white",
           "lakecolor": "white",
           "landcolor": "#E5ECF6",
           "showlakes": true,
           "showland": true,
           "subunitcolor": "white"
          },
          "hoverlabel": {
           "align": "left"
          },
          "hovermode": "closest",
          "mapbox": {
           "style": "light"
          },
          "paper_bgcolor": "white",
          "plot_bgcolor": "#E5ECF6",
          "polar": {
           "angularaxis": {
            "gridcolor": "white",
            "linecolor": "white",
            "ticks": ""
           },
           "bgcolor": "#E5ECF6",
           "radialaxis": {
            "gridcolor": "white",
            "linecolor": "white",
            "ticks": ""
           }
          },
          "scene": {
           "xaxis": {
            "backgroundcolor": "#E5ECF6",
            "gridcolor": "white",
            "gridwidth": 2,
            "linecolor": "white",
            "showbackground": true,
            "ticks": "",
            "zerolinecolor": "white"
           },
           "yaxis": {
            "backgroundcolor": "#E5ECF6",
            "gridcolor": "white",
            "gridwidth": 2,
            "linecolor": "white",
            "showbackground": true,
            "ticks": "",
            "zerolinecolor": "white"
           },
           "zaxis": {
            "backgroundcolor": "#E5ECF6",
            "gridcolor": "white",
            "gridwidth": 2,
            "linecolor": "white",
            "showbackground": true,
            "ticks": "",
            "zerolinecolor": "white"
           }
          },
          "shapedefaults": {
           "line": {
            "color": "#2a3f5f"
           }
          },
          "ternary": {
           "aaxis": {
            "gridcolor": "white",
            "linecolor": "white",
            "ticks": ""
           },
           "baxis": {
            "gridcolor": "white",
            "linecolor": "white",
            "ticks": ""
           },
           "bgcolor": "#E5ECF6",
           "caxis": {
            "gridcolor": "white",
            "linecolor": "white",
            "ticks": ""
           }
          },
          "title": {
           "x": 0.05
          },
          "xaxis": {
           "automargin": true,
           "gridcolor": "white",
           "linecolor": "white",
           "ticks": "",
           "title": {
            "standoff": 15
           },
           "zerolinecolor": "white",
           "zerolinewidth": 2
          },
          "yaxis": {
           "automargin": true,
           "gridcolor": "white",
           "linecolor": "white",
           "ticks": "",
           "title": {
            "standoff": 15
           },
           "zerolinecolor": "white",
           "zerolinewidth": 2
          }
         }
        },
        "title": {
         "text": "China Combined Stats"
        },
        "xaxis": {
         "title": {
          "text": "Days since 1/22/20"
         }
        },
        "yaxis": {
         "title": {
          "text": "Number of People"
         }
        }
       }
      },
      "text/html": [
       "<div>\n",
       "        \n",
       "        \n",
       "            <div id=\"ad4bb212-059e-4e30-9418-b531112220b3\" class=\"plotly-graph-div\" style=\"height:525px; width:100%;\"></div>\n",
       "            <script type=\"text/javascript\">\n",
       "                require([\"plotly\"], function(Plotly) {\n",
       "                    window.PLOTLYENV=window.PLOTLYENV || {};\n",
       "                    \n",
       "                if (document.getElementById(\"ad4bb212-059e-4e30-9418-b531112220b3\")) {\n",
       "                    Plotly.newPlot(\n",
       "                        'ad4bb212-059e-4e30-9418-b531112220b3',\n",
       "                        [{\"hovertemplate\": \" %{y:.0f}\", \"line\": {\"color\": \"orange\"}, \"mode\": \"lines\", \"name\": \"Cases\", \"type\": \"scatter\", \"x\": [0, 1, 2, 3, 4, 5, 6, 7, 8, 9, 10, 11, 12, 13, 14, 15, 16, 17, 18, 19, 20, 21, 22, 23, 24, 25, 26, 27, 28, 29, 30, 31, 32, 33, 34, 35, 36, 37, 38, 39, 40, 41, 42, 43, 44, 45, 46, 47, 48, 49, 50, 51, 52, 53, 54, 55, 56, 57, 58, 59, 60, 61, 62, 63, 64, 65, 66, 67, 68, 69, 70, 71, 72, 73, 74, 75, 76, 77, 78, 79, 80, 81, 82, 83, 84, 85, 86, 87, 88, 89, 90, 91, 92, 93, 94, 95, 96, 97], \"y\": [548.0, 643.0, 920.0, 1406.0, 2075.0, 2877.0, 5509.0, 6087.0, 8141.0, 9802.0, 11891.0, 16630.0, 19716.0, 23707.0, 27440.0, 30587.0, 34110.0, 36814.0, 39829.0, 42354.0, 44386.0, 44759.0, 59895.0, 66358.0, 68413.0, 70513.0, 72434.0, 74211.0, 74619.0, 75077.0, 75550.0, 77001.0, 77022.0, 77241.0, 77754.0, 78166.0, 78600.0, 78928.0, 79356.0, 79932.0, 80136.0, 80261.0, 80386.0, 80537.0, 80690.0, 80770.0, 80823.0, 80860.0, 80887.0, 80921.0, 80932.0, 80945.0, 80977.0, 81003.0, 81033.0, 81058.0, 81102.0, 81156.0, 81250.0, 81305.0, 81435.0, 81498.0, 81591.0, 81661.0, 81782.0, 81897.0, 81999.0, 82122.0, 82198.0, 82279.0, 82361.0, 82432.0, 82511.0, 82543.0, 82602.0, 82665.0, 82718.0, 82809.0, 82883.0, 82941.0, 83014.0, 83134.0, 83213.0, 83306.0, 83356.0, 83403.0, 83760.0, 83787.0, 83805.0, 83817.0, 83853.0, 83868.0, 83884.0, 83899.0, 83909.0, 83912.0, 83918.0, 83940.0]}, {\"hovertemplate\": \" %{y:.0f}\", \"line\": {\"color\": \"red\"}, \"mode\": \"lines\", \"name\": \"Deaths\", \"type\": \"scatter\", \"x\": [0, 1, 2, 3, 4, 5, 6, 7, 8, 9, 10, 11, 12, 13, 14, 15, 16, 17, 18, 19, 20, 21, 22, 23, 24, 25, 26, 27, 28, 29, 30, 31, 32, 33, 34, 35, 36, 37, 38, 39, 40, 41, 42, 43, 44, 45, 46, 47, 48, 49, 50, 51, 52, 53, 54, 55, 56, 57, 58, 59, 60, 61, 62, 63, 64, 65, 66, 67, 68, 69, 70, 71, 72, 73, 74, 75, 76, 77, 78, 79, 80, 81, 82, 83, 84, 85, 86, 87, 88, 89, 90, 91, 92, 93, 94, 95, 96, 97], \"y\": [17.0, 18.0, 26.0, 42.0, 56.0, 82.0, 131.0, 133.0, 171.0, 213.0, 259.0, 361.0, 425.0, 491.0, 563.0, 633.0, 718.0, 805.0, 905.0, 1012.0, 1112.0, 1117.0, 1369.0, 1521.0, 1663.0, 1766.0, 1864.0, 2003.0, 2116.0, 2238.0, 2238.0, 2443.0, 2445.0, 2595.0, 2665.0, 2717.0, 2746.0, 2790.0, 2837.0, 2872.0, 2914.0, 2947.0, 2983.0, 3015.0, 3044.0, 3072.0, 3100.0, 3123.0, 3139.0, 3161.0, 3172.0, 3180.0, 3193.0, 3203.0, 3217.0, 3230.0, 3241.0, 3249.0, 3253.0, 3259.0, 3274.0, 3274.0, 3281.0, 3285.0, 3291.0, 3296.0, 3299.0, 3304.0, 3308.0, 3309.0, 3316.0, 3322.0, 3326.0, 3330.0, 3333.0, 3335.0, 3335.0, 3337.0, 3339.0, 3340.0, 3343.0, 3343.0, 3345.0, 3345.0, 3346.0, 3346.0, 4636.0, 4636.0, 4636.0, 4636.0, 4636.0, 4636.0, 4636.0, 4636.0, 4636.0, 4637.0, 4637.0, 4637.0]}, {\"hovertemplate\": \" %{y:.0f}\", \"line\": {\"color\": \"green\"}, \"mode\": \"lines\", \"name\": \"Recovered\", \"type\": \"scatter\", \"x\": [0, 1, 2, 3, 4, 5, 6, 7, 8, 9, 10, 11, 12, 13, 14, 15, 16, 17, 18, 19, 20, 21, 22, 23, 24, 25, 26, 27, 28, 29, 30, 31, 32, 33, 34, 35, 36, 37, 38, 39, 40, 41, 42, 43, 44, 45, 46, 47, 48, 49, 50, 51, 52, 53, 54, 55, 56, 57, 58, 59, 60, 61, 62, 63, 64, 65, 66, 67, 68, 69, 70, 71, 72, 73, 74, 75, 76, 77, 78, 79, 80, 81, 82, 83, 84, 85, 86, 87, 88, 89, 90, 91, 92, 93, 94, 95, 96, 97], \"y\": [28.0, 30.0, 36.0, 39.0, 49.0, 58.0, 101.0, 120.0, 135.0, 214.0, 275.0, 463.0, 614.0, 843.0, 1115.0, 1477.0, 1999.0, 2596.0, 3219.0, 3918.0, 4636.0, 5082.0, 6217.0, 7977.0, 9298.0, 10755.0, 12462.0, 14206.0, 15962.0, 18014.0, 18704.0, 22699.0, 23187.0, 25015.0, 27676.0, 30084.0, 32930.0, 36329.0, 39320.0, 42162.0, 44854.0, 47450.0, 50001.0, 52292.0, 53944.0, 55539.0, 57388.0, 58804.0, 60181.0, 61644.0, 62901.0, 64196.0, 65660.0, 67017.0, 67910.0, 68798.0, 69755.0, 70535.0, 71266.0, 71857.0, 72362.0, 72814.0, 73280.0, 73773.0, 74181.0, 74720.0, 75100.0, 75582.0, 75923.0, 76206.0, 76405.0, 76565.0, 76760.0, 76946.0, 77207.0, 77310.0, 77410.0, 77567.0, 77679.0, 77791.0, 77877.0, 77956.0, 78039.0, 78200.0, 78311.0, 78401.0, 77552.0, 77614.0, 77690.0, 77745.0, 77799.0, 77861.0, 77983.0, 78109.0, 78175.0, 78277.0, 78374.0, 78422.0]}],\n",
       "                        {\"hovermode\": \"x unified\", \"template\": {\"data\": {\"bar\": [{\"error_x\": {\"color\": \"#2a3f5f\"}, \"error_y\": {\"color\": \"#2a3f5f\"}, \"marker\": {\"line\": {\"color\": \"#E5ECF6\", \"width\": 0.5}}, \"type\": \"bar\"}], \"barpolar\": [{\"marker\": {\"line\": {\"color\": \"#E5ECF6\", \"width\": 0.5}}, \"type\": \"barpolar\"}], \"carpet\": [{\"aaxis\": {\"endlinecolor\": \"#2a3f5f\", \"gridcolor\": \"white\", \"linecolor\": \"white\", \"minorgridcolor\": \"white\", \"startlinecolor\": \"#2a3f5f\"}, \"baxis\": {\"endlinecolor\": \"#2a3f5f\", \"gridcolor\": \"white\", \"linecolor\": \"white\", \"minorgridcolor\": \"white\", \"startlinecolor\": \"#2a3f5f\"}, \"type\": \"carpet\"}], \"choropleth\": [{\"colorbar\": {\"outlinewidth\": 0, \"ticks\": \"\"}, \"type\": \"choropleth\"}], \"contour\": [{\"colorbar\": {\"outlinewidth\": 0, \"ticks\": \"\"}, \"colorscale\": [[0.0, \"#0d0887\"], [0.1111111111111111, \"#46039f\"], [0.2222222222222222, \"#7201a8\"], [0.3333333333333333, \"#9c179e\"], [0.4444444444444444, \"#bd3786\"], [0.5555555555555556, \"#d8576b\"], [0.6666666666666666, \"#ed7953\"], [0.7777777777777778, \"#fb9f3a\"], [0.8888888888888888, \"#fdca26\"], [1.0, \"#f0f921\"]], \"type\": \"contour\"}], \"contourcarpet\": [{\"colorbar\": {\"outlinewidth\": 0, \"ticks\": \"\"}, \"type\": \"contourcarpet\"}], \"heatmap\": [{\"colorbar\": {\"outlinewidth\": 0, \"ticks\": \"\"}, \"colorscale\": [[0.0, \"#0d0887\"], [0.1111111111111111, \"#46039f\"], [0.2222222222222222, \"#7201a8\"], [0.3333333333333333, \"#9c179e\"], [0.4444444444444444, \"#bd3786\"], [0.5555555555555556, \"#d8576b\"], [0.6666666666666666, \"#ed7953\"], [0.7777777777777778, \"#fb9f3a\"], [0.8888888888888888, \"#fdca26\"], [1.0, \"#f0f921\"]], \"type\": \"heatmap\"}], \"heatmapgl\": [{\"colorbar\": {\"outlinewidth\": 0, \"ticks\": \"\"}, \"colorscale\": [[0.0, \"#0d0887\"], [0.1111111111111111, \"#46039f\"], [0.2222222222222222, \"#7201a8\"], [0.3333333333333333, \"#9c179e\"], [0.4444444444444444, \"#bd3786\"], [0.5555555555555556, \"#d8576b\"], [0.6666666666666666, \"#ed7953\"], [0.7777777777777778, \"#fb9f3a\"], [0.8888888888888888, \"#fdca26\"], [1.0, \"#f0f921\"]], \"type\": \"heatmapgl\"}], \"histogram\": [{\"marker\": {\"colorbar\": {\"outlinewidth\": 0, \"ticks\": \"\"}}, \"type\": \"histogram\"}], \"histogram2d\": [{\"colorbar\": {\"outlinewidth\": 0, \"ticks\": \"\"}, \"colorscale\": [[0.0, \"#0d0887\"], [0.1111111111111111, \"#46039f\"], [0.2222222222222222, \"#7201a8\"], [0.3333333333333333, \"#9c179e\"], [0.4444444444444444, \"#bd3786\"], [0.5555555555555556, \"#d8576b\"], [0.6666666666666666, \"#ed7953\"], [0.7777777777777778, \"#fb9f3a\"], [0.8888888888888888, \"#fdca26\"], [1.0, \"#f0f921\"]], \"type\": \"histogram2d\"}], \"histogram2dcontour\": [{\"colorbar\": {\"outlinewidth\": 0, \"ticks\": \"\"}, \"colorscale\": [[0.0, \"#0d0887\"], [0.1111111111111111, \"#46039f\"], [0.2222222222222222, \"#7201a8\"], [0.3333333333333333, \"#9c179e\"], [0.4444444444444444, \"#bd3786\"], [0.5555555555555556, \"#d8576b\"], [0.6666666666666666, \"#ed7953\"], [0.7777777777777778, \"#fb9f3a\"], [0.8888888888888888, \"#fdca26\"], [1.0, \"#f0f921\"]], \"type\": \"histogram2dcontour\"}], \"mesh3d\": [{\"colorbar\": {\"outlinewidth\": 0, \"ticks\": \"\"}, \"type\": \"mesh3d\"}], \"parcoords\": [{\"line\": {\"colorbar\": {\"outlinewidth\": 0, \"ticks\": \"\"}}, \"type\": \"parcoords\"}], \"pie\": [{\"automargin\": true, \"type\": \"pie\"}], \"scatter\": [{\"marker\": {\"colorbar\": {\"outlinewidth\": 0, \"ticks\": \"\"}}, \"type\": \"scatter\"}], \"scatter3d\": [{\"line\": {\"colorbar\": {\"outlinewidth\": 0, \"ticks\": \"\"}}, \"marker\": {\"colorbar\": {\"outlinewidth\": 0, \"ticks\": \"\"}}, \"type\": \"scatter3d\"}], \"scattercarpet\": [{\"marker\": {\"colorbar\": {\"outlinewidth\": 0, \"ticks\": \"\"}}, \"type\": \"scattercarpet\"}], \"scattergeo\": [{\"marker\": {\"colorbar\": {\"outlinewidth\": 0, \"ticks\": \"\"}}, \"type\": \"scattergeo\"}], \"scattergl\": [{\"marker\": {\"colorbar\": {\"outlinewidth\": 0, \"ticks\": \"\"}}, \"type\": \"scattergl\"}], \"scattermapbox\": [{\"marker\": {\"colorbar\": {\"outlinewidth\": 0, \"ticks\": \"\"}}, \"type\": \"scattermapbox\"}], \"scatterpolar\": [{\"marker\": {\"colorbar\": {\"outlinewidth\": 0, \"ticks\": \"\"}}, \"type\": \"scatterpolar\"}], \"scatterpolargl\": [{\"marker\": {\"colorbar\": {\"outlinewidth\": 0, \"ticks\": \"\"}}, \"type\": \"scatterpolargl\"}], \"scatterternary\": [{\"marker\": {\"colorbar\": {\"outlinewidth\": 0, \"ticks\": \"\"}}, \"type\": \"scatterternary\"}], \"surface\": [{\"colorbar\": {\"outlinewidth\": 0, \"ticks\": \"\"}, \"colorscale\": [[0.0, \"#0d0887\"], [0.1111111111111111, \"#46039f\"], [0.2222222222222222, \"#7201a8\"], [0.3333333333333333, \"#9c179e\"], [0.4444444444444444, \"#bd3786\"], [0.5555555555555556, \"#d8576b\"], [0.6666666666666666, \"#ed7953\"], [0.7777777777777778, \"#fb9f3a\"], [0.8888888888888888, \"#fdca26\"], [1.0, \"#f0f921\"]], \"type\": \"surface\"}], \"table\": [{\"cells\": {\"fill\": {\"color\": \"#EBF0F8\"}, \"line\": {\"color\": \"white\"}}, \"header\": {\"fill\": {\"color\": \"#C8D4E3\"}, \"line\": {\"color\": \"white\"}}, \"type\": \"table\"}]}, \"layout\": {\"annotationdefaults\": {\"arrowcolor\": \"#2a3f5f\", \"arrowhead\": 0, \"arrowwidth\": 1}, \"coloraxis\": {\"colorbar\": {\"outlinewidth\": 0, \"ticks\": \"\"}}, \"colorscale\": {\"diverging\": [[0, \"#8e0152\"], [0.1, \"#c51b7d\"], [0.2, \"#de77ae\"], [0.3, \"#f1b6da\"], [0.4, \"#fde0ef\"], [0.5, \"#f7f7f7\"], [0.6, \"#e6f5d0\"], [0.7, \"#b8e186\"], [0.8, \"#7fbc41\"], [0.9, \"#4d9221\"], [1, \"#276419\"]], \"sequential\": [[0.0, \"#0d0887\"], [0.1111111111111111, \"#46039f\"], [0.2222222222222222, \"#7201a8\"], [0.3333333333333333, \"#9c179e\"], [0.4444444444444444, \"#bd3786\"], [0.5555555555555556, \"#d8576b\"], [0.6666666666666666, \"#ed7953\"], [0.7777777777777778, \"#fb9f3a\"], [0.8888888888888888, \"#fdca26\"], [1.0, \"#f0f921\"]], \"sequentialminus\": [[0.0, \"#0d0887\"], [0.1111111111111111, \"#46039f\"], [0.2222222222222222, \"#7201a8\"], [0.3333333333333333, \"#9c179e\"], [0.4444444444444444, \"#bd3786\"], [0.5555555555555556, \"#d8576b\"], [0.6666666666666666, \"#ed7953\"], [0.7777777777777778, \"#fb9f3a\"], [0.8888888888888888, \"#fdca26\"], [1.0, \"#f0f921\"]]}, \"colorway\": [\"#636efa\", \"#EF553B\", \"#00cc96\", \"#ab63fa\", \"#FFA15A\", \"#19d3f3\", \"#FF6692\", \"#B6E880\", \"#FF97FF\", \"#FECB52\"], \"font\": {\"color\": \"#2a3f5f\"}, \"geo\": {\"bgcolor\": \"white\", \"lakecolor\": \"white\", \"landcolor\": \"#E5ECF6\", \"showlakes\": true, \"showland\": true, \"subunitcolor\": \"white\"}, \"hoverlabel\": {\"align\": \"left\"}, \"hovermode\": \"closest\", \"mapbox\": {\"style\": \"light\"}, \"paper_bgcolor\": \"white\", \"plot_bgcolor\": \"#E5ECF6\", \"polar\": {\"angularaxis\": {\"gridcolor\": \"white\", \"linecolor\": \"white\", \"ticks\": \"\"}, \"bgcolor\": \"#E5ECF6\", \"radialaxis\": {\"gridcolor\": \"white\", \"linecolor\": \"white\", \"ticks\": \"\"}}, \"scene\": {\"xaxis\": {\"backgroundcolor\": \"#E5ECF6\", \"gridcolor\": \"white\", \"gridwidth\": 2, \"linecolor\": \"white\", \"showbackground\": true, \"ticks\": \"\", \"zerolinecolor\": \"white\"}, \"yaxis\": {\"backgroundcolor\": \"#E5ECF6\", \"gridcolor\": \"white\", \"gridwidth\": 2, \"linecolor\": \"white\", \"showbackground\": true, \"ticks\": \"\", \"zerolinecolor\": \"white\"}, \"zaxis\": {\"backgroundcolor\": \"#E5ECF6\", \"gridcolor\": \"white\", \"gridwidth\": 2, \"linecolor\": \"white\", \"showbackground\": true, \"ticks\": \"\", \"zerolinecolor\": \"white\"}}, \"shapedefaults\": {\"line\": {\"color\": \"#2a3f5f\"}}, \"ternary\": {\"aaxis\": {\"gridcolor\": \"white\", \"linecolor\": \"white\", \"ticks\": \"\"}, \"baxis\": {\"gridcolor\": \"white\", \"linecolor\": \"white\", \"ticks\": \"\"}, \"bgcolor\": \"#E5ECF6\", \"caxis\": {\"gridcolor\": \"white\", \"linecolor\": \"white\", \"ticks\": \"\"}}, \"title\": {\"x\": 0.05}, \"xaxis\": {\"automargin\": true, \"gridcolor\": \"white\", \"linecolor\": \"white\", \"ticks\": \"\", \"title\": {\"standoff\": 15}, \"zerolinecolor\": \"white\", \"zerolinewidth\": 2}, \"yaxis\": {\"automargin\": true, \"gridcolor\": \"white\", \"linecolor\": \"white\", \"ticks\": \"\", \"title\": {\"standoff\": 15}, \"zerolinecolor\": \"white\", \"zerolinewidth\": 2}}}, \"title\": {\"text\": \"China Combined Stats\"}, \"xaxis\": {\"title\": {\"text\": \"Days since 1/22/20\"}}, \"yaxis\": {\"title\": {\"text\": \"Number of People\"}}},\n",
       "                        {\"responsive\": true}\n",
       "                    ).then(function(){\n",
       "                            \n",
       "var gd = document.getElementById('ad4bb212-059e-4e30-9418-b531112220b3');\n",
       "var x = new MutationObserver(function (mutations, observer) {{\n",
       "        var display = window.getComputedStyle(gd).display;\n",
       "        if (!display || display === 'none') {{\n",
       "            console.log([gd, 'removed!']);\n",
       "            Plotly.purge(gd);\n",
       "            observer.disconnect();\n",
       "        }}\n",
       "}});\n",
       "\n",
       "// Listen for the removal of the full notebook cells\n",
       "var notebookContainer = gd.closest('#notebook-container');\n",
       "if (notebookContainer) {{\n",
       "    x.observe(notebookContainer, {childList: true});\n",
       "}}\n",
       "\n",
       "// Listen for the clearing of the current output cell\n",
       "var outputEl = gd.closest('.output');\n",
       "if (outputEl) {{\n",
       "    x.observe(outputEl, {childList: true});\n",
       "}}\n",
       "\n",
       "                        })\n",
       "                };\n",
       "                });\n",
       "            </script>\n",
       "        </div>"
      ]
     },
     "metadata": {},
     "output_type": "display_data"
    }
   ],
   "source": [
    "# China Stats\n",
    "chn_gd = Graph(\"China\", china_cases, china_deaths, china_recovered, \"\")\n",
    "chn_fig = (\n",
    "    go.Figure(layout=chn_gd.glayout())\n",
    "    .add_trace(chn_gd.c_trace())\n",
    "    .add_trace(chn_gd.d_trace())\n",
    "    .add_trace(chn_gd.r_trace())\n",
    ")\n",
    "\n",
    "ply.offline.iplot(chn_fig)"
   ]
  },
  {
   "cell_type": "code",
   "execution_count": 50,
   "metadata": {
    "scrolled": true
   },
   "outputs": [
    {
     "data": {
      "application/vnd.plotly.v1+json": {
       "config": {
        "linkText": "Export to plot.ly",
        "plotlyServerURL": "https://plot.ly",
        "showLink": false
       },
       "data": [
        {
         "hovertemplate": " %{y:.0f}",
         "line": {
          "color": "orange"
         },
         "mode": "lines",
         "name": "Cases",
         "type": "scatter",
         "x": [
          0,
          1,
          2,
          3,
          4,
          5,
          6,
          7,
          8,
          9,
          10,
          11,
          12,
          13,
          14,
          15,
          16,
          17,
          18,
          19,
          20,
          21,
          22,
          23,
          24,
          25,
          26,
          27,
          28,
          29,
          30,
          31,
          32,
          33,
          34,
          35,
          36,
          37,
          38,
          39,
          40,
          41,
          42,
          43,
          44,
          45,
          46,
          47,
          48,
          49,
          50,
          51,
          52,
          53,
          54,
          55,
          56,
          57,
          58,
          59,
          60,
          61,
          62,
          63,
          64,
          65,
          66,
          67,
          68,
          69,
          70,
          71,
          72,
          73,
          74,
          75,
          76,
          77,
          78,
          79,
          80,
          81,
          82,
          83,
          84,
          85,
          86,
          87,
          88,
          89,
          90,
          91,
          92,
          93,
          94,
          95,
          96,
          97
         ],
         "y": [
          0,
          0,
          0,
          0,
          0,
          0,
          0,
          0,
          0,
          2,
          2,
          2,
          2,
          2,
          2,
          2,
          3,
          3,
          3,
          3,
          3,
          3,
          3,
          3,
          3,
          3,
          3,
          3,
          3,
          3,
          20,
          62,
          155,
          229,
          322,
          453,
          655,
          888,
          1128,
          1694,
          2036,
          2502,
          3089,
          3858,
          4636,
          5883,
          7375,
          9172,
          10149,
          12462,
          12462,
          17660,
          21157,
          24747,
          27980,
          31506,
          35713,
          41035,
          47021,
          53578,
          59138,
          63927,
          69176,
          74386,
          80589,
          86498,
          92472,
          97689,
          101739,
          105792,
          110574,
          115242,
          119827,
          124632,
          128948,
          132547,
          135586,
          139422,
          143626,
          147577,
          152271,
          156363,
          159516,
          162488,
          165155,
          168941,
          172434,
          175925,
          178972,
          181228,
          183957,
          187327,
          189973,
          192994,
          195351,
          197675,
          199414,
          201505
         ]
        },
        {
         "hovertemplate": " %{y:.0f}",
         "line": {
          "color": "red"
         },
         "mode": "lines",
         "name": "Deaths",
         "type": "scatter",
         "x": [
          0,
          1,
          2,
          3,
          4,
          5,
          6,
          7,
          8,
          9,
          10,
          11,
          12,
          13,
          14,
          15,
          16,
          17,
          18,
          19,
          20,
          21,
          22,
          23,
          24,
          25,
          26,
          27,
          28,
          29,
          30,
          31,
          32,
          33,
          34,
          35,
          36,
          37,
          38,
          39,
          40,
          41,
          42,
          43,
          44,
          45,
          46,
          47,
          48,
          49,
          50,
          51,
          52,
          53,
          54,
          55,
          56,
          57,
          58,
          59,
          60,
          61,
          62,
          63,
          64,
          65,
          66,
          67,
          68,
          69,
          70,
          71,
          72,
          73,
          74,
          75,
          76,
          77,
          78,
          79,
          80,
          81,
          82,
          83,
          84,
          85,
          86,
          87,
          88,
          89,
          90,
          91,
          92,
          93,
          94,
          95,
          96,
          97
         ],
         "y": [
          0,
          0,
          0,
          0,
          0,
          0,
          0,
          0,
          0,
          0,
          0,
          0,
          0,
          0,
          0,
          0,
          0,
          0,
          0,
          0,
          0,
          0,
          0,
          0,
          0,
          0,
          0,
          0,
          0,
          0,
          1,
          2,
          3,
          7,
          10,
          12,
          17,
          21,
          29,
          34,
          52,
          79,
          107,
          148,
          197,
          233,
          366,
          463,
          631,
          827,
          827,
          1266,
          1441,
          1809,
          2158,
          2503,
          2978,
          3405,
          4032,
          4825,
          5476,
          6077,
          6820,
          7503,
          8215,
          9134,
          10023,
          10779,
          11591,
          12428,
          13155,
          13915,
          14681,
          15362,
          15887,
          16523,
          17127,
          17669,
          18279,
          18849,
          19468,
          19899,
          20465,
          21067,
          21645,
          22170,
          22745,
          23227,
          23660,
          24114,
          24648,
          25085,
          25549,
          25969,
          26384,
          26644,
          26977,
          27359
         ]
        },
        {
         "hovertemplate": " %{y:.0f}",
         "line": {
          "color": "green"
         },
         "mode": "lines",
         "name": "Recovered",
         "type": "scatter",
         "x": [
          0,
          1,
          2,
          3,
          4,
          5,
          6,
          7,
          8,
          9,
          10,
          11,
          12,
          13,
          14,
          15,
          16,
          17,
          18,
          19,
          20,
          21,
          22,
          23,
          24,
          25,
          26,
          27,
          28,
          29,
          30,
          31,
          32,
          33,
          34,
          35,
          36,
          37,
          38,
          39,
          40,
          41,
          42,
          43,
          44,
          45,
          46,
          47,
          48,
          49,
          50,
          51,
          52,
          53,
          54,
          55,
          56,
          57,
          58,
          59,
          60,
          61,
          62,
          63,
          64,
          65,
          66,
          67,
          68,
          69,
          70,
          71,
          72,
          73,
          74,
          75,
          76,
          77,
          78,
          79,
          80,
          81,
          82,
          83,
          84,
          85,
          86,
          87,
          88,
          89,
          90,
          91,
          92,
          93,
          94,
          95,
          96,
          97
         ],
         "y": [
          0,
          0,
          0,
          0,
          0,
          0,
          0,
          0,
          0,
          0,
          0,
          0,
          0,
          0,
          0,
          0,
          0,
          0,
          0,
          0,
          0,
          0,
          0,
          0,
          0,
          0,
          0,
          0,
          0,
          0,
          0,
          1,
          2,
          1,
          1,
          3,
          45,
          46,
          46,
          83,
          149,
          160,
          276,
          414,
          523,
          589,
          622,
          724,
          724,
          1045,
          1045,
          1439,
          1966,
          2335,
          2749,
          2941,
          4025,
          4440,
          4440,
          6072,
          7024,
          7024,
          8326,
          9362,
          10361,
          10950,
          12384,
          13030,
          14620,
          15729,
          16847,
          18278,
          19758,
          20996,
          21815,
          22837,
          24392,
          26491,
          28470,
          30455,
          32534,
          34211,
          35435,
          37130,
          38092,
          40164,
          42727,
          44927,
          47055,
          48877,
          51600,
          54543,
          57576,
          60498,
          63120,
          64928,
          66624,
          68941
         ]
        }
       ],
       "layout": {
        "hovermode": "x unified",
        "template": {
         "data": {
          "bar": [
           {
            "error_x": {
             "color": "#2a3f5f"
            },
            "error_y": {
             "color": "#2a3f5f"
            },
            "marker": {
             "line": {
              "color": "#E5ECF6",
              "width": 0.5
             }
            },
            "type": "bar"
           }
          ],
          "barpolar": [
           {
            "marker": {
             "line": {
              "color": "#E5ECF6",
              "width": 0.5
             }
            },
            "type": "barpolar"
           }
          ],
          "carpet": [
           {
            "aaxis": {
             "endlinecolor": "#2a3f5f",
             "gridcolor": "white",
             "linecolor": "white",
             "minorgridcolor": "white",
             "startlinecolor": "#2a3f5f"
            },
            "baxis": {
             "endlinecolor": "#2a3f5f",
             "gridcolor": "white",
             "linecolor": "white",
             "minorgridcolor": "white",
             "startlinecolor": "#2a3f5f"
            },
            "type": "carpet"
           }
          ],
          "choropleth": [
           {
            "colorbar": {
             "outlinewidth": 0,
             "ticks": ""
            },
            "type": "choropleth"
           }
          ],
          "contour": [
           {
            "colorbar": {
             "outlinewidth": 0,
             "ticks": ""
            },
            "colorscale": [
             [
              0,
              "#0d0887"
             ],
             [
              0.1111111111111111,
              "#46039f"
             ],
             [
              0.2222222222222222,
              "#7201a8"
             ],
             [
              0.3333333333333333,
              "#9c179e"
             ],
             [
              0.4444444444444444,
              "#bd3786"
             ],
             [
              0.5555555555555556,
              "#d8576b"
             ],
             [
              0.6666666666666666,
              "#ed7953"
             ],
             [
              0.7777777777777778,
              "#fb9f3a"
             ],
             [
              0.8888888888888888,
              "#fdca26"
             ],
             [
              1,
              "#f0f921"
             ]
            ],
            "type": "contour"
           }
          ],
          "contourcarpet": [
           {
            "colorbar": {
             "outlinewidth": 0,
             "ticks": ""
            },
            "type": "contourcarpet"
           }
          ],
          "heatmap": [
           {
            "colorbar": {
             "outlinewidth": 0,
             "ticks": ""
            },
            "colorscale": [
             [
              0,
              "#0d0887"
             ],
             [
              0.1111111111111111,
              "#46039f"
             ],
             [
              0.2222222222222222,
              "#7201a8"
             ],
             [
              0.3333333333333333,
              "#9c179e"
             ],
             [
              0.4444444444444444,
              "#bd3786"
             ],
             [
              0.5555555555555556,
              "#d8576b"
             ],
             [
              0.6666666666666666,
              "#ed7953"
             ],
             [
              0.7777777777777778,
              "#fb9f3a"
             ],
             [
              0.8888888888888888,
              "#fdca26"
             ],
             [
              1,
              "#f0f921"
             ]
            ],
            "type": "heatmap"
           }
          ],
          "heatmapgl": [
           {
            "colorbar": {
             "outlinewidth": 0,
             "ticks": ""
            },
            "colorscale": [
             [
              0,
              "#0d0887"
             ],
             [
              0.1111111111111111,
              "#46039f"
             ],
             [
              0.2222222222222222,
              "#7201a8"
             ],
             [
              0.3333333333333333,
              "#9c179e"
             ],
             [
              0.4444444444444444,
              "#bd3786"
             ],
             [
              0.5555555555555556,
              "#d8576b"
             ],
             [
              0.6666666666666666,
              "#ed7953"
             ],
             [
              0.7777777777777778,
              "#fb9f3a"
             ],
             [
              0.8888888888888888,
              "#fdca26"
             ],
             [
              1,
              "#f0f921"
             ]
            ],
            "type": "heatmapgl"
           }
          ],
          "histogram": [
           {
            "marker": {
             "colorbar": {
              "outlinewidth": 0,
              "ticks": ""
             }
            },
            "type": "histogram"
           }
          ],
          "histogram2d": [
           {
            "colorbar": {
             "outlinewidth": 0,
             "ticks": ""
            },
            "colorscale": [
             [
              0,
              "#0d0887"
             ],
             [
              0.1111111111111111,
              "#46039f"
             ],
             [
              0.2222222222222222,
              "#7201a8"
             ],
             [
              0.3333333333333333,
              "#9c179e"
             ],
             [
              0.4444444444444444,
              "#bd3786"
             ],
             [
              0.5555555555555556,
              "#d8576b"
             ],
             [
              0.6666666666666666,
              "#ed7953"
             ],
             [
              0.7777777777777778,
              "#fb9f3a"
             ],
             [
              0.8888888888888888,
              "#fdca26"
             ],
             [
              1,
              "#f0f921"
             ]
            ],
            "type": "histogram2d"
           }
          ],
          "histogram2dcontour": [
           {
            "colorbar": {
             "outlinewidth": 0,
             "ticks": ""
            },
            "colorscale": [
             [
              0,
              "#0d0887"
             ],
             [
              0.1111111111111111,
              "#46039f"
             ],
             [
              0.2222222222222222,
              "#7201a8"
             ],
             [
              0.3333333333333333,
              "#9c179e"
             ],
             [
              0.4444444444444444,
              "#bd3786"
             ],
             [
              0.5555555555555556,
              "#d8576b"
             ],
             [
              0.6666666666666666,
              "#ed7953"
             ],
             [
              0.7777777777777778,
              "#fb9f3a"
             ],
             [
              0.8888888888888888,
              "#fdca26"
             ],
             [
              1,
              "#f0f921"
             ]
            ],
            "type": "histogram2dcontour"
           }
          ],
          "mesh3d": [
           {
            "colorbar": {
             "outlinewidth": 0,
             "ticks": ""
            },
            "type": "mesh3d"
           }
          ],
          "parcoords": [
           {
            "line": {
             "colorbar": {
              "outlinewidth": 0,
              "ticks": ""
             }
            },
            "type": "parcoords"
           }
          ],
          "pie": [
           {
            "automargin": true,
            "type": "pie"
           }
          ],
          "scatter": [
           {
            "marker": {
             "colorbar": {
              "outlinewidth": 0,
              "ticks": ""
             }
            },
            "type": "scatter"
           }
          ],
          "scatter3d": [
           {
            "line": {
             "colorbar": {
              "outlinewidth": 0,
              "ticks": ""
             }
            },
            "marker": {
             "colorbar": {
              "outlinewidth": 0,
              "ticks": ""
             }
            },
            "type": "scatter3d"
           }
          ],
          "scattercarpet": [
           {
            "marker": {
             "colorbar": {
              "outlinewidth": 0,
              "ticks": ""
             }
            },
            "type": "scattercarpet"
           }
          ],
          "scattergeo": [
           {
            "marker": {
             "colorbar": {
              "outlinewidth": 0,
              "ticks": ""
             }
            },
            "type": "scattergeo"
           }
          ],
          "scattergl": [
           {
            "marker": {
             "colorbar": {
              "outlinewidth": 0,
              "ticks": ""
             }
            },
            "type": "scattergl"
           }
          ],
          "scattermapbox": [
           {
            "marker": {
             "colorbar": {
              "outlinewidth": 0,
              "ticks": ""
             }
            },
            "type": "scattermapbox"
           }
          ],
          "scatterpolar": [
           {
            "marker": {
             "colorbar": {
              "outlinewidth": 0,
              "ticks": ""
             }
            },
            "type": "scatterpolar"
           }
          ],
          "scatterpolargl": [
           {
            "marker": {
             "colorbar": {
              "outlinewidth": 0,
              "ticks": ""
             }
            },
            "type": "scatterpolargl"
           }
          ],
          "scatterternary": [
           {
            "marker": {
             "colorbar": {
              "outlinewidth": 0,
              "ticks": ""
             }
            },
            "type": "scatterternary"
           }
          ],
          "surface": [
           {
            "colorbar": {
             "outlinewidth": 0,
             "ticks": ""
            },
            "colorscale": [
             [
              0,
              "#0d0887"
             ],
             [
              0.1111111111111111,
              "#46039f"
             ],
             [
              0.2222222222222222,
              "#7201a8"
             ],
             [
              0.3333333333333333,
              "#9c179e"
             ],
             [
              0.4444444444444444,
              "#bd3786"
             ],
             [
              0.5555555555555556,
              "#d8576b"
             ],
             [
              0.6666666666666666,
              "#ed7953"
             ],
             [
              0.7777777777777778,
              "#fb9f3a"
             ],
             [
              0.8888888888888888,
              "#fdca26"
             ],
             [
              1,
              "#f0f921"
             ]
            ],
            "type": "surface"
           }
          ],
          "table": [
           {
            "cells": {
             "fill": {
              "color": "#EBF0F8"
             },
             "line": {
              "color": "white"
             }
            },
            "header": {
             "fill": {
              "color": "#C8D4E3"
             },
             "line": {
              "color": "white"
             }
            },
            "type": "table"
           }
          ]
         },
         "layout": {
          "annotationdefaults": {
           "arrowcolor": "#2a3f5f",
           "arrowhead": 0,
           "arrowwidth": 1
          },
          "coloraxis": {
           "colorbar": {
            "outlinewidth": 0,
            "ticks": ""
           }
          },
          "colorscale": {
           "diverging": [
            [
             0,
             "#8e0152"
            ],
            [
             0.1,
             "#c51b7d"
            ],
            [
             0.2,
             "#de77ae"
            ],
            [
             0.3,
             "#f1b6da"
            ],
            [
             0.4,
             "#fde0ef"
            ],
            [
             0.5,
             "#f7f7f7"
            ],
            [
             0.6,
             "#e6f5d0"
            ],
            [
             0.7,
             "#b8e186"
            ],
            [
             0.8,
             "#7fbc41"
            ],
            [
             0.9,
             "#4d9221"
            ],
            [
             1,
             "#276419"
            ]
           ],
           "sequential": [
            [
             0,
             "#0d0887"
            ],
            [
             0.1111111111111111,
             "#46039f"
            ],
            [
             0.2222222222222222,
             "#7201a8"
            ],
            [
             0.3333333333333333,
             "#9c179e"
            ],
            [
             0.4444444444444444,
             "#bd3786"
            ],
            [
             0.5555555555555556,
             "#d8576b"
            ],
            [
             0.6666666666666666,
             "#ed7953"
            ],
            [
             0.7777777777777778,
             "#fb9f3a"
            ],
            [
             0.8888888888888888,
             "#fdca26"
            ],
            [
             1,
             "#f0f921"
            ]
           ],
           "sequentialminus": [
            [
             0,
             "#0d0887"
            ],
            [
             0.1111111111111111,
             "#46039f"
            ],
            [
             0.2222222222222222,
             "#7201a8"
            ],
            [
             0.3333333333333333,
             "#9c179e"
            ],
            [
             0.4444444444444444,
             "#bd3786"
            ],
            [
             0.5555555555555556,
             "#d8576b"
            ],
            [
             0.6666666666666666,
             "#ed7953"
            ],
            [
             0.7777777777777778,
             "#fb9f3a"
            ],
            [
             0.8888888888888888,
             "#fdca26"
            ],
            [
             1,
             "#f0f921"
            ]
           ]
          },
          "colorway": [
           "#636efa",
           "#EF553B",
           "#00cc96",
           "#ab63fa",
           "#FFA15A",
           "#19d3f3",
           "#FF6692",
           "#B6E880",
           "#FF97FF",
           "#FECB52"
          ],
          "font": {
           "color": "#2a3f5f"
          },
          "geo": {
           "bgcolor": "white",
           "lakecolor": "white",
           "landcolor": "#E5ECF6",
           "showlakes": true,
           "showland": true,
           "subunitcolor": "white"
          },
          "hoverlabel": {
           "align": "left"
          },
          "hovermode": "closest",
          "mapbox": {
           "style": "light"
          },
          "paper_bgcolor": "white",
          "plot_bgcolor": "#E5ECF6",
          "polar": {
           "angularaxis": {
            "gridcolor": "white",
            "linecolor": "white",
            "ticks": ""
           },
           "bgcolor": "#E5ECF6",
           "radialaxis": {
            "gridcolor": "white",
            "linecolor": "white",
            "ticks": ""
           }
          },
          "scene": {
           "xaxis": {
            "backgroundcolor": "#E5ECF6",
            "gridcolor": "white",
            "gridwidth": 2,
            "linecolor": "white",
            "showbackground": true,
            "ticks": "",
            "zerolinecolor": "white"
           },
           "yaxis": {
            "backgroundcolor": "#E5ECF6",
            "gridcolor": "white",
            "gridwidth": 2,
            "linecolor": "white",
            "showbackground": true,
            "ticks": "",
            "zerolinecolor": "white"
           },
           "zaxis": {
            "backgroundcolor": "#E5ECF6",
            "gridcolor": "white",
            "gridwidth": 2,
            "linecolor": "white",
            "showbackground": true,
            "ticks": "",
            "zerolinecolor": "white"
           }
          },
          "shapedefaults": {
           "line": {
            "color": "#2a3f5f"
           }
          },
          "ternary": {
           "aaxis": {
            "gridcolor": "white",
            "linecolor": "white",
            "ticks": ""
           },
           "baxis": {
            "gridcolor": "white",
            "linecolor": "white",
            "ticks": ""
           },
           "bgcolor": "#E5ECF6",
           "caxis": {
            "gridcolor": "white",
            "linecolor": "white",
            "ticks": ""
           }
          },
          "title": {
           "x": 0.05
          },
          "xaxis": {
           "automargin": true,
           "gridcolor": "white",
           "linecolor": "white",
           "ticks": "",
           "title": {
            "standoff": 15
           },
           "zerolinecolor": "white",
           "zerolinewidth": 2
          },
          "yaxis": {
           "automargin": true,
           "gridcolor": "white",
           "linecolor": "white",
           "ticks": "",
           "title": {
            "standoff": 15
           },
           "zerolinecolor": "white",
           "zerolinewidth": 2
          }
         }
        },
        "title": {
         "text": "Italy Combined Stats"
        },
        "xaxis": {
         "title": {
          "text": "Days since 1/22/20"
         }
        },
        "yaxis": {
         "title": {
          "text": "Number of People"
         }
        }
       }
      },
      "text/html": [
       "<div>\n",
       "        \n",
       "        \n",
       "            <div id=\"0d7ccb49-0642-4661-bb51-46e3989c0fe0\" class=\"plotly-graph-div\" style=\"height:525px; width:100%;\"></div>\n",
       "            <script type=\"text/javascript\">\n",
       "                require([\"plotly\"], function(Plotly) {\n",
       "                    window.PLOTLYENV=window.PLOTLYENV || {};\n",
       "                    \n",
       "                if (document.getElementById(\"0d7ccb49-0642-4661-bb51-46e3989c0fe0\")) {\n",
       "                    Plotly.newPlot(\n",
       "                        '0d7ccb49-0642-4661-bb51-46e3989c0fe0',\n",
       "                        [{\"hovertemplate\": \" %{y:.0f}\", \"line\": {\"color\": \"orange\"}, \"mode\": \"lines\", \"name\": \"Cases\", \"type\": \"scatter\", \"x\": [0, 1, 2, 3, 4, 5, 6, 7, 8, 9, 10, 11, 12, 13, 14, 15, 16, 17, 18, 19, 20, 21, 22, 23, 24, 25, 26, 27, 28, 29, 30, 31, 32, 33, 34, 35, 36, 37, 38, 39, 40, 41, 42, 43, 44, 45, 46, 47, 48, 49, 50, 51, 52, 53, 54, 55, 56, 57, 58, 59, 60, 61, 62, 63, 64, 65, 66, 67, 68, 69, 70, 71, 72, 73, 74, 75, 76, 77, 78, 79, 80, 81, 82, 83, 84, 85, 86, 87, 88, 89, 90, 91, 92, 93, 94, 95, 96, 97], \"y\": [0.0, 0.0, 0.0, 0.0, 0.0, 0.0, 0.0, 0.0, 0.0, 2.0, 2.0, 2.0, 2.0, 2.0, 2.0, 2.0, 3.0, 3.0, 3.0, 3.0, 3.0, 3.0, 3.0, 3.0, 3.0, 3.0, 3.0, 3.0, 3.0, 3.0, 20.0, 62.0, 155.0, 229.0, 322.0, 453.0, 655.0, 888.0, 1128.0, 1694.0, 2036.0, 2502.0, 3089.0, 3858.0, 4636.0, 5883.0, 7375.0, 9172.0, 10149.0, 12462.0, 12462.0, 17660.0, 21157.0, 24747.0, 27980.0, 31506.0, 35713.0, 41035.0, 47021.0, 53578.0, 59138.0, 63927.0, 69176.0, 74386.0, 80589.0, 86498.0, 92472.0, 97689.0, 101739.0, 105792.0, 110574.0, 115242.0, 119827.0, 124632.0, 128948.0, 132547.0, 135586.0, 139422.0, 143626.0, 147577.0, 152271.0, 156363.0, 159516.0, 162488.0, 165155.0, 168941.0, 172434.0, 175925.0, 178972.0, 181228.0, 183957.0, 187327.0, 189973.0, 192994.0, 195351.0, 197675.0, 199414.0, 201505.0]}, {\"hovertemplate\": \" %{y:.0f}\", \"line\": {\"color\": \"red\"}, \"mode\": \"lines\", \"name\": \"Deaths\", \"type\": \"scatter\", \"x\": [0, 1, 2, 3, 4, 5, 6, 7, 8, 9, 10, 11, 12, 13, 14, 15, 16, 17, 18, 19, 20, 21, 22, 23, 24, 25, 26, 27, 28, 29, 30, 31, 32, 33, 34, 35, 36, 37, 38, 39, 40, 41, 42, 43, 44, 45, 46, 47, 48, 49, 50, 51, 52, 53, 54, 55, 56, 57, 58, 59, 60, 61, 62, 63, 64, 65, 66, 67, 68, 69, 70, 71, 72, 73, 74, 75, 76, 77, 78, 79, 80, 81, 82, 83, 84, 85, 86, 87, 88, 89, 90, 91, 92, 93, 94, 95, 96, 97], \"y\": [0.0, 0.0, 0.0, 0.0, 0.0, 0.0, 0.0, 0.0, 0.0, 0.0, 0.0, 0.0, 0.0, 0.0, 0.0, 0.0, 0.0, 0.0, 0.0, 0.0, 0.0, 0.0, 0.0, 0.0, 0.0, 0.0, 0.0, 0.0, 0.0, 0.0, 1.0, 2.0, 3.0, 7.0, 10.0, 12.0, 17.0, 21.0, 29.0, 34.0, 52.0, 79.0, 107.0, 148.0, 197.0, 233.0, 366.0, 463.0, 631.0, 827.0, 827.0, 1266.0, 1441.0, 1809.0, 2158.0, 2503.0, 2978.0, 3405.0, 4032.0, 4825.0, 5476.0, 6077.0, 6820.0, 7503.0, 8215.0, 9134.0, 10023.0, 10779.0, 11591.0, 12428.0, 13155.0, 13915.0, 14681.0, 15362.0, 15887.0, 16523.0, 17127.0, 17669.0, 18279.0, 18849.0, 19468.0, 19899.0, 20465.0, 21067.0, 21645.0, 22170.0, 22745.0, 23227.0, 23660.0, 24114.0, 24648.0, 25085.0, 25549.0, 25969.0, 26384.0, 26644.0, 26977.0, 27359.0]}, {\"hovertemplate\": \" %{y:.0f}\", \"line\": {\"color\": \"green\"}, \"mode\": \"lines\", \"name\": \"Recovered\", \"type\": \"scatter\", \"x\": [0, 1, 2, 3, 4, 5, 6, 7, 8, 9, 10, 11, 12, 13, 14, 15, 16, 17, 18, 19, 20, 21, 22, 23, 24, 25, 26, 27, 28, 29, 30, 31, 32, 33, 34, 35, 36, 37, 38, 39, 40, 41, 42, 43, 44, 45, 46, 47, 48, 49, 50, 51, 52, 53, 54, 55, 56, 57, 58, 59, 60, 61, 62, 63, 64, 65, 66, 67, 68, 69, 70, 71, 72, 73, 74, 75, 76, 77, 78, 79, 80, 81, 82, 83, 84, 85, 86, 87, 88, 89, 90, 91, 92, 93, 94, 95, 96, 97], \"y\": [0.0, 0.0, 0.0, 0.0, 0.0, 0.0, 0.0, 0.0, 0.0, 0.0, 0.0, 0.0, 0.0, 0.0, 0.0, 0.0, 0.0, 0.0, 0.0, 0.0, 0.0, 0.0, 0.0, 0.0, 0.0, 0.0, 0.0, 0.0, 0.0, 0.0, 0.0, 1.0, 2.0, 1.0, 1.0, 3.0, 45.0, 46.0, 46.0, 83.0, 149.0, 160.0, 276.0, 414.0, 523.0, 589.0, 622.0, 724.0, 724.0, 1045.0, 1045.0, 1439.0, 1966.0, 2335.0, 2749.0, 2941.0, 4025.0, 4440.0, 4440.0, 6072.0, 7024.0, 7024.0, 8326.0, 9362.0, 10361.0, 10950.0, 12384.0, 13030.0, 14620.0, 15729.0, 16847.0, 18278.0, 19758.0, 20996.0, 21815.0, 22837.0, 24392.0, 26491.0, 28470.0, 30455.0, 32534.0, 34211.0, 35435.0, 37130.0, 38092.0, 40164.0, 42727.0, 44927.0, 47055.0, 48877.0, 51600.0, 54543.0, 57576.0, 60498.0, 63120.0, 64928.0, 66624.0, 68941.0]}],\n",
       "                        {\"hovermode\": \"x unified\", \"template\": {\"data\": {\"bar\": [{\"error_x\": {\"color\": \"#2a3f5f\"}, \"error_y\": {\"color\": \"#2a3f5f\"}, \"marker\": {\"line\": {\"color\": \"#E5ECF6\", \"width\": 0.5}}, \"type\": \"bar\"}], \"barpolar\": [{\"marker\": {\"line\": {\"color\": \"#E5ECF6\", \"width\": 0.5}}, \"type\": \"barpolar\"}], \"carpet\": [{\"aaxis\": {\"endlinecolor\": \"#2a3f5f\", \"gridcolor\": \"white\", \"linecolor\": \"white\", \"minorgridcolor\": \"white\", \"startlinecolor\": \"#2a3f5f\"}, \"baxis\": {\"endlinecolor\": \"#2a3f5f\", \"gridcolor\": \"white\", \"linecolor\": \"white\", \"minorgridcolor\": \"white\", \"startlinecolor\": \"#2a3f5f\"}, \"type\": \"carpet\"}], \"choropleth\": [{\"colorbar\": {\"outlinewidth\": 0, \"ticks\": \"\"}, \"type\": \"choropleth\"}], \"contour\": [{\"colorbar\": {\"outlinewidth\": 0, \"ticks\": \"\"}, \"colorscale\": [[0.0, \"#0d0887\"], [0.1111111111111111, \"#46039f\"], [0.2222222222222222, \"#7201a8\"], [0.3333333333333333, \"#9c179e\"], [0.4444444444444444, \"#bd3786\"], [0.5555555555555556, \"#d8576b\"], [0.6666666666666666, \"#ed7953\"], [0.7777777777777778, \"#fb9f3a\"], [0.8888888888888888, \"#fdca26\"], [1.0, \"#f0f921\"]], \"type\": \"contour\"}], \"contourcarpet\": [{\"colorbar\": {\"outlinewidth\": 0, \"ticks\": \"\"}, \"type\": \"contourcarpet\"}], \"heatmap\": [{\"colorbar\": {\"outlinewidth\": 0, \"ticks\": \"\"}, \"colorscale\": [[0.0, \"#0d0887\"], [0.1111111111111111, \"#46039f\"], [0.2222222222222222, \"#7201a8\"], [0.3333333333333333, \"#9c179e\"], [0.4444444444444444, \"#bd3786\"], [0.5555555555555556, \"#d8576b\"], [0.6666666666666666, \"#ed7953\"], [0.7777777777777778, \"#fb9f3a\"], [0.8888888888888888, \"#fdca26\"], [1.0, \"#f0f921\"]], \"type\": \"heatmap\"}], \"heatmapgl\": [{\"colorbar\": {\"outlinewidth\": 0, \"ticks\": \"\"}, \"colorscale\": [[0.0, \"#0d0887\"], [0.1111111111111111, \"#46039f\"], [0.2222222222222222, \"#7201a8\"], [0.3333333333333333, \"#9c179e\"], [0.4444444444444444, \"#bd3786\"], [0.5555555555555556, \"#d8576b\"], [0.6666666666666666, \"#ed7953\"], [0.7777777777777778, \"#fb9f3a\"], [0.8888888888888888, \"#fdca26\"], [1.0, \"#f0f921\"]], \"type\": \"heatmapgl\"}], \"histogram\": [{\"marker\": {\"colorbar\": {\"outlinewidth\": 0, \"ticks\": \"\"}}, \"type\": \"histogram\"}], \"histogram2d\": [{\"colorbar\": {\"outlinewidth\": 0, \"ticks\": \"\"}, \"colorscale\": [[0.0, \"#0d0887\"], [0.1111111111111111, \"#46039f\"], [0.2222222222222222, \"#7201a8\"], [0.3333333333333333, \"#9c179e\"], [0.4444444444444444, \"#bd3786\"], [0.5555555555555556, \"#d8576b\"], [0.6666666666666666, \"#ed7953\"], [0.7777777777777778, \"#fb9f3a\"], [0.8888888888888888, \"#fdca26\"], [1.0, \"#f0f921\"]], \"type\": \"histogram2d\"}], \"histogram2dcontour\": [{\"colorbar\": {\"outlinewidth\": 0, \"ticks\": \"\"}, \"colorscale\": [[0.0, \"#0d0887\"], [0.1111111111111111, \"#46039f\"], [0.2222222222222222, \"#7201a8\"], [0.3333333333333333, \"#9c179e\"], [0.4444444444444444, \"#bd3786\"], [0.5555555555555556, \"#d8576b\"], [0.6666666666666666, \"#ed7953\"], [0.7777777777777778, \"#fb9f3a\"], [0.8888888888888888, \"#fdca26\"], [1.0, \"#f0f921\"]], \"type\": \"histogram2dcontour\"}], \"mesh3d\": [{\"colorbar\": {\"outlinewidth\": 0, \"ticks\": \"\"}, \"type\": \"mesh3d\"}], \"parcoords\": [{\"line\": {\"colorbar\": {\"outlinewidth\": 0, \"ticks\": \"\"}}, \"type\": \"parcoords\"}], \"pie\": [{\"automargin\": true, \"type\": \"pie\"}], \"scatter\": [{\"marker\": {\"colorbar\": {\"outlinewidth\": 0, \"ticks\": \"\"}}, \"type\": \"scatter\"}], \"scatter3d\": [{\"line\": {\"colorbar\": {\"outlinewidth\": 0, \"ticks\": \"\"}}, \"marker\": {\"colorbar\": {\"outlinewidth\": 0, \"ticks\": \"\"}}, \"type\": \"scatter3d\"}], \"scattercarpet\": [{\"marker\": {\"colorbar\": {\"outlinewidth\": 0, \"ticks\": \"\"}}, \"type\": \"scattercarpet\"}], \"scattergeo\": [{\"marker\": {\"colorbar\": {\"outlinewidth\": 0, \"ticks\": \"\"}}, \"type\": \"scattergeo\"}], \"scattergl\": [{\"marker\": {\"colorbar\": {\"outlinewidth\": 0, \"ticks\": \"\"}}, \"type\": \"scattergl\"}], \"scattermapbox\": [{\"marker\": {\"colorbar\": {\"outlinewidth\": 0, \"ticks\": \"\"}}, \"type\": \"scattermapbox\"}], \"scatterpolar\": [{\"marker\": {\"colorbar\": {\"outlinewidth\": 0, \"ticks\": \"\"}}, \"type\": \"scatterpolar\"}], \"scatterpolargl\": [{\"marker\": {\"colorbar\": {\"outlinewidth\": 0, \"ticks\": \"\"}}, \"type\": \"scatterpolargl\"}], \"scatterternary\": [{\"marker\": {\"colorbar\": {\"outlinewidth\": 0, \"ticks\": \"\"}}, \"type\": \"scatterternary\"}], \"surface\": [{\"colorbar\": {\"outlinewidth\": 0, \"ticks\": \"\"}, \"colorscale\": [[0.0, \"#0d0887\"], [0.1111111111111111, \"#46039f\"], [0.2222222222222222, \"#7201a8\"], [0.3333333333333333, \"#9c179e\"], [0.4444444444444444, \"#bd3786\"], [0.5555555555555556, \"#d8576b\"], [0.6666666666666666, \"#ed7953\"], [0.7777777777777778, \"#fb9f3a\"], [0.8888888888888888, \"#fdca26\"], [1.0, \"#f0f921\"]], \"type\": \"surface\"}], \"table\": [{\"cells\": {\"fill\": {\"color\": \"#EBF0F8\"}, \"line\": {\"color\": \"white\"}}, \"header\": {\"fill\": {\"color\": \"#C8D4E3\"}, \"line\": {\"color\": \"white\"}}, \"type\": \"table\"}]}, \"layout\": {\"annotationdefaults\": {\"arrowcolor\": \"#2a3f5f\", \"arrowhead\": 0, \"arrowwidth\": 1}, \"coloraxis\": {\"colorbar\": {\"outlinewidth\": 0, \"ticks\": \"\"}}, \"colorscale\": {\"diverging\": [[0, \"#8e0152\"], [0.1, \"#c51b7d\"], [0.2, \"#de77ae\"], [0.3, \"#f1b6da\"], [0.4, \"#fde0ef\"], [0.5, \"#f7f7f7\"], [0.6, \"#e6f5d0\"], [0.7, \"#b8e186\"], [0.8, \"#7fbc41\"], [0.9, \"#4d9221\"], [1, \"#276419\"]], \"sequential\": [[0.0, \"#0d0887\"], [0.1111111111111111, \"#46039f\"], [0.2222222222222222, \"#7201a8\"], [0.3333333333333333, \"#9c179e\"], [0.4444444444444444, \"#bd3786\"], [0.5555555555555556, \"#d8576b\"], [0.6666666666666666, \"#ed7953\"], [0.7777777777777778, \"#fb9f3a\"], [0.8888888888888888, \"#fdca26\"], [1.0, \"#f0f921\"]], \"sequentialminus\": [[0.0, \"#0d0887\"], [0.1111111111111111, \"#46039f\"], [0.2222222222222222, \"#7201a8\"], [0.3333333333333333, \"#9c179e\"], [0.4444444444444444, \"#bd3786\"], [0.5555555555555556, \"#d8576b\"], [0.6666666666666666, \"#ed7953\"], [0.7777777777777778, \"#fb9f3a\"], [0.8888888888888888, \"#fdca26\"], [1.0, \"#f0f921\"]]}, \"colorway\": [\"#636efa\", \"#EF553B\", \"#00cc96\", \"#ab63fa\", \"#FFA15A\", \"#19d3f3\", \"#FF6692\", \"#B6E880\", \"#FF97FF\", \"#FECB52\"], \"font\": {\"color\": \"#2a3f5f\"}, \"geo\": {\"bgcolor\": \"white\", \"lakecolor\": \"white\", \"landcolor\": \"#E5ECF6\", \"showlakes\": true, \"showland\": true, \"subunitcolor\": \"white\"}, \"hoverlabel\": {\"align\": \"left\"}, \"hovermode\": \"closest\", \"mapbox\": {\"style\": \"light\"}, \"paper_bgcolor\": \"white\", \"plot_bgcolor\": \"#E5ECF6\", \"polar\": {\"angularaxis\": {\"gridcolor\": \"white\", \"linecolor\": \"white\", \"ticks\": \"\"}, \"bgcolor\": \"#E5ECF6\", \"radialaxis\": {\"gridcolor\": \"white\", \"linecolor\": \"white\", \"ticks\": \"\"}}, \"scene\": {\"xaxis\": {\"backgroundcolor\": \"#E5ECF6\", \"gridcolor\": \"white\", \"gridwidth\": 2, \"linecolor\": \"white\", \"showbackground\": true, \"ticks\": \"\", \"zerolinecolor\": \"white\"}, \"yaxis\": {\"backgroundcolor\": \"#E5ECF6\", \"gridcolor\": \"white\", \"gridwidth\": 2, \"linecolor\": \"white\", \"showbackground\": true, \"ticks\": \"\", \"zerolinecolor\": \"white\"}, \"zaxis\": {\"backgroundcolor\": \"#E5ECF6\", \"gridcolor\": \"white\", \"gridwidth\": 2, \"linecolor\": \"white\", \"showbackground\": true, \"ticks\": \"\", \"zerolinecolor\": \"white\"}}, \"shapedefaults\": {\"line\": {\"color\": \"#2a3f5f\"}}, \"ternary\": {\"aaxis\": {\"gridcolor\": \"white\", \"linecolor\": \"white\", \"ticks\": \"\"}, \"baxis\": {\"gridcolor\": \"white\", \"linecolor\": \"white\", \"ticks\": \"\"}, \"bgcolor\": \"#E5ECF6\", \"caxis\": {\"gridcolor\": \"white\", \"linecolor\": \"white\", \"ticks\": \"\"}}, \"title\": {\"x\": 0.05}, \"xaxis\": {\"automargin\": true, \"gridcolor\": \"white\", \"linecolor\": \"white\", \"ticks\": \"\", \"title\": {\"standoff\": 15}, \"zerolinecolor\": \"white\", \"zerolinewidth\": 2}, \"yaxis\": {\"automargin\": true, \"gridcolor\": \"white\", \"linecolor\": \"white\", \"ticks\": \"\", \"title\": {\"standoff\": 15}, \"zerolinecolor\": \"white\", \"zerolinewidth\": 2}}}, \"title\": {\"text\": \"Italy Combined Stats\"}, \"xaxis\": {\"title\": {\"text\": \"Days since 1/22/20\"}}, \"yaxis\": {\"title\": {\"text\": \"Number of People\"}}},\n",
       "                        {\"responsive\": true}\n",
       "                    ).then(function(){\n",
       "                            \n",
       "var gd = document.getElementById('0d7ccb49-0642-4661-bb51-46e3989c0fe0');\n",
       "var x = new MutationObserver(function (mutations, observer) {{\n",
       "        var display = window.getComputedStyle(gd).display;\n",
       "        if (!display || display === 'none') {{\n",
       "            console.log([gd, 'removed!']);\n",
       "            Plotly.purge(gd);\n",
       "            observer.disconnect();\n",
       "        }}\n",
       "}});\n",
       "\n",
       "// Listen for the removal of the full notebook cells\n",
       "var notebookContainer = gd.closest('#notebook-container');\n",
       "if (notebookContainer) {{\n",
       "    x.observe(notebookContainer, {childList: true});\n",
       "}}\n",
       "\n",
       "// Listen for the clearing of the current output cell\n",
       "var outputEl = gd.closest('.output');\n",
       "if (outputEl) {{\n",
       "    x.observe(outputEl, {childList: true});\n",
       "}}\n",
       "\n",
       "                        })\n",
       "                };\n",
       "                });\n",
       "            </script>\n",
       "        </div>"
      ]
     },
     "metadata": {},
     "output_type": "display_data"
    }
   ],
   "source": [
    "italy_gd = Graph(\"Italy\", italy_cases, italy_deaths, italy_recovered, \"\")\n",
    "italy_fig = (\n",
    "    go.Figure(layout=italy_gd.glayout())\n",
    "    .add_trace(italy_gd.c_trace())\n",
    "    .add_trace(italy_gd.d_trace())\n",
    "    .add_trace(italy_gd.r_trace())\n",
    ")\n",
    "\n",
    "ply.offline.iplot(italy_fig)"
   ]
  },
  {
   "cell_type": "code",
   "execution_count": 51,
   "metadata": {},
   "outputs": [
    {
     "data": {
      "application/vnd.plotly.v1+json": {
       "config": {
        "linkText": "Export to plot.ly",
        "plotlyServerURL": "https://plot.ly",
        "showLink": false
       },
       "data": [
        {
         "hovertemplate": " %{y:.0f}",
         "line": {
          "color": "orange"
         },
         "mode": "lines",
         "name": "Cases",
         "type": "scatter",
         "x": [
          0,
          1,
          2,
          3,
          4,
          5,
          6,
          7,
          8,
          9,
          10,
          11,
          12,
          13,
          14,
          15,
          16,
          17,
          18,
          19,
          20,
          21,
          22,
          23,
          24,
          25,
          26,
          27,
          28,
          29,
          30,
          31,
          32,
          33,
          34,
          35,
          36,
          37,
          38,
          39,
          40,
          41,
          42,
          43,
          44,
          45,
          46,
          47,
          48,
          49,
          50,
          51,
          52,
          53,
          54,
          55,
          56,
          57,
          58,
          59,
          60,
          61,
          62,
          63,
          64,
          65,
          66,
          67,
          68,
          69,
          70,
          71,
          72,
          73,
          74,
          75,
          76,
          77,
          78,
          79,
          80,
          81,
          82,
          83,
          84,
          85,
          86,
          87,
          88,
          89,
          90,
          91,
          92,
          93,
          94,
          95,
          96,
          97
         ],
         "y": [
          0,
          0,
          0,
          0,
          0,
          0,
          0,
          0,
          0,
          0,
          1,
          1,
          1,
          1,
          1,
          1,
          1,
          1,
          2,
          2,
          2,
          2,
          2,
          2,
          2,
          2,
          2,
          2,
          2,
          2,
          2,
          2,
          2,
          2,
          6,
          13,
          15,
          32,
          45,
          84,
          120,
          165,
          222,
          259,
          400,
          500,
          673,
          1073,
          1695,
          2277,
          2277,
          5232,
          6391,
          7798,
          9942,
          11748,
          13910,
          17963,
          20410,
          25374,
          28768,
          35136,
          39885,
          49515,
          57786,
          65719,
          73235,
          80110,
          87956,
          95923,
          104118,
          112065,
          119199,
          126168,
          131646,
          136675,
          141942,
          148220,
          153222,
          158273,
          163027,
          166831,
          170099,
          172541,
          177644,
          184948,
          190839,
          191726,
          198674,
          200210,
          204178,
          208389,
          213024,
          219764,
          223759,
          226629,
          229422,
          232128
         ]
        },
        {
         "hovertemplate": " %{y:.0f}",
         "line": {
          "color": "red"
         },
         "mode": "lines",
         "name": "Deaths",
         "type": "scatter",
         "x": [
          0,
          1,
          2,
          3,
          4,
          5,
          6,
          7,
          8,
          9,
          10,
          11,
          12,
          13,
          14,
          15,
          16,
          17,
          18,
          19,
          20,
          21,
          22,
          23,
          24,
          25,
          26,
          27,
          28,
          29,
          30,
          31,
          32,
          33,
          34,
          35,
          36,
          37,
          38,
          39,
          40,
          41,
          42,
          43,
          44,
          45,
          46,
          47,
          48,
          49,
          50,
          51,
          52,
          53,
          54,
          55,
          56,
          57,
          58,
          59,
          60,
          61,
          62,
          63,
          64,
          65,
          66,
          67,
          68,
          69,
          70,
          71,
          72,
          73,
          74,
          75,
          76,
          77,
          78,
          79,
          80,
          81,
          82,
          83,
          84,
          85,
          86,
          87,
          88,
          89,
          90,
          91,
          92,
          93,
          94,
          95,
          96,
          97
         ],
         "y": [
          0,
          0,
          0,
          0,
          0,
          0,
          0,
          0,
          0,
          0,
          0,
          0,
          0,
          0,
          0,
          0,
          0,
          0,
          0,
          0,
          0,
          0,
          0,
          0,
          0,
          0,
          0,
          0,
          0,
          0,
          0,
          0,
          0,
          0,
          0,
          0,
          0,
          0,
          0,
          0,
          0,
          1,
          2,
          3,
          5,
          10,
          17,
          28,
          35,
          54,
          55,
          133,
          195,
          289,
          342,
          533,
          623,
          830,
          1043,
          1375,
          1772,
          2311,
          2808,
          3647,
          4365,
          5138,
          5982,
          6803,
          7716,
          8464,
          9387,
          10348,
          11198,
          11947,
          12641,
          13341,
          14045,
          14792,
          15447,
          16081,
          16606,
          17209,
          17756,
          18056,
          18708,
          19315,
          20002,
          20043,
          20453,
          20852,
          21282,
          21717,
          22157,
          22524,
          22902,
          23190,
          23521,
          23822
         ]
        },
        {
         "hovertemplate": " %{y:.0f}",
         "line": {
          "color": "green"
         },
         "mode": "lines",
         "name": "Recovered",
         "type": "scatter",
         "x": [
          0,
          1,
          2,
          3,
          4,
          5,
          6,
          7,
          8,
          9,
          10,
          11,
          12,
          13,
          14,
          15,
          16,
          17,
          18,
          19,
          20,
          21,
          22,
          23,
          24,
          25,
          26,
          27,
          28,
          29,
          30,
          31,
          32,
          33,
          34,
          35,
          36,
          37,
          38,
          39,
          40,
          41,
          42,
          43,
          44,
          45,
          46,
          47,
          48,
          49,
          50,
          51,
          52,
          53,
          54,
          55,
          56,
          57,
          58,
          59,
          60,
          61,
          62,
          63,
          64,
          65,
          66,
          67,
          68,
          69,
          70,
          71,
          72,
          73,
          74,
          75,
          76,
          77,
          78,
          79,
          80,
          81,
          82,
          83,
          84,
          85,
          86,
          87,
          88,
          89,
          90,
          91,
          92,
          93,
          94,
          95,
          96,
          97
         ],
         "y": [
          0,
          0,
          0,
          0,
          0,
          0,
          0,
          0,
          0,
          0,
          0,
          0,
          0,
          0,
          0,
          0,
          0,
          0,
          0,
          0,
          0,
          0,
          0,
          0,
          2,
          2,
          2,
          2,
          2,
          2,
          2,
          2,
          2,
          2,
          2,
          2,
          2,
          2,
          2,
          2,
          2,
          2,
          2,
          2,
          2,
          30,
          30,
          32,
          32,
          183,
          183,
          193,
          517,
          517,
          530,
          1028,
          1081,
          1107,
          1588,
          2125,
          2575,
          2575,
          3794,
          5367,
          7015,
          9357,
          12285,
          14709,
          16780,
          19259,
          22647,
          26743,
          30513,
          34219,
          38080,
          40437,
          43208,
          48021,
          52165,
          55668,
          59109,
          62391,
          64727,
          67504,
          70853,
          74797,
          74797,
          74797,
          77357,
          80587,
          82514,
          85915,
          89250,
          92355,
          95708,
          117727,
          120832,
          123903
         ]
        }
       ],
       "layout": {
        "hovermode": "x unified",
        "template": {
         "data": {
          "bar": [
           {
            "error_x": {
             "color": "#2a3f5f"
            },
            "error_y": {
             "color": "#2a3f5f"
            },
            "marker": {
             "line": {
              "color": "#E5ECF6",
              "width": 0.5
             }
            },
            "type": "bar"
           }
          ],
          "barpolar": [
           {
            "marker": {
             "line": {
              "color": "#E5ECF6",
              "width": 0.5
             }
            },
            "type": "barpolar"
           }
          ],
          "carpet": [
           {
            "aaxis": {
             "endlinecolor": "#2a3f5f",
             "gridcolor": "white",
             "linecolor": "white",
             "minorgridcolor": "white",
             "startlinecolor": "#2a3f5f"
            },
            "baxis": {
             "endlinecolor": "#2a3f5f",
             "gridcolor": "white",
             "linecolor": "white",
             "minorgridcolor": "white",
             "startlinecolor": "#2a3f5f"
            },
            "type": "carpet"
           }
          ],
          "choropleth": [
           {
            "colorbar": {
             "outlinewidth": 0,
             "ticks": ""
            },
            "type": "choropleth"
           }
          ],
          "contour": [
           {
            "colorbar": {
             "outlinewidth": 0,
             "ticks": ""
            },
            "colorscale": [
             [
              0,
              "#0d0887"
             ],
             [
              0.1111111111111111,
              "#46039f"
             ],
             [
              0.2222222222222222,
              "#7201a8"
             ],
             [
              0.3333333333333333,
              "#9c179e"
             ],
             [
              0.4444444444444444,
              "#bd3786"
             ],
             [
              0.5555555555555556,
              "#d8576b"
             ],
             [
              0.6666666666666666,
              "#ed7953"
             ],
             [
              0.7777777777777778,
              "#fb9f3a"
             ],
             [
              0.8888888888888888,
              "#fdca26"
             ],
             [
              1,
              "#f0f921"
             ]
            ],
            "type": "contour"
           }
          ],
          "contourcarpet": [
           {
            "colorbar": {
             "outlinewidth": 0,
             "ticks": ""
            },
            "type": "contourcarpet"
           }
          ],
          "heatmap": [
           {
            "colorbar": {
             "outlinewidth": 0,
             "ticks": ""
            },
            "colorscale": [
             [
              0,
              "#0d0887"
             ],
             [
              0.1111111111111111,
              "#46039f"
             ],
             [
              0.2222222222222222,
              "#7201a8"
             ],
             [
              0.3333333333333333,
              "#9c179e"
             ],
             [
              0.4444444444444444,
              "#bd3786"
             ],
             [
              0.5555555555555556,
              "#d8576b"
             ],
             [
              0.6666666666666666,
              "#ed7953"
             ],
             [
              0.7777777777777778,
              "#fb9f3a"
             ],
             [
              0.8888888888888888,
              "#fdca26"
             ],
             [
              1,
              "#f0f921"
             ]
            ],
            "type": "heatmap"
           }
          ],
          "heatmapgl": [
           {
            "colorbar": {
             "outlinewidth": 0,
             "ticks": ""
            },
            "colorscale": [
             [
              0,
              "#0d0887"
             ],
             [
              0.1111111111111111,
              "#46039f"
             ],
             [
              0.2222222222222222,
              "#7201a8"
             ],
             [
              0.3333333333333333,
              "#9c179e"
             ],
             [
              0.4444444444444444,
              "#bd3786"
             ],
             [
              0.5555555555555556,
              "#d8576b"
             ],
             [
              0.6666666666666666,
              "#ed7953"
             ],
             [
              0.7777777777777778,
              "#fb9f3a"
             ],
             [
              0.8888888888888888,
              "#fdca26"
             ],
             [
              1,
              "#f0f921"
             ]
            ],
            "type": "heatmapgl"
           }
          ],
          "histogram": [
           {
            "marker": {
             "colorbar": {
              "outlinewidth": 0,
              "ticks": ""
             }
            },
            "type": "histogram"
           }
          ],
          "histogram2d": [
           {
            "colorbar": {
             "outlinewidth": 0,
             "ticks": ""
            },
            "colorscale": [
             [
              0,
              "#0d0887"
             ],
             [
              0.1111111111111111,
              "#46039f"
             ],
             [
              0.2222222222222222,
              "#7201a8"
             ],
             [
              0.3333333333333333,
              "#9c179e"
             ],
             [
              0.4444444444444444,
              "#bd3786"
             ],
             [
              0.5555555555555556,
              "#d8576b"
             ],
             [
              0.6666666666666666,
              "#ed7953"
             ],
             [
              0.7777777777777778,
              "#fb9f3a"
             ],
             [
              0.8888888888888888,
              "#fdca26"
             ],
             [
              1,
              "#f0f921"
             ]
            ],
            "type": "histogram2d"
           }
          ],
          "histogram2dcontour": [
           {
            "colorbar": {
             "outlinewidth": 0,
             "ticks": ""
            },
            "colorscale": [
             [
              0,
              "#0d0887"
             ],
             [
              0.1111111111111111,
              "#46039f"
             ],
             [
              0.2222222222222222,
              "#7201a8"
             ],
             [
              0.3333333333333333,
              "#9c179e"
             ],
             [
              0.4444444444444444,
              "#bd3786"
             ],
             [
              0.5555555555555556,
              "#d8576b"
             ],
             [
              0.6666666666666666,
              "#ed7953"
             ],
             [
              0.7777777777777778,
              "#fb9f3a"
             ],
             [
              0.8888888888888888,
              "#fdca26"
             ],
             [
              1,
              "#f0f921"
             ]
            ],
            "type": "histogram2dcontour"
           }
          ],
          "mesh3d": [
           {
            "colorbar": {
             "outlinewidth": 0,
             "ticks": ""
            },
            "type": "mesh3d"
           }
          ],
          "parcoords": [
           {
            "line": {
             "colorbar": {
              "outlinewidth": 0,
              "ticks": ""
             }
            },
            "type": "parcoords"
           }
          ],
          "pie": [
           {
            "automargin": true,
            "type": "pie"
           }
          ],
          "scatter": [
           {
            "marker": {
             "colorbar": {
              "outlinewidth": 0,
              "ticks": ""
             }
            },
            "type": "scatter"
           }
          ],
          "scatter3d": [
           {
            "line": {
             "colorbar": {
              "outlinewidth": 0,
              "ticks": ""
             }
            },
            "marker": {
             "colorbar": {
              "outlinewidth": 0,
              "ticks": ""
             }
            },
            "type": "scatter3d"
           }
          ],
          "scattercarpet": [
           {
            "marker": {
             "colorbar": {
              "outlinewidth": 0,
              "ticks": ""
             }
            },
            "type": "scattercarpet"
           }
          ],
          "scattergeo": [
           {
            "marker": {
             "colorbar": {
              "outlinewidth": 0,
              "ticks": ""
             }
            },
            "type": "scattergeo"
           }
          ],
          "scattergl": [
           {
            "marker": {
             "colorbar": {
              "outlinewidth": 0,
              "ticks": ""
             }
            },
            "type": "scattergl"
           }
          ],
          "scattermapbox": [
           {
            "marker": {
             "colorbar": {
              "outlinewidth": 0,
              "ticks": ""
             }
            },
            "type": "scattermapbox"
           }
          ],
          "scatterpolar": [
           {
            "marker": {
             "colorbar": {
              "outlinewidth": 0,
              "ticks": ""
             }
            },
            "type": "scatterpolar"
           }
          ],
          "scatterpolargl": [
           {
            "marker": {
             "colorbar": {
              "outlinewidth": 0,
              "ticks": ""
             }
            },
            "type": "scatterpolargl"
           }
          ],
          "scatterternary": [
           {
            "marker": {
             "colorbar": {
              "outlinewidth": 0,
              "ticks": ""
             }
            },
            "type": "scatterternary"
           }
          ],
          "surface": [
           {
            "colorbar": {
             "outlinewidth": 0,
             "ticks": ""
            },
            "colorscale": [
             [
              0,
              "#0d0887"
             ],
             [
              0.1111111111111111,
              "#46039f"
             ],
             [
              0.2222222222222222,
              "#7201a8"
             ],
             [
              0.3333333333333333,
              "#9c179e"
             ],
             [
              0.4444444444444444,
              "#bd3786"
             ],
             [
              0.5555555555555556,
              "#d8576b"
             ],
             [
              0.6666666666666666,
              "#ed7953"
             ],
             [
              0.7777777777777778,
              "#fb9f3a"
             ],
             [
              0.8888888888888888,
              "#fdca26"
             ],
             [
              1,
              "#f0f921"
             ]
            ],
            "type": "surface"
           }
          ],
          "table": [
           {
            "cells": {
             "fill": {
              "color": "#EBF0F8"
             },
             "line": {
              "color": "white"
             }
            },
            "header": {
             "fill": {
              "color": "#C8D4E3"
             },
             "line": {
              "color": "white"
             }
            },
            "type": "table"
           }
          ]
         },
         "layout": {
          "annotationdefaults": {
           "arrowcolor": "#2a3f5f",
           "arrowhead": 0,
           "arrowwidth": 1
          },
          "coloraxis": {
           "colorbar": {
            "outlinewidth": 0,
            "ticks": ""
           }
          },
          "colorscale": {
           "diverging": [
            [
             0,
             "#8e0152"
            ],
            [
             0.1,
             "#c51b7d"
            ],
            [
             0.2,
             "#de77ae"
            ],
            [
             0.3,
             "#f1b6da"
            ],
            [
             0.4,
             "#fde0ef"
            ],
            [
             0.5,
             "#f7f7f7"
            ],
            [
             0.6,
             "#e6f5d0"
            ],
            [
             0.7,
             "#b8e186"
            ],
            [
             0.8,
             "#7fbc41"
            ],
            [
             0.9,
             "#4d9221"
            ],
            [
             1,
             "#276419"
            ]
           ],
           "sequential": [
            [
             0,
             "#0d0887"
            ],
            [
             0.1111111111111111,
             "#46039f"
            ],
            [
             0.2222222222222222,
             "#7201a8"
            ],
            [
             0.3333333333333333,
             "#9c179e"
            ],
            [
             0.4444444444444444,
             "#bd3786"
            ],
            [
             0.5555555555555556,
             "#d8576b"
            ],
            [
             0.6666666666666666,
             "#ed7953"
            ],
            [
             0.7777777777777778,
             "#fb9f3a"
            ],
            [
             0.8888888888888888,
             "#fdca26"
            ],
            [
             1,
             "#f0f921"
            ]
           ],
           "sequentialminus": [
            [
             0,
             "#0d0887"
            ],
            [
             0.1111111111111111,
             "#46039f"
            ],
            [
             0.2222222222222222,
             "#7201a8"
            ],
            [
             0.3333333333333333,
             "#9c179e"
            ],
            [
             0.4444444444444444,
             "#bd3786"
            ],
            [
             0.5555555555555556,
             "#d8576b"
            ],
            [
             0.6666666666666666,
             "#ed7953"
            ],
            [
             0.7777777777777778,
             "#fb9f3a"
            ],
            [
             0.8888888888888888,
             "#fdca26"
            ],
            [
             1,
             "#f0f921"
            ]
           ]
          },
          "colorway": [
           "#636efa",
           "#EF553B",
           "#00cc96",
           "#ab63fa",
           "#FFA15A",
           "#19d3f3",
           "#FF6692",
           "#B6E880",
           "#FF97FF",
           "#FECB52"
          ],
          "font": {
           "color": "#2a3f5f"
          },
          "geo": {
           "bgcolor": "white",
           "lakecolor": "white",
           "landcolor": "#E5ECF6",
           "showlakes": true,
           "showland": true,
           "subunitcolor": "white"
          },
          "hoverlabel": {
           "align": "left"
          },
          "hovermode": "closest",
          "mapbox": {
           "style": "light"
          },
          "paper_bgcolor": "white",
          "plot_bgcolor": "#E5ECF6",
          "polar": {
           "angularaxis": {
            "gridcolor": "white",
            "linecolor": "white",
            "ticks": ""
           },
           "bgcolor": "#E5ECF6",
           "radialaxis": {
            "gridcolor": "white",
            "linecolor": "white",
            "ticks": ""
           }
          },
          "scene": {
           "xaxis": {
            "backgroundcolor": "#E5ECF6",
            "gridcolor": "white",
            "gridwidth": 2,
            "linecolor": "white",
            "showbackground": true,
            "ticks": "",
            "zerolinecolor": "white"
           },
           "yaxis": {
            "backgroundcolor": "#E5ECF6",
            "gridcolor": "white",
            "gridwidth": 2,
            "linecolor": "white",
            "showbackground": true,
            "ticks": "",
            "zerolinecolor": "white"
           },
           "zaxis": {
            "backgroundcolor": "#E5ECF6",
            "gridcolor": "white",
            "gridwidth": 2,
            "linecolor": "white",
            "showbackground": true,
            "ticks": "",
            "zerolinecolor": "white"
           }
          },
          "shapedefaults": {
           "line": {
            "color": "#2a3f5f"
           }
          },
          "ternary": {
           "aaxis": {
            "gridcolor": "white",
            "linecolor": "white",
            "ticks": ""
           },
           "baxis": {
            "gridcolor": "white",
            "linecolor": "white",
            "ticks": ""
           },
           "bgcolor": "#E5ECF6",
           "caxis": {
            "gridcolor": "white",
            "linecolor": "white",
            "ticks": ""
           }
          },
          "title": {
           "x": 0.05
          },
          "xaxis": {
           "automargin": true,
           "gridcolor": "white",
           "linecolor": "white",
           "ticks": "",
           "title": {
            "standoff": 15
           },
           "zerolinecolor": "white",
           "zerolinewidth": 2
          },
          "yaxis": {
           "automargin": true,
           "gridcolor": "white",
           "linecolor": "white",
           "ticks": "",
           "title": {
            "standoff": 15
           },
           "zerolinecolor": "white",
           "zerolinewidth": 2
          }
         }
        },
        "title": {
         "text": "Spain Combined Stats"
        },
        "xaxis": {
         "title": {
          "text": "Days since 1/22/20"
         }
        },
        "yaxis": {
         "title": {
          "text": "Number of People"
         }
        }
       }
      },
      "text/html": [
       "<div>\n",
       "        \n",
       "        \n",
       "            <div id=\"afd07668-137e-4b6e-927f-b4ae49335b0c\" class=\"plotly-graph-div\" style=\"height:525px; width:100%;\"></div>\n",
       "            <script type=\"text/javascript\">\n",
       "                require([\"plotly\"], function(Plotly) {\n",
       "                    window.PLOTLYENV=window.PLOTLYENV || {};\n",
       "                    \n",
       "                if (document.getElementById(\"afd07668-137e-4b6e-927f-b4ae49335b0c\")) {\n",
       "                    Plotly.newPlot(\n",
       "                        'afd07668-137e-4b6e-927f-b4ae49335b0c',\n",
       "                        [{\"hovertemplate\": \" %{y:.0f}\", \"line\": {\"color\": \"orange\"}, \"mode\": \"lines\", \"name\": \"Cases\", \"type\": \"scatter\", \"x\": [0, 1, 2, 3, 4, 5, 6, 7, 8, 9, 10, 11, 12, 13, 14, 15, 16, 17, 18, 19, 20, 21, 22, 23, 24, 25, 26, 27, 28, 29, 30, 31, 32, 33, 34, 35, 36, 37, 38, 39, 40, 41, 42, 43, 44, 45, 46, 47, 48, 49, 50, 51, 52, 53, 54, 55, 56, 57, 58, 59, 60, 61, 62, 63, 64, 65, 66, 67, 68, 69, 70, 71, 72, 73, 74, 75, 76, 77, 78, 79, 80, 81, 82, 83, 84, 85, 86, 87, 88, 89, 90, 91, 92, 93, 94, 95, 96, 97], \"y\": [0.0, 0.0, 0.0, 0.0, 0.0, 0.0, 0.0, 0.0, 0.0, 0.0, 1.0, 1.0, 1.0, 1.0, 1.0, 1.0, 1.0, 1.0, 2.0, 2.0, 2.0, 2.0, 2.0, 2.0, 2.0, 2.0, 2.0, 2.0, 2.0, 2.0, 2.0, 2.0, 2.0, 2.0, 6.0, 13.0, 15.0, 32.0, 45.0, 84.0, 120.0, 165.0, 222.0, 259.0, 400.0, 500.0, 673.0, 1073.0, 1695.0, 2277.0, 2277.0, 5232.0, 6391.0, 7798.0, 9942.0, 11748.0, 13910.0, 17963.0, 20410.0, 25374.0, 28768.0, 35136.0, 39885.0, 49515.0, 57786.0, 65719.0, 73235.0, 80110.0, 87956.0, 95923.0, 104118.0, 112065.0, 119199.0, 126168.0, 131646.0, 136675.0, 141942.0, 148220.0, 153222.0, 158273.0, 163027.0, 166831.0, 170099.0, 172541.0, 177644.0, 184948.0, 190839.0, 191726.0, 198674.0, 200210.0, 204178.0, 208389.0, 213024.0, 219764.0, 223759.0, 226629.0, 229422.0, 232128.0]}, {\"hovertemplate\": \" %{y:.0f}\", \"line\": {\"color\": \"red\"}, \"mode\": \"lines\", \"name\": \"Deaths\", \"type\": \"scatter\", \"x\": [0, 1, 2, 3, 4, 5, 6, 7, 8, 9, 10, 11, 12, 13, 14, 15, 16, 17, 18, 19, 20, 21, 22, 23, 24, 25, 26, 27, 28, 29, 30, 31, 32, 33, 34, 35, 36, 37, 38, 39, 40, 41, 42, 43, 44, 45, 46, 47, 48, 49, 50, 51, 52, 53, 54, 55, 56, 57, 58, 59, 60, 61, 62, 63, 64, 65, 66, 67, 68, 69, 70, 71, 72, 73, 74, 75, 76, 77, 78, 79, 80, 81, 82, 83, 84, 85, 86, 87, 88, 89, 90, 91, 92, 93, 94, 95, 96, 97], \"y\": [0.0, 0.0, 0.0, 0.0, 0.0, 0.0, 0.0, 0.0, 0.0, 0.0, 0.0, 0.0, 0.0, 0.0, 0.0, 0.0, 0.0, 0.0, 0.0, 0.0, 0.0, 0.0, 0.0, 0.0, 0.0, 0.0, 0.0, 0.0, 0.0, 0.0, 0.0, 0.0, 0.0, 0.0, 0.0, 0.0, 0.0, 0.0, 0.0, 0.0, 0.0, 1.0, 2.0, 3.0, 5.0, 10.0, 17.0, 28.0, 35.0, 54.0, 55.0, 133.0, 195.0, 289.0, 342.0, 533.0, 623.0, 830.0, 1043.0, 1375.0, 1772.0, 2311.0, 2808.0, 3647.0, 4365.0, 5138.0, 5982.0, 6803.0, 7716.0, 8464.0, 9387.0, 10348.0, 11198.0, 11947.0, 12641.0, 13341.0, 14045.0, 14792.0, 15447.0, 16081.0, 16606.0, 17209.0, 17756.0, 18056.0, 18708.0, 19315.0, 20002.0, 20043.0, 20453.0, 20852.0, 21282.0, 21717.0, 22157.0, 22524.0, 22902.0, 23190.0, 23521.0, 23822.0]}, {\"hovertemplate\": \" %{y:.0f}\", \"line\": {\"color\": \"green\"}, \"mode\": \"lines\", \"name\": \"Recovered\", \"type\": \"scatter\", \"x\": [0, 1, 2, 3, 4, 5, 6, 7, 8, 9, 10, 11, 12, 13, 14, 15, 16, 17, 18, 19, 20, 21, 22, 23, 24, 25, 26, 27, 28, 29, 30, 31, 32, 33, 34, 35, 36, 37, 38, 39, 40, 41, 42, 43, 44, 45, 46, 47, 48, 49, 50, 51, 52, 53, 54, 55, 56, 57, 58, 59, 60, 61, 62, 63, 64, 65, 66, 67, 68, 69, 70, 71, 72, 73, 74, 75, 76, 77, 78, 79, 80, 81, 82, 83, 84, 85, 86, 87, 88, 89, 90, 91, 92, 93, 94, 95, 96, 97], \"y\": [0.0, 0.0, 0.0, 0.0, 0.0, 0.0, 0.0, 0.0, 0.0, 0.0, 0.0, 0.0, 0.0, 0.0, 0.0, 0.0, 0.0, 0.0, 0.0, 0.0, 0.0, 0.0, 0.0, 0.0, 2.0, 2.0, 2.0, 2.0, 2.0, 2.0, 2.0, 2.0, 2.0, 2.0, 2.0, 2.0, 2.0, 2.0, 2.0, 2.0, 2.0, 2.0, 2.0, 2.0, 2.0, 30.0, 30.0, 32.0, 32.0, 183.0, 183.0, 193.0, 517.0, 517.0, 530.0, 1028.0, 1081.0, 1107.0, 1588.0, 2125.0, 2575.0, 2575.0, 3794.0, 5367.0, 7015.0, 9357.0, 12285.0, 14709.0, 16780.0, 19259.0, 22647.0, 26743.0, 30513.0, 34219.0, 38080.0, 40437.0, 43208.0, 48021.0, 52165.0, 55668.0, 59109.0, 62391.0, 64727.0, 67504.0, 70853.0, 74797.0, 74797.0, 74797.0, 77357.0, 80587.0, 82514.0, 85915.0, 89250.0, 92355.0, 95708.0, 117727.0, 120832.0, 123903.0]}],\n",
       "                        {\"hovermode\": \"x unified\", \"template\": {\"data\": {\"bar\": [{\"error_x\": {\"color\": \"#2a3f5f\"}, \"error_y\": {\"color\": \"#2a3f5f\"}, \"marker\": {\"line\": {\"color\": \"#E5ECF6\", \"width\": 0.5}}, \"type\": \"bar\"}], \"barpolar\": [{\"marker\": {\"line\": {\"color\": \"#E5ECF6\", \"width\": 0.5}}, \"type\": \"barpolar\"}], \"carpet\": [{\"aaxis\": {\"endlinecolor\": \"#2a3f5f\", \"gridcolor\": \"white\", \"linecolor\": \"white\", \"minorgridcolor\": \"white\", \"startlinecolor\": \"#2a3f5f\"}, \"baxis\": {\"endlinecolor\": \"#2a3f5f\", \"gridcolor\": \"white\", \"linecolor\": \"white\", \"minorgridcolor\": \"white\", \"startlinecolor\": \"#2a3f5f\"}, \"type\": \"carpet\"}], \"choropleth\": [{\"colorbar\": {\"outlinewidth\": 0, \"ticks\": \"\"}, \"type\": \"choropleth\"}], \"contour\": [{\"colorbar\": {\"outlinewidth\": 0, \"ticks\": \"\"}, \"colorscale\": [[0.0, \"#0d0887\"], [0.1111111111111111, \"#46039f\"], [0.2222222222222222, \"#7201a8\"], [0.3333333333333333, \"#9c179e\"], [0.4444444444444444, \"#bd3786\"], [0.5555555555555556, \"#d8576b\"], [0.6666666666666666, \"#ed7953\"], [0.7777777777777778, \"#fb9f3a\"], [0.8888888888888888, \"#fdca26\"], [1.0, \"#f0f921\"]], \"type\": \"contour\"}], \"contourcarpet\": [{\"colorbar\": {\"outlinewidth\": 0, \"ticks\": \"\"}, \"type\": \"contourcarpet\"}], \"heatmap\": [{\"colorbar\": {\"outlinewidth\": 0, \"ticks\": \"\"}, \"colorscale\": [[0.0, \"#0d0887\"], [0.1111111111111111, \"#46039f\"], [0.2222222222222222, \"#7201a8\"], [0.3333333333333333, \"#9c179e\"], [0.4444444444444444, \"#bd3786\"], [0.5555555555555556, \"#d8576b\"], [0.6666666666666666, \"#ed7953\"], [0.7777777777777778, \"#fb9f3a\"], [0.8888888888888888, \"#fdca26\"], [1.0, \"#f0f921\"]], \"type\": \"heatmap\"}], \"heatmapgl\": [{\"colorbar\": {\"outlinewidth\": 0, \"ticks\": \"\"}, \"colorscale\": [[0.0, \"#0d0887\"], [0.1111111111111111, \"#46039f\"], [0.2222222222222222, \"#7201a8\"], [0.3333333333333333, \"#9c179e\"], [0.4444444444444444, \"#bd3786\"], [0.5555555555555556, \"#d8576b\"], [0.6666666666666666, \"#ed7953\"], [0.7777777777777778, \"#fb9f3a\"], [0.8888888888888888, \"#fdca26\"], [1.0, \"#f0f921\"]], \"type\": \"heatmapgl\"}], \"histogram\": [{\"marker\": {\"colorbar\": {\"outlinewidth\": 0, \"ticks\": \"\"}}, \"type\": \"histogram\"}], \"histogram2d\": [{\"colorbar\": {\"outlinewidth\": 0, \"ticks\": \"\"}, \"colorscale\": [[0.0, \"#0d0887\"], [0.1111111111111111, \"#46039f\"], [0.2222222222222222, \"#7201a8\"], [0.3333333333333333, \"#9c179e\"], [0.4444444444444444, \"#bd3786\"], [0.5555555555555556, \"#d8576b\"], [0.6666666666666666, \"#ed7953\"], [0.7777777777777778, \"#fb9f3a\"], [0.8888888888888888, \"#fdca26\"], [1.0, \"#f0f921\"]], \"type\": \"histogram2d\"}], \"histogram2dcontour\": [{\"colorbar\": {\"outlinewidth\": 0, \"ticks\": \"\"}, \"colorscale\": [[0.0, \"#0d0887\"], [0.1111111111111111, \"#46039f\"], [0.2222222222222222, \"#7201a8\"], [0.3333333333333333, \"#9c179e\"], [0.4444444444444444, \"#bd3786\"], [0.5555555555555556, \"#d8576b\"], [0.6666666666666666, \"#ed7953\"], [0.7777777777777778, \"#fb9f3a\"], [0.8888888888888888, \"#fdca26\"], [1.0, \"#f0f921\"]], \"type\": \"histogram2dcontour\"}], \"mesh3d\": [{\"colorbar\": {\"outlinewidth\": 0, \"ticks\": \"\"}, \"type\": \"mesh3d\"}], \"parcoords\": [{\"line\": {\"colorbar\": {\"outlinewidth\": 0, \"ticks\": \"\"}}, \"type\": \"parcoords\"}], \"pie\": [{\"automargin\": true, \"type\": \"pie\"}], \"scatter\": [{\"marker\": {\"colorbar\": {\"outlinewidth\": 0, \"ticks\": \"\"}}, \"type\": \"scatter\"}], \"scatter3d\": [{\"line\": {\"colorbar\": {\"outlinewidth\": 0, \"ticks\": \"\"}}, \"marker\": {\"colorbar\": {\"outlinewidth\": 0, \"ticks\": \"\"}}, \"type\": \"scatter3d\"}], \"scattercarpet\": [{\"marker\": {\"colorbar\": {\"outlinewidth\": 0, \"ticks\": \"\"}}, \"type\": \"scattercarpet\"}], \"scattergeo\": [{\"marker\": {\"colorbar\": {\"outlinewidth\": 0, \"ticks\": \"\"}}, \"type\": \"scattergeo\"}], \"scattergl\": [{\"marker\": {\"colorbar\": {\"outlinewidth\": 0, \"ticks\": \"\"}}, \"type\": \"scattergl\"}], \"scattermapbox\": [{\"marker\": {\"colorbar\": {\"outlinewidth\": 0, \"ticks\": \"\"}}, \"type\": \"scattermapbox\"}], \"scatterpolar\": [{\"marker\": {\"colorbar\": {\"outlinewidth\": 0, \"ticks\": \"\"}}, \"type\": \"scatterpolar\"}], \"scatterpolargl\": [{\"marker\": {\"colorbar\": {\"outlinewidth\": 0, \"ticks\": \"\"}}, \"type\": \"scatterpolargl\"}], \"scatterternary\": [{\"marker\": {\"colorbar\": {\"outlinewidth\": 0, \"ticks\": \"\"}}, \"type\": \"scatterternary\"}], \"surface\": [{\"colorbar\": {\"outlinewidth\": 0, \"ticks\": \"\"}, \"colorscale\": [[0.0, \"#0d0887\"], [0.1111111111111111, \"#46039f\"], [0.2222222222222222, \"#7201a8\"], [0.3333333333333333, \"#9c179e\"], [0.4444444444444444, \"#bd3786\"], [0.5555555555555556, \"#d8576b\"], [0.6666666666666666, \"#ed7953\"], [0.7777777777777778, \"#fb9f3a\"], [0.8888888888888888, \"#fdca26\"], [1.0, \"#f0f921\"]], \"type\": \"surface\"}], \"table\": [{\"cells\": {\"fill\": {\"color\": \"#EBF0F8\"}, \"line\": {\"color\": \"white\"}}, \"header\": {\"fill\": {\"color\": \"#C8D4E3\"}, \"line\": {\"color\": \"white\"}}, \"type\": \"table\"}]}, \"layout\": {\"annotationdefaults\": {\"arrowcolor\": \"#2a3f5f\", \"arrowhead\": 0, \"arrowwidth\": 1}, \"coloraxis\": {\"colorbar\": {\"outlinewidth\": 0, \"ticks\": \"\"}}, \"colorscale\": {\"diverging\": [[0, \"#8e0152\"], [0.1, \"#c51b7d\"], [0.2, \"#de77ae\"], [0.3, \"#f1b6da\"], [0.4, \"#fde0ef\"], [0.5, \"#f7f7f7\"], [0.6, \"#e6f5d0\"], [0.7, \"#b8e186\"], [0.8, \"#7fbc41\"], [0.9, \"#4d9221\"], [1, \"#276419\"]], \"sequential\": [[0.0, \"#0d0887\"], [0.1111111111111111, \"#46039f\"], [0.2222222222222222, \"#7201a8\"], [0.3333333333333333, \"#9c179e\"], [0.4444444444444444, \"#bd3786\"], [0.5555555555555556, \"#d8576b\"], [0.6666666666666666, \"#ed7953\"], [0.7777777777777778, \"#fb9f3a\"], [0.8888888888888888, \"#fdca26\"], [1.0, \"#f0f921\"]], \"sequentialminus\": [[0.0, \"#0d0887\"], [0.1111111111111111, \"#46039f\"], [0.2222222222222222, \"#7201a8\"], [0.3333333333333333, \"#9c179e\"], [0.4444444444444444, \"#bd3786\"], [0.5555555555555556, \"#d8576b\"], [0.6666666666666666, \"#ed7953\"], [0.7777777777777778, \"#fb9f3a\"], [0.8888888888888888, \"#fdca26\"], [1.0, \"#f0f921\"]]}, \"colorway\": [\"#636efa\", \"#EF553B\", \"#00cc96\", \"#ab63fa\", \"#FFA15A\", \"#19d3f3\", \"#FF6692\", \"#B6E880\", \"#FF97FF\", \"#FECB52\"], \"font\": {\"color\": \"#2a3f5f\"}, \"geo\": {\"bgcolor\": \"white\", \"lakecolor\": \"white\", \"landcolor\": \"#E5ECF6\", \"showlakes\": true, \"showland\": true, \"subunitcolor\": \"white\"}, \"hoverlabel\": {\"align\": \"left\"}, \"hovermode\": \"closest\", \"mapbox\": {\"style\": \"light\"}, \"paper_bgcolor\": \"white\", \"plot_bgcolor\": \"#E5ECF6\", \"polar\": {\"angularaxis\": {\"gridcolor\": \"white\", \"linecolor\": \"white\", \"ticks\": \"\"}, \"bgcolor\": \"#E5ECF6\", \"radialaxis\": {\"gridcolor\": \"white\", \"linecolor\": \"white\", \"ticks\": \"\"}}, \"scene\": {\"xaxis\": {\"backgroundcolor\": \"#E5ECF6\", \"gridcolor\": \"white\", \"gridwidth\": 2, \"linecolor\": \"white\", \"showbackground\": true, \"ticks\": \"\", \"zerolinecolor\": \"white\"}, \"yaxis\": {\"backgroundcolor\": \"#E5ECF6\", \"gridcolor\": \"white\", \"gridwidth\": 2, \"linecolor\": \"white\", \"showbackground\": true, \"ticks\": \"\", \"zerolinecolor\": \"white\"}, \"zaxis\": {\"backgroundcolor\": \"#E5ECF6\", \"gridcolor\": \"white\", \"gridwidth\": 2, \"linecolor\": \"white\", \"showbackground\": true, \"ticks\": \"\", \"zerolinecolor\": \"white\"}}, \"shapedefaults\": {\"line\": {\"color\": \"#2a3f5f\"}}, \"ternary\": {\"aaxis\": {\"gridcolor\": \"white\", \"linecolor\": \"white\", \"ticks\": \"\"}, \"baxis\": {\"gridcolor\": \"white\", \"linecolor\": \"white\", \"ticks\": \"\"}, \"bgcolor\": \"#E5ECF6\", \"caxis\": {\"gridcolor\": \"white\", \"linecolor\": \"white\", \"ticks\": \"\"}}, \"title\": {\"x\": 0.05}, \"xaxis\": {\"automargin\": true, \"gridcolor\": \"white\", \"linecolor\": \"white\", \"ticks\": \"\", \"title\": {\"standoff\": 15}, \"zerolinecolor\": \"white\", \"zerolinewidth\": 2}, \"yaxis\": {\"automargin\": true, \"gridcolor\": \"white\", \"linecolor\": \"white\", \"ticks\": \"\", \"title\": {\"standoff\": 15}, \"zerolinecolor\": \"white\", \"zerolinewidth\": 2}}}, \"title\": {\"text\": \"Spain Combined Stats\"}, \"xaxis\": {\"title\": {\"text\": \"Days since 1/22/20\"}}, \"yaxis\": {\"title\": {\"text\": \"Number of People\"}}},\n",
       "                        {\"responsive\": true}\n",
       "                    ).then(function(){\n",
       "                            \n",
       "var gd = document.getElementById('afd07668-137e-4b6e-927f-b4ae49335b0c');\n",
       "var x = new MutationObserver(function (mutations, observer) {{\n",
       "        var display = window.getComputedStyle(gd).display;\n",
       "        if (!display || display === 'none') {{\n",
       "            console.log([gd, 'removed!']);\n",
       "            Plotly.purge(gd);\n",
       "            observer.disconnect();\n",
       "        }}\n",
       "}});\n",
       "\n",
       "// Listen for the removal of the full notebook cells\n",
       "var notebookContainer = gd.closest('#notebook-container');\n",
       "if (notebookContainer) {{\n",
       "    x.observe(notebookContainer, {childList: true});\n",
       "}}\n",
       "\n",
       "// Listen for the clearing of the current output cell\n",
       "var outputEl = gd.closest('.output');\n",
       "if (outputEl) {{\n",
       "    x.observe(outputEl, {childList: true});\n",
       "}}\n",
       "\n",
       "                        })\n",
       "                };\n",
       "                });\n",
       "            </script>\n",
       "        </div>"
      ]
     },
     "metadata": {},
     "output_type": "display_data"
    }
   ],
   "source": [
    "spn_gd = Graph(\"Spain\", spain_cases, spain_deaths, spain_recovered, \"\")\n",
    "spn_fig = (\n",
    "    go.Figure(layout=spn_gd.glayout())\n",
    "    .add_trace(spn_gd.c_trace())\n",
    "    .add_trace(spn_gd.d_trace())\n",
    "    .add_trace(spn_gd.r_trace())\n",
    ")\n",
    "\n",
    "ply.offline.iplot(spn_fig)"
   ]
  },
  {
   "cell_type": "code",
   "execution_count": 52,
   "metadata": {},
   "outputs": [
    {
     "data": {
      "application/vnd.plotly.v1+json": {
       "config": {
        "linkText": "Export to plot.ly",
        "plotlyServerURL": "https://plot.ly",
        "showLink": false
       },
       "data": [
        {
         "hovertemplate": " %{y:.0f}",
         "line": {
          "color": "orange"
         },
         "mode": "lines",
         "name": "Cases",
         "type": "scatter",
         "x": [
          0,
          1,
          2,
          3,
          4,
          5,
          6,
          7,
          8,
          9,
          10,
          11,
          12,
          13,
          14,
          15,
          16,
          17,
          18,
          19,
          20,
          21,
          22,
          23,
          24,
          25,
          26,
          27,
          28,
          29,
          30,
          31,
          32,
          33,
          34,
          35,
          36,
          37,
          38,
          39,
          40,
          41,
          42,
          43,
          44,
          45,
          46,
          47,
          48,
          49,
          50,
          51,
          52,
          53,
          54,
          55,
          56,
          57,
          58,
          59,
          60,
          61,
          62,
          63,
          64,
          65,
          66,
          67,
          68,
          69,
          70,
          71,
          72,
          73,
          74,
          75,
          76,
          77,
          78,
          79,
          80,
          81,
          82,
          83,
          84,
          85,
          86,
          87,
          88,
          89,
          90,
          91,
          92,
          93,
          94,
          95,
          96,
          97
         ],
         "y": [
          0,
          0,
          0,
          0,
          0,
          0,
          0,
          0,
          0,
          0,
          0,
          0,
          0,
          0,
          0,
          0,
          0,
          0,
          0,
          0,
          0,
          0,
          0,
          0,
          0,
          0,
          0,
          0,
          0,
          0,
          0,
          0,
          0,
          0,
          0,
          0,
          0,
          0,
          0,
          0,
          0,
          0,
          1,
          1,
          5,
          5,
          11,
          16,
          22,
          31,
          49,
          68,
          103,
          119,
          177,
          238,
          251,
          355,
          425,
          536,
          634,
          749,
          901,
          1051,
          1221,
          1389,
          1638,
          1862,
          2055,
          2311,
          2554,
          2946,
          3383,
          3627,
          4102,
          4413,
          4848,
          5205,
          5575,
          5955,
          6356,
          6674,
          6934,
          7202,
          7582,
          7918,
          8379,
          8742,
          9287,
          9593,
          9856,
          10169,
          10511,
          10892,
          11273,
          11617,
          11902,
          12218
         ]
        },
        {
         "hovertemplate": " %{y:.0f}",
         "line": {
          "color": "red"
         },
         "mode": "lines",
         "name": "Deaths",
         "type": "scatter",
         "x": [
          0,
          1,
          2,
          3,
          4,
          5,
          6,
          7,
          8,
          9,
          10,
          11,
          12,
          13,
          14,
          15,
          16,
          17,
          18,
          19,
          20,
          21,
          22,
          23,
          24,
          25,
          26,
          27,
          28,
          29,
          30,
          31,
          32,
          33,
          34,
          35,
          36,
          37,
          38,
          39,
          40,
          41,
          42,
          43,
          44,
          45,
          46,
          47,
          48,
          49,
          50,
          51,
          52,
          53,
          54,
          55,
          56,
          57,
          58,
          59,
          60,
          61,
          62,
          63,
          64,
          65,
          66,
          67,
          68,
          69,
          70,
          71,
          72,
          73,
          74,
          75,
          76,
          77,
          78,
          79,
          80,
          81,
          82,
          83,
          84,
          85,
          86,
          87,
          88,
          89,
          90,
          91,
          92,
          93,
          94,
          95,
          96,
          97
         ],
         "y": [
          0,
          0,
          0,
          0,
          0,
          0,
          0,
          0,
          0,
          0,
          0,
          0,
          0,
          0,
          0,
          0,
          0,
          0,
          0,
          0,
          0,
          0,
          0,
          0,
          0,
          0,
          0,
          0,
          0,
          0,
          0,
          0,
          0,
          0,
          0,
          0,
          0,
          0,
          0,
          0,
          0,
          0,
          0,
          0,
          0,
          0,
          0,
          0,
          0,
          0,
          1,
          2,
          3,
          3,
          4,
          5,
          5,
          5,
          5,
          5,
          7,
          8,
          10,
          14,
          16,
          16,
          18,
          22,
          31,
          33,
          43,
          57,
          71,
          79,
          94,
          107,
          129,
          159,
          174,
          181,
          208,
          232,
          245,
          263,
          286,
          314,
          332,
          347,
          360,
          380,
          401,
          426,
          454,
          494,
          524,
          535,
          562,
          596
         ]
        },
        {
         "hovertemplate": " %{y:.0f}",
         "line": {
          "color": "green"
         },
         "mode": "lines",
         "name": "Recovered",
         "type": "scatter",
         "x": [
          0,
          1,
          2,
          3,
          4,
          5,
          6,
          7,
          8,
          9,
          10,
          11,
          12,
          13,
          14,
          15,
          16,
          17,
          18,
          19,
          20,
          21,
          22,
          23,
          24,
          25,
          26,
          27,
          28,
          29,
          30,
          31,
          32,
          33,
          34,
          35,
          36,
          37,
          38,
          39,
          40,
          41,
          42,
          43,
          44,
          45,
          46,
          47,
          48,
          49,
          50,
          51,
          52,
          53,
          54,
          55,
          56,
          57,
          58,
          59,
          60,
          61,
          62,
          63,
          64,
          65,
          66,
          67,
          68,
          69,
          70,
          71,
          72,
          73,
          74,
          75,
          76,
          77,
          78,
          79,
          80,
          81,
          82,
          83,
          84,
          85,
          86,
          87,
          88,
          89,
          90,
          91,
          92,
          93,
          94,
          95,
          96,
          97
         ],
         "y": [
          0,
          0,
          0,
          0,
          0,
          0,
          0,
          0,
          0,
          0,
          0,
          0,
          0,
          0,
          0,
          0,
          0,
          0,
          0,
          0,
          0,
          0,
          0,
          0,
          0,
          0,
          0,
          0,
          0,
          0,
          0,
          0,
          0,
          0,
          0,
          0,
          0,
          0,
          0,
          0,
          0,
          0,
          0,
          0,
          0,
          0,
          0,
          0,
          0,
          0,
          0,
          0,
          0,
          0,
          13,
          13,
          13,
          1,
          1,
          1,
          1,
          1,
          1,
          7,
          7,
          7,
          7,
          7,
          7,
          7,
          47,
          56,
          56,
          116,
          134,
          162,
          191,
          222,
          284,
          318,
          375,
          439,
          487,
          618,
          668,
          774,
          866,
          981,
          1040,
          1133,
          1297,
          1513,
          1740,
          1944,
          2126,
          2265,
          2466,
          2655
         ]
        }
       ],
       "layout": {
        "hovermode": "x unified",
        "template": {
         "data": {
          "bar": [
           {
            "error_x": {
             "color": "#2a3f5f"
            },
            "error_y": {
             "color": "#2a3f5f"
            },
            "marker": {
             "line": {
              "color": "#E5ECF6",
              "width": 0.5
             }
            },
            "type": "bar"
           }
          ],
          "barpolar": [
           {
            "marker": {
             "line": {
              "color": "#E5ECF6",
              "width": 0.5
             }
            },
            "type": "barpolar"
           }
          ],
          "carpet": [
           {
            "aaxis": {
             "endlinecolor": "#2a3f5f",
             "gridcolor": "white",
             "linecolor": "white",
             "minorgridcolor": "white",
             "startlinecolor": "#2a3f5f"
            },
            "baxis": {
             "endlinecolor": "#2a3f5f",
             "gridcolor": "white",
             "linecolor": "white",
             "minorgridcolor": "white",
             "startlinecolor": "#2a3f5f"
            },
            "type": "carpet"
           }
          ],
          "choropleth": [
           {
            "colorbar": {
             "outlinewidth": 0,
             "ticks": ""
            },
            "type": "choropleth"
           }
          ],
          "contour": [
           {
            "colorbar": {
             "outlinewidth": 0,
             "ticks": ""
            },
            "colorscale": [
             [
              0,
              "#0d0887"
             ],
             [
              0.1111111111111111,
              "#46039f"
             ],
             [
              0.2222222222222222,
              "#7201a8"
             ],
             [
              0.3333333333333333,
              "#9c179e"
             ],
             [
              0.4444444444444444,
              "#bd3786"
             ],
             [
              0.5555555555555556,
              "#d8576b"
             ],
             [
              0.6666666666666666,
              "#ed7953"
             ],
             [
              0.7777777777777778,
              "#fb9f3a"
             ],
             [
              0.8888888888888888,
              "#fdca26"
             ],
             [
              1,
              "#f0f921"
             ]
            ],
            "type": "contour"
           }
          ],
          "contourcarpet": [
           {
            "colorbar": {
             "outlinewidth": 0,
             "ticks": ""
            },
            "type": "contourcarpet"
           }
          ],
          "heatmap": [
           {
            "colorbar": {
             "outlinewidth": 0,
             "ticks": ""
            },
            "colorscale": [
             [
              0,
              "#0d0887"
             ],
             [
              0.1111111111111111,
              "#46039f"
             ],
             [
              0.2222222222222222,
              "#7201a8"
             ],
             [
              0.3333333333333333,
              "#9c179e"
             ],
             [
              0.4444444444444444,
              "#bd3786"
             ],
             [
              0.5555555555555556,
              "#d8576b"
             ],
             [
              0.6666666666666666,
              "#ed7953"
             ],
             [
              0.7777777777777778,
              "#fb9f3a"
             ],
             [
              0.8888888888888888,
              "#fdca26"
             ],
             [
              1,
              "#f0f921"
             ]
            ],
            "type": "heatmap"
           }
          ],
          "heatmapgl": [
           {
            "colorbar": {
             "outlinewidth": 0,
             "ticks": ""
            },
            "colorscale": [
             [
              0,
              "#0d0887"
             ],
             [
              0.1111111111111111,
              "#46039f"
             ],
             [
              0.2222222222222222,
              "#7201a8"
             ],
             [
              0.3333333333333333,
              "#9c179e"
             ],
             [
              0.4444444444444444,
              "#bd3786"
             ],
             [
              0.5555555555555556,
              "#d8576b"
             ],
             [
              0.6666666666666666,
              "#ed7953"
             ],
             [
              0.7777777777777778,
              "#fb9f3a"
             ],
             [
              0.8888888888888888,
              "#fdca26"
             ],
             [
              1,
              "#f0f921"
             ]
            ],
            "type": "heatmapgl"
           }
          ],
          "histogram": [
           {
            "marker": {
             "colorbar": {
              "outlinewidth": 0,
              "ticks": ""
             }
            },
            "type": "histogram"
           }
          ],
          "histogram2d": [
           {
            "colorbar": {
             "outlinewidth": 0,
             "ticks": ""
            },
            "colorscale": [
             [
              0,
              "#0d0887"
             ],
             [
              0.1111111111111111,
              "#46039f"
             ],
             [
              0.2222222222222222,
              "#7201a8"
             ],
             [
              0.3333333333333333,
              "#9c179e"
             ],
             [
              0.4444444444444444,
              "#bd3786"
             ],
             [
              0.5555555555555556,
              "#d8576b"
             ],
             [
              0.6666666666666666,
              "#ed7953"
             ],
             [
              0.7777777777777778,
              "#fb9f3a"
             ],
             [
              0.8888888888888888,
              "#fdca26"
             ],
             [
              1,
              "#f0f921"
             ]
            ],
            "type": "histogram2d"
           }
          ],
          "histogram2dcontour": [
           {
            "colorbar": {
             "outlinewidth": 0,
             "ticks": ""
            },
            "colorscale": [
             [
              0,
              "#0d0887"
             ],
             [
              0.1111111111111111,
              "#46039f"
             ],
             [
              0.2222222222222222,
              "#7201a8"
             ],
             [
              0.3333333333333333,
              "#9c179e"
             ],
             [
              0.4444444444444444,
              "#bd3786"
             ],
             [
              0.5555555555555556,
              "#d8576b"
             ],
             [
              0.6666666666666666,
              "#ed7953"
             ],
             [
              0.7777777777777778,
              "#fb9f3a"
             ],
             [
              0.8888888888888888,
              "#fdca26"
             ],
             [
              1,
              "#f0f921"
             ]
            ],
            "type": "histogram2dcontour"
           }
          ],
          "mesh3d": [
           {
            "colorbar": {
             "outlinewidth": 0,
             "ticks": ""
            },
            "type": "mesh3d"
           }
          ],
          "parcoords": [
           {
            "line": {
             "colorbar": {
              "outlinewidth": 0,
              "ticks": ""
             }
            },
            "type": "parcoords"
           }
          ],
          "pie": [
           {
            "automargin": true,
            "type": "pie"
           }
          ],
          "scatter": [
           {
            "marker": {
             "colorbar": {
              "outlinewidth": 0,
              "ticks": ""
             }
            },
            "type": "scatter"
           }
          ],
          "scatter3d": [
           {
            "line": {
             "colorbar": {
              "outlinewidth": 0,
              "ticks": ""
             }
            },
            "marker": {
             "colorbar": {
              "outlinewidth": 0,
              "ticks": ""
             }
            },
            "type": "scatter3d"
           }
          ],
          "scattercarpet": [
           {
            "marker": {
             "colorbar": {
              "outlinewidth": 0,
              "ticks": ""
             }
            },
            "type": "scattercarpet"
           }
          ],
          "scattergeo": [
           {
            "marker": {
             "colorbar": {
              "outlinewidth": 0,
              "ticks": ""
             }
            },
            "type": "scattergeo"
           }
          ],
          "scattergl": [
           {
            "marker": {
             "colorbar": {
              "outlinewidth": 0,
              "ticks": ""
             }
            },
            "type": "scattergl"
           }
          ],
          "scattermapbox": [
           {
            "marker": {
             "colorbar": {
              "outlinewidth": 0,
              "ticks": ""
             }
            },
            "type": "scattermapbox"
           }
          ],
          "scatterpolar": [
           {
            "marker": {
             "colorbar": {
              "outlinewidth": 0,
              "ticks": ""
             }
            },
            "type": "scatterpolar"
           }
          ],
          "scatterpolargl": [
           {
            "marker": {
             "colorbar": {
              "outlinewidth": 0,
              "ticks": ""
             }
            },
            "type": "scatterpolargl"
           }
          ],
          "scatterternary": [
           {
            "marker": {
             "colorbar": {
              "outlinewidth": 0,
              "ticks": ""
             }
            },
            "type": "scatterternary"
           }
          ],
          "surface": [
           {
            "colorbar": {
             "outlinewidth": 0,
             "ticks": ""
            },
            "colorscale": [
             [
              0,
              "#0d0887"
             ],
             [
              0.1111111111111111,
              "#46039f"
             ],
             [
              0.2222222222222222,
              "#7201a8"
             ],
             [
              0.3333333333333333,
              "#9c179e"
             ],
             [
              0.4444444444444444,
              "#bd3786"
             ],
             [
              0.5555555555555556,
              "#d8576b"
             ],
             [
              0.6666666666666666,
              "#ed7953"
             ],
             [
              0.7777777777777778,
              "#fb9f3a"
             ],
             [
              0.8888888888888888,
              "#fdca26"
             ],
             [
              1,
              "#f0f921"
             ]
            ],
            "type": "surface"
           }
          ],
          "table": [
           {
            "cells": {
             "fill": {
              "color": "#EBF0F8"
             },
             "line": {
              "color": "white"
             }
            },
            "header": {
             "fill": {
              "color": "#C8D4E3"
             },
             "line": {
              "color": "white"
             }
            },
            "type": "table"
           }
          ]
         },
         "layout": {
          "annotationdefaults": {
           "arrowcolor": "#2a3f5f",
           "arrowhead": 0,
           "arrowwidth": 1
          },
          "coloraxis": {
           "colorbar": {
            "outlinewidth": 0,
            "ticks": ""
           }
          },
          "colorscale": {
           "diverging": [
            [
             0,
             "#8e0152"
            ],
            [
             0.1,
             "#c51b7d"
            ],
            [
             0.2,
             "#de77ae"
            ],
            [
             0.3,
             "#f1b6da"
            ],
            [
             0.4,
             "#fde0ef"
            ],
            [
             0.5,
             "#f7f7f7"
            ],
            [
             0.6,
             "#e6f5d0"
            ],
            [
             0.7,
             "#b8e186"
            ],
            [
             0.8,
             "#7fbc41"
            ],
            [
             0.9,
             "#4d9221"
            ],
            [
             1,
             "#276419"
            ]
           ],
           "sequential": [
            [
             0,
             "#0d0887"
            ],
            [
             0.1111111111111111,
             "#46039f"
            ],
            [
             0.2222222222222222,
             "#7201a8"
            ],
            [
             0.3333333333333333,
             "#9c179e"
            ],
            [
             0.4444444444444444,
             "#bd3786"
            ],
            [
             0.5555555555555556,
             "#d8576b"
            ],
            [
             0.6666666666666666,
             "#ed7953"
            ],
            [
             0.7777777777777778,
             "#fb9f3a"
            ],
            [
             0.8888888888888888,
             "#fdca26"
            ],
            [
             1,
             "#f0f921"
            ]
           ],
           "sequentialminus": [
            [
             0,
             "#0d0887"
            ],
            [
             0.1111111111111111,
             "#46039f"
            ],
            [
             0.2222222222222222,
             "#7201a8"
            ],
            [
             0.3333333333333333,
             "#9c179e"
            ],
            [
             0.4444444444444444,
             "#bd3786"
            ],
            [
             0.5555555555555556,
             "#d8576b"
            ],
            [
             0.6666666666666666,
             "#ed7953"
            ],
            [
             0.7777777777777778,
             "#fb9f3a"
            ],
            [
             0.8888888888888888,
             "#fdca26"
            ],
            [
             1,
             "#f0f921"
            ]
           ]
          },
          "colorway": [
           "#636efa",
           "#EF553B",
           "#00cc96",
           "#ab63fa",
           "#FFA15A",
           "#19d3f3",
           "#FF6692",
           "#B6E880",
           "#FF97FF",
           "#FECB52"
          ],
          "font": {
           "color": "#2a3f5f"
          },
          "geo": {
           "bgcolor": "white",
           "lakecolor": "white",
           "landcolor": "#E5ECF6",
           "showlakes": true,
           "showland": true,
           "subunitcolor": "white"
          },
          "hoverlabel": {
           "align": "left"
          },
          "hovermode": "closest",
          "mapbox": {
           "style": "light"
          },
          "paper_bgcolor": "white",
          "plot_bgcolor": "#E5ECF6",
          "polar": {
           "angularaxis": {
            "gridcolor": "white",
            "linecolor": "white",
            "ticks": ""
           },
           "bgcolor": "#E5ECF6",
           "radialaxis": {
            "gridcolor": "white",
            "linecolor": "white",
            "ticks": ""
           }
          },
          "scene": {
           "xaxis": {
            "backgroundcolor": "#E5ECF6",
            "gridcolor": "white",
            "gridwidth": 2,
            "linecolor": "white",
            "showbackground": true,
            "ticks": "",
            "zerolinecolor": "white"
           },
           "yaxis": {
            "backgroundcolor": "#E5ECF6",
            "gridcolor": "white",
            "gridwidth": 2,
            "linecolor": "white",
            "showbackground": true,
            "ticks": "",
            "zerolinecolor": "white"
           },
           "zaxis": {
            "backgroundcolor": "#E5ECF6",
            "gridcolor": "white",
            "gridwidth": 2,
            "linecolor": "white",
            "showbackground": true,
            "ticks": "",
            "zerolinecolor": "white"
           }
          },
          "shapedefaults": {
           "line": {
            "color": "#2a3f5f"
           }
          },
          "ternary": {
           "aaxis": {
            "gridcolor": "white",
            "linecolor": "white",
            "ticks": ""
           },
           "baxis": {
            "gridcolor": "white",
            "linecolor": "white",
            "ticks": ""
           },
           "bgcolor": "#E5ECF6",
           "caxis": {
            "gridcolor": "white",
            "linecolor": "white",
            "ticks": ""
           }
          },
          "title": {
           "x": 0.05
          },
          "xaxis": {
           "automargin": true,
           "gridcolor": "white",
           "linecolor": "white",
           "ticks": "",
           "title": {
            "standoff": 15
           },
           "zerolinecolor": "white",
           "zerolinewidth": 2
          },
          "yaxis": {
           "automargin": true,
           "gridcolor": "white",
           "linecolor": "white",
           "ticks": "",
           "title": {
            "standoff": 15
           },
           "zerolinecolor": "white",
           "zerolinewidth": 2
          }
         }
        },
        "title": {
         "text": "Poland Combined Stats"
        },
        "xaxis": {
         "title": {
          "text": "Days since 1/22/20"
         }
        },
        "yaxis": {
         "title": {
          "text": "Number of People"
         }
        }
       }
      },
      "text/html": [
       "<div>\n",
       "        \n",
       "        \n",
       "            <div id=\"a7441d4c-6570-48ba-ad67-374d34c25617\" class=\"plotly-graph-div\" style=\"height:525px; width:100%;\"></div>\n",
       "            <script type=\"text/javascript\">\n",
       "                require([\"plotly\"], function(Plotly) {\n",
       "                    window.PLOTLYENV=window.PLOTLYENV || {};\n",
       "                    \n",
       "                if (document.getElementById(\"a7441d4c-6570-48ba-ad67-374d34c25617\")) {\n",
       "                    Plotly.newPlot(\n",
       "                        'a7441d4c-6570-48ba-ad67-374d34c25617',\n",
       "                        [{\"hovertemplate\": \" %{y:.0f}\", \"line\": {\"color\": \"orange\"}, \"mode\": \"lines\", \"name\": \"Cases\", \"type\": \"scatter\", \"x\": [0, 1, 2, 3, 4, 5, 6, 7, 8, 9, 10, 11, 12, 13, 14, 15, 16, 17, 18, 19, 20, 21, 22, 23, 24, 25, 26, 27, 28, 29, 30, 31, 32, 33, 34, 35, 36, 37, 38, 39, 40, 41, 42, 43, 44, 45, 46, 47, 48, 49, 50, 51, 52, 53, 54, 55, 56, 57, 58, 59, 60, 61, 62, 63, 64, 65, 66, 67, 68, 69, 70, 71, 72, 73, 74, 75, 76, 77, 78, 79, 80, 81, 82, 83, 84, 85, 86, 87, 88, 89, 90, 91, 92, 93, 94, 95, 96, 97], \"y\": [0.0, 0.0, 0.0, 0.0, 0.0, 0.0, 0.0, 0.0, 0.0, 0.0, 0.0, 0.0, 0.0, 0.0, 0.0, 0.0, 0.0, 0.0, 0.0, 0.0, 0.0, 0.0, 0.0, 0.0, 0.0, 0.0, 0.0, 0.0, 0.0, 0.0, 0.0, 0.0, 0.0, 0.0, 0.0, 0.0, 0.0, 0.0, 0.0, 0.0, 0.0, 0.0, 1.0, 1.0, 5.0, 5.0, 11.0, 16.0, 22.0, 31.0, 49.0, 68.0, 103.0, 119.0, 177.0, 238.0, 251.0, 355.0, 425.0, 536.0, 634.0, 749.0, 901.0, 1051.0, 1221.0, 1389.0, 1638.0, 1862.0, 2055.0, 2311.0, 2554.0, 2946.0, 3383.0, 3627.0, 4102.0, 4413.0, 4848.0, 5205.0, 5575.0, 5955.0, 6356.0, 6674.0, 6934.0, 7202.0, 7582.0, 7918.0, 8379.0, 8742.0, 9287.0, 9593.0, 9856.0, 10169.0, 10511.0, 10892.0, 11273.0, 11617.0, 11902.0, 12218.0]}, {\"hovertemplate\": \" %{y:.0f}\", \"line\": {\"color\": \"red\"}, \"mode\": \"lines\", \"name\": \"Deaths\", \"type\": \"scatter\", \"x\": [0, 1, 2, 3, 4, 5, 6, 7, 8, 9, 10, 11, 12, 13, 14, 15, 16, 17, 18, 19, 20, 21, 22, 23, 24, 25, 26, 27, 28, 29, 30, 31, 32, 33, 34, 35, 36, 37, 38, 39, 40, 41, 42, 43, 44, 45, 46, 47, 48, 49, 50, 51, 52, 53, 54, 55, 56, 57, 58, 59, 60, 61, 62, 63, 64, 65, 66, 67, 68, 69, 70, 71, 72, 73, 74, 75, 76, 77, 78, 79, 80, 81, 82, 83, 84, 85, 86, 87, 88, 89, 90, 91, 92, 93, 94, 95, 96, 97], \"y\": [0.0, 0.0, 0.0, 0.0, 0.0, 0.0, 0.0, 0.0, 0.0, 0.0, 0.0, 0.0, 0.0, 0.0, 0.0, 0.0, 0.0, 0.0, 0.0, 0.0, 0.0, 0.0, 0.0, 0.0, 0.0, 0.0, 0.0, 0.0, 0.0, 0.0, 0.0, 0.0, 0.0, 0.0, 0.0, 0.0, 0.0, 0.0, 0.0, 0.0, 0.0, 0.0, 0.0, 0.0, 0.0, 0.0, 0.0, 0.0, 0.0, 0.0, 1.0, 2.0, 3.0, 3.0, 4.0, 5.0, 5.0, 5.0, 5.0, 5.0, 7.0, 8.0, 10.0, 14.0, 16.0, 16.0, 18.0, 22.0, 31.0, 33.0, 43.0, 57.0, 71.0, 79.0, 94.0, 107.0, 129.0, 159.0, 174.0, 181.0, 208.0, 232.0, 245.0, 263.0, 286.0, 314.0, 332.0, 347.0, 360.0, 380.0, 401.0, 426.0, 454.0, 494.0, 524.0, 535.0, 562.0, 596.0]}, {\"hovertemplate\": \" %{y:.0f}\", \"line\": {\"color\": \"green\"}, \"mode\": \"lines\", \"name\": \"Recovered\", \"type\": \"scatter\", \"x\": [0, 1, 2, 3, 4, 5, 6, 7, 8, 9, 10, 11, 12, 13, 14, 15, 16, 17, 18, 19, 20, 21, 22, 23, 24, 25, 26, 27, 28, 29, 30, 31, 32, 33, 34, 35, 36, 37, 38, 39, 40, 41, 42, 43, 44, 45, 46, 47, 48, 49, 50, 51, 52, 53, 54, 55, 56, 57, 58, 59, 60, 61, 62, 63, 64, 65, 66, 67, 68, 69, 70, 71, 72, 73, 74, 75, 76, 77, 78, 79, 80, 81, 82, 83, 84, 85, 86, 87, 88, 89, 90, 91, 92, 93, 94, 95, 96, 97], \"y\": [0.0, 0.0, 0.0, 0.0, 0.0, 0.0, 0.0, 0.0, 0.0, 0.0, 0.0, 0.0, 0.0, 0.0, 0.0, 0.0, 0.0, 0.0, 0.0, 0.0, 0.0, 0.0, 0.0, 0.0, 0.0, 0.0, 0.0, 0.0, 0.0, 0.0, 0.0, 0.0, 0.0, 0.0, 0.0, 0.0, 0.0, 0.0, 0.0, 0.0, 0.0, 0.0, 0.0, 0.0, 0.0, 0.0, 0.0, 0.0, 0.0, 0.0, 0.0, 0.0, 0.0, 0.0, 13.0, 13.0, 13.0, 1.0, 1.0, 1.0, 1.0, 1.0, 1.0, 7.0, 7.0, 7.0, 7.0, 7.0, 7.0, 7.0, 47.0, 56.0, 56.0, 116.0, 134.0, 162.0, 191.0, 222.0, 284.0, 318.0, 375.0, 439.0, 487.0, 618.0, 668.0, 774.0, 866.0, 981.0, 1040.0, 1133.0, 1297.0, 1513.0, 1740.0, 1944.0, 2126.0, 2265.0, 2466.0, 2655.0]}],\n",
       "                        {\"hovermode\": \"x unified\", \"template\": {\"data\": {\"bar\": [{\"error_x\": {\"color\": \"#2a3f5f\"}, \"error_y\": {\"color\": \"#2a3f5f\"}, \"marker\": {\"line\": {\"color\": \"#E5ECF6\", \"width\": 0.5}}, \"type\": \"bar\"}], \"barpolar\": [{\"marker\": {\"line\": {\"color\": \"#E5ECF6\", \"width\": 0.5}}, \"type\": \"barpolar\"}], \"carpet\": [{\"aaxis\": {\"endlinecolor\": \"#2a3f5f\", \"gridcolor\": \"white\", \"linecolor\": \"white\", \"minorgridcolor\": \"white\", \"startlinecolor\": \"#2a3f5f\"}, \"baxis\": {\"endlinecolor\": \"#2a3f5f\", \"gridcolor\": \"white\", \"linecolor\": \"white\", \"minorgridcolor\": \"white\", \"startlinecolor\": \"#2a3f5f\"}, \"type\": \"carpet\"}], \"choropleth\": [{\"colorbar\": {\"outlinewidth\": 0, \"ticks\": \"\"}, \"type\": \"choropleth\"}], \"contour\": [{\"colorbar\": {\"outlinewidth\": 0, \"ticks\": \"\"}, \"colorscale\": [[0.0, \"#0d0887\"], [0.1111111111111111, \"#46039f\"], [0.2222222222222222, \"#7201a8\"], [0.3333333333333333, \"#9c179e\"], [0.4444444444444444, \"#bd3786\"], [0.5555555555555556, \"#d8576b\"], [0.6666666666666666, \"#ed7953\"], [0.7777777777777778, \"#fb9f3a\"], [0.8888888888888888, \"#fdca26\"], [1.0, \"#f0f921\"]], \"type\": \"contour\"}], \"contourcarpet\": [{\"colorbar\": {\"outlinewidth\": 0, \"ticks\": \"\"}, \"type\": \"contourcarpet\"}], \"heatmap\": [{\"colorbar\": {\"outlinewidth\": 0, \"ticks\": \"\"}, \"colorscale\": [[0.0, \"#0d0887\"], [0.1111111111111111, \"#46039f\"], [0.2222222222222222, \"#7201a8\"], [0.3333333333333333, \"#9c179e\"], [0.4444444444444444, \"#bd3786\"], [0.5555555555555556, \"#d8576b\"], [0.6666666666666666, \"#ed7953\"], [0.7777777777777778, \"#fb9f3a\"], [0.8888888888888888, \"#fdca26\"], [1.0, \"#f0f921\"]], \"type\": \"heatmap\"}], \"heatmapgl\": [{\"colorbar\": {\"outlinewidth\": 0, \"ticks\": \"\"}, \"colorscale\": [[0.0, \"#0d0887\"], [0.1111111111111111, \"#46039f\"], [0.2222222222222222, \"#7201a8\"], [0.3333333333333333, \"#9c179e\"], [0.4444444444444444, \"#bd3786\"], [0.5555555555555556, \"#d8576b\"], [0.6666666666666666, \"#ed7953\"], [0.7777777777777778, \"#fb9f3a\"], [0.8888888888888888, \"#fdca26\"], [1.0, \"#f0f921\"]], \"type\": \"heatmapgl\"}], \"histogram\": [{\"marker\": {\"colorbar\": {\"outlinewidth\": 0, \"ticks\": \"\"}}, \"type\": \"histogram\"}], \"histogram2d\": [{\"colorbar\": {\"outlinewidth\": 0, \"ticks\": \"\"}, \"colorscale\": [[0.0, \"#0d0887\"], [0.1111111111111111, \"#46039f\"], [0.2222222222222222, \"#7201a8\"], [0.3333333333333333, \"#9c179e\"], [0.4444444444444444, \"#bd3786\"], [0.5555555555555556, \"#d8576b\"], [0.6666666666666666, \"#ed7953\"], [0.7777777777777778, \"#fb9f3a\"], [0.8888888888888888, \"#fdca26\"], [1.0, \"#f0f921\"]], \"type\": \"histogram2d\"}], \"histogram2dcontour\": [{\"colorbar\": {\"outlinewidth\": 0, \"ticks\": \"\"}, \"colorscale\": [[0.0, \"#0d0887\"], [0.1111111111111111, \"#46039f\"], [0.2222222222222222, \"#7201a8\"], [0.3333333333333333, \"#9c179e\"], [0.4444444444444444, \"#bd3786\"], [0.5555555555555556, \"#d8576b\"], [0.6666666666666666, \"#ed7953\"], [0.7777777777777778, \"#fb9f3a\"], [0.8888888888888888, \"#fdca26\"], [1.0, \"#f0f921\"]], \"type\": \"histogram2dcontour\"}], \"mesh3d\": [{\"colorbar\": {\"outlinewidth\": 0, \"ticks\": \"\"}, \"type\": \"mesh3d\"}], \"parcoords\": [{\"line\": {\"colorbar\": {\"outlinewidth\": 0, \"ticks\": \"\"}}, \"type\": \"parcoords\"}], \"pie\": [{\"automargin\": true, \"type\": \"pie\"}], \"scatter\": [{\"marker\": {\"colorbar\": {\"outlinewidth\": 0, \"ticks\": \"\"}}, \"type\": \"scatter\"}], \"scatter3d\": [{\"line\": {\"colorbar\": {\"outlinewidth\": 0, \"ticks\": \"\"}}, \"marker\": {\"colorbar\": {\"outlinewidth\": 0, \"ticks\": \"\"}}, \"type\": \"scatter3d\"}], \"scattercarpet\": [{\"marker\": {\"colorbar\": {\"outlinewidth\": 0, \"ticks\": \"\"}}, \"type\": \"scattercarpet\"}], \"scattergeo\": [{\"marker\": {\"colorbar\": {\"outlinewidth\": 0, \"ticks\": \"\"}}, \"type\": \"scattergeo\"}], \"scattergl\": [{\"marker\": {\"colorbar\": {\"outlinewidth\": 0, \"ticks\": \"\"}}, \"type\": \"scattergl\"}], \"scattermapbox\": [{\"marker\": {\"colorbar\": {\"outlinewidth\": 0, \"ticks\": \"\"}}, \"type\": \"scattermapbox\"}], \"scatterpolar\": [{\"marker\": {\"colorbar\": {\"outlinewidth\": 0, \"ticks\": \"\"}}, \"type\": \"scatterpolar\"}], \"scatterpolargl\": [{\"marker\": {\"colorbar\": {\"outlinewidth\": 0, \"ticks\": \"\"}}, \"type\": \"scatterpolargl\"}], \"scatterternary\": [{\"marker\": {\"colorbar\": {\"outlinewidth\": 0, \"ticks\": \"\"}}, \"type\": \"scatterternary\"}], \"surface\": [{\"colorbar\": {\"outlinewidth\": 0, \"ticks\": \"\"}, \"colorscale\": [[0.0, \"#0d0887\"], [0.1111111111111111, \"#46039f\"], [0.2222222222222222, \"#7201a8\"], [0.3333333333333333, \"#9c179e\"], [0.4444444444444444, \"#bd3786\"], [0.5555555555555556, \"#d8576b\"], [0.6666666666666666, \"#ed7953\"], [0.7777777777777778, \"#fb9f3a\"], [0.8888888888888888, \"#fdca26\"], [1.0, \"#f0f921\"]], \"type\": \"surface\"}], \"table\": [{\"cells\": {\"fill\": {\"color\": \"#EBF0F8\"}, \"line\": {\"color\": \"white\"}}, \"header\": {\"fill\": {\"color\": \"#C8D4E3\"}, \"line\": {\"color\": \"white\"}}, \"type\": \"table\"}]}, \"layout\": {\"annotationdefaults\": {\"arrowcolor\": \"#2a3f5f\", \"arrowhead\": 0, \"arrowwidth\": 1}, \"coloraxis\": {\"colorbar\": {\"outlinewidth\": 0, \"ticks\": \"\"}}, \"colorscale\": {\"diverging\": [[0, \"#8e0152\"], [0.1, \"#c51b7d\"], [0.2, \"#de77ae\"], [0.3, \"#f1b6da\"], [0.4, \"#fde0ef\"], [0.5, \"#f7f7f7\"], [0.6, \"#e6f5d0\"], [0.7, \"#b8e186\"], [0.8, \"#7fbc41\"], [0.9, \"#4d9221\"], [1, \"#276419\"]], \"sequential\": [[0.0, \"#0d0887\"], [0.1111111111111111, \"#46039f\"], [0.2222222222222222, \"#7201a8\"], [0.3333333333333333, \"#9c179e\"], [0.4444444444444444, \"#bd3786\"], [0.5555555555555556, \"#d8576b\"], [0.6666666666666666, \"#ed7953\"], [0.7777777777777778, \"#fb9f3a\"], [0.8888888888888888, \"#fdca26\"], [1.0, \"#f0f921\"]], \"sequentialminus\": [[0.0, \"#0d0887\"], [0.1111111111111111, \"#46039f\"], [0.2222222222222222, \"#7201a8\"], [0.3333333333333333, \"#9c179e\"], [0.4444444444444444, \"#bd3786\"], [0.5555555555555556, \"#d8576b\"], [0.6666666666666666, \"#ed7953\"], [0.7777777777777778, \"#fb9f3a\"], [0.8888888888888888, \"#fdca26\"], [1.0, \"#f0f921\"]]}, \"colorway\": [\"#636efa\", \"#EF553B\", \"#00cc96\", \"#ab63fa\", \"#FFA15A\", \"#19d3f3\", \"#FF6692\", \"#B6E880\", \"#FF97FF\", \"#FECB52\"], \"font\": {\"color\": \"#2a3f5f\"}, \"geo\": {\"bgcolor\": \"white\", \"lakecolor\": \"white\", \"landcolor\": \"#E5ECF6\", \"showlakes\": true, \"showland\": true, \"subunitcolor\": \"white\"}, \"hoverlabel\": {\"align\": \"left\"}, \"hovermode\": \"closest\", \"mapbox\": {\"style\": \"light\"}, \"paper_bgcolor\": \"white\", \"plot_bgcolor\": \"#E5ECF6\", \"polar\": {\"angularaxis\": {\"gridcolor\": \"white\", \"linecolor\": \"white\", \"ticks\": \"\"}, \"bgcolor\": \"#E5ECF6\", \"radialaxis\": {\"gridcolor\": \"white\", \"linecolor\": \"white\", \"ticks\": \"\"}}, \"scene\": {\"xaxis\": {\"backgroundcolor\": \"#E5ECF6\", \"gridcolor\": \"white\", \"gridwidth\": 2, \"linecolor\": \"white\", \"showbackground\": true, \"ticks\": \"\", \"zerolinecolor\": \"white\"}, \"yaxis\": {\"backgroundcolor\": \"#E5ECF6\", \"gridcolor\": \"white\", \"gridwidth\": 2, \"linecolor\": \"white\", \"showbackground\": true, \"ticks\": \"\", \"zerolinecolor\": \"white\"}, \"zaxis\": {\"backgroundcolor\": \"#E5ECF6\", \"gridcolor\": \"white\", \"gridwidth\": 2, \"linecolor\": \"white\", \"showbackground\": true, \"ticks\": \"\", \"zerolinecolor\": \"white\"}}, \"shapedefaults\": {\"line\": {\"color\": \"#2a3f5f\"}}, \"ternary\": {\"aaxis\": {\"gridcolor\": \"white\", \"linecolor\": \"white\", \"ticks\": \"\"}, \"baxis\": {\"gridcolor\": \"white\", \"linecolor\": \"white\", \"ticks\": \"\"}, \"bgcolor\": \"#E5ECF6\", \"caxis\": {\"gridcolor\": \"white\", \"linecolor\": \"white\", \"ticks\": \"\"}}, \"title\": {\"x\": 0.05}, \"xaxis\": {\"automargin\": true, \"gridcolor\": \"white\", \"linecolor\": \"white\", \"ticks\": \"\", \"title\": {\"standoff\": 15}, \"zerolinecolor\": \"white\", \"zerolinewidth\": 2}, \"yaxis\": {\"automargin\": true, \"gridcolor\": \"white\", \"linecolor\": \"white\", \"ticks\": \"\", \"title\": {\"standoff\": 15}, \"zerolinecolor\": \"white\", \"zerolinewidth\": 2}}}, \"title\": {\"text\": \"Poland Combined Stats\"}, \"xaxis\": {\"title\": {\"text\": \"Days since 1/22/20\"}}, \"yaxis\": {\"title\": {\"text\": \"Number of People\"}}},\n",
       "                        {\"responsive\": true}\n",
       "                    ).then(function(){\n",
       "                            \n",
       "var gd = document.getElementById('a7441d4c-6570-48ba-ad67-374d34c25617');\n",
       "var x = new MutationObserver(function (mutations, observer) {{\n",
       "        var display = window.getComputedStyle(gd).display;\n",
       "        if (!display || display === 'none') {{\n",
       "            console.log([gd, 'removed!']);\n",
       "            Plotly.purge(gd);\n",
       "            observer.disconnect();\n",
       "        }}\n",
       "}});\n",
       "\n",
       "// Listen for the removal of the full notebook cells\n",
       "var notebookContainer = gd.closest('#notebook-container');\n",
       "if (notebookContainer) {{\n",
       "    x.observe(notebookContainer, {childList: true});\n",
       "}}\n",
       "\n",
       "// Listen for the clearing of the current output cell\n",
       "var outputEl = gd.closest('.output');\n",
       "if (outputEl) {{\n",
       "    x.observe(outputEl, {childList: true});\n",
       "}}\n",
       "\n",
       "                        })\n",
       "                };\n",
       "                });\n",
       "            </script>\n",
       "        </div>"
      ]
     },
     "metadata": {},
     "output_type": "display_data"
    }
   ],
   "source": [
    "pl_gd = Graph(\"Poland\", pl_cases, pl_deaths, pl_recovered, \"\")\n",
    "pl_fig = (\n",
    "    go.Figure(layout=pl_gd.glayout())\n",
    "    .add_trace(pl_gd.c_trace())\n",
    "    .add_trace(pl_gd.d_trace())\n",
    "    .add_trace(pl_gd.r_trace())\n",
    ")\n",
    "\n",
    "ply.offline.iplot(pl_fig)"
   ]
  },
  {
   "cell_type": "code",
   "execution_count": 53,
   "metadata": {},
   "outputs": [],
   "source": [
    "# getting mean/avg rate for mortality and recovery \n",
    "world_dmean, world_rmean = [],[]\n",
    "us_dmean, us_rmean = [],[]\n",
    "china_dmean, china_rmean = [],[]\n",
    "italy_dmean, italy_rmean = [],[]\n",
    "spain_dmean, spain_rmean = [],[] \n",
    "pl_dmean, pl_rmean = [],[]\n",
    "\n",
    "def mean_rates(l,y):\n",
    "    for i in world_mortality_rate:\n",
    "        l.append(np.mean(y))\n",
    "    return l\n",
    "\n",
    "world_dmean, world_rmean = mean_rates(world_dmean,world_mortality_rate), mean_rates(world_rmean, world_recovery_rate)\n",
    "us_dmean, us_rmean = mean_rates(us_dmean,us_mortality), mean_rates(us_rmean, us_recovery_rate)\n",
    "china_dmean, china_rmean = mean_rates(china_dmean,china_mortality), mean_rates(china_rmean, china_recovery_rate)\n",
    "italy_dmean, italy_rmean = mean_rates(italy_dmean,italy_mortality), mean_rates(italy_rmean, italy_recovery_rate)\n",
    "spain_dmean, spain_rmean = mean_rates(spain_dmean,spain_mortality), mean_rates(spain_rmean, spain_recovery_rate)\n",
    "pl_dmean, pl_rmean = mean_rates(pl_dmean,pl_mortality), mean_rates(pl_rmean, pl_recovery_rate)\n"
   ]
  },
  {
   "cell_type": "code",
   "execution_count": 54,
   "metadata": {},
   "outputs": [
    {
     "data": {
      "application/vnd.plotly.v1+json": {
       "config": {
        "plotlyServerURL": "https://plot.ly"
       },
       "data": [
        {
         "hovertemplate": "%{y:.2f}%",
         "line": {
          "color": "red"
         },
         "mode": "lines",
         "name": "Mortalitly Rate",
         "type": "scatter",
         "x": [
          0,
          1,
          2,
          3,
          4,
          5,
          6,
          7,
          8,
          9,
          10,
          11,
          12,
          13,
          14,
          15,
          16,
          17,
          18,
          19,
          20,
          21,
          22,
          23,
          24,
          25,
          26,
          27,
          28,
          29,
          30,
          31,
          32,
          33,
          34,
          35,
          36,
          37,
          38,
          39,
          40,
          41,
          42,
          43,
          44,
          45,
          46,
          47,
          48,
          49,
          50,
          51,
          52,
          53,
          54,
          55,
          56,
          57,
          58,
          59,
          60,
          61,
          62,
          63,
          64,
          65,
          66,
          67,
          68,
          69,
          70,
          71,
          72,
          73,
          74,
          75,
          76,
          77,
          78,
          79,
          80,
          81,
          82,
          83,
          84,
          85,
          86,
          87,
          88,
          89,
          90,
          91,
          92,
          93,
          94,
          95,
          96,
          97
         ],
         "y": [
          3.063063063063063,
          2.7522935779816518,
          2.763018065887354,
          2.928870292887029,
          2.644003777148253,
          2.801503245644004,
          2.3485120114736464,
          2.156989944858904,
          2.0767549186300704,
          2.1456633423995166,
          2.1515201860774216,
          2.1564305712753917,
          2.142749358684171,
          2.059266700150678,
          2.0408901755020805,
          2.0588426316814963,
          2.0906632549213455,
          2.1713362068965516,
          2.25653798256538,
          2.3689256816799964,
          2.484264095352886,
          2.472302691227527,
          2.2710707659687253,
          2.2770426852059504,
          2.413443430392583,
          2.485117376165338,
          2.549892161948183,
          2.6711563032367973,
          2.805431060696202,
          2.948934997440844,
          2.9302646480688375,
          3.128340884793565,
          3.1269789001747768,
          3.3043828006183933,
          3.3679078675720717,
          3.4034501400697894,
          3.4007686172141254,
          3.4144949591021496,
          3.419330085686714,
          3.390329187837364,
          3.416162824175581,
          3.4037052994398964,
          3.4209419680403705,
          3.4203052530494658,
          3.398787831160794,
          3.3614556860373934,
          3.461997250070569,
          3.510872435953869,
          3.5929860057325915,
          3.6663356504468716,
          3.678166292695088,
          3.7226533718039647,
          3.7299187783443077,
          3.8515280713697106,
          3.9316531114574094,
          4.023073059615551,
          4.086182661068858,
          4.090826656115013,
          4.1892105330820915,
          4.303984501978296,
          4.3976879573197865,
          4.423948271395414,
          4.527374013045382,
          4.608710711254311,
          4.62317420582555,
          4.699177483852159,
          4.745741680084258,
          4.842805278466162,
          4.959041010108756,
          5.084141006147331,
          5.246623019864084,
          5.426075870929036,
          5.562308144352098,
          5.703200264612575,
          5.7728146001918805,
          5.880536722800427,
          6.11197919277476,
          6.211728144845291,
          6.3398013973471095,
          6.41227700341812,
          6.475828401088695,
          6.439751433659335,
          6.501234521245102,
          6.60514552427868,
          6.7443247550724745,
          6.773172382000417,
          6.899112077698893,
          6.934850705917434,
          6.88778899744798,
          6.901077329950048,
          6.958942977949413,
          7.010765948187327,
          7.040109434355267,
          6.996649242442834,
          7.001184418682341,
          6.949622236584159,
          6.942254560182841,
          6.968076606389813
         ]
        },
        {
         "hovertemplate": "%{y:.2f}%",
         "line": {
          "color": "black",
          "dash": "dash"
         },
         "mode": "lines",
         "name": "Mean",
         "type": "scatter",
         "y": [
          4.166454320628429,
          4.166454320628429,
          4.166454320628429,
          4.166454320628429,
          4.166454320628429,
          4.166454320628429,
          4.166454320628429,
          4.166454320628429,
          4.166454320628429,
          4.166454320628429,
          4.166454320628429,
          4.166454320628429,
          4.166454320628429,
          4.166454320628429,
          4.166454320628429,
          4.166454320628429,
          4.166454320628429,
          4.166454320628429,
          4.166454320628429,
          4.166454320628429,
          4.166454320628429,
          4.166454320628429,
          4.166454320628429,
          4.166454320628429,
          4.166454320628429,
          4.166454320628429,
          4.166454320628429,
          4.166454320628429,
          4.166454320628429,
          4.166454320628429,
          4.166454320628429,
          4.166454320628429,
          4.166454320628429,
          4.166454320628429,
          4.166454320628429,
          4.166454320628429,
          4.166454320628429,
          4.166454320628429,
          4.166454320628429,
          4.166454320628429,
          4.166454320628429,
          4.166454320628429,
          4.166454320628429,
          4.166454320628429,
          4.166454320628429,
          4.166454320628429,
          4.166454320628429,
          4.166454320628429,
          4.166454320628429,
          4.166454320628429,
          4.166454320628429,
          4.166454320628429,
          4.166454320628429,
          4.166454320628429,
          4.166454320628429,
          4.166454320628429,
          4.166454320628429,
          4.166454320628429,
          4.166454320628429,
          4.166454320628429,
          4.166454320628429,
          4.166454320628429,
          4.166454320628429,
          4.166454320628429,
          4.166454320628429,
          4.166454320628429,
          4.166454320628429,
          4.166454320628429,
          4.166454320628429,
          4.166454320628429,
          4.166454320628429,
          4.166454320628429,
          4.166454320628429,
          4.166454320628429,
          4.166454320628429,
          4.166454320628429,
          4.166454320628429,
          4.166454320628429,
          4.166454320628429,
          4.166454320628429,
          4.166454320628429,
          4.166454320628429,
          4.166454320628429,
          4.166454320628429,
          4.166454320628429,
          4.166454320628429,
          4.166454320628429,
          4.166454320628429,
          4.166454320628429,
          4.166454320628429,
          4.166454320628429,
          4.166454320628429,
          4.166454320628429,
          4.166454320628429,
          4.166454320628429,
          4.166454320628429,
          4.166454320628429,
          4.166454320628429
         ]
        }
       ],
       "layout": {
        "template": {
         "data": {
          "bar": [
           {
            "error_x": {
             "color": "#2a3f5f"
            },
            "error_y": {
             "color": "#2a3f5f"
            },
            "marker": {
             "line": {
              "color": "#E5ECF6",
              "width": 0.5
             }
            },
            "type": "bar"
           }
          ],
          "barpolar": [
           {
            "marker": {
             "line": {
              "color": "#E5ECF6",
              "width": 0.5
             }
            },
            "type": "barpolar"
           }
          ],
          "carpet": [
           {
            "aaxis": {
             "endlinecolor": "#2a3f5f",
             "gridcolor": "white",
             "linecolor": "white",
             "minorgridcolor": "white",
             "startlinecolor": "#2a3f5f"
            },
            "baxis": {
             "endlinecolor": "#2a3f5f",
             "gridcolor": "white",
             "linecolor": "white",
             "minorgridcolor": "white",
             "startlinecolor": "#2a3f5f"
            },
            "type": "carpet"
           }
          ],
          "choropleth": [
           {
            "colorbar": {
             "outlinewidth": 0,
             "ticks": ""
            },
            "type": "choropleth"
           }
          ],
          "contour": [
           {
            "colorbar": {
             "outlinewidth": 0,
             "ticks": ""
            },
            "colorscale": [
             [
              0,
              "#0d0887"
             ],
             [
              0.1111111111111111,
              "#46039f"
             ],
             [
              0.2222222222222222,
              "#7201a8"
             ],
             [
              0.3333333333333333,
              "#9c179e"
             ],
             [
              0.4444444444444444,
              "#bd3786"
             ],
             [
              0.5555555555555556,
              "#d8576b"
             ],
             [
              0.6666666666666666,
              "#ed7953"
             ],
             [
              0.7777777777777778,
              "#fb9f3a"
             ],
             [
              0.8888888888888888,
              "#fdca26"
             ],
             [
              1,
              "#f0f921"
             ]
            ],
            "type": "contour"
           }
          ],
          "contourcarpet": [
           {
            "colorbar": {
             "outlinewidth": 0,
             "ticks": ""
            },
            "type": "contourcarpet"
           }
          ],
          "heatmap": [
           {
            "colorbar": {
             "outlinewidth": 0,
             "ticks": ""
            },
            "colorscale": [
             [
              0,
              "#0d0887"
             ],
             [
              0.1111111111111111,
              "#46039f"
             ],
             [
              0.2222222222222222,
              "#7201a8"
             ],
             [
              0.3333333333333333,
              "#9c179e"
             ],
             [
              0.4444444444444444,
              "#bd3786"
             ],
             [
              0.5555555555555556,
              "#d8576b"
             ],
             [
              0.6666666666666666,
              "#ed7953"
             ],
             [
              0.7777777777777778,
              "#fb9f3a"
             ],
             [
              0.8888888888888888,
              "#fdca26"
             ],
             [
              1,
              "#f0f921"
             ]
            ],
            "type": "heatmap"
           }
          ],
          "heatmapgl": [
           {
            "colorbar": {
             "outlinewidth": 0,
             "ticks": ""
            },
            "colorscale": [
             [
              0,
              "#0d0887"
             ],
             [
              0.1111111111111111,
              "#46039f"
             ],
             [
              0.2222222222222222,
              "#7201a8"
             ],
             [
              0.3333333333333333,
              "#9c179e"
             ],
             [
              0.4444444444444444,
              "#bd3786"
             ],
             [
              0.5555555555555556,
              "#d8576b"
             ],
             [
              0.6666666666666666,
              "#ed7953"
             ],
             [
              0.7777777777777778,
              "#fb9f3a"
             ],
             [
              0.8888888888888888,
              "#fdca26"
             ],
             [
              1,
              "#f0f921"
             ]
            ],
            "type": "heatmapgl"
           }
          ],
          "histogram": [
           {
            "marker": {
             "colorbar": {
              "outlinewidth": 0,
              "ticks": ""
             }
            },
            "type": "histogram"
           }
          ],
          "histogram2d": [
           {
            "colorbar": {
             "outlinewidth": 0,
             "ticks": ""
            },
            "colorscale": [
             [
              0,
              "#0d0887"
             ],
             [
              0.1111111111111111,
              "#46039f"
             ],
             [
              0.2222222222222222,
              "#7201a8"
             ],
             [
              0.3333333333333333,
              "#9c179e"
             ],
             [
              0.4444444444444444,
              "#bd3786"
             ],
             [
              0.5555555555555556,
              "#d8576b"
             ],
             [
              0.6666666666666666,
              "#ed7953"
             ],
             [
              0.7777777777777778,
              "#fb9f3a"
             ],
             [
              0.8888888888888888,
              "#fdca26"
             ],
             [
              1,
              "#f0f921"
             ]
            ],
            "type": "histogram2d"
           }
          ],
          "histogram2dcontour": [
           {
            "colorbar": {
             "outlinewidth": 0,
             "ticks": ""
            },
            "colorscale": [
             [
              0,
              "#0d0887"
             ],
             [
              0.1111111111111111,
              "#46039f"
             ],
             [
              0.2222222222222222,
              "#7201a8"
             ],
             [
              0.3333333333333333,
              "#9c179e"
             ],
             [
              0.4444444444444444,
              "#bd3786"
             ],
             [
              0.5555555555555556,
              "#d8576b"
             ],
             [
              0.6666666666666666,
              "#ed7953"
             ],
             [
              0.7777777777777778,
              "#fb9f3a"
             ],
             [
              0.8888888888888888,
              "#fdca26"
             ],
             [
              1,
              "#f0f921"
             ]
            ],
            "type": "histogram2dcontour"
           }
          ],
          "mesh3d": [
           {
            "colorbar": {
             "outlinewidth": 0,
             "ticks": ""
            },
            "type": "mesh3d"
           }
          ],
          "parcoords": [
           {
            "line": {
             "colorbar": {
              "outlinewidth": 0,
              "ticks": ""
             }
            },
            "type": "parcoords"
           }
          ],
          "pie": [
           {
            "automargin": true,
            "type": "pie"
           }
          ],
          "scatter": [
           {
            "marker": {
             "colorbar": {
              "outlinewidth": 0,
              "ticks": ""
             }
            },
            "type": "scatter"
           }
          ],
          "scatter3d": [
           {
            "line": {
             "colorbar": {
              "outlinewidth": 0,
              "ticks": ""
             }
            },
            "marker": {
             "colorbar": {
              "outlinewidth": 0,
              "ticks": ""
             }
            },
            "type": "scatter3d"
           }
          ],
          "scattercarpet": [
           {
            "marker": {
             "colorbar": {
              "outlinewidth": 0,
              "ticks": ""
             }
            },
            "type": "scattercarpet"
           }
          ],
          "scattergeo": [
           {
            "marker": {
             "colorbar": {
              "outlinewidth": 0,
              "ticks": ""
             }
            },
            "type": "scattergeo"
           }
          ],
          "scattergl": [
           {
            "marker": {
             "colorbar": {
              "outlinewidth": 0,
              "ticks": ""
             }
            },
            "type": "scattergl"
           }
          ],
          "scattermapbox": [
           {
            "marker": {
             "colorbar": {
              "outlinewidth": 0,
              "ticks": ""
             }
            },
            "type": "scattermapbox"
           }
          ],
          "scatterpolar": [
           {
            "marker": {
             "colorbar": {
              "outlinewidth": 0,
              "ticks": ""
             }
            },
            "type": "scatterpolar"
           }
          ],
          "scatterpolargl": [
           {
            "marker": {
             "colorbar": {
              "outlinewidth": 0,
              "ticks": ""
             }
            },
            "type": "scatterpolargl"
           }
          ],
          "scatterternary": [
           {
            "marker": {
             "colorbar": {
              "outlinewidth": 0,
              "ticks": ""
             }
            },
            "type": "scatterternary"
           }
          ],
          "surface": [
           {
            "colorbar": {
             "outlinewidth": 0,
             "ticks": ""
            },
            "colorscale": [
             [
              0,
              "#0d0887"
             ],
             [
              0.1111111111111111,
              "#46039f"
             ],
             [
              0.2222222222222222,
              "#7201a8"
             ],
             [
              0.3333333333333333,
              "#9c179e"
             ],
             [
              0.4444444444444444,
              "#bd3786"
             ],
             [
              0.5555555555555556,
              "#d8576b"
             ],
             [
              0.6666666666666666,
              "#ed7953"
             ],
             [
              0.7777777777777778,
              "#fb9f3a"
             ],
             [
              0.8888888888888888,
              "#fdca26"
             ],
             [
              1,
              "#f0f921"
             ]
            ],
            "type": "surface"
           }
          ],
          "table": [
           {
            "cells": {
             "fill": {
              "color": "#EBF0F8"
             },
             "line": {
              "color": "white"
             }
            },
            "header": {
             "fill": {
              "color": "#C8D4E3"
             },
             "line": {
              "color": "white"
             }
            },
            "type": "table"
           }
          ]
         },
         "layout": {
          "annotationdefaults": {
           "arrowcolor": "#2a3f5f",
           "arrowhead": 0,
           "arrowwidth": 1
          },
          "coloraxis": {
           "colorbar": {
            "outlinewidth": 0,
            "ticks": ""
           }
          },
          "colorscale": {
           "diverging": [
            [
             0,
             "#8e0152"
            ],
            [
             0.1,
             "#c51b7d"
            ],
            [
             0.2,
             "#de77ae"
            ],
            [
             0.3,
             "#f1b6da"
            ],
            [
             0.4,
             "#fde0ef"
            ],
            [
             0.5,
             "#f7f7f7"
            ],
            [
             0.6,
             "#e6f5d0"
            ],
            [
             0.7,
             "#b8e186"
            ],
            [
             0.8,
             "#7fbc41"
            ],
            [
             0.9,
             "#4d9221"
            ],
            [
             1,
             "#276419"
            ]
           ],
           "sequential": [
            [
             0,
             "#0d0887"
            ],
            [
             0.1111111111111111,
             "#46039f"
            ],
            [
             0.2222222222222222,
             "#7201a8"
            ],
            [
             0.3333333333333333,
             "#9c179e"
            ],
            [
             0.4444444444444444,
             "#bd3786"
            ],
            [
             0.5555555555555556,
             "#d8576b"
            ],
            [
             0.6666666666666666,
             "#ed7953"
            ],
            [
             0.7777777777777778,
             "#fb9f3a"
            ],
            [
             0.8888888888888888,
             "#fdca26"
            ],
            [
             1,
             "#f0f921"
            ]
           ],
           "sequentialminus": [
            [
             0,
             "#0d0887"
            ],
            [
             0.1111111111111111,
             "#46039f"
            ],
            [
             0.2222222222222222,
             "#7201a8"
            ],
            [
             0.3333333333333333,
             "#9c179e"
            ],
            [
             0.4444444444444444,
             "#bd3786"
            ],
            [
             0.5555555555555556,
             "#d8576b"
            ],
            [
             0.6666666666666666,
             "#ed7953"
            ],
            [
             0.7777777777777778,
             "#fb9f3a"
            ],
            [
             0.8888888888888888,
             "#fdca26"
            ],
            [
             1,
             "#f0f921"
            ]
           ]
          },
          "colorway": [
           "#636efa",
           "#EF553B",
           "#00cc96",
           "#ab63fa",
           "#FFA15A",
           "#19d3f3",
           "#FF6692",
           "#B6E880",
           "#FF97FF",
           "#FECB52"
          ],
          "font": {
           "color": "#2a3f5f"
          },
          "geo": {
           "bgcolor": "white",
           "lakecolor": "white",
           "landcolor": "#E5ECF6",
           "showlakes": true,
           "showland": true,
           "subunitcolor": "white"
          },
          "hoverlabel": {
           "align": "left"
          },
          "hovermode": "closest",
          "mapbox": {
           "style": "light"
          },
          "paper_bgcolor": "white",
          "plot_bgcolor": "#E5ECF6",
          "polar": {
           "angularaxis": {
            "gridcolor": "white",
            "linecolor": "white",
            "ticks": ""
           },
           "bgcolor": "#E5ECF6",
           "radialaxis": {
            "gridcolor": "white",
            "linecolor": "white",
            "ticks": ""
           }
          },
          "scene": {
           "xaxis": {
            "backgroundcolor": "#E5ECF6",
            "gridcolor": "white",
            "gridwidth": 2,
            "linecolor": "white",
            "showbackground": true,
            "ticks": "",
            "zerolinecolor": "white"
           },
           "yaxis": {
            "backgroundcolor": "#E5ECF6",
            "gridcolor": "white",
            "gridwidth": 2,
            "linecolor": "white",
            "showbackground": true,
            "ticks": "",
            "zerolinecolor": "white"
           },
           "zaxis": {
            "backgroundcolor": "#E5ECF6",
            "gridcolor": "white",
            "gridwidth": 2,
            "linecolor": "white",
            "showbackground": true,
            "ticks": "",
            "zerolinecolor": "white"
           }
          },
          "shapedefaults": {
           "line": {
            "color": "#2a3f5f"
           }
          },
          "ternary": {
           "aaxis": {
            "gridcolor": "white",
            "linecolor": "white",
            "ticks": ""
           },
           "baxis": {
            "gridcolor": "white",
            "linecolor": "white",
            "ticks": ""
           },
           "bgcolor": "#E5ECF6",
           "caxis": {
            "gridcolor": "white",
            "linecolor": "white",
            "ticks": ""
           }
          },
          "title": {
           "x": 0.05
          },
          "xaxis": {
           "automargin": true,
           "gridcolor": "white",
           "linecolor": "white",
           "ticks": "",
           "title": {
            "standoff": 15
           },
           "zerolinecolor": "white",
           "zerolinewidth": 2
          },
          "yaxis": {
           "automargin": true,
           "gridcolor": "white",
           "linecolor": "white",
           "ticks": "",
           "title": {
            "standoff": 15
           },
           "zerolinecolor": "white",
           "zerolinewidth": 2
          }
         }
        },
        "title": {
         "text": "World Mortality Rate"
        },
        "xaxis": {
         "title": {
          "text": "Days since 1/22/20"
         }
        },
        "yaxis": {
         "title": {
          "text": "Rate"
         }
        }
       }
      },
      "text/html": [
       "<div>\n",
       "        \n",
       "        \n",
       "            <div id=\"59121341-7068-4238-979d-33091a1c7bfd\" class=\"plotly-graph-div\" style=\"height:525px; width:100%;\"></div>\n",
       "            <script type=\"text/javascript\">\n",
       "                require([\"plotly\"], function(Plotly) {\n",
       "                    window.PLOTLYENV=window.PLOTLYENV || {};\n",
       "                    \n",
       "                if (document.getElementById(\"59121341-7068-4238-979d-33091a1c7bfd\")) {\n",
       "                    Plotly.newPlot(\n",
       "                        '59121341-7068-4238-979d-33091a1c7bfd',\n",
       "                        [{\"hovertemplate\": \"%{y:.2f}%\", \"line\": {\"color\": \"red\"}, \"mode\": \"lines\", \"name\": \"Mortalitly Rate\", \"type\": \"scatter\", \"x\": [0, 1, 2, 3, 4, 5, 6, 7, 8, 9, 10, 11, 12, 13, 14, 15, 16, 17, 18, 19, 20, 21, 22, 23, 24, 25, 26, 27, 28, 29, 30, 31, 32, 33, 34, 35, 36, 37, 38, 39, 40, 41, 42, 43, 44, 45, 46, 47, 48, 49, 50, 51, 52, 53, 54, 55, 56, 57, 58, 59, 60, 61, 62, 63, 64, 65, 66, 67, 68, 69, 70, 71, 72, 73, 74, 75, 76, 77, 78, 79, 80, 81, 82, 83, 84, 85, 86, 87, 88, 89, 90, 91, 92, 93, 94, 95, 96, 97], \"y\": [3.063063063063063, 2.7522935779816518, 2.763018065887354, 2.928870292887029, 2.644003777148253, 2.801503245644004, 2.3485120114736464, 2.156989944858904, 2.0767549186300704, 2.1456633423995166, 2.1515201860774216, 2.1564305712753917, 2.142749358684171, 2.059266700150678, 2.0408901755020805, 2.0588426316814963, 2.0906632549213455, 2.1713362068965516, 2.25653798256538, 2.3689256816799964, 2.484264095352886, 2.472302691227527, 2.2710707659687253, 2.2770426852059504, 2.413443430392583, 2.485117376165338, 2.549892161948183, 2.6711563032367973, 2.805431060696202, 2.948934997440844, 2.9302646480688375, 3.128340884793565, 3.1269789001747768, 3.3043828006183933, 3.3679078675720717, 3.4034501400697894, 3.4007686172141254, 3.4144949591021496, 3.419330085686714, 3.390329187837364, 3.416162824175581, 3.4037052994398964, 3.4209419680403705, 3.4203052530494658, 3.398787831160794, 3.3614556860373934, 3.461997250070569, 3.510872435953869, 3.5929860057325915, 3.6663356504468716, 3.678166292695088, 3.7226533718039647, 3.7299187783443077, 3.8515280713697106, 3.9316531114574094, 4.023073059615551, 4.086182661068858, 4.090826656115013, 4.1892105330820915, 4.303984501978296, 4.3976879573197865, 4.423948271395414, 4.527374013045382, 4.608710711254311, 4.62317420582555, 4.699177483852159, 4.745741680084258, 4.842805278466162, 4.959041010108756, 5.084141006147331, 5.246623019864084, 5.426075870929036, 5.562308144352098, 5.703200264612575, 5.7728146001918805, 5.880536722800427, 6.11197919277476, 6.211728144845291, 6.3398013973471095, 6.41227700341812, 6.475828401088695, 6.439751433659335, 6.501234521245102, 6.60514552427868, 6.7443247550724745, 6.773172382000417, 6.899112077698893, 6.934850705917434, 6.88778899744798, 6.901077329950048, 6.958942977949413, 7.010765948187327, 7.040109434355267, 6.996649242442834, 7.001184418682341, 6.949622236584159, 6.942254560182841, 6.968076606389813]}, {\"hovertemplate\": \"%{y:.2f}%\", \"line\": {\"color\": \"black\", \"dash\": \"dash\"}, \"mode\": \"lines\", \"name\": \"Mean\", \"type\": \"scatter\", \"y\": [4.166454320628429, 4.166454320628429, 4.166454320628429, 4.166454320628429, 4.166454320628429, 4.166454320628429, 4.166454320628429, 4.166454320628429, 4.166454320628429, 4.166454320628429, 4.166454320628429, 4.166454320628429, 4.166454320628429, 4.166454320628429, 4.166454320628429, 4.166454320628429, 4.166454320628429, 4.166454320628429, 4.166454320628429, 4.166454320628429, 4.166454320628429, 4.166454320628429, 4.166454320628429, 4.166454320628429, 4.166454320628429, 4.166454320628429, 4.166454320628429, 4.166454320628429, 4.166454320628429, 4.166454320628429, 4.166454320628429, 4.166454320628429, 4.166454320628429, 4.166454320628429, 4.166454320628429, 4.166454320628429, 4.166454320628429, 4.166454320628429, 4.166454320628429, 4.166454320628429, 4.166454320628429, 4.166454320628429, 4.166454320628429, 4.166454320628429, 4.166454320628429, 4.166454320628429, 4.166454320628429, 4.166454320628429, 4.166454320628429, 4.166454320628429, 4.166454320628429, 4.166454320628429, 4.166454320628429, 4.166454320628429, 4.166454320628429, 4.166454320628429, 4.166454320628429, 4.166454320628429, 4.166454320628429, 4.166454320628429, 4.166454320628429, 4.166454320628429, 4.166454320628429, 4.166454320628429, 4.166454320628429, 4.166454320628429, 4.166454320628429, 4.166454320628429, 4.166454320628429, 4.166454320628429, 4.166454320628429, 4.166454320628429, 4.166454320628429, 4.166454320628429, 4.166454320628429, 4.166454320628429, 4.166454320628429, 4.166454320628429, 4.166454320628429, 4.166454320628429, 4.166454320628429, 4.166454320628429, 4.166454320628429, 4.166454320628429, 4.166454320628429, 4.166454320628429, 4.166454320628429, 4.166454320628429, 4.166454320628429, 4.166454320628429, 4.166454320628429, 4.166454320628429, 4.166454320628429, 4.166454320628429, 4.166454320628429, 4.166454320628429, 4.166454320628429, 4.166454320628429]}],\n",
       "                        {\"template\": {\"data\": {\"bar\": [{\"error_x\": {\"color\": \"#2a3f5f\"}, \"error_y\": {\"color\": \"#2a3f5f\"}, \"marker\": {\"line\": {\"color\": \"#E5ECF6\", \"width\": 0.5}}, \"type\": \"bar\"}], \"barpolar\": [{\"marker\": {\"line\": {\"color\": \"#E5ECF6\", \"width\": 0.5}}, \"type\": \"barpolar\"}], \"carpet\": [{\"aaxis\": {\"endlinecolor\": \"#2a3f5f\", \"gridcolor\": \"white\", \"linecolor\": \"white\", \"minorgridcolor\": \"white\", \"startlinecolor\": \"#2a3f5f\"}, \"baxis\": {\"endlinecolor\": \"#2a3f5f\", \"gridcolor\": \"white\", \"linecolor\": \"white\", \"minorgridcolor\": \"white\", \"startlinecolor\": \"#2a3f5f\"}, \"type\": \"carpet\"}], \"choropleth\": [{\"colorbar\": {\"outlinewidth\": 0, \"ticks\": \"\"}, \"type\": \"choropleth\"}], \"contour\": [{\"colorbar\": {\"outlinewidth\": 0, \"ticks\": \"\"}, \"colorscale\": [[0.0, \"#0d0887\"], [0.1111111111111111, \"#46039f\"], [0.2222222222222222, \"#7201a8\"], [0.3333333333333333, \"#9c179e\"], [0.4444444444444444, \"#bd3786\"], [0.5555555555555556, \"#d8576b\"], [0.6666666666666666, \"#ed7953\"], [0.7777777777777778, \"#fb9f3a\"], [0.8888888888888888, \"#fdca26\"], [1.0, \"#f0f921\"]], \"type\": \"contour\"}], \"contourcarpet\": [{\"colorbar\": {\"outlinewidth\": 0, \"ticks\": \"\"}, \"type\": \"contourcarpet\"}], \"heatmap\": [{\"colorbar\": {\"outlinewidth\": 0, \"ticks\": \"\"}, \"colorscale\": [[0.0, \"#0d0887\"], [0.1111111111111111, \"#46039f\"], [0.2222222222222222, \"#7201a8\"], [0.3333333333333333, \"#9c179e\"], [0.4444444444444444, \"#bd3786\"], [0.5555555555555556, \"#d8576b\"], [0.6666666666666666, \"#ed7953\"], [0.7777777777777778, \"#fb9f3a\"], [0.8888888888888888, \"#fdca26\"], [1.0, \"#f0f921\"]], \"type\": \"heatmap\"}], \"heatmapgl\": [{\"colorbar\": {\"outlinewidth\": 0, \"ticks\": \"\"}, \"colorscale\": [[0.0, \"#0d0887\"], [0.1111111111111111, \"#46039f\"], [0.2222222222222222, \"#7201a8\"], [0.3333333333333333, \"#9c179e\"], [0.4444444444444444, \"#bd3786\"], [0.5555555555555556, \"#d8576b\"], [0.6666666666666666, \"#ed7953\"], [0.7777777777777778, \"#fb9f3a\"], [0.8888888888888888, \"#fdca26\"], [1.0, \"#f0f921\"]], \"type\": \"heatmapgl\"}], \"histogram\": [{\"marker\": {\"colorbar\": {\"outlinewidth\": 0, \"ticks\": \"\"}}, \"type\": \"histogram\"}], \"histogram2d\": [{\"colorbar\": {\"outlinewidth\": 0, \"ticks\": \"\"}, \"colorscale\": [[0.0, \"#0d0887\"], [0.1111111111111111, \"#46039f\"], [0.2222222222222222, \"#7201a8\"], [0.3333333333333333, \"#9c179e\"], [0.4444444444444444, \"#bd3786\"], [0.5555555555555556, \"#d8576b\"], [0.6666666666666666, \"#ed7953\"], [0.7777777777777778, \"#fb9f3a\"], [0.8888888888888888, \"#fdca26\"], [1.0, \"#f0f921\"]], \"type\": \"histogram2d\"}], \"histogram2dcontour\": [{\"colorbar\": {\"outlinewidth\": 0, \"ticks\": \"\"}, \"colorscale\": [[0.0, \"#0d0887\"], [0.1111111111111111, \"#46039f\"], [0.2222222222222222, \"#7201a8\"], [0.3333333333333333, \"#9c179e\"], [0.4444444444444444, \"#bd3786\"], [0.5555555555555556, \"#d8576b\"], [0.6666666666666666, \"#ed7953\"], [0.7777777777777778, \"#fb9f3a\"], [0.8888888888888888, \"#fdca26\"], [1.0, \"#f0f921\"]], \"type\": \"histogram2dcontour\"}], \"mesh3d\": [{\"colorbar\": {\"outlinewidth\": 0, \"ticks\": \"\"}, \"type\": \"mesh3d\"}], \"parcoords\": [{\"line\": {\"colorbar\": {\"outlinewidth\": 0, \"ticks\": \"\"}}, \"type\": \"parcoords\"}], \"pie\": [{\"automargin\": true, \"type\": \"pie\"}], \"scatter\": [{\"marker\": {\"colorbar\": {\"outlinewidth\": 0, \"ticks\": \"\"}}, \"type\": \"scatter\"}], \"scatter3d\": [{\"line\": {\"colorbar\": {\"outlinewidth\": 0, \"ticks\": \"\"}}, \"marker\": {\"colorbar\": {\"outlinewidth\": 0, \"ticks\": \"\"}}, \"type\": \"scatter3d\"}], \"scattercarpet\": [{\"marker\": {\"colorbar\": {\"outlinewidth\": 0, \"ticks\": \"\"}}, \"type\": \"scattercarpet\"}], \"scattergeo\": [{\"marker\": {\"colorbar\": {\"outlinewidth\": 0, \"ticks\": \"\"}}, \"type\": \"scattergeo\"}], \"scattergl\": [{\"marker\": {\"colorbar\": {\"outlinewidth\": 0, \"ticks\": \"\"}}, \"type\": \"scattergl\"}], \"scattermapbox\": [{\"marker\": {\"colorbar\": {\"outlinewidth\": 0, \"ticks\": \"\"}}, \"type\": \"scattermapbox\"}], \"scatterpolar\": [{\"marker\": {\"colorbar\": {\"outlinewidth\": 0, \"ticks\": \"\"}}, \"type\": \"scatterpolar\"}], \"scatterpolargl\": [{\"marker\": {\"colorbar\": {\"outlinewidth\": 0, \"ticks\": \"\"}}, \"type\": \"scatterpolargl\"}], \"scatterternary\": [{\"marker\": {\"colorbar\": {\"outlinewidth\": 0, \"ticks\": \"\"}}, \"type\": \"scatterternary\"}], \"surface\": [{\"colorbar\": {\"outlinewidth\": 0, \"ticks\": \"\"}, \"colorscale\": [[0.0, \"#0d0887\"], [0.1111111111111111, \"#46039f\"], [0.2222222222222222, \"#7201a8\"], [0.3333333333333333, \"#9c179e\"], [0.4444444444444444, \"#bd3786\"], [0.5555555555555556, \"#d8576b\"], [0.6666666666666666, \"#ed7953\"], [0.7777777777777778, \"#fb9f3a\"], [0.8888888888888888, \"#fdca26\"], [1.0, \"#f0f921\"]], \"type\": \"surface\"}], \"table\": [{\"cells\": {\"fill\": {\"color\": \"#EBF0F8\"}, \"line\": {\"color\": \"white\"}}, \"header\": {\"fill\": {\"color\": \"#C8D4E3\"}, \"line\": {\"color\": \"white\"}}, \"type\": \"table\"}]}, \"layout\": {\"annotationdefaults\": {\"arrowcolor\": \"#2a3f5f\", \"arrowhead\": 0, \"arrowwidth\": 1}, \"coloraxis\": {\"colorbar\": {\"outlinewidth\": 0, \"ticks\": \"\"}}, \"colorscale\": {\"diverging\": [[0, \"#8e0152\"], [0.1, \"#c51b7d\"], [0.2, \"#de77ae\"], [0.3, \"#f1b6da\"], [0.4, \"#fde0ef\"], [0.5, \"#f7f7f7\"], [0.6, \"#e6f5d0\"], [0.7, \"#b8e186\"], [0.8, \"#7fbc41\"], [0.9, \"#4d9221\"], [1, \"#276419\"]], \"sequential\": [[0.0, \"#0d0887\"], [0.1111111111111111, \"#46039f\"], [0.2222222222222222, \"#7201a8\"], [0.3333333333333333, \"#9c179e\"], [0.4444444444444444, \"#bd3786\"], [0.5555555555555556, \"#d8576b\"], [0.6666666666666666, \"#ed7953\"], [0.7777777777777778, \"#fb9f3a\"], [0.8888888888888888, \"#fdca26\"], [1.0, \"#f0f921\"]], \"sequentialminus\": [[0.0, \"#0d0887\"], [0.1111111111111111, \"#46039f\"], [0.2222222222222222, \"#7201a8\"], [0.3333333333333333, \"#9c179e\"], [0.4444444444444444, \"#bd3786\"], [0.5555555555555556, \"#d8576b\"], [0.6666666666666666, \"#ed7953\"], [0.7777777777777778, \"#fb9f3a\"], [0.8888888888888888, \"#fdca26\"], [1.0, \"#f0f921\"]]}, \"colorway\": [\"#636efa\", \"#EF553B\", \"#00cc96\", \"#ab63fa\", \"#FFA15A\", \"#19d3f3\", \"#FF6692\", \"#B6E880\", \"#FF97FF\", \"#FECB52\"], \"font\": {\"color\": \"#2a3f5f\"}, \"geo\": {\"bgcolor\": \"white\", \"lakecolor\": \"white\", \"landcolor\": \"#E5ECF6\", \"showlakes\": true, \"showland\": true, \"subunitcolor\": \"white\"}, \"hoverlabel\": {\"align\": \"left\"}, \"hovermode\": \"closest\", \"mapbox\": {\"style\": \"light\"}, \"paper_bgcolor\": \"white\", \"plot_bgcolor\": \"#E5ECF6\", \"polar\": {\"angularaxis\": {\"gridcolor\": \"white\", \"linecolor\": \"white\", \"ticks\": \"\"}, \"bgcolor\": \"#E5ECF6\", \"radialaxis\": {\"gridcolor\": \"white\", \"linecolor\": \"white\", \"ticks\": \"\"}}, \"scene\": {\"xaxis\": {\"backgroundcolor\": \"#E5ECF6\", \"gridcolor\": \"white\", \"gridwidth\": 2, \"linecolor\": \"white\", \"showbackground\": true, \"ticks\": \"\", \"zerolinecolor\": \"white\"}, \"yaxis\": {\"backgroundcolor\": \"#E5ECF6\", \"gridcolor\": \"white\", \"gridwidth\": 2, \"linecolor\": \"white\", \"showbackground\": true, \"ticks\": \"\", \"zerolinecolor\": \"white\"}, \"zaxis\": {\"backgroundcolor\": \"#E5ECF6\", \"gridcolor\": \"white\", \"gridwidth\": 2, \"linecolor\": \"white\", \"showbackground\": true, \"ticks\": \"\", \"zerolinecolor\": \"white\"}}, \"shapedefaults\": {\"line\": {\"color\": \"#2a3f5f\"}}, \"ternary\": {\"aaxis\": {\"gridcolor\": \"white\", \"linecolor\": \"white\", \"ticks\": \"\"}, \"baxis\": {\"gridcolor\": \"white\", \"linecolor\": \"white\", \"ticks\": \"\"}, \"bgcolor\": \"#E5ECF6\", \"caxis\": {\"gridcolor\": \"white\", \"linecolor\": \"white\", \"ticks\": \"\"}}, \"title\": {\"x\": 0.05}, \"xaxis\": {\"automargin\": true, \"gridcolor\": \"white\", \"linecolor\": \"white\", \"ticks\": \"\", \"title\": {\"standoff\": 15}, \"zerolinecolor\": \"white\", \"zerolinewidth\": 2}, \"yaxis\": {\"automargin\": true, \"gridcolor\": \"white\", \"linecolor\": \"white\", \"ticks\": \"\", \"title\": {\"standoff\": 15}, \"zerolinecolor\": \"white\", \"zerolinewidth\": 2}}}, \"title\": {\"text\": \"World Mortality Rate\"}, \"xaxis\": {\"title\": {\"text\": \"Days since 1/22/20\"}}, \"yaxis\": {\"title\": {\"text\": \"Rate\"}}},\n",
       "                        {\"responsive\": true}\n",
       "                    ).then(function(){\n",
       "                            \n",
       "var gd = document.getElementById('59121341-7068-4238-979d-33091a1c7bfd');\n",
       "var x = new MutationObserver(function (mutations, observer) {{\n",
       "        var display = window.getComputedStyle(gd).display;\n",
       "        if (!display || display === 'none') {{\n",
       "            console.log([gd, 'removed!']);\n",
       "            Plotly.purge(gd);\n",
       "            observer.disconnect();\n",
       "        }}\n",
       "}});\n",
       "\n",
       "// Listen for the removal of the full notebook cells\n",
       "var notebookContainer = gd.closest('#notebook-container');\n",
       "if (notebookContainer) {{\n",
       "    x.observe(notebookContainer, {childList: true});\n",
       "}}\n",
       "\n",
       "// Listen for the clearing of the current output cell\n",
       "var outputEl = gd.closest('.output');\n",
       "if (outputEl) {{\n",
       "    x.observe(outputEl, {childList: true});\n",
       "}}\n",
       "\n",
       "                        })\n",
       "                };\n",
       "                });\n",
       "            </script>\n",
       "        </div>"
      ]
     },
     "metadata": {},
     "output_type": "display_data"
    },
    {
     "data": {
      "application/vnd.plotly.v1+json": {
       "config": {
        "linkText": "Export to plot.ly",
        "plotlyServerURL": "https://plot.ly",
        "showLink": false
       },
       "data": [
        {
         "hovertemplate": "%{y:.2f}%",
         "line": {
          "color": "green"
         },
         "mode": "lines",
         "name": "Recovery Rate",
         "type": "scatter",
         "x": [
          0,
          1,
          2,
          3,
          4,
          5,
          6,
          7,
          8,
          9,
          10,
          11,
          12,
          13,
          14,
          15,
          16,
          17,
          18,
          19,
          20,
          21,
          22,
          23,
          24,
          25,
          26,
          27,
          28,
          29,
          30,
          31,
          32,
          33,
          34,
          35,
          36,
          37,
          38,
          39,
          40,
          41,
          42,
          43,
          44,
          45,
          46,
          47,
          48,
          49,
          50,
          51,
          52,
          53,
          54,
          55,
          56,
          57,
          58,
          59,
          60,
          61,
          62,
          63,
          64,
          65,
          66,
          67,
          68,
          69,
          70,
          71,
          72,
          73,
          74,
          75,
          76,
          77,
          78,
          79,
          80,
          81,
          82,
          83,
          84,
          85,
          86,
          87,
          88,
          89,
          90,
          91,
          92,
          93,
          94,
          95,
          96,
          97
         ],
         "y": [
          5.045045045045045,
          4.587155963302752,
          3.825717321997875,
          2.7196652719665275,
          2.4551463644948064,
          2.0840450973693203,
          1.9182502689135892,
          2.0434641582873825,
          1.7367014816614041,
          2.23632517376851,
          2.3591958797142385,
          2.8116995293977483,
          3.1336451888737993,
          3.566047212456052,
          4.067305952596345,
          4.828862765473794,
          5.847460091302957,
          7.0474137931034475,
          8.079701120797012,
          9.227819091716945,
          10.452658363465916,
          11.388514185887088,
          10.427710045056985,
          12.047544292442252,
          13.610024626973779,
          15.254689430529037,
          17.17628108875481,
          19.10136286201022,
          21.313079231613322,
          23.855269892515455,
          24.59027063617074,
          29.127424527821617,
          29.628410040781173,
          31.707746257588514,
          34.70512150834515,
          37.332284857718584,
          40.21584124912383,
          43.645377591782385,
          46.25222355280138,
          48.33821815342485,
          50.497198414280334,
          51.94743644980612,
          53.79520605550883,
          54.95780806243998,
          54.87667115254271,
          55.13429761826032,
          55.26629697416705,
          55.01716700413769,
          54.29438543247345,
          53.22979145978153,
          53.23173772126651,
          48.375901225046306,
          46.519254913013405,
          45.40264889589529,
          42.9992896593118,
          41.01200834039358,
          38.777542984277105,
          35.02448313384113,
          32.11054667269061,
          30.10687724713106,
          29.048596810852835,
          25.999386700926824,
          25.832438366911514,
          24.32786072098229,
          23.060179233190045,
          22.06099190627933,
          21.09714538212898,
          20.697640517295238,
          21.03106748968038,
          20.759367916344065,
          20.712966874607297,
          20.747085720375193,
          20.604155944650675,
          20.930242445319493,
          20.805337442998006,
          20.92548434381922,
          21.487097887625517,
          22.20382380759357,
          22.610438073045817,
          22.68468673869629,
          23.16268486916951,
          22.98007153584094,
          23.54907011996691,
          24.006153126599212,
          24.860983135052876,
          25.19234415429914,
          25.375593321138375,
          25.560308612594014,
          25.986830459134563,
          26.131390641239697,
          26.694302973806323,
          27.07595383877258,
          27.30721760049517,
          28.100731148743264,
          28.224434916331447,
          29.126085878474466,
          29.389755418237574,
          29.799082145476923
         ]
        },
        {
         "hovertemplate": "%{y:.2f}%",
         "line": {
          "color": "black",
          "dash": "dash"
         },
         "mode": "lines",
         "name": "Mean",
         "type": "scatter",
         "y": [
          25.229757722469458,
          25.229757722469458,
          25.229757722469458,
          25.229757722469458,
          25.229757722469458,
          25.229757722469458,
          25.229757722469458,
          25.229757722469458,
          25.229757722469458,
          25.229757722469458,
          25.229757722469458,
          25.229757722469458,
          25.229757722469458,
          25.229757722469458,
          25.229757722469458,
          25.229757722469458,
          25.229757722469458,
          25.229757722469458,
          25.229757722469458,
          25.229757722469458,
          25.229757722469458,
          25.229757722469458,
          25.229757722469458,
          25.229757722469458,
          25.229757722469458,
          25.229757722469458,
          25.229757722469458,
          25.229757722469458,
          25.229757722469458,
          25.229757722469458,
          25.229757722469458,
          25.229757722469458,
          25.229757722469458,
          25.229757722469458,
          25.229757722469458,
          25.229757722469458,
          25.229757722469458,
          25.229757722469458,
          25.229757722469458,
          25.229757722469458,
          25.229757722469458,
          25.229757722469458,
          25.229757722469458,
          25.229757722469458,
          25.229757722469458,
          25.229757722469458,
          25.229757722469458,
          25.229757722469458,
          25.229757722469458,
          25.229757722469458,
          25.229757722469458,
          25.229757722469458,
          25.229757722469458,
          25.229757722469458,
          25.229757722469458,
          25.229757722469458,
          25.229757722469458,
          25.229757722469458,
          25.229757722469458,
          25.229757722469458,
          25.229757722469458,
          25.229757722469458,
          25.229757722469458,
          25.229757722469458,
          25.229757722469458,
          25.229757722469458,
          25.229757722469458,
          25.229757722469458,
          25.229757722469458,
          25.229757722469458,
          25.229757722469458,
          25.229757722469458,
          25.229757722469458,
          25.229757722469458,
          25.229757722469458,
          25.229757722469458,
          25.229757722469458,
          25.229757722469458,
          25.229757722469458,
          25.229757722469458,
          25.229757722469458,
          25.229757722469458,
          25.229757722469458,
          25.229757722469458,
          25.229757722469458,
          25.229757722469458,
          25.229757722469458,
          25.229757722469458,
          25.229757722469458,
          25.229757722469458,
          25.229757722469458,
          25.229757722469458,
          25.229757722469458,
          25.229757722469458,
          25.229757722469458,
          25.229757722469458,
          25.229757722469458,
          25.229757722469458
         ]
        }
       ],
       "layout": {
        "template": {
         "data": {
          "bar": [
           {
            "error_x": {
             "color": "#2a3f5f"
            },
            "error_y": {
             "color": "#2a3f5f"
            },
            "marker": {
             "line": {
              "color": "#E5ECF6",
              "width": 0.5
             }
            },
            "type": "bar"
           }
          ],
          "barpolar": [
           {
            "marker": {
             "line": {
              "color": "#E5ECF6",
              "width": 0.5
             }
            },
            "type": "barpolar"
           }
          ],
          "carpet": [
           {
            "aaxis": {
             "endlinecolor": "#2a3f5f",
             "gridcolor": "white",
             "linecolor": "white",
             "minorgridcolor": "white",
             "startlinecolor": "#2a3f5f"
            },
            "baxis": {
             "endlinecolor": "#2a3f5f",
             "gridcolor": "white",
             "linecolor": "white",
             "minorgridcolor": "white",
             "startlinecolor": "#2a3f5f"
            },
            "type": "carpet"
           }
          ],
          "choropleth": [
           {
            "colorbar": {
             "outlinewidth": 0,
             "ticks": ""
            },
            "type": "choropleth"
           }
          ],
          "contour": [
           {
            "colorbar": {
             "outlinewidth": 0,
             "ticks": ""
            },
            "colorscale": [
             [
              0,
              "#0d0887"
             ],
             [
              0.1111111111111111,
              "#46039f"
             ],
             [
              0.2222222222222222,
              "#7201a8"
             ],
             [
              0.3333333333333333,
              "#9c179e"
             ],
             [
              0.4444444444444444,
              "#bd3786"
             ],
             [
              0.5555555555555556,
              "#d8576b"
             ],
             [
              0.6666666666666666,
              "#ed7953"
             ],
             [
              0.7777777777777778,
              "#fb9f3a"
             ],
             [
              0.8888888888888888,
              "#fdca26"
             ],
             [
              1,
              "#f0f921"
             ]
            ],
            "type": "contour"
           }
          ],
          "contourcarpet": [
           {
            "colorbar": {
             "outlinewidth": 0,
             "ticks": ""
            },
            "type": "contourcarpet"
           }
          ],
          "heatmap": [
           {
            "colorbar": {
             "outlinewidth": 0,
             "ticks": ""
            },
            "colorscale": [
             [
              0,
              "#0d0887"
             ],
             [
              0.1111111111111111,
              "#46039f"
             ],
             [
              0.2222222222222222,
              "#7201a8"
             ],
             [
              0.3333333333333333,
              "#9c179e"
             ],
             [
              0.4444444444444444,
              "#bd3786"
             ],
             [
              0.5555555555555556,
              "#d8576b"
             ],
             [
              0.6666666666666666,
              "#ed7953"
             ],
             [
              0.7777777777777778,
              "#fb9f3a"
             ],
             [
              0.8888888888888888,
              "#fdca26"
             ],
             [
              1,
              "#f0f921"
             ]
            ],
            "type": "heatmap"
           }
          ],
          "heatmapgl": [
           {
            "colorbar": {
             "outlinewidth": 0,
             "ticks": ""
            },
            "colorscale": [
             [
              0,
              "#0d0887"
             ],
             [
              0.1111111111111111,
              "#46039f"
             ],
             [
              0.2222222222222222,
              "#7201a8"
             ],
             [
              0.3333333333333333,
              "#9c179e"
             ],
             [
              0.4444444444444444,
              "#bd3786"
             ],
             [
              0.5555555555555556,
              "#d8576b"
             ],
             [
              0.6666666666666666,
              "#ed7953"
             ],
             [
              0.7777777777777778,
              "#fb9f3a"
             ],
             [
              0.8888888888888888,
              "#fdca26"
             ],
             [
              1,
              "#f0f921"
             ]
            ],
            "type": "heatmapgl"
           }
          ],
          "histogram": [
           {
            "marker": {
             "colorbar": {
              "outlinewidth": 0,
              "ticks": ""
             }
            },
            "type": "histogram"
           }
          ],
          "histogram2d": [
           {
            "colorbar": {
             "outlinewidth": 0,
             "ticks": ""
            },
            "colorscale": [
             [
              0,
              "#0d0887"
             ],
             [
              0.1111111111111111,
              "#46039f"
             ],
             [
              0.2222222222222222,
              "#7201a8"
             ],
             [
              0.3333333333333333,
              "#9c179e"
             ],
             [
              0.4444444444444444,
              "#bd3786"
             ],
             [
              0.5555555555555556,
              "#d8576b"
             ],
             [
              0.6666666666666666,
              "#ed7953"
             ],
             [
              0.7777777777777778,
              "#fb9f3a"
             ],
             [
              0.8888888888888888,
              "#fdca26"
             ],
             [
              1,
              "#f0f921"
             ]
            ],
            "type": "histogram2d"
           }
          ],
          "histogram2dcontour": [
           {
            "colorbar": {
             "outlinewidth": 0,
             "ticks": ""
            },
            "colorscale": [
             [
              0,
              "#0d0887"
             ],
             [
              0.1111111111111111,
              "#46039f"
             ],
             [
              0.2222222222222222,
              "#7201a8"
             ],
             [
              0.3333333333333333,
              "#9c179e"
             ],
             [
              0.4444444444444444,
              "#bd3786"
             ],
             [
              0.5555555555555556,
              "#d8576b"
             ],
             [
              0.6666666666666666,
              "#ed7953"
             ],
             [
              0.7777777777777778,
              "#fb9f3a"
             ],
             [
              0.8888888888888888,
              "#fdca26"
             ],
             [
              1,
              "#f0f921"
             ]
            ],
            "type": "histogram2dcontour"
           }
          ],
          "mesh3d": [
           {
            "colorbar": {
             "outlinewidth": 0,
             "ticks": ""
            },
            "type": "mesh3d"
           }
          ],
          "parcoords": [
           {
            "line": {
             "colorbar": {
              "outlinewidth": 0,
              "ticks": ""
             }
            },
            "type": "parcoords"
           }
          ],
          "pie": [
           {
            "automargin": true,
            "type": "pie"
           }
          ],
          "scatter": [
           {
            "marker": {
             "colorbar": {
              "outlinewidth": 0,
              "ticks": ""
             }
            },
            "type": "scatter"
           }
          ],
          "scatter3d": [
           {
            "line": {
             "colorbar": {
              "outlinewidth": 0,
              "ticks": ""
             }
            },
            "marker": {
             "colorbar": {
              "outlinewidth": 0,
              "ticks": ""
             }
            },
            "type": "scatter3d"
           }
          ],
          "scattercarpet": [
           {
            "marker": {
             "colorbar": {
              "outlinewidth": 0,
              "ticks": ""
             }
            },
            "type": "scattercarpet"
           }
          ],
          "scattergeo": [
           {
            "marker": {
             "colorbar": {
              "outlinewidth": 0,
              "ticks": ""
             }
            },
            "type": "scattergeo"
           }
          ],
          "scattergl": [
           {
            "marker": {
             "colorbar": {
              "outlinewidth": 0,
              "ticks": ""
             }
            },
            "type": "scattergl"
           }
          ],
          "scattermapbox": [
           {
            "marker": {
             "colorbar": {
              "outlinewidth": 0,
              "ticks": ""
             }
            },
            "type": "scattermapbox"
           }
          ],
          "scatterpolar": [
           {
            "marker": {
             "colorbar": {
              "outlinewidth": 0,
              "ticks": ""
             }
            },
            "type": "scatterpolar"
           }
          ],
          "scatterpolargl": [
           {
            "marker": {
             "colorbar": {
              "outlinewidth": 0,
              "ticks": ""
             }
            },
            "type": "scatterpolargl"
           }
          ],
          "scatterternary": [
           {
            "marker": {
             "colorbar": {
              "outlinewidth": 0,
              "ticks": ""
             }
            },
            "type": "scatterternary"
           }
          ],
          "surface": [
           {
            "colorbar": {
             "outlinewidth": 0,
             "ticks": ""
            },
            "colorscale": [
             [
              0,
              "#0d0887"
             ],
             [
              0.1111111111111111,
              "#46039f"
             ],
             [
              0.2222222222222222,
              "#7201a8"
             ],
             [
              0.3333333333333333,
              "#9c179e"
             ],
             [
              0.4444444444444444,
              "#bd3786"
             ],
             [
              0.5555555555555556,
              "#d8576b"
             ],
             [
              0.6666666666666666,
              "#ed7953"
             ],
             [
              0.7777777777777778,
              "#fb9f3a"
             ],
             [
              0.8888888888888888,
              "#fdca26"
             ],
             [
              1,
              "#f0f921"
             ]
            ],
            "type": "surface"
           }
          ],
          "table": [
           {
            "cells": {
             "fill": {
              "color": "#EBF0F8"
             },
             "line": {
              "color": "white"
             }
            },
            "header": {
             "fill": {
              "color": "#C8D4E3"
             },
             "line": {
              "color": "white"
             }
            },
            "type": "table"
           }
          ]
         },
         "layout": {
          "annotationdefaults": {
           "arrowcolor": "#2a3f5f",
           "arrowhead": 0,
           "arrowwidth": 1
          },
          "coloraxis": {
           "colorbar": {
            "outlinewidth": 0,
            "ticks": ""
           }
          },
          "colorscale": {
           "diverging": [
            [
             0,
             "#8e0152"
            ],
            [
             0.1,
             "#c51b7d"
            ],
            [
             0.2,
             "#de77ae"
            ],
            [
             0.3,
             "#f1b6da"
            ],
            [
             0.4,
             "#fde0ef"
            ],
            [
             0.5,
             "#f7f7f7"
            ],
            [
             0.6,
             "#e6f5d0"
            ],
            [
             0.7,
             "#b8e186"
            ],
            [
             0.8,
             "#7fbc41"
            ],
            [
             0.9,
             "#4d9221"
            ],
            [
             1,
             "#276419"
            ]
           ],
           "sequential": [
            [
             0,
             "#0d0887"
            ],
            [
             0.1111111111111111,
             "#46039f"
            ],
            [
             0.2222222222222222,
             "#7201a8"
            ],
            [
             0.3333333333333333,
             "#9c179e"
            ],
            [
             0.4444444444444444,
             "#bd3786"
            ],
            [
             0.5555555555555556,
             "#d8576b"
            ],
            [
             0.6666666666666666,
             "#ed7953"
            ],
            [
             0.7777777777777778,
             "#fb9f3a"
            ],
            [
             0.8888888888888888,
             "#fdca26"
            ],
            [
             1,
             "#f0f921"
            ]
           ],
           "sequentialminus": [
            [
             0,
             "#0d0887"
            ],
            [
             0.1111111111111111,
             "#46039f"
            ],
            [
             0.2222222222222222,
             "#7201a8"
            ],
            [
             0.3333333333333333,
             "#9c179e"
            ],
            [
             0.4444444444444444,
             "#bd3786"
            ],
            [
             0.5555555555555556,
             "#d8576b"
            ],
            [
             0.6666666666666666,
             "#ed7953"
            ],
            [
             0.7777777777777778,
             "#fb9f3a"
            ],
            [
             0.8888888888888888,
             "#fdca26"
            ],
            [
             1,
             "#f0f921"
            ]
           ]
          },
          "colorway": [
           "#636efa",
           "#EF553B",
           "#00cc96",
           "#ab63fa",
           "#FFA15A",
           "#19d3f3",
           "#FF6692",
           "#B6E880",
           "#FF97FF",
           "#FECB52"
          ],
          "font": {
           "color": "#2a3f5f"
          },
          "geo": {
           "bgcolor": "white",
           "lakecolor": "white",
           "landcolor": "#E5ECF6",
           "showlakes": true,
           "showland": true,
           "subunitcolor": "white"
          },
          "hoverlabel": {
           "align": "left"
          },
          "hovermode": "closest",
          "mapbox": {
           "style": "light"
          },
          "paper_bgcolor": "white",
          "plot_bgcolor": "#E5ECF6",
          "polar": {
           "angularaxis": {
            "gridcolor": "white",
            "linecolor": "white",
            "ticks": ""
           },
           "bgcolor": "#E5ECF6",
           "radialaxis": {
            "gridcolor": "white",
            "linecolor": "white",
            "ticks": ""
           }
          },
          "scene": {
           "xaxis": {
            "backgroundcolor": "#E5ECF6",
            "gridcolor": "white",
            "gridwidth": 2,
            "linecolor": "white",
            "showbackground": true,
            "ticks": "",
            "zerolinecolor": "white"
           },
           "yaxis": {
            "backgroundcolor": "#E5ECF6",
            "gridcolor": "white",
            "gridwidth": 2,
            "linecolor": "white",
            "showbackground": true,
            "ticks": "",
            "zerolinecolor": "white"
           },
           "zaxis": {
            "backgroundcolor": "#E5ECF6",
            "gridcolor": "white",
            "gridwidth": 2,
            "linecolor": "white",
            "showbackground": true,
            "ticks": "",
            "zerolinecolor": "white"
           }
          },
          "shapedefaults": {
           "line": {
            "color": "#2a3f5f"
           }
          },
          "ternary": {
           "aaxis": {
            "gridcolor": "white",
            "linecolor": "white",
            "ticks": ""
           },
           "baxis": {
            "gridcolor": "white",
            "linecolor": "white",
            "ticks": ""
           },
           "bgcolor": "#E5ECF6",
           "caxis": {
            "gridcolor": "white",
            "linecolor": "white",
            "ticks": ""
           }
          },
          "title": {
           "x": 0.05
          },
          "xaxis": {
           "automargin": true,
           "gridcolor": "white",
           "linecolor": "white",
           "ticks": "",
           "title": {
            "standoff": 15
           },
           "zerolinecolor": "white",
           "zerolinewidth": 2
          },
          "yaxis": {
           "automargin": true,
           "gridcolor": "white",
           "linecolor": "white",
           "ticks": "",
           "title": {
            "standoff": 15
           },
           "zerolinecolor": "white",
           "zerolinewidth": 2
          }
         }
        },
        "title": {
         "text": "World Recovery Rate"
        },
        "xaxis": {
         "title": {
          "text": "Days since 1/22/20"
         }
        },
        "yaxis": {
         "title": {
          "text": "Rate"
         }
        }
       }
      },
      "text/html": [
       "<div>\n",
       "        \n",
       "        \n",
       "            <div id=\"8242b1bc-a72b-4cd6-a6f6-a33425a4224b\" class=\"plotly-graph-div\" style=\"height:525px; width:100%;\"></div>\n",
       "            <script type=\"text/javascript\">\n",
       "                require([\"plotly\"], function(Plotly) {\n",
       "                    window.PLOTLYENV=window.PLOTLYENV || {};\n",
       "                    \n",
       "                if (document.getElementById(\"8242b1bc-a72b-4cd6-a6f6-a33425a4224b\")) {\n",
       "                    Plotly.newPlot(\n",
       "                        '8242b1bc-a72b-4cd6-a6f6-a33425a4224b',\n",
       "                        [{\"hovertemplate\": \"%{y:.2f}%\", \"line\": {\"color\": \"green\"}, \"mode\": \"lines\", \"name\": \"Recovery Rate\", \"type\": \"scatter\", \"x\": [0, 1, 2, 3, 4, 5, 6, 7, 8, 9, 10, 11, 12, 13, 14, 15, 16, 17, 18, 19, 20, 21, 22, 23, 24, 25, 26, 27, 28, 29, 30, 31, 32, 33, 34, 35, 36, 37, 38, 39, 40, 41, 42, 43, 44, 45, 46, 47, 48, 49, 50, 51, 52, 53, 54, 55, 56, 57, 58, 59, 60, 61, 62, 63, 64, 65, 66, 67, 68, 69, 70, 71, 72, 73, 74, 75, 76, 77, 78, 79, 80, 81, 82, 83, 84, 85, 86, 87, 88, 89, 90, 91, 92, 93, 94, 95, 96, 97], \"y\": [5.045045045045045, 4.587155963302752, 3.825717321997875, 2.7196652719665275, 2.4551463644948064, 2.0840450973693203, 1.9182502689135892, 2.0434641582873825, 1.7367014816614041, 2.23632517376851, 2.3591958797142385, 2.8116995293977483, 3.1336451888737993, 3.566047212456052, 4.067305952596345, 4.828862765473794, 5.847460091302957, 7.0474137931034475, 8.079701120797012, 9.227819091716945, 10.452658363465916, 11.388514185887088, 10.427710045056985, 12.047544292442252, 13.610024626973779, 15.254689430529037, 17.17628108875481, 19.10136286201022, 21.313079231613322, 23.855269892515455, 24.59027063617074, 29.127424527821617, 29.628410040781173, 31.707746257588514, 34.70512150834515, 37.332284857718584, 40.21584124912383, 43.645377591782385, 46.25222355280138, 48.33821815342485, 50.497198414280334, 51.94743644980612, 53.79520605550883, 54.95780806243998, 54.87667115254271, 55.13429761826032, 55.26629697416705, 55.01716700413769, 54.29438543247345, 53.22979145978153, 53.23173772126651, 48.375901225046306, 46.519254913013405, 45.40264889589529, 42.9992896593118, 41.01200834039358, 38.777542984277105, 35.02448313384113, 32.11054667269061, 30.10687724713106, 29.048596810852835, 25.999386700926824, 25.832438366911514, 24.32786072098229, 23.060179233190045, 22.06099190627933, 21.09714538212898, 20.697640517295238, 21.03106748968038, 20.759367916344065, 20.712966874607297, 20.747085720375193, 20.604155944650675, 20.930242445319493, 20.805337442998006, 20.92548434381922, 21.487097887625517, 22.20382380759357, 22.610438073045817, 22.68468673869629, 23.16268486916951, 22.98007153584094, 23.54907011996691, 24.006153126599212, 24.860983135052876, 25.19234415429914, 25.375593321138375, 25.560308612594014, 25.986830459134563, 26.131390641239697, 26.694302973806323, 27.07595383877258, 27.30721760049517, 28.100731148743264, 28.224434916331447, 29.126085878474466, 29.389755418237574, 29.799082145476923]}, {\"hovertemplate\": \"%{y:.2f}%\", \"line\": {\"color\": \"black\", \"dash\": \"dash\"}, \"mode\": \"lines\", \"name\": \"Mean\", \"type\": \"scatter\", \"y\": [25.229757722469458, 25.229757722469458, 25.229757722469458, 25.229757722469458, 25.229757722469458, 25.229757722469458, 25.229757722469458, 25.229757722469458, 25.229757722469458, 25.229757722469458, 25.229757722469458, 25.229757722469458, 25.229757722469458, 25.229757722469458, 25.229757722469458, 25.229757722469458, 25.229757722469458, 25.229757722469458, 25.229757722469458, 25.229757722469458, 25.229757722469458, 25.229757722469458, 25.229757722469458, 25.229757722469458, 25.229757722469458, 25.229757722469458, 25.229757722469458, 25.229757722469458, 25.229757722469458, 25.229757722469458, 25.229757722469458, 25.229757722469458, 25.229757722469458, 25.229757722469458, 25.229757722469458, 25.229757722469458, 25.229757722469458, 25.229757722469458, 25.229757722469458, 25.229757722469458, 25.229757722469458, 25.229757722469458, 25.229757722469458, 25.229757722469458, 25.229757722469458, 25.229757722469458, 25.229757722469458, 25.229757722469458, 25.229757722469458, 25.229757722469458, 25.229757722469458, 25.229757722469458, 25.229757722469458, 25.229757722469458, 25.229757722469458, 25.229757722469458, 25.229757722469458, 25.229757722469458, 25.229757722469458, 25.229757722469458, 25.229757722469458, 25.229757722469458, 25.229757722469458, 25.229757722469458, 25.229757722469458, 25.229757722469458, 25.229757722469458, 25.229757722469458, 25.229757722469458, 25.229757722469458, 25.229757722469458, 25.229757722469458, 25.229757722469458, 25.229757722469458, 25.229757722469458, 25.229757722469458, 25.229757722469458, 25.229757722469458, 25.229757722469458, 25.229757722469458, 25.229757722469458, 25.229757722469458, 25.229757722469458, 25.229757722469458, 25.229757722469458, 25.229757722469458, 25.229757722469458, 25.229757722469458, 25.229757722469458, 25.229757722469458, 25.229757722469458, 25.229757722469458, 25.229757722469458, 25.229757722469458, 25.229757722469458, 25.229757722469458, 25.229757722469458, 25.229757722469458]}],\n",
       "                        {\"template\": {\"data\": {\"bar\": [{\"error_x\": {\"color\": \"#2a3f5f\"}, \"error_y\": {\"color\": \"#2a3f5f\"}, \"marker\": {\"line\": {\"color\": \"#E5ECF6\", \"width\": 0.5}}, \"type\": \"bar\"}], \"barpolar\": [{\"marker\": {\"line\": {\"color\": \"#E5ECF6\", \"width\": 0.5}}, \"type\": \"barpolar\"}], \"carpet\": [{\"aaxis\": {\"endlinecolor\": \"#2a3f5f\", \"gridcolor\": \"white\", \"linecolor\": \"white\", \"minorgridcolor\": \"white\", \"startlinecolor\": \"#2a3f5f\"}, \"baxis\": {\"endlinecolor\": \"#2a3f5f\", \"gridcolor\": \"white\", \"linecolor\": \"white\", \"minorgridcolor\": \"white\", \"startlinecolor\": \"#2a3f5f\"}, \"type\": \"carpet\"}], \"choropleth\": [{\"colorbar\": {\"outlinewidth\": 0, \"ticks\": \"\"}, \"type\": \"choropleth\"}], \"contour\": [{\"colorbar\": {\"outlinewidth\": 0, \"ticks\": \"\"}, \"colorscale\": [[0.0, \"#0d0887\"], [0.1111111111111111, \"#46039f\"], [0.2222222222222222, \"#7201a8\"], [0.3333333333333333, \"#9c179e\"], [0.4444444444444444, \"#bd3786\"], [0.5555555555555556, \"#d8576b\"], [0.6666666666666666, \"#ed7953\"], [0.7777777777777778, \"#fb9f3a\"], [0.8888888888888888, \"#fdca26\"], [1.0, \"#f0f921\"]], \"type\": \"contour\"}], \"contourcarpet\": [{\"colorbar\": {\"outlinewidth\": 0, \"ticks\": \"\"}, \"type\": \"contourcarpet\"}], \"heatmap\": [{\"colorbar\": {\"outlinewidth\": 0, \"ticks\": \"\"}, \"colorscale\": [[0.0, \"#0d0887\"], [0.1111111111111111, \"#46039f\"], [0.2222222222222222, \"#7201a8\"], [0.3333333333333333, \"#9c179e\"], [0.4444444444444444, \"#bd3786\"], [0.5555555555555556, \"#d8576b\"], [0.6666666666666666, \"#ed7953\"], [0.7777777777777778, \"#fb9f3a\"], [0.8888888888888888, \"#fdca26\"], [1.0, \"#f0f921\"]], \"type\": \"heatmap\"}], \"heatmapgl\": [{\"colorbar\": {\"outlinewidth\": 0, \"ticks\": \"\"}, \"colorscale\": [[0.0, \"#0d0887\"], [0.1111111111111111, \"#46039f\"], [0.2222222222222222, \"#7201a8\"], [0.3333333333333333, \"#9c179e\"], [0.4444444444444444, \"#bd3786\"], [0.5555555555555556, \"#d8576b\"], [0.6666666666666666, \"#ed7953\"], [0.7777777777777778, \"#fb9f3a\"], [0.8888888888888888, \"#fdca26\"], [1.0, \"#f0f921\"]], \"type\": \"heatmapgl\"}], \"histogram\": [{\"marker\": {\"colorbar\": {\"outlinewidth\": 0, \"ticks\": \"\"}}, \"type\": \"histogram\"}], \"histogram2d\": [{\"colorbar\": {\"outlinewidth\": 0, \"ticks\": \"\"}, \"colorscale\": [[0.0, \"#0d0887\"], [0.1111111111111111, \"#46039f\"], [0.2222222222222222, \"#7201a8\"], [0.3333333333333333, \"#9c179e\"], [0.4444444444444444, \"#bd3786\"], [0.5555555555555556, \"#d8576b\"], [0.6666666666666666, \"#ed7953\"], [0.7777777777777778, \"#fb9f3a\"], [0.8888888888888888, \"#fdca26\"], [1.0, \"#f0f921\"]], \"type\": \"histogram2d\"}], \"histogram2dcontour\": [{\"colorbar\": {\"outlinewidth\": 0, \"ticks\": \"\"}, \"colorscale\": [[0.0, \"#0d0887\"], [0.1111111111111111, \"#46039f\"], [0.2222222222222222, \"#7201a8\"], [0.3333333333333333, \"#9c179e\"], [0.4444444444444444, \"#bd3786\"], [0.5555555555555556, \"#d8576b\"], [0.6666666666666666, \"#ed7953\"], [0.7777777777777778, \"#fb9f3a\"], [0.8888888888888888, \"#fdca26\"], [1.0, \"#f0f921\"]], \"type\": \"histogram2dcontour\"}], \"mesh3d\": [{\"colorbar\": {\"outlinewidth\": 0, \"ticks\": \"\"}, \"type\": \"mesh3d\"}], \"parcoords\": [{\"line\": {\"colorbar\": {\"outlinewidth\": 0, \"ticks\": \"\"}}, \"type\": \"parcoords\"}], \"pie\": [{\"automargin\": true, \"type\": \"pie\"}], \"scatter\": [{\"marker\": {\"colorbar\": {\"outlinewidth\": 0, \"ticks\": \"\"}}, \"type\": \"scatter\"}], \"scatter3d\": [{\"line\": {\"colorbar\": {\"outlinewidth\": 0, \"ticks\": \"\"}}, \"marker\": {\"colorbar\": {\"outlinewidth\": 0, \"ticks\": \"\"}}, \"type\": \"scatter3d\"}], \"scattercarpet\": [{\"marker\": {\"colorbar\": {\"outlinewidth\": 0, \"ticks\": \"\"}}, \"type\": \"scattercarpet\"}], \"scattergeo\": [{\"marker\": {\"colorbar\": {\"outlinewidth\": 0, \"ticks\": \"\"}}, \"type\": \"scattergeo\"}], \"scattergl\": [{\"marker\": {\"colorbar\": {\"outlinewidth\": 0, \"ticks\": \"\"}}, \"type\": \"scattergl\"}], \"scattermapbox\": [{\"marker\": {\"colorbar\": {\"outlinewidth\": 0, \"ticks\": \"\"}}, \"type\": \"scattermapbox\"}], \"scatterpolar\": [{\"marker\": {\"colorbar\": {\"outlinewidth\": 0, \"ticks\": \"\"}}, \"type\": \"scatterpolar\"}], \"scatterpolargl\": [{\"marker\": {\"colorbar\": {\"outlinewidth\": 0, \"ticks\": \"\"}}, \"type\": \"scatterpolargl\"}], \"scatterternary\": [{\"marker\": {\"colorbar\": {\"outlinewidth\": 0, \"ticks\": \"\"}}, \"type\": \"scatterternary\"}], \"surface\": [{\"colorbar\": {\"outlinewidth\": 0, \"ticks\": \"\"}, \"colorscale\": [[0.0, \"#0d0887\"], [0.1111111111111111, \"#46039f\"], [0.2222222222222222, \"#7201a8\"], [0.3333333333333333, \"#9c179e\"], [0.4444444444444444, \"#bd3786\"], [0.5555555555555556, \"#d8576b\"], [0.6666666666666666, \"#ed7953\"], [0.7777777777777778, \"#fb9f3a\"], [0.8888888888888888, \"#fdca26\"], [1.0, \"#f0f921\"]], \"type\": \"surface\"}], \"table\": [{\"cells\": {\"fill\": {\"color\": \"#EBF0F8\"}, \"line\": {\"color\": \"white\"}}, \"header\": {\"fill\": {\"color\": \"#C8D4E3\"}, \"line\": {\"color\": \"white\"}}, \"type\": \"table\"}]}, \"layout\": {\"annotationdefaults\": {\"arrowcolor\": \"#2a3f5f\", \"arrowhead\": 0, \"arrowwidth\": 1}, \"coloraxis\": {\"colorbar\": {\"outlinewidth\": 0, \"ticks\": \"\"}}, \"colorscale\": {\"diverging\": [[0, \"#8e0152\"], [0.1, \"#c51b7d\"], [0.2, \"#de77ae\"], [0.3, \"#f1b6da\"], [0.4, \"#fde0ef\"], [0.5, \"#f7f7f7\"], [0.6, \"#e6f5d0\"], [0.7, \"#b8e186\"], [0.8, \"#7fbc41\"], [0.9, \"#4d9221\"], [1, \"#276419\"]], \"sequential\": [[0.0, \"#0d0887\"], [0.1111111111111111, \"#46039f\"], [0.2222222222222222, \"#7201a8\"], [0.3333333333333333, \"#9c179e\"], [0.4444444444444444, \"#bd3786\"], [0.5555555555555556, \"#d8576b\"], [0.6666666666666666, \"#ed7953\"], [0.7777777777777778, \"#fb9f3a\"], [0.8888888888888888, \"#fdca26\"], [1.0, \"#f0f921\"]], \"sequentialminus\": [[0.0, \"#0d0887\"], [0.1111111111111111, \"#46039f\"], [0.2222222222222222, \"#7201a8\"], [0.3333333333333333, \"#9c179e\"], [0.4444444444444444, \"#bd3786\"], [0.5555555555555556, \"#d8576b\"], [0.6666666666666666, \"#ed7953\"], [0.7777777777777778, \"#fb9f3a\"], [0.8888888888888888, \"#fdca26\"], [1.0, \"#f0f921\"]]}, \"colorway\": [\"#636efa\", \"#EF553B\", \"#00cc96\", \"#ab63fa\", \"#FFA15A\", \"#19d3f3\", \"#FF6692\", \"#B6E880\", \"#FF97FF\", \"#FECB52\"], \"font\": {\"color\": \"#2a3f5f\"}, \"geo\": {\"bgcolor\": \"white\", \"lakecolor\": \"white\", \"landcolor\": \"#E5ECF6\", \"showlakes\": true, \"showland\": true, \"subunitcolor\": \"white\"}, \"hoverlabel\": {\"align\": \"left\"}, \"hovermode\": \"closest\", \"mapbox\": {\"style\": \"light\"}, \"paper_bgcolor\": \"white\", \"plot_bgcolor\": \"#E5ECF6\", \"polar\": {\"angularaxis\": {\"gridcolor\": \"white\", \"linecolor\": \"white\", \"ticks\": \"\"}, \"bgcolor\": \"#E5ECF6\", \"radialaxis\": {\"gridcolor\": \"white\", \"linecolor\": \"white\", \"ticks\": \"\"}}, \"scene\": {\"xaxis\": {\"backgroundcolor\": \"#E5ECF6\", \"gridcolor\": \"white\", \"gridwidth\": 2, \"linecolor\": \"white\", \"showbackground\": true, \"ticks\": \"\", \"zerolinecolor\": \"white\"}, \"yaxis\": {\"backgroundcolor\": \"#E5ECF6\", \"gridcolor\": \"white\", \"gridwidth\": 2, \"linecolor\": \"white\", \"showbackground\": true, \"ticks\": \"\", \"zerolinecolor\": \"white\"}, \"zaxis\": {\"backgroundcolor\": \"#E5ECF6\", \"gridcolor\": \"white\", \"gridwidth\": 2, \"linecolor\": \"white\", \"showbackground\": true, \"ticks\": \"\", \"zerolinecolor\": \"white\"}}, \"shapedefaults\": {\"line\": {\"color\": \"#2a3f5f\"}}, \"ternary\": {\"aaxis\": {\"gridcolor\": \"white\", \"linecolor\": \"white\", \"ticks\": \"\"}, \"baxis\": {\"gridcolor\": \"white\", \"linecolor\": \"white\", \"ticks\": \"\"}, \"bgcolor\": \"#E5ECF6\", \"caxis\": {\"gridcolor\": \"white\", \"linecolor\": \"white\", \"ticks\": \"\"}}, \"title\": {\"x\": 0.05}, \"xaxis\": {\"automargin\": true, \"gridcolor\": \"white\", \"linecolor\": \"white\", \"ticks\": \"\", \"title\": {\"standoff\": 15}, \"zerolinecolor\": \"white\", \"zerolinewidth\": 2}, \"yaxis\": {\"automargin\": true, \"gridcolor\": \"white\", \"linecolor\": \"white\", \"ticks\": \"\", \"title\": {\"standoff\": 15}, \"zerolinecolor\": \"white\", \"zerolinewidth\": 2}}}, \"title\": {\"text\": \"World Recovery Rate\"}, \"xaxis\": {\"title\": {\"text\": \"Days since 1/22/20\"}}, \"yaxis\": {\"title\": {\"text\": \"Rate\"}}},\n",
       "                        {\"responsive\": true}\n",
       "                    ).then(function(){\n",
       "                            \n",
       "var gd = document.getElementById('8242b1bc-a72b-4cd6-a6f6-a33425a4224b');\n",
       "var x = new MutationObserver(function (mutations, observer) {{\n",
       "        var display = window.getComputedStyle(gd).display;\n",
       "        if (!display || display === 'none') {{\n",
       "            console.log([gd, 'removed!']);\n",
       "            Plotly.purge(gd);\n",
       "            observer.disconnect();\n",
       "        }}\n",
       "}});\n",
       "\n",
       "// Listen for the removal of the full notebook cells\n",
       "var notebookContainer = gd.closest('#notebook-container');\n",
       "if (notebookContainer) {{\n",
       "    x.observe(notebookContainer, {childList: true});\n",
       "}}\n",
       "\n",
       "// Listen for the clearing of the current output cell\n",
       "var outputEl = gd.closest('.output');\n",
       "if (outputEl) {{\n",
       "    x.observe(outputEl, {childList: true});\n",
       "}}\n",
       "\n",
       "                        })\n",
       "                };\n",
       "                });\n",
       "            </script>\n",
       "        </div>"
      ]
     },
     "metadata": {},
     "output_type": "display_data"
    }
   ],
   "source": [
    "# world mortality and recovery rates\n",
    "w_drate_gd = Graph(\"World\", \"\", world_mortality_rate, \"\", world_dmean)\n",
    "w_drate_fig = (\n",
    "    go.Figure()\n",
    "    .add_trace(w_drate_gd.d_trace())\n",
    "    .update_traces(name=\"Mortalitly Rate\")\n",
    "    .add_trace(w_drate_gd.m_trace())\n",
    "    .update_layout(\n",
    "        title=\"World Mortality Rate\",\n",
    "        xaxis=dict(title=\"Days since 1/22/20\"),\n",
    "        yaxis=dict(title=\"Rate\"),\n",
    "    )\n",
    "    .update_traces(hovertemplate=\"%{y:.2f}%\")\n",
    ")\n",
    "w_drate_fig\n",
    "\n",
    "# world recovery rate\n",
    "w_rrate_gd = Graph(\"World\", \"\", \"\", world_recovery_rate, world_rmean)\n",
    "w_rrate_fig = (\n",
    "    go.Figure()\n",
    "    .add_trace(w_rrate_gd.r_trace())\n",
    "    .update_traces(name=\"Recovery Rate\")\n",
    "    .add_trace(w_rrate_gd.m_trace())\n",
    "    .update_layout(\n",
    "        title=\"World Recovery Rate\",\n",
    "        xaxis=dict(title=\"Days since 1/22/20\"),\n",
    "        yaxis=dict(title=\"Rate\"),\n",
    "    )\n",
    "    .update_traces(hovertemplate=\"%{y:.2f}%\")\n",
    ")\n",
    "ply.offline.iplot(w_rrate_fig)"
   ]
  },
  {
   "cell_type": "code",
   "execution_count": 55,
   "metadata": {},
   "outputs": [
    {
     "data": {
      "application/vnd.plotly.v1+json": {
       "config": {
        "linkText": "Export to plot.ly",
        "plotlyServerURL": "https://plot.ly",
        "showLink": false
       },
       "data": [
        {
         "hovertemplate": "%{y:.2f}%",
         "line": {
          "color": "red"
         },
         "mode": "lines",
         "name": "Mortality Rate",
         "type": "scatter",
         "x": [
          0,
          1,
          2,
          3,
          4,
          5,
          6,
          7,
          8,
          9,
          10,
          11,
          12,
          13,
          14,
          15,
          16,
          17,
          18,
          19,
          20,
          21,
          22,
          23,
          24,
          25,
          26,
          27,
          28,
          29,
          30,
          31,
          32,
          33,
          34,
          35,
          36,
          37,
          38,
          39,
          40,
          41,
          42,
          43,
          44,
          45,
          46,
          47,
          48,
          49,
          50,
          51,
          52,
          53,
          54,
          55,
          56,
          57,
          58,
          59,
          60,
          61,
          62,
          63,
          64,
          65,
          66,
          67,
          68,
          69,
          70,
          71,
          72,
          73,
          74,
          75,
          76,
          77,
          78,
          79,
          80,
          81,
          82,
          83,
          84,
          85,
          86,
          87,
          88,
          89,
          90,
          91,
          92,
          93,
          94,
          95,
          96,
          97
         ],
         "xaxis": "x",
         "y": [
          0,
          0,
          0,
          0,
          0,
          0,
          0,
          0,
          0,
          0,
          0,
          0,
          0,
          0,
          0,
          0,
          0,
          0,
          0,
          0,
          0,
          0,
          0,
          0,
          0,
          0,
          0,
          0,
          0,
          0,
          0,
          0,
          0,
          0,
          0,
          0,
          0,
          0,
          1.4705882352941175,
          1.3513513513513513,
          6.122448979591836,
          5.932203389830509,
          7.38255033557047,
          5.529953917050691,
          5.343511450381679,
          4.228855721393035,
          4.054054054054054,
          3.7735849056603774,
          2.9197080291970803,
          2.810304449648712,
          2.4654239326518343,
          2.248737953189537,
          2.126879354602127,
          2.0863103743926836,
          2.1373056994818653,
          2.071328453511914,
          2.1071566234099963,
          1.876773114133993,
          1.8108234317438905,
          1.7265625,
          1.761028969828104,
          1.7927605318979085,
          1.8758374274229568,
          2.000668916659065,
          2.058781430411756,
          2.228080702755344,
          2.2483843082369406,
          2.4270983400634454,
          2.5903566065834114,
          2.8521777947834956,
          3.0486489528329317,
          3.2513484003907696,
          3.357700813823007,
          3.5169285598574436,
          3.6742655922470773,
          3.792889764875777,
          4.077094890474188,
          4.262178820213972,
          4.376809715199447,
          4.497769542932523,
          4.6242752604503075,
          4.697530942009282,
          4.800049602234856,
          4.9800055951421,
          5.144024514811032,
          5.2168090690122115,
          5.346674174581896,
          5.429276547158757,
          5.395956031096099,
          5.438937380629993,
          5.553386338861756,
          5.6419281942902435,
          5.720860130929507,
          5.687584358894492,
          5.7298695096967025,
          5.682527684733144,
          5.693095607454788,
          5.762990059076697
         ],
         "yaxis": "y"
        },
        {
         "hovertemplate": "%{y:.2f}%",
         "line": {
          "color": "black",
          "dash": "dash"
         },
         "mode": "lines",
         "name": "Mean",
         "type": "scatter",
         "xaxis": "x",
         "y": [
          2.3246225238642366,
          2.3246225238642366,
          2.3246225238642366,
          2.3246225238642366,
          2.3246225238642366,
          2.3246225238642366,
          2.3246225238642366,
          2.3246225238642366,
          2.3246225238642366,
          2.3246225238642366,
          2.3246225238642366,
          2.3246225238642366,
          2.3246225238642366,
          2.3246225238642366,
          2.3246225238642366,
          2.3246225238642366,
          2.3246225238642366,
          2.3246225238642366,
          2.3246225238642366,
          2.3246225238642366,
          2.3246225238642366,
          2.3246225238642366,
          2.3246225238642366,
          2.3246225238642366,
          2.3246225238642366,
          2.3246225238642366,
          2.3246225238642366,
          2.3246225238642366,
          2.3246225238642366,
          2.3246225238642366,
          2.3246225238642366,
          2.3246225238642366,
          2.3246225238642366,
          2.3246225238642366,
          2.3246225238642366,
          2.3246225238642366,
          2.3246225238642366,
          2.3246225238642366,
          2.3246225238642366,
          2.3246225238642366,
          2.3246225238642366,
          2.3246225238642366,
          2.3246225238642366,
          2.3246225238642366,
          2.3246225238642366,
          2.3246225238642366,
          2.3246225238642366,
          2.3246225238642366,
          2.3246225238642366,
          2.3246225238642366,
          2.3246225238642366,
          2.3246225238642366,
          2.3246225238642366,
          2.3246225238642366,
          2.3246225238642366,
          2.3246225238642366,
          2.3246225238642366,
          2.3246225238642366,
          2.3246225238642366,
          2.3246225238642366,
          2.3246225238642366,
          2.3246225238642366,
          2.3246225238642366,
          2.3246225238642366,
          2.3246225238642366,
          2.3246225238642366,
          2.3246225238642366,
          2.3246225238642366,
          2.3246225238642366,
          2.3246225238642366,
          2.3246225238642366,
          2.3246225238642366,
          2.3246225238642366,
          2.3246225238642366,
          2.3246225238642366,
          2.3246225238642366,
          2.3246225238642366,
          2.3246225238642366,
          2.3246225238642366,
          2.3246225238642366,
          2.3246225238642366,
          2.3246225238642366,
          2.3246225238642366,
          2.3246225238642366,
          2.3246225238642366,
          2.3246225238642366,
          2.3246225238642366,
          2.3246225238642366,
          2.3246225238642366,
          2.3246225238642366,
          2.3246225238642366,
          2.3246225238642366,
          2.3246225238642366,
          2.3246225238642366,
          2.3246225238642366,
          2.3246225238642366,
          2.3246225238642366,
          2.3246225238642366
         ],
         "yaxis": "y"
        },
        {
         "hovertemplate": "%{y:.2f}%",
         "line": {
          "color": "green"
         },
         "mode": "lines",
         "name": "Recovery Rate",
         "type": "scatter",
         "x": [
          0,
          1,
          2,
          3,
          4,
          5,
          6,
          7,
          8,
          9,
          10,
          11,
          12,
          13,
          14,
          15,
          16,
          17,
          18,
          19,
          20,
          21,
          22,
          23,
          24,
          25,
          26,
          27,
          28,
          29,
          30,
          31,
          32,
          33,
          34,
          35,
          36,
          37,
          38,
          39,
          40,
          41,
          42,
          43,
          44,
          45,
          46,
          47,
          48,
          49,
          50,
          51,
          52,
          53,
          54,
          55,
          56,
          57,
          58,
          59,
          60,
          61,
          62,
          63,
          64,
          65,
          66,
          67,
          68,
          69,
          70,
          71,
          72,
          73,
          74,
          75,
          76,
          77,
          78,
          79,
          80,
          81,
          82,
          83,
          84,
          85,
          86,
          87,
          88,
          89,
          90,
          91,
          92,
          93,
          94,
          95,
          96,
          97
         ],
         "xaxis": "x2",
         "y": [
          0,
          0,
          0,
          0,
          0,
          0,
          0,
          0,
          0,
          0,
          0,
          0,
          0,
          0,
          0,
          0,
          0,
          0,
          27.27272727272727,
          27.27272727272727,
          25,
          25,
          23.076923076923077,
          23.076923076923077,
          23.076923076923077,
          23.076923076923077,
          23.076923076923077,
          23.076923076923077,
          23.076923076923077,
          23.076923076923077,
          33.33333333333333,
          33.33333333333333,
          33.33333333333333,
          9.803921568627452,
          11.76470588235294,
          10.526315789473683,
          10.344827586206897,
          11.666666666666666,
          10.294117647058822,
          9.45945945945946,
          7.142857142857142,
          5.932203389830509,
          4.697986577181208,
          3.225806451612903,
          2.6717557251908395,
          1.7412935323383085,
          1.3513513513513513,
          1.2006861063464835,
          0.8342022940563086,
          0.624512099921936,
          0.7215874924834637,
          0.5507113354749885,
          0.44004400440044,
          0.3429551300371535,
          0.36701208981001726,
          0.264756268494004,
          1.3490941796222538,
          0.880192041900051,
          0.7627250557775126,
          0.6875,
          0.5349200625075129,
          0.40599411536619306,
          0.6476105404198302,
          0.5488157134604276,
          0.8123002051624602,
          0.8548353777900194,
          0.8825587617832297,
          1.8912915427687373,
          3.487588904474421,
          3.7327551389154605,
          3.9738888211515553,
          3.6946581179039657,
          3.525113757276652,
          4.747124574761056,
          5.1804918023052124,
          5.345370266736187,
          5.480193694113381,
          5.496041096082155,
          5.490729936470894,
          5.798181397081777,
          5.940394683850181,
          5.940433593306837,
          7.488904083400646,
          7.860022709694406,
          8.186689714779602,
          8.19407662164915,
          8.367085604525329,
          8.85554024395074,
          9.269394538019448,
          9.221803178780252,
          9.263116404820998,
          9.206391138940752,
          9.22753891643752,
          10.94362672003782,
          10.69888312579811,
          11.077827880946588,
          11.275484544073702,
          11.449541864263832
         ],
         "yaxis": "y2"
        },
        {
         "hovertemplate": "%{y:.2f}%",
         "line": {
          "color": "black",
          "dash": "dash"
         },
         "mode": "lines",
         "name": "Mean",
         "type": "scatter",
         "xaxis": "x2",
         "y": [
          7.385788830848765,
          7.385788830848765,
          7.385788830848765,
          7.385788830848765,
          7.385788830848765,
          7.385788830848765,
          7.385788830848765,
          7.385788830848765,
          7.385788830848765,
          7.385788830848765,
          7.385788830848765,
          7.385788830848765,
          7.385788830848765,
          7.385788830848765,
          7.385788830848765,
          7.385788830848765,
          7.385788830848765,
          7.385788830848765,
          7.385788830848765,
          7.385788830848765,
          7.385788830848765,
          7.385788830848765,
          7.385788830848765,
          7.385788830848765,
          7.385788830848765,
          7.385788830848765,
          7.385788830848765,
          7.385788830848765,
          7.385788830848765,
          7.385788830848765,
          7.385788830848765,
          7.385788830848765,
          7.385788830848765,
          7.385788830848765,
          7.385788830848765,
          7.385788830848765,
          7.385788830848765,
          7.385788830848765,
          7.385788830848765,
          7.385788830848765,
          7.385788830848765,
          7.385788830848765,
          7.385788830848765,
          7.385788830848765,
          7.385788830848765,
          7.385788830848765,
          7.385788830848765,
          7.385788830848765,
          7.385788830848765,
          7.385788830848765,
          7.385788830848765,
          7.385788830848765,
          7.385788830848765,
          7.385788830848765,
          7.385788830848765,
          7.385788830848765,
          7.385788830848765,
          7.385788830848765,
          7.385788830848765,
          7.385788830848765,
          7.385788830848765,
          7.385788830848765,
          7.385788830848765,
          7.385788830848765,
          7.385788830848765,
          7.385788830848765,
          7.385788830848765,
          7.385788830848765,
          7.385788830848765,
          7.385788830848765,
          7.385788830848765,
          7.385788830848765,
          7.385788830848765,
          7.385788830848765,
          7.385788830848765,
          7.385788830848765,
          7.385788830848765,
          7.385788830848765,
          7.385788830848765,
          7.385788830848765,
          7.385788830848765,
          7.385788830848765,
          7.385788830848765,
          7.385788830848765,
          7.385788830848765,
          7.385788830848765,
          7.385788830848765,
          7.385788830848765,
          7.385788830848765,
          7.385788830848765,
          7.385788830848765,
          7.385788830848765,
          7.385788830848765,
          7.385788830848765,
          7.385788830848765,
          7.385788830848765,
          7.385788830848765,
          7.385788830848765
         ],
         "yaxis": "y2"
        }
       ],
       "layout": {
        "annotations": [
         {
          "font": {
           "size": 16
          },
          "showarrow": false,
          "text": "US Mortality Rate",
          "x": 0.225,
          "xanchor": "center",
          "xref": "paper",
          "y": 1,
          "yanchor": "bottom",
          "yref": "paper"
         },
         {
          "font": {
           "size": 16
          },
          "showarrow": false,
          "text": "US Recovery Rate",
          "x": 0.775,
          "xanchor": "center",
          "xref": "paper",
          "y": 1,
          "yanchor": "bottom",
          "yref": "paper"
         }
        ],
        "hovermode": "x",
        "template": {
         "data": {
          "bar": [
           {
            "error_x": {
             "color": "#2a3f5f"
            },
            "error_y": {
             "color": "#2a3f5f"
            },
            "marker": {
             "line": {
              "color": "#E5ECF6",
              "width": 0.5
             }
            },
            "type": "bar"
           }
          ],
          "barpolar": [
           {
            "marker": {
             "line": {
              "color": "#E5ECF6",
              "width": 0.5
             }
            },
            "type": "barpolar"
           }
          ],
          "carpet": [
           {
            "aaxis": {
             "endlinecolor": "#2a3f5f",
             "gridcolor": "white",
             "linecolor": "white",
             "minorgridcolor": "white",
             "startlinecolor": "#2a3f5f"
            },
            "baxis": {
             "endlinecolor": "#2a3f5f",
             "gridcolor": "white",
             "linecolor": "white",
             "minorgridcolor": "white",
             "startlinecolor": "#2a3f5f"
            },
            "type": "carpet"
           }
          ],
          "choropleth": [
           {
            "colorbar": {
             "outlinewidth": 0,
             "ticks": ""
            },
            "type": "choropleth"
           }
          ],
          "contour": [
           {
            "colorbar": {
             "outlinewidth": 0,
             "ticks": ""
            },
            "colorscale": [
             [
              0,
              "#0d0887"
             ],
             [
              0.1111111111111111,
              "#46039f"
             ],
             [
              0.2222222222222222,
              "#7201a8"
             ],
             [
              0.3333333333333333,
              "#9c179e"
             ],
             [
              0.4444444444444444,
              "#bd3786"
             ],
             [
              0.5555555555555556,
              "#d8576b"
             ],
             [
              0.6666666666666666,
              "#ed7953"
             ],
             [
              0.7777777777777778,
              "#fb9f3a"
             ],
             [
              0.8888888888888888,
              "#fdca26"
             ],
             [
              1,
              "#f0f921"
             ]
            ],
            "type": "contour"
           }
          ],
          "contourcarpet": [
           {
            "colorbar": {
             "outlinewidth": 0,
             "ticks": ""
            },
            "type": "contourcarpet"
           }
          ],
          "heatmap": [
           {
            "colorbar": {
             "outlinewidth": 0,
             "ticks": ""
            },
            "colorscale": [
             [
              0,
              "#0d0887"
             ],
             [
              0.1111111111111111,
              "#46039f"
             ],
             [
              0.2222222222222222,
              "#7201a8"
             ],
             [
              0.3333333333333333,
              "#9c179e"
             ],
             [
              0.4444444444444444,
              "#bd3786"
             ],
             [
              0.5555555555555556,
              "#d8576b"
             ],
             [
              0.6666666666666666,
              "#ed7953"
             ],
             [
              0.7777777777777778,
              "#fb9f3a"
             ],
             [
              0.8888888888888888,
              "#fdca26"
             ],
             [
              1,
              "#f0f921"
             ]
            ],
            "type": "heatmap"
           }
          ],
          "heatmapgl": [
           {
            "colorbar": {
             "outlinewidth": 0,
             "ticks": ""
            },
            "colorscale": [
             [
              0,
              "#0d0887"
             ],
             [
              0.1111111111111111,
              "#46039f"
             ],
             [
              0.2222222222222222,
              "#7201a8"
             ],
             [
              0.3333333333333333,
              "#9c179e"
             ],
             [
              0.4444444444444444,
              "#bd3786"
             ],
             [
              0.5555555555555556,
              "#d8576b"
             ],
             [
              0.6666666666666666,
              "#ed7953"
             ],
             [
              0.7777777777777778,
              "#fb9f3a"
             ],
             [
              0.8888888888888888,
              "#fdca26"
             ],
             [
              1,
              "#f0f921"
             ]
            ],
            "type": "heatmapgl"
           }
          ],
          "histogram": [
           {
            "marker": {
             "colorbar": {
              "outlinewidth": 0,
              "ticks": ""
             }
            },
            "type": "histogram"
           }
          ],
          "histogram2d": [
           {
            "colorbar": {
             "outlinewidth": 0,
             "ticks": ""
            },
            "colorscale": [
             [
              0,
              "#0d0887"
             ],
             [
              0.1111111111111111,
              "#46039f"
             ],
             [
              0.2222222222222222,
              "#7201a8"
             ],
             [
              0.3333333333333333,
              "#9c179e"
             ],
             [
              0.4444444444444444,
              "#bd3786"
             ],
             [
              0.5555555555555556,
              "#d8576b"
             ],
             [
              0.6666666666666666,
              "#ed7953"
             ],
             [
              0.7777777777777778,
              "#fb9f3a"
             ],
             [
              0.8888888888888888,
              "#fdca26"
             ],
             [
              1,
              "#f0f921"
             ]
            ],
            "type": "histogram2d"
           }
          ],
          "histogram2dcontour": [
           {
            "colorbar": {
             "outlinewidth": 0,
             "ticks": ""
            },
            "colorscale": [
             [
              0,
              "#0d0887"
             ],
             [
              0.1111111111111111,
              "#46039f"
             ],
             [
              0.2222222222222222,
              "#7201a8"
             ],
             [
              0.3333333333333333,
              "#9c179e"
             ],
             [
              0.4444444444444444,
              "#bd3786"
             ],
             [
              0.5555555555555556,
              "#d8576b"
             ],
             [
              0.6666666666666666,
              "#ed7953"
             ],
             [
              0.7777777777777778,
              "#fb9f3a"
             ],
             [
              0.8888888888888888,
              "#fdca26"
             ],
             [
              1,
              "#f0f921"
             ]
            ],
            "type": "histogram2dcontour"
           }
          ],
          "mesh3d": [
           {
            "colorbar": {
             "outlinewidth": 0,
             "ticks": ""
            },
            "type": "mesh3d"
           }
          ],
          "parcoords": [
           {
            "line": {
             "colorbar": {
              "outlinewidth": 0,
              "ticks": ""
             }
            },
            "type": "parcoords"
           }
          ],
          "pie": [
           {
            "automargin": true,
            "type": "pie"
           }
          ],
          "scatter": [
           {
            "marker": {
             "colorbar": {
              "outlinewidth": 0,
              "ticks": ""
             }
            },
            "type": "scatter"
           }
          ],
          "scatter3d": [
           {
            "line": {
             "colorbar": {
              "outlinewidth": 0,
              "ticks": ""
             }
            },
            "marker": {
             "colorbar": {
              "outlinewidth": 0,
              "ticks": ""
             }
            },
            "type": "scatter3d"
           }
          ],
          "scattercarpet": [
           {
            "marker": {
             "colorbar": {
              "outlinewidth": 0,
              "ticks": ""
             }
            },
            "type": "scattercarpet"
           }
          ],
          "scattergeo": [
           {
            "marker": {
             "colorbar": {
              "outlinewidth": 0,
              "ticks": ""
             }
            },
            "type": "scattergeo"
           }
          ],
          "scattergl": [
           {
            "marker": {
             "colorbar": {
              "outlinewidth": 0,
              "ticks": ""
             }
            },
            "type": "scattergl"
           }
          ],
          "scattermapbox": [
           {
            "marker": {
             "colorbar": {
              "outlinewidth": 0,
              "ticks": ""
             }
            },
            "type": "scattermapbox"
           }
          ],
          "scatterpolar": [
           {
            "marker": {
             "colorbar": {
              "outlinewidth": 0,
              "ticks": ""
             }
            },
            "type": "scatterpolar"
           }
          ],
          "scatterpolargl": [
           {
            "marker": {
             "colorbar": {
              "outlinewidth": 0,
              "ticks": ""
             }
            },
            "type": "scatterpolargl"
           }
          ],
          "scatterternary": [
           {
            "marker": {
             "colorbar": {
              "outlinewidth": 0,
              "ticks": ""
             }
            },
            "type": "scatterternary"
           }
          ],
          "surface": [
           {
            "colorbar": {
             "outlinewidth": 0,
             "ticks": ""
            },
            "colorscale": [
             [
              0,
              "#0d0887"
             ],
             [
              0.1111111111111111,
              "#46039f"
             ],
             [
              0.2222222222222222,
              "#7201a8"
             ],
             [
              0.3333333333333333,
              "#9c179e"
             ],
             [
              0.4444444444444444,
              "#bd3786"
             ],
             [
              0.5555555555555556,
              "#d8576b"
             ],
             [
              0.6666666666666666,
              "#ed7953"
             ],
             [
              0.7777777777777778,
              "#fb9f3a"
             ],
             [
              0.8888888888888888,
              "#fdca26"
             ],
             [
              1,
              "#f0f921"
             ]
            ],
            "type": "surface"
           }
          ],
          "table": [
           {
            "cells": {
             "fill": {
              "color": "#EBF0F8"
             },
             "line": {
              "color": "white"
             }
            },
            "header": {
             "fill": {
              "color": "#C8D4E3"
             },
             "line": {
              "color": "white"
             }
            },
            "type": "table"
           }
          ]
         },
         "layout": {
          "annotationdefaults": {
           "arrowcolor": "#2a3f5f",
           "arrowhead": 0,
           "arrowwidth": 1
          },
          "coloraxis": {
           "colorbar": {
            "outlinewidth": 0,
            "ticks": ""
           }
          },
          "colorscale": {
           "diverging": [
            [
             0,
             "#8e0152"
            ],
            [
             0.1,
             "#c51b7d"
            ],
            [
             0.2,
             "#de77ae"
            ],
            [
             0.3,
             "#f1b6da"
            ],
            [
             0.4,
             "#fde0ef"
            ],
            [
             0.5,
             "#f7f7f7"
            ],
            [
             0.6,
             "#e6f5d0"
            ],
            [
             0.7,
             "#b8e186"
            ],
            [
             0.8,
             "#7fbc41"
            ],
            [
             0.9,
             "#4d9221"
            ],
            [
             1,
             "#276419"
            ]
           ],
           "sequential": [
            [
             0,
             "#0d0887"
            ],
            [
             0.1111111111111111,
             "#46039f"
            ],
            [
             0.2222222222222222,
             "#7201a8"
            ],
            [
             0.3333333333333333,
             "#9c179e"
            ],
            [
             0.4444444444444444,
             "#bd3786"
            ],
            [
             0.5555555555555556,
             "#d8576b"
            ],
            [
             0.6666666666666666,
             "#ed7953"
            ],
            [
             0.7777777777777778,
             "#fb9f3a"
            ],
            [
             0.8888888888888888,
             "#fdca26"
            ],
            [
             1,
             "#f0f921"
            ]
           ],
           "sequentialminus": [
            [
             0,
             "#0d0887"
            ],
            [
             0.1111111111111111,
             "#46039f"
            ],
            [
             0.2222222222222222,
             "#7201a8"
            ],
            [
             0.3333333333333333,
             "#9c179e"
            ],
            [
             0.4444444444444444,
             "#bd3786"
            ],
            [
             0.5555555555555556,
             "#d8576b"
            ],
            [
             0.6666666666666666,
             "#ed7953"
            ],
            [
             0.7777777777777778,
             "#fb9f3a"
            ],
            [
             0.8888888888888888,
             "#fdca26"
            ],
            [
             1,
             "#f0f921"
            ]
           ]
          },
          "colorway": [
           "#636efa",
           "#EF553B",
           "#00cc96",
           "#ab63fa",
           "#FFA15A",
           "#19d3f3",
           "#FF6692",
           "#B6E880",
           "#FF97FF",
           "#FECB52"
          ],
          "font": {
           "color": "#2a3f5f"
          },
          "geo": {
           "bgcolor": "white",
           "lakecolor": "white",
           "landcolor": "#E5ECF6",
           "showlakes": true,
           "showland": true,
           "subunitcolor": "white"
          },
          "hoverlabel": {
           "align": "left"
          },
          "hovermode": "closest",
          "mapbox": {
           "style": "light"
          },
          "paper_bgcolor": "white",
          "plot_bgcolor": "#E5ECF6",
          "polar": {
           "angularaxis": {
            "gridcolor": "white",
            "linecolor": "white",
            "ticks": ""
           },
           "bgcolor": "#E5ECF6",
           "radialaxis": {
            "gridcolor": "white",
            "linecolor": "white",
            "ticks": ""
           }
          },
          "scene": {
           "xaxis": {
            "backgroundcolor": "#E5ECF6",
            "gridcolor": "white",
            "gridwidth": 2,
            "linecolor": "white",
            "showbackground": true,
            "ticks": "",
            "zerolinecolor": "white"
           },
           "yaxis": {
            "backgroundcolor": "#E5ECF6",
            "gridcolor": "white",
            "gridwidth": 2,
            "linecolor": "white",
            "showbackground": true,
            "ticks": "",
            "zerolinecolor": "white"
           },
           "zaxis": {
            "backgroundcolor": "#E5ECF6",
            "gridcolor": "white",
            "gridwidth": 2,
            "linecolor": "white",
            "showbackground": true,
            "ticks": "",
            "zerolinecolor": "white"
           }
          },
          "shapedefaults": {
           "line": {
            "color": "#2a3f5f"
           }
          },
          "ternary": {
           "aaxis": {
            "gridcolor": "white",
            "linecolor": "white",
            "ticks": ""
           },
           "baxis": {
            "gridcolor": "white",
            "linecolor": "white",
            "ticks": ""
           },
           "bgcolor": "#E5ECF6",
           "caxis": {
            "gridcolor": "white",
            "linecolor": "white",
            "ticks": ""
           }
          },
          "title": {
           "x": 0.05
          },
          "xaxis": {
           "automargin": true,
           "gridcolor": "white",
           "linecolor": "white",
           "ticks": "",
           "title": {
            "standoff": 15
           },
           "zerolinecolor": "white",
           "zerolinewidth": 2
          },
          "yaxis": {
           "automargin": true,
           "gridcolor": "white",
           "linecolor": "white",
           "ticks": "",
           "title": {
            "standoff": 15
           },
           "zerolinecolor": "white",
           "zerolinewidth": 2
          }
         }
        },
        "xaxis": {
         "anchor": "y",
         "domain": [
          0,
          0.45
         ],
         "title": {
          "text": "Days since 1/22/20"
         }
        },
        "xaxis2": {
         "anchor": "y2",
         "domain": [
          0.55,
          1
         ],
         "title": {
          "text": "Days since 1/22/20"
         }
        },
        "yaxis": {
         "anchor": "x",
         "domain": [
          0,
          1
         ],
         "title": {
          "text": "Percent"
         }
        },
        "yaxis2": {
         "anchor": "x2",
         "domain": [
          0,
          1
         ],
         "title": {
          "text": "Percent"
         }
        }
       }
      },
      "text/html": [
       "<div>\n",
       "        \n",
       "        \n",
       "            <div id=\"382e0f62-a2b8-46f5-b203-7511bea6d784\" class=\"plotly-graph-div\" style=\"height:525px; width:100%;\"></div>\n",
       "            <script type=\"text/javascript\">\n",
       "                require([\"plotly\"], function(Plotly) {\n",
       "                    window.PLOTLYENV=window.PLOTLYENV || {};\n",
       "                    \n",
       "                if (document.getElementById(\"382e0f62-a2b8-46f5-b203-7511bea6d784\")) {\n",
       "                    Plotly.newPlot(\n",
       "                        '382e0f62-a2b8-46f5-b203-7511bea6d784',\n",
       "                        [{\"hovertemplate\": \"%{y:.2f}%\", \"line\": {\"color\": \"red\"}, \"mode\": \"lines\", \"name\": \"Mortality Rate\", \"type\": \"scatter\", \"x\": [0, 1, 2, 3, 4, 5, 6, 7, 8, 9, 10, 11, 12, 13, 14, 15, 16, 17, 18, 19, 20, 21, 22, 23, 24, 25, 26, 27, 28, 29, 30, 31, 32, 33, 34, 35, 36, 37, 38, 39, 40, 41, 42, 43, 44, 45, 46, 47, 48, 49, 50, 51, 52, 53, 54, 55, 56, 57, 58, 59, 60, 61, 62, 63, 64, 65, 66, 67, 68, 69, 70, 71, 72, 73, 74, 75, 76, 77, 78, 79, 80, 81, 82, 83, 84, 85, 86, 87, 88, 89, 90, 91, 92, 93, 94, 95, 96, 97], \"xaxis\": \"x\", \"y\": [0.0, 0.0, 0.0, 0.0, 0.0, 0.0, 0.0, 0.0, 0.0, 0.0, 0.0, 0.0, 0.0, 0.0, 0.0, 0.0, 0.0, 0.0, 0.0, 0.0, 0.0, 0.0, 0.0, 0.0, 0.0, 0.0, 0.0, 0.0, 0.0, 0.0, 0.0, 0.0, 0.0, 0.0, 0.0, 0.0, 0.0, 0.0, 1.4705882352941175, 1.3513513513513513, 6.122448979591836, 5.932203389830509, 7.38255033557047, 5.529953917050691, 5.343511450381679, 4.228855721393035, 4.054054054054054, 3.7735849056603774, 2.9197080291970803, 2.810304449648712, 2.4654239326518343, 2.248737953189537, 2.126879354602127, 2.0863103743926836, 2.1373056994818653, 2.071328453511914, 2.1071566234099963, 1.876773114133993, 1.8108234317438905, 1.7265625, 1.761028969828104, 1.7927605318979085, 1.8758374274229568, 2.000668916659065, 2.058781430411756, 2.228080702755344, 2.2483843082369406, 2.4270983400634454, 2.5903566065834114, 2.8521777947834956, 3.0486489528329317, 3.2513484003907696, 3.357700813823007, 3.5169285598574436, 3.6742655922470773, 3.792889764875777, 4.077094890474188, 4.262178820213972, 4.376809715199447, 4.497769542932523, 4.6242752604503075, 4.697530942009282, 4.800049602234856, 4.9800055951421, 5.144024514811032, 5.2168090690122115, 5.346674174581896, 5.429276547158757, 5.395956031096099, 5.438937380629993, 5.553386338861756, 5.6419281942902435, 5.720860130929507, 5.687584358894492, 5.7298695096967025, 5.682527684733144, 5.693095607454788, 5.762990059076697], \"yaxis\": \"y\"}, {\"hovertemplate\": \"%{y:.2f}%\", \"line\": {\"color\": \"black\", \"dash\": \"dash\"}, \"mode\": \"lines\", \"name\": \"Mean\", \"type\": \"scatter\", \"xaxis\": \"x\", \"y\": [2.3246225238642366, 2.3246225238642366, 2.3246225238642366, 2.3246225238642366, 2.3246225238642366, 2.3246225238642366, 2.3246225238642366, 2.3246225238642366, 2.3246225238642366, 2.3246225238642366, 2.3246225238642366, 2.3246225238642366, 2.3246225238642366, 2.3246225238642366, 2.3246225238642366, 2.3246225238642366, 2.3246225238642366, 2.3246225238642366, 2.3246225238642366, 2.3246225238642366, 2.3246225238642366, 2.3246225238642366, 2.3246225238642366, 2.3246225238642366, 2.3246225238642366, 2.3246225238642366, 2.3246225238642366, 2.3246225238642366, 2.3246225238642366, 2.3246225238642366, 2.3246225238642366, 2.3246225238642366, 2.3246225238642366, 2.3246225238642366, 2.3246225238642366, 2.3246225238642366, 2.3246225238642366, 2.3246225238642366, 2.3246225238642366, 2.3246225238642366, 2.3246225238642366, 2.3246225238642366, 2.3246225238642366, 2.3246225238642366, 2.3246225238642366, 2.3246225238642366, 2.3246225238642366, 2.3246225238642366, 2.3246225238642366, 2.3246225238642366, 2.3246225238642366, 2.3246225238642366, 2.3246225238642366, 2.3246225238642366, 2.3246225238642366, 2.3246225238642366, 2.3246225238642366, 2.3246225238642366, 2.3246225238642366, 2.3246225238642366, 2.3246225238642366, 2.3246225238642366, 2.3246225238642366, 2.3246225238642366, 2.3246225238642366, 2.3246225238642366, 2.3246225238642366, 2.3246225238642366, 2.3246225238642366, 2.3246225238642366, 2.3246225238642366, 2.3246225238642366, 2.3246225238642366, 2.3246225238642366, 2.3246225238642366, 2.3246225238642366, 2.3246225238642366, 2.3246225238642366, 2.3246225238642366, 2.3246225238642366, 2.3246225238642366, 2.3246225238642366, 2.3246225238642366, 2.3246225238642366, 2.3246225238642366, 2.3246225238642366, 2.3246225238642366, 2.3246225238642366, 2.3246225238642366, 2.3246225238642366, 2.3246225238642366, 2.3246225238642366, 2.3246225238642366, 2.3246225238642366, 2.3246225238642366, 2.3246225238642366, 2.3246225238642366, 2.3246225238642366], \"yaxis\": \"y\"}, {\"hovertemplate\": \"%{y:.2f}%\", \"line\": {\"color\": \"green\"}, \"mode\": \"lines\", \"name\": \"Recovery Rate\", \"type\": \"scatter\", \"x\": [0, 1, 2, 3, 4, 5, 6, 7, 8, 9, 10, 11, 12, 13, 14, 15, 16, 17, 18, 19, 20, 21, 22, 23, 24, 25, 26, 27, 28, 29, 30, 31, 32, 33, 34, 35, 36, 37, 38, 39, 40, 41, 42, 43, 44, 45, 46, 47, 48, 49, 50, 51, 52, 53, 54, 55, 56, 57, 58, 59, 60, 61, 62, 63, 64, 65, 66, 67, 68, 69, 70, 71, 72, 73, 74, 75, 76, 77, 78, 79, 80, 81, 82, 83, 84, 85, 86, 87, 88, 89, 90, 91, 92, 93, 94, 95, 96, 97], \"xaxis\": \"x2\", \"y\": [0.0, 0.0, 0.0, 0.0, 0.0, 0.0, 0.0, 0.0, 0.0, 0.0, 0.0, 0.0, 0.0, 0.0, 0.0, 0.0, 0.0, 0.0, 27.27272727272727, 27.27272727272727, 25.0, 25.0, 23.076923076923077, 23.076923076923077, 23.076923076923077, 23.076923076923077, 23.076923076923077, 23.076923076923077, 23.076923076923077, 23.076923076923077, 33.33333333333333, 33.33333333333333, 33.33333333333333, 9.803921568627452, 11.76470588235294, 10.526315789473683, 10.344827586206897, 11.666666666666666, 10.294117647058822, 9.45945945945946, 7.142857142857142, 5.932203389830509, 4.697986577181208, 3.225806451612903, 2.6717557251908395, 1.7412935323383085, 1.3513513513513513, 1.2006861063464835, 0.8342022940563086, 0.624512099921936, 0.7215874924834637, 0.5507113354749885, 0.44004400440044, 0.3429551300371535, 0.36701208981001726, 0.264756268494004, 1.3490941796222538, 0.880192041900051, 0.7627250557775126, 0.6875, 0.5349200625075129, 0.40599411536619306, 0.6476105404198302, 0.5488157134604276, 0.8123002051624602, 0.8548353777900194, 0.8825587617832297, 1.8912915427687373, 3.487588904474421, 3.7327551389154605, 3.9738888211515553, 3.6946581179039657, 3.525113757276652, 4.747124574761056, 5.1804918023052124, 5.345370266736187, 5.480193694113381, 5.496041096082155, 5.490729936470894, 5.798181397081777, 5.940394683850181, 5.940433593306837, 7.488904083400646, 7.860022709694406, 8.186689714779602, 8.19407662164915, 8.367085604525329, 8.85554024395074, 9.269394538019448, 9.221803178780252, 9.263116404820998, 9.206391138940752, 9.22753891643752, 10.94362672003782, 10.69888312579811, 11.077827880946588, 11.275484544073702, 11.449541864263832], \"yaxis\": \"y2\"}, {\"hovertemplate\": \"%{y:.2f}%\", \"line\": {\"color\": \"black\", \"dash\": \"dash\"}, \"mode\": \"lines\", \"name\": \"Mean\", \"type\": \"scatter\", \"xaxis\": \"x2\", \"y\": [7.385788830848765, 7.385788830848765, 7.385788830848765, 7.385788830848765, 7.385788830848765, 7.385788830848765, 7.385788830848765, 7.385788830848765, 7.385788830848765, 7.385788830848765, 7.385788830848765, 7.385788830848765, 7.385788830848765, 7.385788830848765, 7.385788830848765, 7.385788830848765, 7.385788830848765, 7.385788830848765, 7.385788830848765, 7.385788830848765, 7.385788830848765, 7.385788830848765, 7.385788830848765, 7.385788830848765, 7.385788830848765, 7.385788830848765, 7.385788830848765, 7.385788830848765, 7.385788830848765, 7.385788830848765, 7.385788830848765, 7.385788830848765, 7.385788830848765, 7.385788830848765, 7.385788830848765, 7.385788830848765, 7.385788830848765, 7.385788830848765, 7.385788830848765, 7.385788830848765, 7.385788830848765, 7.385788830848765, 7.385788830848765, 7.385788830848765, 7.385788830848765, 7.385788830848765, 7.385788830848765, 7.385788830848765, 7.385788830848765, 7.385788830848765, 7.385788830848765, 7.385788830848765, 7.385788830848765, 7.385788830848765, 7.385788830848765, 7.385788830848765, 7.385788830848765, 7.385788830848765, 7.385788830848765, 7.385788830848765, 7.385788830848765, 7.385788830848765, 7.385788830848765, 7.385788830848765, 7.385788830848765, 7.385788830848765, 7.385788830848765, 7.385788830848765, 7.385788830848765, 7.385788830848765, 7.385788830848765, 7.385788830848765, 7.385788830848765, 7.385788830848765, 7.385788830848765, 7.385788830848765, 7.385788830848765, 7.385788830848765, 7.385788830848765, 7.385788830848765, 7.385788830848765, 7.385788830848765, 7.385788830848765, 7.385788830848765, 7.385788830848765, 7.385788830848765, 7.385788830848765, 7.385788830848765, 7.385788830848765, 7.385788830848765, 7.385788830848765, 7.385788830848765, 7.385788830848765, 7.385788830848765, 7.385788830848765, 7.385788830848765, 7.385788830848765, 7.385788830848765], \"yaxis\": \"y2\"}],\n",
       "                        {\"annotations\": [{\"font\": {\"size\": 16}, \"showarrow\": false, \"text\": \"US Mortality Rate\", \"x\": 0.225, \"xanchor\": \"center\", \"xref\": \"paper\", \"y\": 1.0, \"yanchor\": \"bottom\", \"yref\": \"paper\"}, {\"font\": {\"size\": 16}, \"showarrow\": false, \"text\": \"US Recovery Rate\", \"x\": 0.775, \"xanchor\": \"center\", \"xref\": \"paper\", \"y\": 1.0, \"yanchor\": \"bottom\", \"yref\": \"paper\"}], \"hovermode\": \"x\", \"template\": {\"data\": {\"bar\": [{\"error_x\": {\"color\": \"#2a3f5f\"}, \"error_y\": {\"color\": \"#2a3f5f\"}, \"marker\": {\"line\": {\"color\": \"#E5ECF6\", \"width\": 0.5}}, \"type\": \"bar\"}], \"barpolar\": [{\"marker\": {\"line\": {\"color\": \"#E5ECF6\", \"width\": 0.5}}, \"type\": \"barpolar\"}], \"carpet\": [{\"aaxis\": {\"endlinecolor\": \"#2a3f5f\", \"gridcolor\": \"white\", \"linecolor\": \"white\", \"minorgridcolor\": \"white\", \"startlinecolor\": \"#2a3f5f\"}, \"baxis\": {\"endlinecolor\": \"#2a3f5f\", \"gridcolor\": \"white\", \"linecolor\": \"white\", \"minorgridcolor\": \"white\", \"startlinecolor\": \"#2a3f5f\"}, \"type\": \"carpet\"}], \"choropleth\": [{\"colorbar\": {\"outlinewidth\": 0, \"ticks\": \"\"}, \"type\": \"choropleth\"}], \"contour\": [{\"colorbar\": {\"outlinewidth\": 0, \"ticks\": \"\"}, \"colorscale\": [[0.0, \"#0d0887\"], [0.1111111111111111, \"#46039f\"], [0.2222222222222222, \"#7201a8\"], [0.3333333333333333, \"#9c179e\"], [0.4444444444444444, \"#bd3786\"], [0.5555555555555556, \"#d8576b\"], [0.6666666666666666, \"#ed7953\"], [0.7777777777777778, \"#fb9f3a\"], [0.8888888888888888, \"#fdca26\"], [1.0, \"#f0f921\"]], \"type\": \"contour\"}], \"contourcarpet\": [{\"colorbar\": {\"outlinewidth\": 0, \"ticks\": \"\"}, \"type\": \"contourcarpet\"}], \"heatmap\": [{\"colorbar\": {\"outlinewidth\": 0, \"ticks\": \"\"}, \"colorscale\": [[0.0, \"#0d0887\"], [0.1111111111111111, \"#46039f\"], [0.2222222222222222, \"#7201a8\"], [0.3333333333333333, \"#9c179e\"], [0.4444444444444444, \"#bd3786\"], [0.5555555555555556, \"#d8576b\"], [0.6666666666666666, \"#ed7953\"], [0.7777777777777778, \"#fb9f3a\"], [0.8888888888888888, \"#fdca26\"], [1.0, \"#f0f921\"]], \"type\": \"heatmap\"}], \"heatmapgl\": [{\"colorbar\": {\"outlinewidth\": 0, \"ticks\": \"\"}, \"colorscale\": [[0.0, \"#0d0887\"], [0.1111111111111111, \"#46039f\"], [0.2222222222222222, \"#7201a8\"], [0.3333333333333333, \"#9c179e\"], [0.4444444444444444, \"#bd3786\"], [0.5555555555555556, \"#d8576b\"], [0.6666666666666666, \"#ed7953\"], [0.7777777777777778, \"#fb9f3a\"], [0.8888888888888888, \"#fdca26\"], [1.0, \"#f0f921\"]], \"type\": \"heatmapgl\"}], \"histogram\": [{\"marker\": {\"colorbar\": {\"outlinewidth\": 0, \"ticks\": \"\"}}, \"type\": \"histogram\"}], \"histogram2d\": [{\"colorbar\": {\"outlinewidth\": 0, \"ticks\": \"\"}, \"colorscale\": [[0.0, \"#0d0887\"], [0.1111111111111111, \"#46039f\"], [0.2222222222222222, \"#7201a8\"], [0.3333333333333333, \"#9c179e\"], [0.4444444444444444, \"#bd3786\"], [0.5555555555555556, \"#d8576b\"], [0.6666666666666666, \"#ed7953\"], [0.7777777777777778, \"#fb9f3a\"], [0.8888888888888888, \"#fdca26\"], [1.0, \"#f0f921\"]], \"type\": \"histogram2d\"}], \"histogram2dcontour\": [{\"colorbar\": {\"outlinewidth\": 0, \"ticks\": \"\"}, \"colorscale\": [[0.0, \"#0d0887\"], [0.1111111111111111, \"#46039f\"], [0.2222222222222222, \"#7201a8\"], [0.3333333333333333, \"#9c179e\"], [0.4444444444444444, \"#bd3786\"], [0.5555555555555556, \"#d8576b\"], [0.6666666666666666, \"#ed7953\"], [0.7777777777777778, \"#fb9f3a\"], [0.8888888888888888, \"#fdca26\"], [1.0, \"#f0f921\"]], \"type\": \"histogram2dcontour\"}], \"mesh3d\": [{\"colorbar\": {\"outlinewidth\": 0, \"ticks\": \"\"}, \"type\": \"mesh3d\"}], \"parcoords\": [{\"line\": {\"colorbar\": {\"outlinewidth\": 0, \"ticks\": \"\"}}, \"type\": \"parcoords\"}], \"pie\": [{\"automargin\": true, \"type\": \"pie\"}], \"scatter\": [{\"marker\": {\"colorbar\": {\"outlinewidth\": 0, \"ticks\": \"\"}}, \"type\": \"scatter\"}], \"scatter3d\": [{\"line\": {\"colorbar\": {\"outlinewidth\": 0, \"ticks\": \"\"}}, \"marker\": {\"colorbar\": {\"outlinewidth\": 0, \"ticks\": \"\"}}, \"type\": \"scatter3d\"}], \"scattercarpet\": [{\"marker\": {\"colorbar\": {\"outlinewidth\": 0, \"ticks\": \"\"}}, \"type\": \"scattercarpet\"}], \"scattergeo\": [{\"marker\": {\"colorbar\": {\"outlinewidth\": 0, \"ticks\": \"\"}}, \"type\": \"scattergeo\"}], \"scattergl\": [{\"marker\": {\"colorbar\": {\"outlinewidth\": 0, \"ticks\": \"\"}}, \"type\": \"scattergl\"}], \"scattermapbox\": [{\"marker\": {\"colorbar\": {\"outlinewidth\": 0, \"ticks\": \"\"}}, \"type\": \"scattermapbox\"}], \"scatterpolar\": [{\"marker\": {\"colorbar\": {\"outlinewidth\": 0, \"ticks\": \"\"}}, \"type\": \"scatterpolar\"}], \"scatterpolargl\": [{\"marker\": {\"colorbar\": {\"outlinewidth\": 0, \"ticks\": \"\"}}, \"type\": \"scatterpolargl\"}], \"scatterternary\": [{\"marker\": {\"colorbar\": {\"outlinewidth\": 0, \"ticks\": \"\"}}, \"type\": \"scatterternary\"}], \"surface\": [{\"colorbar\": {\"outlinewidth\": 0, \"ticks\": \"\"}, \"colorscale\": [[0.0, \"#0d0887\"], [0.1111111111111111, \"#46039f\"], [0.2222222222222222, \"#7201a8\"], [0.3333333333333333, \"#9c179e\"], [0.4444444444444444, \"#bd3786\"], [0.5555555555555556, \"#d8576b\"], [0.6666666666666666, \"#ed7953\"], [0.7777777777777778, \"#fb9f3a\"], [0.8888888888888888, \"#fdca26\"], [1.0, \"#f0f921\"]], \"type\": \"surface\"}], \"table\": [{\"cells\": {\"fill\": {\"color\": \"#EBF0F8\"}, \"line\": {\"color\": \"white\"}}, \"header\": {\"fill\": {\"color\": \"#C8D4E3\"}, \"line\": {\"color\": \"white\"}}, \"type\": \"table\"}]}, \"layout\": {\"annotationdefaults\": {\"arrowcolor\": \"#2a3f5f\", \"arrowhead\": 0, \"arrowwidth\": 1}, \"coloraxis\": {\"colorbar\": {\"outlinewidth\": 0, \"ticks\": \"\"}}, \"colorscale\": {\"diverging\": [[0, \"#8e0152\"], [0.1, \"#c51b7d\"], [0.2, \"#de77ae\"], [0.3, \"#f1b6da\"], [0.4, \"#fde0ef\"], [0.5, \"#f7f7f7\"], [0.6, \"#e6f5d0\"], [0.7, \"#b8e186\"], [0.8, \"#7fbc41\"], [0.9, \"#4d9221\"], [1, \"#276419\"]], \"sequential\": [[0.0, \"#0d0887\"], [0.1111111111111111, \"#46039f\"], [0.2222222222222222, \"#7201a8\"], [0.3333333333333333, \"#9c179e\"], [0.4444444444444444, \"#bd3786\"], [0.5555555555555556, \"#d8576b\"], [0.6666666666666666, \"#ed7953\"], [0.7777777777777778, \"#fb9f3a\"], [0.8888888888888888, \"#fdca26\"], [1.0, \"#f0f921\"]], \"sequentialminus\": [[0.0, \"#0d0887\"], [0.1111111111111111, \"#46039f\"], [0.2222222222222222, \"#7201a8\"], [0.3333333333333333, \"#9c179e\"], [0.4444444444444444, \"#bd3786\"], [0.5555555555555556, \"#d8576b\"], [0.6666666666666666, \"#ed7953\"], [0.7777777777777778, \"#fb9f3a\"], [0.8888888888888888, \"#fdca26\"], [1.0, \"#f0f921\"]]}, \"colorway\": [\"#636efa\", \"#EF553B\", \"#00cc96\", \"#ab63fa\", \"#FFA15A\", \"#19d3f3\", \"#FF6692\", \"#B6E880\", \"#FF97FF\", \"#FECB52\"], \"font\": {\"color\": \"#2a3f5f\"}, \"geo\": {\"bgcolor\": \"white\", \"lakecolor\": \"white\", \"landcolor\": \"#E5ECF6\", \"showlakes\": true, \"showland\": true, \"subunitcolor\": \"white\"}, \"hoverlabel\": {\"align\": \"left\"}, \"hovermode\": \"closest\", \"mapbox\": {\"style\": \"light\"}, \"paper_bgcolor\": \"white\", \"plot_bgcolor\": \"#E5ECF6\", \"polar\": {\"angularaxis\": {\"gridcolor\": \"white\", \"linecolor\": \"white\", \"ticks\": \"\"}, \"bgcolor\": \"#E5ECF6\", \"radialaxis\": {\"gridcolor\": \"white\", \"linecolor\": \"white\", \"ticks\": \"\"}}, \"scene\": {\"xaxis\": {\"backgroundcolor\": \"#E5ECF6\", \"gridcolor\": \"white\", \"gridwidth\": 2, \"linecolor\": \"white\", \"showbackground\": true, \"ticks\": \"\", \"zerolinecolor\": \"white\"}, \"yaxis\": {\"backgroundcolor\": \"#E5ECF6\", \"gridcolor\": \"white\", \"gridwidth\": 2, \"linecolor\": \"white\", \"showbackground\": true, \"ticks\": \"\", \"zerolinecolor\": \"white\"}, \"zaxis\": {\"backgroundcolor\": \"#E5ECF6\", \"gridcolor\": \"white\", \"gridwidth\": 2, \"linecolor\": \"white\", \"showbackground\": true, \"ticks\": \"\", \"zerolinecolor\": \"white\"}}, \"shapedefaults\": {\"line\": {\"color\": \"#2a3f5f\"}}, \"ternary\": {\"aaxis\": {\"gridcolor\": \"white\", \"linecolor\": \"white\", \"ticks\": \"\"}, \"baxis\": {\"gridcolor\": \"white\", \"linecolor\": \"white\", \"ticks\": \"\"}, \"bgcolor\": \"#E5ECF6\", \"caxis\": {\"gridcolor\": \"white\", \"linecolor\": \"white\", \"ticks\": \"\"}}, \"title\": {\"x\": 0.05}, \"xaxis\": {\"automargin\": true, \"gridcolor\": \"white\", \"linecolor\": \"white\", \"ticks\": \"\", \"title\": {\"standoff\": 15}, \"zerolinecolor\": \"white\", \"zerolinewidth\": 2}, \"yaxis\": {\"automargin\": true, \"gridcolor\": \"white\", \"linecolor\": \"white\", \"ticks\": \"\", \"title\": {\"standoff\": 15}, \"zerolinecolor\": \"white\", \"zerolinewidth\": 2}}}, \"xaxis\": {\"anchor\": \"y\", \"domain\": [0.0, 0.45], \"title\": {\"text\": \"Days since 1/22/20\"}}, \"xaxis2\": {\"anchor\": \"y2\", \"domain\": [0.55, 1.0], \"title\": {\"text\": \"Days since 1/22/20\"}}, \"yaxis\": {\"anchor\": \"x\", \"domain\": [0.0, 1.0], \"title\": {\"text\": \"Percent\"}}, \"yaxis2\": {\"anchor\": \"x2\", \"domain\": [0.0, 1.0], \"title\": {\"text\": \"Percent\"}}},\n",
       "                        {\"responsive\": true}\n",
       "                    ).then(function(){\n",
       "                            \n",
       "var gd = document.getElementById('382e0f62-a2b8-46f5-b203-7511bea6d784');\n",
       "var x = new MutationObserver(function (mutations, observer) {{\n",
       "        var display = window.getComputedStyle(gd).display;\n",
       "        if (!display || display === 'none') {{\n",
       "            console.log([gd, 'removed!']);\n",
       "            Plotly.purge(gd);\n",
       "            observer.disconnect();\n",
       "        }}\n",
       "}});\n",
       "\n",
       "// Listen for the removal of the full notebook cells\n",
       "var notebookContainer = gd.closest('#notebook-container');\n",
       "if (notebookContainer) {{\n",
       "    x.observe(notebookContainer, {childList: true});\n",
       "}}\n",
       "\n",
       "// Listen for the clearing of the current output cell\n",
       "var outputEl = gd.closest('.output');\n",
       "if (outputEl) {{\n",
       "    x.observe(outputEl, {childList: true});\n",
       "}}\n",
       "\n",
       "                        })\n",
       "                };\n",
       "                });\n",
       "            </script>\n",
       "        </div>"
      ]
     },
     "metadata": {},
     "output_type": "display_data"
    }
   ],
   "source": [
    "def country_graphs(country, graph_part1, graph_part2, line1_name=\"\", line2_name=\"\"):\n",
    "\n",
    "    plot = make_subplots(\n",
    "        rows=1,\n",
    "        cols=2,\n",
    "        subplot_titles=(f\"{country} Mortality Rate\", f\"{country} Recovery Rate\"),\n",
    "    )\n",
    "\n",
    "    plot.add_trace(graph_part1.d_trace(), row=1, col=1).update_traces(\n",
    "        name=line1_name, row=1, col=1\n",
    "    ).add_trace(graph_part1.m_trace(), row=1, col=1).add_trace(\n",
    "        graph_part2.r_trace(), row=1, col=2\n",
    "    ).update_traces(\n",
    "        name=line2_name, row=1, col=2\n",
    "    ).add_trace(\n",
    "        graph_part2.m_trace(), row=1, col=2\n",
    "    ).update_xaxes(\n",
    "        title_text=\"Days since 1/22/20\"\n",
    "    ).update_yaxes(\n",
    "        title_text=\"Percent\"\n",
    "    ).update_layout(\n",
    "        hovermode=\"x\"\n",
    "    ).update_traces(\n",
    "        hovertemplate=\"%{y:.2f}%\"\n",
    "    )\n",
    "\n",
    "    ply.offline.iplot(plot)\n",
    "\n",
    "\n",
    "us_drate_gd = Graph(\"\", \"\", us_mortality, \"\", us_dmean)\n",
    "us_rrate_gd = Graph(\"\", \"\", \"\", us_recovery_rate, us_rmean)\n",
    "\n",
    "country_graphs(\"US\", us_drate_gd, us_rrate_gd, \"Mortality Rate\", \"Recovery Rate\")"
   ]
  },
  {
   "cell_type": "code",
   "execution_count": 56,
   "metadata": {},
   "outputs": [
    {
     "data": {
      "application/vnd.plotly.v1+json": {
       "config": {
        "linkText": "Export to plot.ly",
        "plotlyServerURL": "https://plot.ly",
        "showLink": false
       },
       "data": [
        {
         "hovertemplate": "%{y:.2f}%",
         "line": {
          "color": "red"
         },
         "mode": "lines",
         "name": "Mortality Rate",
         "type": "scatter",
         "x": [
          0,
          1,
          2,
          3,
          4,
          5,
          6,
          7,
          8,
          9,
          10,
          11,
          12,
          13,
          14,
          15,
          16,
          17,
          18,
          19,
          20,
          21,
          22,
          23,
          24,
          25,
          26,
          27,
          28,
          29,
          30,
          31,
          32,
          33,
          34,
          35,
          36,
          37,
          38,
          39,
          40,
          41,
          42,
          43,
          44,
          45,
          46,
          47,
          48,
          49,
          50,
          51,
          52,
          53,
          54,
          55,
          56,
          57,
          58,
          59,
          60,
          61,
          62,
          63,
          64,
          65,
          66,
          67,
          68,
          69,
          70,
          71,
          72,
          73,
          74,
          75,
          76,
          77,
          78,
          79,
          80,
          81,
          82,
          83,
          84,
          85,
          86,
          87,
          88,
          89,
          90,
          91,
          92,
          93,
          94,
          95,
          96,
          97
         ],
         "xaxis": "x",
         "y": [
          3.102189781021898,
          2.7993779160186625,
          2.8260869565217392,
          2.987197724039829,
          2.6987951807228914,
          2.8501911713590546,
          2.3779270284988203,
          2.1849843929686217,
          2.10047905662695,
          2.1730259130789635,
          2.178117904297368,
          2.1707757065544198,
          2.155609657131264,
          2.0711182351204287,
          2.051749271137026,
          2.0695066531533004,
          2.1049545587804164,
          2.186668115390884,
          2.2722137136257503,
          2.389384709826699,
          2.505294462217816,
          2.4955874796130386,
          2.2856665831872442,
          2.2921124807860394,
          2.430824550889451,
          2.5045027158112685,
          2.57337714333048,
          2.699060786136826,
          2.835738886878677,
          2.980939568709458,
          2.9622766379880874,
          3.172686069012091,
          3.1744176988392927,
          3.359614712393677,
          3.427476399927978,
          3.4759358288770055,
          3.493638676844784,
          3.5348672207581595,
          3.5750289833156916,
          3.593054095981584,
          3.6363182589597685,
          3.6717708476096735,
          3.710845172044883,
          3.743620944410644,
          3.7724625108439707,
          3.803392348644299,
          3.8355418630835283,
          3.8622310165718527,
          3.8807224893987904,
          3.9062789634334725,
          3.9193396925814263,
          3.928593489406387,
          3.9430949528878574,
          3.954174536745553,
          3.969987535942147,
          3.9848010066865704,
          3.996202313136544,
          4.003400857607571,
          4.003692307692307,
          4.008363569276182,
          4.020384355621047,
          4.017276497582762,
          4.021276856516037,
          4.022728107664614,
          4.024112885476021,
          4.024567444472935,
          4.0232197953633575,
          4.023282433452668,
          4.0244288182194214,
          4.021682324773028,
          4.026177438350675,
          4.029988354037267,
          4.030977687823442,
          4.0342609306664405,
          4.035011258807293,
          4.034355531361519,
          4.031770594066588,
          4.029755219843254,
          4.0285703944114,
          4.026958922607637,
          4.02703158503385,
          4.021218755262588,
          4.01980459783928,
          4.015317023983867,
          4.014108162579778,
          4.01184609666319,
          5.534861509073544,
          5.533077923782926,
          5.531889505399439,
          5.53109751005166,
          5.528722884094785,
          5.527734058282062,
          5.526679700538839,
          5.525691605382662,
          5.525033071541789,
          5.526027266660311,
          5.525632164732238,
          5.524183940910174
         ],
         "yaxis": "y"
        },
        {
         "hovertemplate": "%{y:.2f}%",
         "line": {
          "color": "black",
          "dash": "dash"
         },
         "mode": "lines",
         "name": "Mean",
         "type": "scatter",
         "xaxis": "x",
         "y": [
          3.6289595154823213,
          3.6289595154823213,
          3.6289595154823213,
          3.6289595154823213,
          3.6289595154823213,
          3.6289595154823213,
          3.6289595154823213,
          3.6289595154823213,
          3.6289595154823213,
          3.6289595154823213,
          3.6289595154823213,
          3.6289595154823213,
          3.6289595154823213,
          3.6289595154823213,
          3.6289595154823213,
          3.6289595154823213,
          3.6289595154823213,
          3.6289595154823213,
          3.6289595154823213,
          3.6289595154823213,
          3.6289595154823213,
          3.6289595154823213,
          3.6289595154823213,
          3.6289595154823213,
          3.6289595154823213,
          3.6289595154823213,
          3.6289595154823213,
          3.6289595154823213,
          3.6289595154823213,
          3.6289595154823213,
          3.6289595154823213,
          3.6289595154823213,
          3.6289595154823213,
          3.6289595154823213,
          3.6289595154823213,
          3.6289595154823213,
          3.6289595154823213,
          3.6289595154823213,
          3.6289595154823213,
          3.6289595154823213,
          3.6289595154823213,
          3.6289595154823213,
          3.6289595154823213,
          3.6289595154823213,
          3.6289595154823213,
          3.6289595154823213,
          3.6289595154823213,
          3.6289595154823213,
          3.6289595154823213,
          3.6289595154823213,
          3.6289595154823213,
          3.6289595154823213,
          3.6289595154823213,
          3.6289595154823213,
          3.6289595154823213,
          3.6289595154823213,
          3.6289595154823213,
          3.6289595154823213,
          3.6289595154823213,
          3.6289595154823213,
          3.6289595154823213,
          3.6289595154823213,
          3.6289595154823213,
          3.6289595154823213,
          3.6289595154823213,
          3.6289595154823213,
          3.6289595154823213,
          3.6289595154823213,
          3.6289595154823213,
          3.6289595154823213,
          3.6289595154823213,
          3.6289595154823213,
          3.6289595154823213,
          3.6289595154823213,
          3.6289595154823213,
          3.6289595154823213,
          3.6289595154823213,
          3.6289595154823213,
          3.6289595154823213,
          3.6289595154823213,
          3.6289595154823213,
          3.6289595154823213,
          3.6289595154823213,
          3.6289595154823213,
          3.6289595154823213,
          3.6289595154823213,
          3.6289595154823213,
          3.6289595154823213,
          3.6289595154823213,
          3.6289595154823213,
          3.6289595154823213,
          3.6289595154823213,
          3.6289595154823213,
          3.6289595154823213,
          3.6289595154823213,
          3.6289595154823213,
          3.6289595154823213,
          3.6289595154823213
         ],
         "yaxis": "y"
        },
        {
         "hovertemplate": "%{y:.2f}%",
         "line": {
          "color": "green"
         },
         "mode": "lines",
         "name": "Recovery Rate",
         "type": "scatter",
         "x": [
          0,
          1,
          2,
          3,
          4,
          5,
          6,
          7,
          8,
          9,
          10,
          11,
          12,
          13,
          14,
          15,
          16,
          17,
          18,
          19,
          20,
          21,
          22,
          23,
          24,
          25,
          26,
          27,
          28,
          29,
          30,
          31,
          32,
          33,
          34,
          35,
          36,
          37,
          38,
          39,
          40,
          41,
          42,
          43,
          44,
          45,
          46,
          47,
          48,
          49,
          50,
          51,
          52,
          53,
          54,
          55,
          56,
          57,
          58,
          59,
          60,
          61,
          62,
          63,
          64,
          65,
          66,
          67,
          68,
          69,
          70,
          71,
          72,
          73,
          74,
          75,
          76,
          77,
          78,
          79,
          80,
          81,
          82,
          83,
          84,
          85,
          86,
          87,
          88,
          89,
          90,
          91,
          92,
          93,
          94,
          95,
          96,
          97
         ],
         "xaxis": "x2",
         "y": [
          5.109489051094891,
          4.665629860031104,
          3.91304347826087,
          2.7738264580369845,
          2.36144578313253,
          2.0159888773027457,
          1.8333635868578688,
          1.9714144898965007,
          1.658272939442329,
          2.1832279126708833,
          2.3126734505087883,
          2.7841250751653637,
          3.114221951714344,
          3.5559117560214286,
          4.063411078717201,
          4.828848857357701,
          5.860451480504251,
          7.051665127397186,
          8.082050767029049,
          9.250602068281626,
          10.44473482629658,
          11.35414106660113,
          10.379831371566908,
          12.021157961361101,
          13.590984169675355,
          15.252506629983124,
          17.204627661043155,
          19.14271469189204,
          21.39133464667176,
          23.994032792999185,
          24.757114493712773,
          29.47883793716965,
          30.10438575991275,
          32.385650108103206,
          35.59431026056537,
          38.48732185349129,
          41.895674300254456,
          46.02802554226637,
          49.54886839054387,
          52.74733523494971,
          55.972347010082856,
          59.119622232466575,
          62.20112954992163,
          64.92916299340675,
          66.85338951542941,
          68.76191655317568,
          71.00454078665727,
          72.72322532772694,
          74.40132530567335,
          76.17800076617937,
          77.72080264913754,
          79.30817221570202,
          81.08475246057523,
          82.73397281582163,
          83.80536324707218,
          84.87502775790175,
          86.00897635076818,
          86.91285918477993,
          87.712,
          88.37955845273969,
          88.85859888254436,
          89.3445237919949,
          89.81382750548468,
          90.34055424253927,
          90.70577877772615,
          91.23655323149809,
          91.5864827619849,
          92.03623876671294,
          92.3659943064308,
          92.61901578774658,
          92.76842194728087,
          92.88261840062113,
          93.0300202397256,
          93.21929176308106,
          93.46868114573496,
          93.52204681545999,
          93.58301699750962,
          93.66977019406103,
          93.72126974168407,
          93.79076693070978,
          93.8118871515648,
          93.77150143142397,
          93.78222152788626,
          93.87078961899503,
          93.94764624022265,
          94.00261381485079,
          92.5883476599809,
          92.63250862305608,
          92.70329932581588,
          92.75564622928523,
          92.78022253228865,
          92.83755425191968,
          92.96528539411568,
          93.09884503986937,
          93.16640646414568,
          93.2846315187339,
          93.39355084725565,
          93.42625685013105
         ],
         "yaxis": "y2"
        },
        {
         "hovertemplate": "%{y:.2f}%",
         "line": {
          "color": "black",
          "dash": "dash"
         },
         "mode": "lines",
         "name": "Mean",
         "type": "scatter",
         "xaxis": "x2",
         "y": [
          57.625123323222184,
          57.625123323222184,
          57.625123323222184,
          57.625123323222184,
          57.625123323222184,
          57.625123323222184,
          57.625123323222184,
          57.625123323222184,
          57.625123323222184,
          57.625123323222184,
          57.625123323222184,
          57.625123323222184,
          57.625123323222184,
          57.625123323222184,
          57.625123323222184,
          57.625123323222184,
          57.625123323222184,
          57.625123323222184,
          57.625123323222184,
          57.625123323222184,
          57.625123323222184,
          57.625123323222184,
          57.625123323222184,
          57.625123323222184,
          57.625123323222184,
          57.625123323222184,
          57.625123323222184,
          57.625123323222184,
          57.625123323222184,
          57.625123323222184,
          57.625123323222184,
          57.625123323222184,
          57.625123323222184,
          57.625123323222184,
          57.625123323222184,
          57.625123323222184,
          57.625123323222184,
          57.625123323222184,
          57.625123323222184,
          57.625123323222184,
          57.625123323222184,
          57.625123323222184,
          57.625123323222184,
          57.625123323222184,
          57.625123323222184,
          57.625123323222184,
          57.625123323222184,
          57.625123323222184,
          57.625123323222184,
          57.625123323222184,
          57.625123323222184,
          57.625123323222184,
          57.625123323222184,
          57.625123323222184,
          57.625123323222184,
          57.625123323222184,
          57.625123323222184,
          57.625123323222184,
          57.625123323222184,
          57.625123323222184,
          57.625123323222184,
          57.625123323222184,
          57.625123323222184,
          57.625123323222184,
          57.625123323222184,
          57.625123323222184,
          57.625123323222184,
          57.625123323222184,
          57.625123323222184,
          57.625123323222184,
          57.625123323222184,
          57.625123323222184,
          57.625123323222184,
          57.625123323222184,
          57.625123323222184,
          57.625123323222184,
          57.625123323222184,
          57.625123323222184,
          57.625123323222184,
          57.625123323222184,
          57.625123323222184,
          57.625123323222184,
          57.625123323222184,
          57.625123323222184,
          57.625123323222184,
          57.625123323222184,
          57.625123323222184,
          57.625123323222184,
          57.625123323222184,
          57.625123323222184,
          57.625123323222184,
          57.625123323222184,
          57.625123323222184,
          57.625123323222184,
          57.625123323222184,
          57.625123323222184,
          57.625123323222184,
          57.625123323222184
         ],
         "yaxis": "y2"
        }
       ],
       "layout": {
        "annotations": [
         {
          "font": {
           "size": 16
          },
          "showarrow": false,
          "text": "China Mortality Rate",
          "x": 0.225,
          "xanchor": "center",
          "xref": "paper",
          "y": 1,
          "yanchor": "bottom",
          "yref": "paper"
         },
         {
          "font": {
           "size": 16
          },
          "showarrow": false,
          "text": "China Recovery Rate",
          "x": 0.775,
          "xanchor": "center",
          "xref": "paper",
          "y": 1,
          "yanchor": "bottom",
          "yref": "paper"
         }
        ],
        "hovermode": "x",
        "template": {
         "data": {
          "bar": [
           {
            "error_x": {
             "color": "#2a3f5f"
            },
            "error_y": {
             "color": "#2a3f5f"
            },
            "marker": {
             "line": {
              "color": "#E5ECF6",
              "width": 0.5
             }
            },
            "type": "bar"
           }
          ],
          "barpolar": [
           {
            "marker": {
             "line": {
              "color": "#E5ECF6",
              "width": 0.5
             }
            },
            "type": "barpolar"
           }
          ],
          "carpet": [
           {
            "aaxis": {
             "endlinecolor": "#2a3f5f",
             "gridcolor": "white",
             "linecolor": "white",
             "minorgridcolor": "white",
             "startlinecolor": "#2a3f5f"
            },
            "baxis": {
             "endlinecolor": "#2a3f5f",
             "gridcolor": "white",
             "linecolor": "white",
             "minorgridcolor": "white",
             "startlinecolor": "#2a3f5f"
            },
            "type": "carpet"
           }
          ],
          "choropleth": [
           {
            "colorbar": {
             "outlinewidth": 0,
             "ticks": ""
            },
            "type": "choropleth"
           }
          ],
          "contour": [
           {
            "colorbar": {
             "outlinewidth": 0,
             "ticks": ""
            },
            "colorscale": [
             [
              0,
              "#0d0887"
             ],
             [
              0.1111111111111111,
              "#46039f"
             ],
             [
              0.2222222222222222,
              "#7201a8"
             ],
             [
              0.3333333333333333,
              "#9c179e"
             ],
             [
              0.4444444444444444,
              "#bd3786"
             ],
             [
              0.5555555555555556,
              "#d8576b"
             ],
             [
              0.6666666666666666,
              "#ed7953"
             ],
             [
              0.7777777777777778,
              "#fb9f3a"
             ],
             [
              0.8888888888888888,
              "#fdca26"
             ],
             [
              1,
              "#f0f921"
             ]
            ],
            "type": "contour"
           }
          ],
          "contourcarpet": [
           {
            "colorbar": {
             "outlinewidth": 0,
             "ticks": ""
            },
            "type": "contourcarpet"
           }
          ],
          "heatmap": [
           {
            "colorbar": {
             "outlinewidth": 0,
             "ticks": ""
            },
            "colorscale": [
             [
              0,
              "#0d0887"
             ],
             [
              0.1111111111111111,
              "#46039f"
             ],
             [
              0.2222222222222222,
              "#7201a8"
             ],
             [
              0.3333333333333333,
              "#9c179e"
             ],
             [
              0.4444444444444444,
              "#bd3786"
             ],
             [
              0.5555555555555556,
              "#d8576b"
             ],
             [
              0.6666666666666666,
              "#ed7953"
             ],
             [
              0.7777777777777778,
              "#fb9f3a"
             ],
             [
              0.8888888888888888,
              "#fdca26"
             ],
             [
              1,
              "#f0f921"
             ]
            ],
            "type": "heatmap"
           }
          ],
          "heatmapgl": [
           {
            "colorbar": {
             "outlinewidth": 0,
             "ticks": ""
            },
            "colorscale": [
             [
              0,
              "#0d0887"
             ],
             [
              0.1111111111111111,
              "#46039f"
             ],
             [
              0.2222222222222222,
              "#7201a8"
             ],
             [
              0.3333333333333333,
              "#9c179e"
             ],
             [
              0.4444444444444444,
              "#bd3786"
             ],
             [
              0.5555555555555556,
              "#d8576b"
             ],
             [
              0.6666666666666666,
              "#ed7953"
             ],
             [
              0.7777777777777778,
              "#fb9f3a"
             ],
             [
              0.8888888888888888,
              "#fdca26"
             ],
             [
              1,
              "#f0f921"
             ]
            ],
            "type": "heatmapgl"
           }
          ],
          "histogram": [
           {
            "marker": {
             "colorbar": {
              "outlinewidth": 0,
              "ticks": ""
             }
            },
            "type": "histogram"
           }
          ],
          "histogram2d": [
           {
            "colorbar": {
             "outlinewidth": 0,
             "ticks": ""
            },
            "colorscale": [
             [
              0,
              "#0d0887"
             ],
             [
              0.1111111111111111,
              "#46039f"
             ],
             [
              0.2222222222222222,
              "#7201a8"
             ],
             [
              0.3333333333333333,
              "#9c179e"
             ],
             [
              0.4444444444444444,
              "#bd3786"
             ],
             [
              0.5555555555555556,
              "#d8576b"
             ],
             [
              0.6666666666666666,
              "#ed7953"
             ],
             [
              0.7777777777777778,
              "#fb9f3a"
             ],
             [
              0.8888888888888888,
              "#fdca26"
             ],
             [
              1,
              "#f0f921"
             ]
            ],
            "type": "histogram2d"
           }
          ],
          "histogram2dcontour": [
           {
            "colorbar": {
             "outlinewidth": 0,
             "ticks": ""
            },
            "colorscale": [
             [
              0,
              "#0d0887"
             ],
             [
              0.1111111111111111,
              "#46039f"
             ],
             [
              0.2222222222222222,
              "#7201a8"
             ],
             [
              0.3333333333333333,
              "#9c179e"
             ],
             [
              0.4444444444444444,
              "#bd3786"
             ],
             [
              0.5555555555555556,
              "#d8576b"
             ],
             [
              0.6666666666666666,
              "#ed7953"
             ],
             [
              0.7777777777777778,
              "#fb9f3a"
             ],
             [
              0.8888888888888888,
              "#fdca26"
             ],
             [
              1,
              "#f0f921"
             ]
            ],
            "type": "histogram2dcontour"
           }
          ],
          "mesh3d": [
           {
            "colorbar": {
             "outlinewidth": 0,
             "ticks": ""
            },
            "type": "mesh3d"
           }
          ],
          "parcoords": [
           {
            "line": {
             "colorbar": {
              "outlinewidth": 0,
              "ticks": ""
             }
            },
            "type": "parcoords"
           }
          ],
          "pie": [
           {
            "automargin": true,
            "type": "pie"
           }
          ],
          "scatter": [
           {
            "marker": {
             "colorbar": {
              "outlinewidth": 0,
              "ticks": ""
             }
            },
            "type": "scatter"
           }
          ],
          "scatter3d": [
           {
            "line": {
             "colorbar": {
              "outlinewidth": 0,
              "ticks": ""
             }
            },
            "marker": {
             "colorbar": {
              "outlinewidth": 0,
              "ticks": ""
             }
            },
            "type": "scatter3d"
           }
          ],
          "scattercarpet": [
           {
            "marker": {
             "colorbar": {
              "outlinewidth": 0,
              "ticks": ""
             }
            },
            "type": "scattercarpet"
           }
          ],
          "scattergeo": [
           {
            "marker": {
             "colorbar": {
              "outlinewidth": 0,
              "ticks": ""
             }
            },
            "type": "scattergeo"
           }
          ],
          "scattergl": [
           {
            "marker": {
             "colorbar": {
              "outlinewidth": 0,
              "ticks": ""
             }
            },
            "type": "scattergl"
           }
          ],
          "scattermapbox": [
           {
            "marker": {
             "colorbar": {
              "outlinewidth": 0,
              "ticks": ""
             }
            },
            "type": "scattermapbox"
           }
          ],
          "scatterpolar": [
           {
            "marker": {
             "colorbar": {
              "outlinewidth": 0,
              "ticks": ""
             }
            },
            "type": "scatterpolar"
           }
          ],
          "scatterpolargl": [
           {
            "marker": {
             "colorbar": {
              "outlinewidth": 0,
              "ticks": ""
             }
            },
            "type": "scatterpolargl"
           }
          ],
          "scatterternary": [
           {
            "marker": {
             "colorbar": {
              "outlinewidth": 0,
              "ticks": ""
             }
            },
            "type": "scatterternary"
           }
          ],
          "surface": [
           {
            "colorbar": {
             "outlinewidth": 0,
             "ticks": ""
            },
            "colorscale": [
             [
              0,
              "#0d0887"
             ],
             [
              0.1111111111111111,
              "#46039f"
             ],
             [
              0.2222222222222222,
              "#7201a8"
             ],
             [
              0.3333333333333333,
              "#9c179e"
             ],
             [
              0.4444444444444444,
              "#bd3786"
             ],
             [
              0.5555555555555556,
              "#d8576b"
             ],
             [
              0.6666666666666666,
              "#ed7953"
             ],
             [
              0.7777777777777778,
              "#fb9f3a"
             ],
             [
              0.8888888888888888,
              "#fdca26"
             ],
             [
              1,
              "#f0f921"
             ]
            ],
            "type": "surface"
           }
          ],
          "table": [
           {
            "cells": {
             "fill": {
              "color": "#EBF0F8"
             },
             "line": {
              "color": "white"
             }
            },
            "header": {
             "fill": {
              "color": "#C8D4E3"
             },
             "line": {
              "color": "white"
             }
            },
            "type": "table"
           }
          ]
         },
         "layout": {
          "annotationdefaults": {
           "arrowcolor": "#2a3f5f",
           "arrowhead": 0,
           "arrowwidth": 1
          },
          "coloraxis": {
           "colorbar": {
            "outlinewidth": 0,
            "ticks": ""
           }
          },
          "colorscale": {
           "diverging": [
            [
             0,
             "#8e0152"
            ],
            [
             0.1,
             "#c51b7d"
            ],
            [
             0.2,
             "#de77ae"
            ],
            [
             0.3,
             "#f1b6da"
            ],
            [
             0.4,
             "#fde0ef"
            ],
            [
             0.5,
             "#f7f7f7"
            ],
            [
             0.6,
             "#e6f5d0"
            ],
            [
             0.7,
             "#b8e186"
            ],
            [
             0.8,
             "#7fbc41"
            ],
            [
             0.9,
             "#4d9221"
            ],
            [
             1,
             "#276419"
            ]
           ],
           "sequential": [
            [
             0,
             "#0d0887"
            ],
            [
             0.1111111111111111,
             "#46039f"
            ],
            [
             0.2222222222222222,
             "#7201a8"
            ],
            [
             0.3333333333333333,
             "#9c179e"
            ],
            [
             0.4444444444444444,
             "#bd3786"
            ],
            [
             0.5555555555555556,
             "#d8576b"
            ],
            [
             0.6666666666666666,
             "#ed7953"
            ],
            [
             0.7777777777777778,
             "#fb9f3a"
            ],
            [
             0.8888888888888888,
             "#fdca26"
            ],
            [
             1,
             "#f0f921"
            ]
           ],
           "sequentialminus": [
            [
             0,
             "#0d0887"
            ],
            [
             0.1111111111111111,
             "#46039f"
            ],
            [
             0.2222222222222222,
             "#7201a8"
            ],
            [
             0.3333333333333333,
             "#9c179e"
            ],
            [
             0.4444444444444444,
             "#bd3786"
            ],
            [
             0.5555555555555556,
             "#d8576b"
            ],
            [
             0.6666666666666666,
             "#ed7953"
            ],
            [
             0.7777777777777778,
             "#fb9f3a"
            ],
            [
             0.8888888888888888,
             "#fdca26"
            ],
            [
             1,
             "#f0f921"
            ]
           ]
          },
          "colorway": [
           "#636efa",
           "#EF553B",
           "#00cc96",
           "#ab63fa",
           "#FFA15A",
           "#19d3f3",
           "#FF6692",
           "#B6E880",
           "#FF97FF",
           "#FECB52"
          ],
          "font": {
           "color": "#2a3f5f"
          },
          "geo": {
           "bgcolor": "white",
           "lakecolor": "white",
           "landcolor": "#E5ECF6",
           "showlakes": true,
           "showland": true,
           "subunitcolor": "white"
          },
          "hoverlabel": {
           "align": "left"
          },
          "hovermode": "closest",
          "mapbox": {
           "style": "light"
          },
          "paper_bgcolor": "white",
          "plot_bgcolor": "#E5ECF6",
          "polar": {
           "angularaxis": {
            "gridcolor": "white",
            "linecolor": "white",
            "ticks": ""
           },
           "bgcolor": "#E5ECF6",
           "radialaxis": {
            "gridcolor": "white",
            "linecolor": "white",
            "ticks": ""
           }
          },
          "scene": {
           "xaxis": {
            "backgroundcolor": "#E5ECF6",
            "gridcolor": "white",
            "gridwidth": 2,
            "linecolor": "white",
            "showbackground": true,
            "ticks": "",
            "zerolinecolor": "white"
           },
           "yaxis": {
            "backgroundcolor": "#E5ECF6",
            "gridcolor": "white",
            "gridwidth": 2,
            "linecolor": "white",
            "showbackground": true,
            "ticks": "",
            "zerolinecolor": "white"
           },
           "zaxis": {
            "backgroundcolor": "#E5ECF6",
            "gridcolor": "white",
            "gridwidth": 2,
            "linecolor": "white",
            "showbackground": true,
            "ticks": "",
            "zerolinecolor": "white"
           }
          },
          "shapedefaults": {
           "line": {
            "color": "#2a3f5f"
           }
          },
          "ternary": {
           "aaxis": {
            "gridcolor": "white",
            "linecolor": "white",
            "ticks": ""
           },
           "baxis": {
            "gridcolor": "white",
            "linecolor": "white",
            "ticks": ""
           },
           "bgcolor": "#E5ECF6",
           "caxis": {
            "gridcolor": "white",
            "linecolor": "white",
            "ticks": ""
           }
          },
          "title": {
           "x": 0.05
          },
          "xaxis": {
           "automargin": true,
           "gridcolor": "white",
           "linecolor": "white",
           "ticks": "",
           "title": {
            "standoff": 15
           },
           "zerolinecolor": "white",
           "zerolinewidth": 2
          },
          "yaxis": {
           "automargin": true,
           "gridcolor": "white",
           "linecolor": "white",
           "ticks": "",
           "title": {
            "standoff": 15
           },
           "zerolinecolor": "white",
           "zerolinewidth": 2
          }
         }
        },
        "xaxis": {
         "anchor": "y",
         "domain": [
          0,
          0.45
         ],
         "title": {
          "text": "Days since 1/22/20"
         }
        },
        "xaxis2": {
         "anchor": "y2",
         "domain": [
          0.55,
          1
         ],
         "title": {
          "text": "Days since 1/22/20"
         }
        },
        "yaxis": {
         "anchor": "x",
         "domain": [
          0,
          1
         ],
         "title": {
          "text": "Percent"
         }
        },
        "yaxis2": {
         "anchor": "x2",
         "domain": [
          0,
          1
         ],
         "title": {
          "text": "Percent"
         }
        }
       }
      },
      "text/html": [
       "<div>\n",
       "        \n",
       "        \n",
       "            <div id=\"3254719a-778d-4bf6-b1e8-191f5dd9b499\" class=\"plotly-graph-div\" style=\"height:525px; width:100%;\"></div>\n",
       "            <script type=\"text/javascript\">\n",
       "                require([\"plotly\"], function(Plotly) {\n",
       "                    window.PLOTLYENV=window.PLOTLYENV || {};\n",
       "                    \n",
       "                if (document.getElementById(\"3254719a-778d-4bf6-b1e8-191f5dd9b499\")) {\n",
       "                    Plotly.newPlot(\n",
       "                        '3254719a-778d-4bf6-b1e8-191f5dd9b499',\n",
       "                        [{\"hovertemplate\": \"%{y:.2f}%\", \"line\": {\"color\": \"red\"}, \"mode\": \"lines\", \"name\": \"Mortality Rate\", \"type\": \"scatter\", \"x\": [0, 1, 2, 3, 4, 5, 6, 7, 8, 9, 10, 11, 12, 13, 14, 15, 16, 17, 18, 19, 20, 21, 22, 23, 24, 25, 26, 27, 28, 29, 30, 31, 32, 33, 34, 35, 36, 37, 38, 39, 40, 41, 42, 43, 44, 45, 46, 47, 48, 49, 50, 51, 52, 53, 54, 55, 56, 57, 58, 59, 60, 61, 62, 63, 64, 65, 66, 67, 68, 69, 70, 71, 72, 73, 74, 75, 76, 77, 78, 79, 80, 81, 82, 83, 84, 85, 86, 87, 88, 89, 90, 91, 92, 93, 94, 95, 96, 97], \"xaxis\": \"x\", \"y\": [3.102189781021898, 2.7993779160186625, 2.8260869565217392, 2.987197724039829, 2.6987951807228914, 2.8501911713590546, 2.3779270284988203, 2.1849843929686217, 2.10047905662695, 2.1730259130789635, 2.178117904297368, 2.1707757065544198, 2.155609657131264, 2.0711182351204287, 2.051749271137026, 2.0695066531533004, 2.1049545587804164, 2.186668115390884, 2.2722137136257503, 2.389384709826699, 2.505294462217816, 2.4955874796130386, 2.2856665831872442, 2.2921124807860394, 2.430824550889451, 2.5045027158112685, 2.57337714333048, 2.699060786136826, 2.835738886878677, 2.980939568709458, 2.9622766379880874, 3.172686069012091, 3.1744176988392927, 3.359614712393677, 3.427476399927978, 3.4759358288770055, 3.493638676844784, 3.5348672207581595, 3.5750289833156916, 3.593054095981584, 3.6363182589597685, 3.6717708476096735, 3.710845172044883, 3.743620944410644, 3.7724625108439707, 3.803392348644299, 3.8355418630835283, 3.8622310165718527, 3.8807224893987904, 3.9062789634334725, 3.9193396925814263, 3.928593489406387, 3.9430949528878574, 3.954174536745553, 3.969987535942147, 3.9848010066865704, 3.996202313136544, 4.003400857607571, 4.003692307692307, 4.008363569276182, 4.020384355621047, 4.017276497582762, 4.021276856516037, 4.022728107664614, 4.024112885476021, 4.024567444472935, 4.0232197953633575, 4.023282433452668, 4.0244288182194214, 4.021682324773028, 4.026177438350675, 4.029988354037267, 4.030977687823442, 4.0342609306664405, 4.035011258807293, 4.034355531361519, 4.031770594066588, 4.029755219843254, 4.0285703944114, 4.026958922607637, 4.02703158503385, 4.021218755262588, 4.01980459783928, 4.015317023983867, 4.014108162579778, 4.01184609666319, 5.534861509073544, 5.533077923782926, 5.531889505399439, 5.53109751005166, 5.528722884094785, 5.527734058282062, 5.526679700538839, 5.525691605382662, 5.525033071541789, 5.526027266660311, 5.525632164732238, 5.524183940910174], \"yaxis\": \"y\"}, {\"hovertemplate\": \"%{y:.2f}%\", \"line\": {\"color\": \"black\", \"dash\": \"dash\"}, \"mode\": \"lines\", \"name\": \"Mean\", \"type\": \"scatter\", \"xaxis\": \"x\", \"y\": [3.6289595154823213, 3.6289595154823213, 3.6289595154823213, 3.6289595154823213, 3.6289595154823213, 3.6289595154823213, 3.6289595154823213, 3.6289595154823213, 3.6289595154823213, 3.6289595154823213, 3.6289595154823213, 3.6289595154823213, 3.6289595154823213, 3.6289595154823213, 3.6289595154823213, 3.6289595154823213, 3.6289595154823213, 3.6289595154823213, 3.6289595154823213, 3.6289595154823213, 3.6289595154823213, 3.6289595154823213, 3.6289595154823213, 3.6289595154823213, 3.6289595154823213, 3.6289595154823213, 3.6289595154823213, 3.6289595154823213, 3.6289595154823213, 3.6289595154823213, 3.6289595154823213, 3.6289595154823213, 3.6289595154823213, 3.6289595154823213, 3.6289595154823213, 3.6289595154823213, 3.6289595154823213, 3.6289595154823213, 3.6289595154823213, 3.6289595154823213, 3.6289595154823213, 3.6289595154823213, 3.6289595154823213, 3.6289595154823213, 3.6289595154823213, 3.6289595154823213, 3.6289595154823213, 3.6289595154823213, 3.6289595154823213, 3.6289595154823213, 3.6289595154823213, 3.6289595154823213, 3.6289595154823213, 3.6289595154823213, 3.6289595154823213, 3.6289595154823213, 3.6289595154823213, 3.6289595154823213, 3.6289595154823213, 3.6289595154823213, 3.6289595154823213, 3.6289595154823213, 3.6289595154823213, 3.6289595154823213, 3.6289595154823213, 3.6289595154823213, 3.6289595154823213, 3.6289595154823213, 3.6289595154823213, 3.6289595154823213, 3.6289595154823213, 3.6289595154823213, 3.6289595154823213, 3.6289595154823213, 3.6289595154823213, 3.6289595154823213, 3.6289595154823213, 3.6289595154823213, 3.6289595154823213, 3.6289595154823213, 3.6289595154823213, 3.6289595154823213, 3.6289595154823213, 3.6289595154823213, 3.6289595154823213, 3.6289595154823213, 3.6289595154823213, 3.6289595154823213, 3.6289595154823213, 3.6289595154823213, 3.6289595154823213, 3.6289595154823213, 3.6289595154823213, 3.6289595154823213, 3.6289595154823213, 3.6289595154823213, 3.6289595154823213, 3.6289595154823213], \"yaxis\": \"y\"}, {\"hovertemplate\": \"%{y:.2f}%\", \"line\": {\"color\": \"green\"}, \"mode\": \"lines\", \"name\": \"Recovery Rate\", \"type\": \"scatter\", \"x\": [0, 1, 2, 3, 4, 5, 6, 7, 8, 9, 10, 11, 12, 13, 14, 15, 16, 17, 18, 19, 20, 21, 22, 23, 24, 25, 26, 27, 28, 29, 30, 31, 32, 33, 34, 35, 36, 37, 38, 39, 40, 41, 42, 43, 44, 45, 46, 47, 48, 49, 50, 51, 52, 53, 54, 55, 56, 57, 58, 59, 60, 61, 62, 63, 64, 65, 66, 67, 68, 69, 70, 71, 72, 73, 74, 75, 76, 77, 78, 79, 80, 81, 82, 83, 84, 85, 86, 87, 88, 89, 90, 91, 92, 93, 94, 95, 96, 97], \"xaxis\": \"x2\", \"y\": [5.109489051094891, 4.665629860031104, 3.91304347826087, 2.7738264580369845, 2.36144578313253, 2.0159888773027457, 1.8333635868578688, 1.9714144898965007, 1.658272939442329, 2.1832279126708833, 2.3126734505087883, 2.7841250751653637, 3.114221951714344, 3.5559117560214286, 4.063411078717201, 4.828848857357701, 5.860451480504251, 7.051665127397186, 8.082050767029049, 9.250602068281626, 10.44473482629658, 11.35414106660113, 10.379831371566908, 12.021157961361101, 13.590984169675355, 15.252506629983124, 17.204627661043155, 19.14271469189204, 21.39133464667176, 23.994032792999185, 24.757114493712773, 29.47883793716965, 30.10438575991275, 32.385650108103206, 35.59431026056537, 38.48732185349129, 41.895674300254456, 46.02802554226637, 49.54886839054387, 52.74733523494971, 55.972347010082856, 59.119622232466575, 62.20112954992163, 64.92916299340675, 66.85338951542941, 68.76191655317568, 71.00454078665727, 72.72322532772694, 74.40132530567335, 76.17800076617937, 77.72080264913754, 79.30817221570202, 81.08475246057523, 82.73397281582163, 83.80536324707218, 84.87502775790175, 86.00897635076818, 86.91285918477993, 87.712, 88.37955845273969, 88.85859888254436, 89.3445237919949, 89.81382750548468, 90.34055424253927, 90.70577877772615, 91.23655323149809, 91.5864827619849, 92.03623876671294, 92.3659943064308, 92.61901578774658, 92.76842194728087, 92.88261840062113, 93.0300202397256, 93.21929176308106, 93.46868114573496, 93.52204681545999, 93.58301699750962, 93.66977019406103, 93.72126974168407, 93.79076693070978, 93.8118871515648, 93.77150143142397, 93.78222152788626, 93.87078961899503, 93.94764624022265, 94.00261381485079, 92.5883476599809, 92.63250862305608, 92.70329932581588, 92.75564622928523, 92.78022253228865, 92.83755425191968, 92.96528539411568, 93.09884503986937, 93.16640646414568, 93.2846315187339, 93.39355084725565, 93.42625685013105], \"yaxis\": \"y2\"}, {\"hovertemplate\": \"%{y:.2f}%\", \"line\": {\"color\": \"black\", \"dash\": \"dash\"}, \"mode\": \"lines\", \"name\": \"Mean\", \"type\": \"scatter\", \"xaxis\": \"x2\", \"y\": [57.625123323222184, 57.625123323222184, 57.625123323222184, 57.625123323222184, 57.625123323222184, 57.625123323222184, 57.625123323222184, 57.625123323222184, 57.625123323222184, 57.625123323222184, 57.625123323222184, 57.625123323222184, 57.625123323222184, 57.625123323222184, 57.625123323222184, 57.625123323222184, 57.625123323222184, 57.625123323222184, 57.625123323222184, 57.625123323222184, 57.625123323222184, 57.625123323222184, 57.625123323222184, 57.625123323222184, 57.625123323222184, 57.625123323222184, 57.625123323222184, 57.625123323222184, 57.625123323222184, 57.625123323222184, 57.625123323222184, 57.625123323222184, 57.625123323222184, 57.625123323222184, 57.625123323222184, 57.625123323222184, 57.625123323222184, 57.625123323222184, 57.625123323222184, 57.625123323222184, 57.625123323222184, 57.625123323222184, 57.625123323222184, 57.625123323222184, 57.625123323222184, 57.625123323222184, 57.625123323222184, 57.625123323222184, 57.625123323222184, 57.625123323222184, 57.625123323222184, 57.625123323222184, 57.625123323222184, 57.625123323222184, 57.625123323222184, 57.625123323222184, 57.625123323222184, 57.625123323222184, 57.625123323222184, 57.625123323222184, 57.625123323222184, 57.625123323222184, 57.625123323222184, 57.625123323222184, 57.625123323222184, 57.625123323222184, 57.625123323222184, 57.625123323222184, 57.625123323222184, 57.625123323222184, 57.625123323222184, 57.625123323222184, 57.625123323222184, 57.625123323222184, 57.625123323222184, 57.625123323222184, 57.625123323222184, 57.625123323222184, 57.625123323222184, 57.625123323222184, 57.625123323222184, 57.625123323222184, 57.625123323222184, 57.625123323222184, 57.625123323222184, 57.625123323222184, 57.625123323222184, 57.625123323222184, 57.625123323222184, 57.625123323222184, 57.625123323222184, 57.625123323222184, 57.625123323222184, 57.625123323222184, 57.625123323222184, 57.625123323222184, 57.625123323222184, 57.625123323222184], \"yaxis\": \"y2\"}],\n",
       "                        {\"annotations\": [{\"font\": {\"size\": 16}, \"showarrow\": false, \"text\": \"China Mortality Rate\", \"x\": 0.225, \"xanchor\": \"center\", \"xref\": \"paper\", \"y\": 1.0, \"yanchor\": \"bottom\", \"yref\": \"paper\"}, {\"font\": {\"size\": 16}, \"showarrow\": false, \"text\": \"China Recovery Rate\", \"x\": 0.775, \"xanchor\": \"center\", \"xref\": \"paper\", \"y\": 1.0, \"yanchor\": \"bottom\", \"yref\": \"paper\"}], \"hovermode\": \"x\", \"template\": {\"data\": {\"bar\": [{\"error_x\": {\"color\": \"#2a3f5f\"}, \"error_y\": {\"color\": \"#2a3f5f\"}, \"marker\": {\"line\": {\"color\": \"#E5ECF6\", \"width\": 0.5}}, \"type\": \"bar\"}], \"barpolar\": [{\"marker\": {\"line\": {\"color\": \"#E5ECF6\", \"width\": 0.5}}, \"type\": \"barpolar\"}], \"carpet\": [{\"aaxis\": {\"endlinecolor\": \"#2a3f5f\", \"gridcolor\": \"white\", \"linecolor\": \"white\", \"minorgridcolor\": \"white\", \"startlinecolor\": \"#2a3f5f\"}, \"baxis\": {\"endlinecolor\": \"#2a3f5f\", \"gridcolor\": \"white\", \"linecolor\": \"white\", \"minorgridcolor\": \"white\", \"startlinecolor\": \"#2a3f5f\"}, \"type\": \"carpet\"}], \"choropleth\": [{\"colorbar\": {\"outlinewidth\": 0, \"ticks\": \"\"}, \"type\": \"choropleth\"}], \"contour\": [{\"colorbar\": {\"outlinewidth\": 0, \"ticks\": \"\"}, \"colorscale\": [[0.0, \"#0d0887\"], [0.1111111111111111, \"#46039f\"], [0.2222222222222222, \"#7201a8\"], [0.3333333333333333, \"#9c179e\"], [0.4444444444444444, \"#bd3786\"], [0.5555555555555556, \"#d8576b\"], [0.6666666666666666, \"#ed7953\"], [0.7777777777777778, \"#fb9f3a\"], [0.8888888888888888, \"#fdca26\"], [1.0, \"#f0f921\"]], \"type\": \"contour\"}], \"contourcarpet\": [{\"colorbar\": {\"outlinewidth\": 0, \"ticks\": \"\"}, \"type\": \"contourcarpet\"}], \"heatmap\": [{\"colorbar\": {\"outlinewidth\": 0, \"ticks\": \"\"}, \"colorscale\": [[0.0, \"#0d0887\"], [0.1111111111111111, \"#46039f\"], [0.2222222222222222, \"#7201a8\"], [0.3333333333333333, \"#9c179e\"], [0.4444444444444444, \"#bd3786\"], [0.5555555555555556, \"#d8576b\"], [0.6666666666666666, \"#ed7953\"], [0.7777777777777778, \"#fb9f3a\"], [0.8888888888888888, \"#fdca26\"], [1.0, \"#f0f921\"]], \"type\": \"heatmap\"}], \"heatmapgl\": [{\"colorbar\": {\"outlinewidth\": 0, \"ticks\": \"\"}, \"colorscale\": [[0.0, \"#0d0887\"], [0.1111111111111111, \"#46039f\"], [0.2222222222222222, \"#7201a8\"], [0.3333333333333333, \"#9c179e\"], [0.4444444444444444, \"#bd3786\"], [0.5555555555555556, \"#d8576b\"], [0.6666666666666666, \"#ed7953\"], [0.7777777777777778, \"#fb9f3a\"], [0.8888888888888888, \"#fdca26\"], [1.0, \"#f0f921\"]], \"type\": \"heatmapgl\"}], \"histogram\": [{\"marker\": {\"colorbar\": {\"outlinewidth\": 0, \"ticks\": \"\"}}, \"type\": \"histogram\"}], \"histogram2d\": [{\"colorbar\": {\"outlinewidth\": 0, \"ticks\": \"\"}, \"colorscale\": [[0.0, \"#0d0887\"], [0.1111111111111111, \"#46039f\"], [0.2222222222222222, \"#7201a8\"], [0.3333333333333333, \"#9c179e\"], [0.4444444444444444, \"#bd3786\"], [0.5555555555555556, \"#d8576b\"], [0.6666666666666666, \"#ed7953\"], [0.7777777777777778, \"#fb9f3a\"], [0.8888888888888888, \"#fdca26\"], [1.0, \"#f0f921\"]], \"type\": \"histogram2d\"}], \"histogram2dcontour\": [{\"colorbar\": {\"outlinewidth\": 0, \"ticks\": \"\"}, \"colorscale\": [[0.0, \"#0d0887\"], [0.1111111111111111, \"#46039f\"], [0.2222222222222222, \"#7201a8\"], [0.3333333333333333, \"#9c179e\"], [0.4444444444444444, \"#bd3786\"], [0.5555555555555556, \"#d8576b\"], [0.6666666666666666, \"#ed7953\"], [0.7777777777777778, \"#fb9f3a\"], [0.8888888888888888, \"#fdca26\"], [1.0, \"#f0f921\"]], \"type\": \"histogram2dcontour\"}], \"mesh3d\": [{\"colorbar\": {\"outlinewidth\": 0, \"ticks\": \"\"}, \"type\": \"mesh3d\"}], \"parcoords\": [{\"line\": {\"colorbar\": {\"outlinewidth\": 0, \"ticks\": \"\"}}, \"type\": \"parcoords\"}], \"pie\": [{\"automargin\": true, \"type\": \"pie\"}], \"scatter\": [{\"marker\": {\"colorbar\": {\"outlinewidth\": 0, \"ticks\": \"\"}}, \"type\": \"scatter\"}], \"scatter3d\": [{\"line\": {\"colorbar\": {\"outlinewidth\": 0, \"ticks\": \"\"}}, \"marker\": {\"colorbar\": {\"outlinewidth\": 0, \"ticks\": \"\"}}, \"type\": \"scatter3d\"}], \"scattercarpet\": [{\"marker\": {\"colorbar\": {\"outlinewidth\": 0, \"ticks\": \"\"}}, \"type\": \"scattercarpet\"}], \"scattergeo\": [{\"marker\": {\"colorbar\": {\"outlinewidth\": 0, \"ticks\": \"\"}}, \"type\": \"scattergeo\"}], \"scattergl\": [{\"marker\": {\"colorbar\": {\"outlinewidth\": 0, \"ticks\": \"\"}}, \"type\": \"scattergl\"}], \"scattermapbox\": [{\"marker\": {\"colorbar\": {\"outlinewidth\": 0, \"ticks\": \"\"}}, \"type\": \"scattermapbox\"}], \"scatterpolar\": [{\"marker\": {\"colorbar\": {\"outlinewidth\": 0, \"ticks\": \"\"}}, \"type\": \"scatterpolar\"}], \"scatterpolargl\": [{\"marker\": {\"colorbar\": {\"outlinewidth\": 0, \"ticks\": \"\"}}, \"type\": \"scatterpolargl\"}], \"scatterternary\": [{\"marker\": {\"colorbar\": {\"outlinewidth\": 0, \"ticks\": \"\"}}, \"type\": \"scatterternary\"}], \"surface\": [{\"colorbar\": {\"outlinewidth\": 0, \"ticks\": \"\"}, \"colorscale\": [[0.0, \"#0d0887\"], [0.1111111111111111, \"#46039f\"], [0.2222222222222222, \"#7201a8\"], [0.3333333333333333, \"#9c179e\"], [0.4444444444444444, \"#bd3786\"], [0.5555555555555556, \"#d8576b\"], [0.6666666666666666, \"#ed7953\"], [0.7777777777777778, \"#fb9f3a\"], [0.8888888888888888, \"#fdca26\"], [1.0, \"#f0f921\"]], \"type\": \"surface\"}], \"table\": [{\"cells\": {\"fill\": {\"color\": \"#EBF0F8\"}, \"line\": {\"color\": \"white\"}}, \"header\": {\"fill\": {\"color\": \"#C8D4E3\"}, \"line\": {\"color\": \"white\"}}, \"type\": \"table\"}]}, \"layout\": {\"annotationdefaults\": {\"arrowcolor\": \"#2a3f5f\", \"arrowhead\": 0, \"arrowwidth\": 1}, \"coloraxis\": {\"colorbar\": {\"outlinewidth\": 0, \"ticks\": \"\"}}, \"colorscale\": {\"diverging\": [[0, \"#8e0152\"], [0.1, \"#c51b7d\"], [0.2, \"#de77ae\"], [0.3, \"#f1b6da\"], [0.4, \"#fde0ef\"], [0.5, \"#f7f7f7\"], [0.6, \"#e6f5d0\"], [0.7, \"#b8e186\"], [0.8, \"#7fbc41\"], [0.9, \"#4d9221\"], [1, \"#276419\"]], \"sequential\": [[0.0, \"#0d0887\"], [0.1111111111111111, \"#46039f\"], [0.2222222222222222, \"#7201a8\"], [0.3333333333333333, \"#9c179e\"], [0.4444444444444444, \"#bd3786\"], [0.5555555555555556, \"#d8576b\"], [0.6666666666666666, \"#ed7953\"], [0.7777777777777778, \"#fb9f3a\"], [0.8888888888888888, \"#fdca26\"], [1.0, \"#f0f921\"]], \"sequentialminus\": [[0.0, \"#0d0887\"], [0.1111111111111111, \"#46039f\"], [0.2222222222222222, \"#7201a8\"], [0.3333333333333333, \"#9c179e\"], [0.4444444444444444, \"#bd3786\"], [0.5555555555555556, \"#d8576b\"], [0.6666666666666666, \"#ed7953\"], [0.7777777777777778, \"#fb9f3a\"], [0.8888888888888888, \"#fdca26\"], [1.0, \"#f0f921\"]]}, \"colorway\": [\"#636efa\", \"#EF553B\", \"#00cc96\", \"#ab63fa\", \"#FFA15A\", \"#19d3f3\", \"#FF6692\", \"#B6E880\", \"#FF97FF\", \"#FECB52\"], \"font\": {\"color\": \"#2a3f5f\"}, \"geo\": {\"bgcolor\": \"white\", \"lakecolor\": \"white\", \"landcolor\": \"#E5ECF6\", \"showlakes\": true, \"showland\": true, \"subunitcolor\": \"white\"}, \"hoverlabel\": {\"align\": \"left\"}, \"hovermode\": \"closest\", \"mapbox\": {\"style\": \"light\"}, \"paper_bgcolor\": \"white\", \"plot_bgcolor\": \"#E5ECF6\", \"polar\": {\"angularaxis\": {\"gridcolor\": \"white\", \"linecolor\": \"white\", \"ticks\": \"\"}, \"bgcolor\": \"#E5ECF6\", \"radialaxis\": {\"gridcolor\": \"white\", \"linecolor\": \"white\", \"ticks\": \"\"}}, \"scene\": {\"xaxis\": {\"backgroundcolor\": \"#E5ECF6\", \"gridcolor\": \"white\", \"gridwidth\": 2, \"linecolor\": \"white\", \"showbackground\": true, \"ticks\": \"\", \"zerolinecolor\": \"white\"}, \"yaxis\": {\"backgroundcolor\": \"#E5ECF6\", \"gridcolor\": \"white\", \"gridwidth\": 2, \"linecolor\": \"white\", \"showbackground\": true, \"ticks\": \"\", \"zerolinecolor\": \"white\"}, \"zaxis\": {\"backgroundcolor\": \"#E5ECF6\", \"gridcolor\": \"white\", \"gridwidth\": 2, \"linecolor\": \"white\", \"showbackground\": true, \"ticks\": \"\", \"zerolinecolor\": \"white\"}}, \"shapedefaults\": {\"line\": {\"color\": \"#2a3f5f\"}}, \"ternary\": {\"aaxis\": {\"gridcolor\": \"white\", \"linecolor\": \"white\", \"ticks\": \"\"}, \"baxis\": {\"gridcolor\": \"white\", \"linecolor\": \"white\", \"ticks\": \"\"}, \"bgcolor\": \"#E5ECF6\", \"caxis\": {\"gridcolor\": \"white\", \"linecolor\": \"white\", \"ticks\": \"\"}}, \"title\": {\"x\": 0.05}, \"xaxis\": {\"automargin\": true, \"gridcolor\": \"white\", \"linecolor\": \"white\", \"ticks\": \"\", \"title\": {\"standoff\": 15}, \"zerolinecolor\": \"white\", \"zerolinewidth\": 2}, \"yaxis\": {\"automargin\": true, \"gridcolor\": \"white\", \"linecolor\": \"white\", \"ticks\": \"\", \"title\": {\"standoff\": 15}, \"zerolinecolor\": \"white\", \"zerolinewidth\": 2}}}, \"xaxis\": {\"anchor\": \"y\", \"domain\": [0.0, 0.45], \"title\": {\"text\": \"Days since 1/22/20\"}}, \"xaxis2\": {\"anchor\": \"y2\", \"domain\": [0.55, 1.0], \"title\": {\"text\": \"Days since 1/22/20\"}}, \"yaxis\": {\"anchor\": \"x\", \"domain\": [0.0, 1.0], \"title\": {\"text\": \"Percent\"}}, \"yaxis2\": {\"anchor\": \"x2\", \"domain\": [0.0, 1.0], \"title\": {\"text\": \"Percent\"}}},\n",
       "                        {\"responsive\": true}\n",
       "                    ).then(function(){\n",
       "                            \n",
       "var gd = document.getElementById('3254719a-778d-4bf6-b1e8-191f5dd9b499');\n",
       "var x = new MutationObserver(function (mutations, observer) {{\n",
       "        var display = window.getComputedStyle(gd).display;\n",
       "        if (!display || display === 'none') {{\n",
       "            console.log([gd, 'removed!']);\n",
       "            Plotly.purge(gd);\n",
       "            observer.disconnect();\n",
       "        }}\n",
       "}});\n",
       "\n",
       "// Listen for the removal of the full notebook cells\n",
       "var notebookContainer = gd.closest('#notebook-container');\n",
       "if (notebookContainer) {{\n",
       "    x.observe(notebookContainer, {childList: true});\n",
       "}}\n",
       "\n",
       "// Listen for the clearing of the current output cell\n",
       "var outputEl = gd.closest('.output');\n",
       "if (outputEl) {{\n",
       "    x.observe(outputEl, {childList: true});\n",
       "}}\n",
       "\n",
       "                        })\n",
       "                };\n",
       "                });\n",
       "            </script>\n",
       "        </div>"
      ]
     },
     "metadata": {},
     "output_type": "display_data"
    }
   ],
   "source": [
    "# china mortality rate\n",
    "china_drate_gd = Graph(\"\", \"\", china_mortality, \"\", china_dmean)\n",
    "\n",
    "# china recovery rate\n",
    "china_rrate_gd = Graph(\"\", \"\", \"\", china_recovery_rate, china_rmean)\n",
    "\n",
    "country_graphs(\n",
    "    \"China\", china_drate_gd, china_rrate_gd, \"Mortality Rate\", \"Recovery Rate\"\n",
    ")"
   ]
  },
  {
   "cell_type": "code",
   "execution_count": 57,
   "metadata": {},
   "outputs": [
    {
     "data": {
      "application/vnd.plotly.v1+json": {
       "config": {
        "linkText": "Export to plot.ly",
        "plotlyServerURL": "https://plot.ly",
        "showLink": false
       },
       "data": [
        {
         "hovertemplate": "%{y:.2f}%",
         "line": {
          "color": "red"
         },
         "mode": "lines",
         "name": "Mortality Rate",
         "type": "scatter",
         "x": [
          0,
          1,
          2,
          3,
          4,
          5,
          6,
          7,
          8,
          9,
          10,
          11,
          12,
          13,
          14,
          15,
          16,
          17,
          18,
          19,
          20,
          21,
          22,
          23,
          24,
          25,
          26,
          27,
          28,
          29,
          30,
          31,
          32,
          33,
          34,
          35,
          36,
          37,
          38,
          39,
          40,
          41,
          42,
          43,
          44,
          45,
          46,
          47,
          48,
          49,
          50,
          51,
          52,
          53,
          54,
          55,
          56,
          57,
          58,
          59,
          60,
          61,
          62,
          63,
          64,
          65,
          66,
          67,
          68,
          69,
          70,
          71,
          72,
          73,
          74,
          75,
          76,
          77,
          78,
          79,
          80,
          81,
          82,
          83,
          84,
          85,
          86,
          87,
          88,
          89,
          90,
          91,
          92,
          93,
          94,
          95,
          96,
          97
         ],
         "xaxis": "x",
         "y": [
          0,
          0,
          0,
          0,
          0,
          0,
          0,
          0,
          0,
          0,
          0,
          0,
          0,
          0,
          0,
          0,
          0,
          0,
          0,
          0,
          0,
          0,
          0,
          0,
          0,
          0,
          0,
          0,
          0,
          0,
          5,
          3.225806451612903,
          1.935483870967742,
          3.056768558951965,
          3.1055900621118013,
          2.6490066225165565,
          2.595419847328244,
          2.364864864864865,
          2.5709219858156027,
          2.0070838252656436,
          2.5540275049115913,
          3.1574740207833734,
          3.463904176108773,
          3.8361845515811304,
          4.249352890422778,
          3.960564337922828,
          4.96271186440678,
          5.04797208896642,
          6.21736131638585,
          6.636173968865351,
          6.636173968865351,
          7.168742921857304,
          6.810984544122513,
          7.309976966905079,
          7.71265189421015,
          7.9445185044118585,
          8.338700193206956,
          8.29779456561472,
          8.574892069500862,
          9.00556198439658,
          9.259697656329264,
          9.506155458569932,
          9.858910604834046,
          10.086575430860647,
          10.193698891908324,
          10.559781729057319,
          10.838956657150273,
          11.03399563922243,
          11.392877854116907,
          11.747580157289777,
          11.897010147050842,
          12.074590860970828,
          12.25182972118137,
          12.325887412542526,
          12.320470267084406,
          12.465766860057187,
          12.631835145221485,
          12.673035819311156,
          12.726804339047249,
          12.772315469212684,
          12.785100248898345,
          12.726156443659944,
          12.829434037964843,
          12.965265127270936,
          13.105870243104961,
          13.12292457130004,
          13.19055406706334,
          13.202785277817252,
          13.219945019332632,
          13.305890921932592,
          13.398783411340695,
          13.39102211640607,
          13.448753243882026,
          13.455858731359523,
          13.505945707982042,
          13.478689768559505,
          13.528137442707134,
          13.577330587330339
         ],
         "yaxis": "y"
        },
        {
         "hovertemplate": "%{y:.2f}%",
         "line": {
          "color": "black",
          "dash": "dash"
         },
         "mode": "lines",
         "name": "Mean",
         "type": "scatter",
         "xaxis": "x",
         "y": [
          6.298498913385841,
          6.298498913385841,
          6.298498913385841,
          6.298498913385841,
          6.298498913385841,
          6.298498913385841,
          6.298498913385841,
          6.298498913385841,
          6.298498913385841,
          6.298498913385841,
          6.298498913385841,
          6.298498913385841,
          6.298498913385841,
          6.298498913385841,
          6.298498913385841,
          6.298498913385841,
          6.298498913385841,
          6.298498913385841,
          6.298498913385841,
          6.298498913385841,
          6.298498913385841,
          6.298498913385841,
          6.298498913385841,
          6.298498913385841,
          6.298498913385841,
          6.298498913385841,
          6.298498913385841,
          6.298498913385841,
          6.298498913385841,
          6.298498913385841,
          6.298498913385841,
          6.298498913385841,
          6.298498913385841,
          6.298498913385841,
          6.298498913385841,
          6.298498913385841,
          6.298498913385841,
          6.298498913385841,
          6.298498913385841,
          6.298498913385841,
          6.298498913385841,
          6.298498913385841,
          6.298498913385841,
          6.298498913385841,
          6.298498913385841,
          6.298498913385841,
          6.298498913385841,
          6.298498913385841,
          6.298498913385841,
          6.298498913385841,
          6.298498913385841,
          6.298498913385841,
          6.298498913385841,
          6.298498913385841,
          6.298498913385841,
          6.298498913385841,
          6.298498913385841,
          6.298498913385841,
          6.298498913385841,
          6.298498913385841,
          6.298498913385841,
          6.298498913385841,
          6.298498913385841,
          6.298498913385841,
          6.298498913385841,
          6.298498913385841,
          6.298498913385841,
          6.298498913385841,
          6.298498913385841,
          6.298498913385841,
          6.298498913385841,
          6.298498913385841,
          6.298498913385841,
          6.298498913385841,
          6.298498913385841,
          6.298498913385841,
          6.298498913385841,
          6.298498913385841,
          6.298498913385841,
          6.298498913385841,
          6.298498913385841,
          6.298498913385841,
          6.298498913385841,
          6.298498913385841,
          6.298498913385841,
          6.298498913385841,
          6.298498913385841,
          6.298498913385841,
          6.298498913385841,
          6.298498913385841,
          6.298498913385841,
          6.298498913385841,
          6.298498913385841,
          6.298498913385841,
          6.298498913385841,
          6.298498913385841,
          6.298498913385841,
          6.298498913385841
         ],
         "yaxis": "y"
        },
        {
         "hovertemplate": "%{y:.2f}%",
         "line": {
          "color": "green"
         },
         "mode": "lines",
         "name": "Recovery Rate",
         "type": "scatter",
         "x": [
          0,
          1,
          2,
          3,
          4,
          5,
          6,
          7,
          8,
          9,
          10,
          11,
          12,
          13,
          14,
          15,
          16,
          17,
          18,
          19,
          20,
          21,
          22,
          23,
          24,
          25,
          26,
          27,
          28,
          29,
          30,
          31,
          32,
          33,
          34,
          35,
          36,
          37,
          38,
          39,
          40,
          41,
          42,
          43,
          44,
          45,
          46,
          47,
          48,
          49,
          50,
          51,
          52,
          53,
          54,
          55,
          56,
          57,
          58,
          59,
          60,
          61,
          62,
          63,
          64,
          65,
          66,
          67,
          68,
          69,
          70,
          71,
          72,
          73,
          74,
          75,
          76,
          77,
          78,
          79,
          80,
          81,
          82,
          83,
          84,
          85,
          86,
          87,
          88,
          89,
          90,
          91,
          92,
          93,
          94,
          95,
          96,
          97
         ],
         "xaxis": "x2",
         "y": [
          0,
          0,
          0,
          0,
          0,
          0,
          0,
          0,
          0,
          0,
          0,
          0,
          0,
          0,
          0,
          0,
          0,
          0,
          0,
          0,
          0,
          0,
          0,
          0,
          0,
          0,
          0,
          0,
          0,
          0,
          0,
          1.6129032258064515,
          1.2903225806451613,
          0.43668122270742354,
          0.3105590062111801,
          0.6622516556291391,
          6.870229007633588,
          5.18018018018018,
          4.078014184397164,
          4.899645808736717,
          7.318271119842828,
          6.394884092725819,
          8.934930398187117,
          10.730948678071538,
          11.281276962899051,
          10.011898691143974,
          8.433898305084746,
          7.893589184474488,
          7.133707754458567,
          8.3854918953619,
          8.3854918953619,
          8.148357870894678,
          9.292432764569645,
          9.435487129753103,
          9.824874910650465,
          9.334729892718848,
          11.270405734606447,
          10.820031680272937,
          9.44258948129559,
          11.333009817462392,
          11.877303933173256,
          10.987532654433965,
          12.035966231062796,
          12.585701610518107,
          12.856593331596123,
          12.659252237045942,
          13.392161951725928,
          13.338246885524471,
          14.37010389329559,
          14.86785390199637,
          15.23595058512851,
          15.8605369570122,
          16.488771311974766,
          16.846395789203413,
          16.917672239972703,
          17.229360151493434,
          17.990057970586935,
          19.00058814247393,
          19.822316293707267,
          20.636684578220184,
          21.365854299242798,
          21.87921695030154,
          22.214072569522806,
          22.85091822165329,
          23.06439405407042,
          23.77398026529972,
          24.778755929805026,
          25.537587039931793,
          26.291822184475784,
          26.969894276822565,
          28.05003343172589,
          29.1164647915143,
          30.307464744990074,
          31.34708851052364,
          32.31107084171568,
          32.8458328063741,
          33.40989098057308,
          34.213046822659486
         ],
         "yaxis": "y2"
        },
        {
         "hovertemplate": "%{y:.2f}%",
         "line": {
          "color": "black",
          "dash": "dash"
         },
         "mode": "lines",
         "name": "Mean",
         "type": "scatter",
         "xaxis": "x2",
         "y": [
          10.2497299439095,
          10.2497299439095,
          10.2497299439095,
          10.2497299439095,
          10.2497299439095,
          10.2497299439095,
          10.2497299439095,
          10.2497299439095,
          10.2497299439095,
          10.2497299439095,
          10.2497299439095,
          10.2497299439095,
          10.2497299439095,
          10.2497299439095,
          10.2497299439095,
          10.2497299439095,
          10.2497299439095,
          10.2497299439095,
          10.2497299439095,
          10.2497299439095,
          10.2497299439095,
          10.2497299439095,
          10.2497299439095,
          10.2497299439095,
          10.2497299439095,
          10.2497299439095,
          10.2497299439095,
          10.2497299439095,
          10.2497299439095,
          10.2497299439095,
          10.2497299439095,
          10.2497299439095,
          10.2497299439095,
          10.2497299439095,
          10.2497299439095,
          10.2497299439095,
          10.2497299439095,
          10.2497299439095,
          10.2497299439095,
          10.2497299439095,
          10.2497299439095,
          10.2497299439095,
          10.2497299439095,
          10.2497299439095,
          10.2497299439095,
          10.2497299439095,
          10.2497299439095,
          10.2497299439095,
          10.2497299439095,
          10.2497299439095,
          10.2497299439095,
          10.2497299439095,
          10.2497299439095,
          10.2497299439095,
          10.2497299439095,
          10.2497299439095,
          10.2497299439095,
          10.2497299439095,
          10.2497299439095,
          10.2497299439095,
          10.2497299439095,
          10.2497299439095,
          10.2497299439095,
          10.2497299439095,
          10.2497299439095,
          10.2497299439095,
          10.2497299439095,
          10.2497299439095,
          10.2497299439095,
          10.2497299439095,
          10.2497299439095,
          10.2497299439095,
          10.2497299439095,
          10.2497299439095,
          10.2497299439095,
          10.2497299439095,
          10.2497299439095,
          10.2497299439095,
          10.2497299439095,
          10.2497299439095,
          10.2497299439095,
          10.2497299439095,
          10.2497299439095,
          10.2497299439095,
          10.2497299439095,
          10.2497299439095,
          10.2497299439095,
          10.2497299439095,
          10.2497299439095,
          10.2497299439095,
          10.2497299439095,
          10.2497299439095,
          10.2497299439095,
          10.2497299439095,
          10.2497299439095,
          10.2497299439095,
          10.2497299439095,
          10.2497299439095
         ],
         "yaxis": "y2"
        }
       ],
       "layout": {
        "annotations": [
         {
          "font": {
           "size": 16
          },
          "showarrow": false,
          "text": "Italy; Mortality Rate",
          "x": 0.225,
          "xanchor": "center",
          "xref": "paper",
          "y": 1,
          "yanchor": "bottom",
          "yref": "paper"
         },
         {
          "font": {
           "size": 16
          },
          "showarrow": false,
          "text": "Italy; Recovery Rate",
          "x": 0.775,
          "xanchor": "center",
          "xref": "paper",
          "y": 1,
          "yanchor": "bottom",
          "yref": "paper"
         }
        ],
        "hovermode": "x",
        "template": {
         "data": {
          "bar": [
           {
            "error_x": {
             "color": "#2a3f5f"
            },
            "error_y": {
             "color": "#2a3f5f"
            },
            "marker": {
             "line": {
              "color": "#E5ECF6",
              "width": 0.5
             }
            },
            "type": "bar"
           }
          ],
          "barpolar": [
           {
            "marker": {
             "line": {
              "color": "#E5ECF6",
              "width": 0.5
             }
            },
            "type": "barpolar"
           }
          ],
          "carpet": [
           {
            "aaxis": {
             "endlinecolor": "#2a3f5f",
             "gridcolor": "white",
             "linecolor": "white",
             "minorgridcolor": "white",
             "startlinecolor": "#2a3f5f"
            },
            "baxis": {
             "endlinecolor": "#2a3f5f",
             "gridcolor": "white",
             "linecolor": "white",
             "minorgridcolor": "white",
             "startlinecolor": "#2a3f5f"
            },
            "type": "carpet"
           }
          ],
          "choropleth": [
           {
            "colorbar": {
             "outlinewidth": 0,
             "ticks": ""
            },
            "type": "choropleth"
           }
          ],
          "contour": [
           {
            "colorbar": {
             "outlinewidth": 0,
             "ticks": ""
            },
            "colorscale": [
             [
              0,
              "#0d0887"
             ],
             [
              0.1111111111111111,
              "#46039f"
             ],
             [
              0.2222222222222222,
              "#7201a8"
             ],
             [
              0.3333333333333333,
              "#9c179e"
             ],
             [
              0.4444444444444444,
              "#bd3786"
             ],
             [
              0.5555555555555556,
              "#d8576b"
             ],
             [
              0.6666666666666666,
              "#ed7953"
             ],
             [
              0.7777777777777778,
              "#fb9f3a"
             ],
             [
              0.8888888888888888,
              "#fdca26"
             ],
             [
              1,
              "#f0f921"
             ]
            ],
            "type": "contour"
           }
          ],
          "contourcarpet": [
           {
            "colorbar": {
             "outlinewidth": 0,
             "ticks": ""
            },
            "type": "contourcarpet"
           }
          ],
          "heatmap": [
           {
            "colorbar": {
             "outlinewidth": 0,
             "ticks": ""
            },
            "colorscale": [
             [
              0,
              "#0d0887"
             ],
             [
              0.1111111111111111,
              "#46039f"
             ],
             [
              0.2222222222222222,
              "#7201a8"
             ],
             [
              0.3333333333333333,
              "#9c179e"
             ],
             [
              0.4444444444444444,
              "#bd3786"
             ],
             [
              0.5555555555555556,
              "#d8576b"
             ],
             [
              0.6666666666666666,
              "#ed7953"
             ],
             [
              0.7777777777777778,
              "#fb9f3a"
             ],
             [
              0.8888888888888888,
              "#fdca26"
             ],
             [
              1,
              "#f0f921"
             ]
            ],
            "type": "heatmap"
           }
          ],
          "heatmapgl": [
           {
            "colorbar": {
             "outlinewidth": 0,
             "ticks": ""
            },
            "colorscale": [
             [
              0,
              "#0d0887"
             ],
             [
              0.1111111111111111,
              "#46039f"
             ],
             [
              0.2222222222222222,
              "#7201a8"
             ],
             [
              0.3333333333333333,
              "#9c179e"
             ],
             [
              0.4444444444444444,
              "#bd3786"
             ],
             [
              0.5555555555555556,
              "#d8576b"
             ],
             [
              0.6666666666666666,
              "#ed7953"
             ],
             [
              0.7777777777777778,
              "#fb9f3a"
             ],
             [
              0.8888888888888888,
              "#fdca26"
             ],
             [
              1,
              "#f0f921"
             ]
            ],
            "type": "heatmapgl"
           }
          ],
          "histogram": [
           {
            "marker": {
             "colorbar": {
              "outlinewidth": 0,
              "ticks": ""
             }
            },
            "type": "histogram"
           }
          ],
          "histogram2d": [
           {
            "colorbar": {
             "outlinewidth": 0,
             "ticks": ""
            },
            "colorscale": [
             [
              0,
              "#0d0887"
             ],
             [
              0.1111111111111111,
              "#46039f"
             ],
             [
              0.2222222222222222,
              "#7201a8"
             ],
             [
              0.3333333333333333,
              "#9c179e"
             ],
             [
              0.4444444444444444,
              "#bd3786"
             ],
             [
              0.5555555555555556,
              "#d8576b"
             ],
             [
              0.6666666666666666,
              "#ed7953"
             ],
             [
              0.7777777777777778,
              "#fb9f3a"
             ],
             [
              0.8888888888888888,
              "#fdca26"
             ],
             [
              1,
              "#f0f921"
             ]
            ],
            "type": "histogram2d"
           }
          ],
          "histogram2dcontour": [
           {
            "colorbar": {
             "outlinewidth": 0,
             "ticks": ""
            },
            "colorscale": [
             [
              0,
              "#0d0887"
             ],
             [
              0.1111111111111111,
              "#46039f"
             ],
             [
              0.2222222222222222,
              "#7201a8"
             ],
             [
              0.3333333333333333,
              "#9c179e"
             ],
             [
              0.4444444444444444,
              "#bd3786"
             ],
             [
              0.5555555555555556,
              "#d8576b"
             ],
             [
              0.6666666666666666,
              "#ed7953"
             ],
             [
              0.7777777777777778,
              "#fb9f3a"
             ],
             [
              0.8888888888888888,
              "#fdca26"
             ],
             [
              1,
              "#f0f921"
             ]
            ],
            "type": "histogram2dcontour"
           }
          ],
          "mesh3d": [
           {
            "colorbar": {
             "outlinewidth": 0,
             "ticks": ""
            },
            "type": "mesh3d"
           }
          ],
          "parcoords": [
           {
            "line": {
             "colorbar": {
              "outlinewidth": 0,
              "ticks": ""
             }
            },
            "type": "parcoords"
           }
          ],
          "pie": [
           {
            "automargin": true,
            "type": "pie"
           }
          ],
          "scatter": [
           {
            "marker": {
             "colorbar": {
              "outlinewidth": 0,
              "ticks": ""
             }
            },
            "type": "scatter"
           }
          ],
          "scatter3d": [
           {
            "line": {
             "colorbar": {
              "outlinewidth": 0,
              "ticks": ""
             }
            },
            "marker": {
             "colorbar": {
              "outlinewidth": 0,
              "ticks": ""
             }
            },
            "type": "scatter3d"
           }
          ],
          "scattercarpet": [
           {
            "marker": {
             "colorbar": {
              "outlinewidth": 0,
              "ticks": ""
             }
            },
            "type": "scattercarpet"
           }
          ],
          "scattergeo": [
           {
            "marker": {
             "colorbar": {
              "outlinewidth": 0,
              "ticks": ""
             }
            },
            "type": "scattergeo"
           }
          ],
          "scattergl": [
           {
            "marker": {
             "colorbar": {
              "outlinewidth": 0,
              "ticks": ""
             }
            },
            "type": "scattergl"
           }
          ],
          "scattermapbox": [
           {
            "marker": {
             "colorbar": {
              "outlinewidth": 0,
              "ticks": ""
             }
            },
            "type": "scattermapbox"
           }
          ],
          "scatterpolar": [
           {
            "marker": {
             "colorbar": {
              "outlinewidth": 0,
              "ticks": ""
             }
            },
            "type": "scatterpolar"
           }
          ],
          "scatterpolargl": [
           {
            "marker": {
             "colorbar": {
              "outlinewidth": 0,
              "ticks": ""
             }
            },
            "type": "scatterpolargl"
           }
          ],
          "scatterternary": [
           {
            "marker": {
             "colorbar": {
              "outlinewidth": 0,
              "ticks": ""
             }
            },
            "type": "scatterternary"
           }
          ],
          "surface": [
           {
            "colorbar": {
             "outlinewidth": 0,
             "ticks": ""
            },
            "colorscale": [
             [
              0,
              "#0d0887"
             ],
             [
              0.1111111111111111,
              "#46039f"
             ],
             [
              0.2222222222222222,
              "#7201a8"
             ],
             [
              0.3333333333333333,
              "#9c179e"
             ],
             [
              0.4444444444444444,
              "#bd3786"
             ],
             [
              0.5555555555555556,
              "#d8576b"
             ],
             [
              0.6666666666666666,
              "#ed7953"
             ],
             [
              0.7777777777777778,
              "#fb9f3a"
             ],
             [
              0.8888888888888888,
              "#fdca26"
             ],
             [
              1,
              "#f0f921"
             ]
            ],
            "type": "surface"
           }
          ],
          "table": [
           {
            "cells": {
             "fill": {
              "color": "#EBF0F8"
             },
             "line": {
              "color": "white"
             }
            },
            "header": {
             "fill": {
              "color": "#C8D4E3"
             },
             "line": {
              "color": "white"
             }
            },
            "type": "table"
           }
          ]
         },
         "layout": {
          "annotationdefaults": {
           "arrowcolor": "#2a3f5f",
           "arrowhead": 0,
           "arrowwidth": 1
          },
          "coloraxis": {
           "colorbar": {
            "outlinewidth": 0,
            "ticks": ""
           }
          },
          "colorscale": {
           "diverging": [
            [
             0,
             "#8e0152"
            ],
            [
             0.1,
             "#c51b7d"
            ],
            [
             0.2,
             "#de77ae"
            ],
            [
             0.3,
             "#f1b6da"
            ],
            [
             0.4,
             "#fde0ef"
            ],
            [
             0.5,
             "#f7f7f7"
            ],
            [
             0.6,
             "#e6f5d0"
            ],
            [
             0.7,
             "#b8e186"
            ],
            [
             0.8,
             "#7fbc41"
            ],
            [
             0.9,
             "#4d9221"
            ],
            [
             1,
             "#276419"
            ]
           ],
           "sequential": [
            [
             0,
             "#0d0887"
            ],
            [
             0.1111111111111111,
             "#46039f"
            ],
            [
             0.2222222222222222,
             "#7201a8"
            ],
            [
             0.3333333333333333,
             "#9c179e"
            ],
            [
             0.4444444444444444,
             "#bd3786"
            ],
            [
             0.5555555555555556,
             "#d8576b"
            ],
            [
             0.6666666666666666,
             "#ed7953"
            ],
            [
             0.7777777777777778,
             "#fb9f3a"
            ],
            [
             0.8888888888888888,
             "#fdca26"
            ],
            [
             1,
             "#f0f921"
            ]
           ],
           "sequentialminus": [
            [
             0,
             "#0d0887"
            ],
            [
             0.1111111111111111,
             "#46039f"
            ],
            [
             0.2222222222222222,
             "#7201a8"
            ],
            [
             0.3333333333333333,
             "#9c179e"
            ],
            [
             0.4444444444444444,
             "#bd3786"
            ],
            [
             0.5555555555555556,
             "#d8576b"
            ],
            [
             0.6666666666666666,
             "#ed7953"
            ],
            [
             0.7777777777777778,
             "#fb9f3a"
            ],
            [
             0.8888888888888888,
             "#fdca26"
            ],
            [
             1,
             "#f0f921"
            ]
           ]
          },
          "colorway": [
           "#636efa",
           "#EF553B",
           "#00cc96",
           "#ab63fa",
           "#FFA15A",
           "#19d3f3",
           "#FF6692",
           "#B6E880",
           "#FF97FF",
           "#FECB52"
          ],
          "font": {
           "color": "#2a3f5f"
          },
          "geo": {
           "bgcolor": "white",
           "lakecolor": "white",
           "landcolor": "#E5ECF6",
           "showlakes": true,
           "showland": true,
           "subunitcolor": "white"
          },
          "hoverlabel": {
           "align": "left"
          },
          "hovermode": "closest",
          "mapbox": {
           "style": "light"
          },
          "paper_bgcolor": "white",
          "plot_bgcolor": "#E5ECF6",
          "polar": {
           "angularaxis": {
            "gridcolor": "white",
            "linecolor": "white",
            "ticks": ""
           },
           "bgcolor": "#E5ECF6",
           "radialaxis": {
            "gridcolor": "white",
            "linecolor": "white",
            "ticks": ""
           }
          },
          "scene": {
           "xaxis": {
            "backgroundcolor": "#E5ECF6",
            "gridcolor": "white",
            "gridwidth": 2,
            "linecolor": "white",
            "showbackground": true,
            "ticks": "",
            "zerolinecolor": "white"
           },
           "yaxis": {
            "backgroundcolor": "#E5ECF6",
            "gridcolor": "white",
            "gridwidth": 2,
            "linecolor": "white",
            "showbackground": true,
            "ticks": "",
            "zerolinecolor": "white"
           },
           "zaxis": {
            "backgroundcolor": "#E5ECF6",
            "gridcolor": "white",
            "gridwidth": 2,
            "linecolor": "white",
            "showbackground": true,
            "ticks": "",
            "zerolinecolor": "white"
           }
          },
          "shapedefaults": {
           "line": {
            "color": "#2a3f5f"
           }
          },
          "ternary": {
           "aaxis": {
            "gridcolor": "white",
            "linecolor": "white",
            "ticks": ""
           },
           "baxis": {
            "gridcolor": "white",
            "linecolor": "white",
            "ticks": ""
           },
           "bgcolor": "#E5ECF6",
           "caxis": {
            "gridcolor": "white",
            "linecolor": "white",
            "ticks": ""
           }
          },
          "title": {
           "x": 0.05
          },
          "xaxis": {
           "automargin": true,
           "gridcolor": "white",
           "linecolor": "white",
           "ticks": "",
           "title": {
            "standoff": 15
           },
           "zerolinecolor": "white",
           "zerolinewidth": 2
          },
          "yaxis": {
           "automargin": true,
           "gridcolor": "white",
           "linecolor": "white",
           "ticks": "",
           "title": {
            "standoff": 15
           },
           "zerolinecolor": "white",
           "zerolinewidth": 2
          }
         }
        },
        "xaxis": {
         "anchor": "y",
         "domain": [
          0,
          0.45
         ],
         "title": {
          "text": "Days since 1/22/20"
         }
        },
        "xaxis2": {
         "anchor": "y2",
         "domain": [
          0.55,
          1
         ],
         "title": {
          "text": "Days since 1/22/20"
         }
        },
        "yaxis": {
         "anchor": "x",
         "domain": [
          0,
          1
         ],
         "title": {
          "text": "Percent"
         }
        },
        "yaxis2": {
         "anchor": "x2",
         "domain": [
          0,
          1
         ],
         "title": {
          "text": "Percent"
         }
        }
       }
      },
      "text/html": [
       "<div>\n",
       "        \n",
       "        \n",
       "            <div id=\"34a82ef7-0df0-4215-bec8-01b3298aa55a\" class=\"plotly-graph-div\" style=\"height:525px; width:100%;\"></div>\n",
       "            <script type=\"text/javascript\">\n",
       "                require([\"plotly\"], function(Plotly) {\n",
       "                    window.PLOTLYENV=window.PLOTLYENV || {};\n",
       "                    \n",
       "                if (document.getElementById(\"34a82ef7-0df0-4215-bec8-01b3298aa55a\")) {\n",
       "                    Plotly.newPlot(\n",
       "                        '34a82ef7-0df0-4215-bec8-01b3298aa55a',\n",
       "                        [{\"hovertemplate\": \"%{y:.2f}%\", \"line\": {\"color\": \"red\"}, \"mode\": \"lines\", \"name\": \"Mortality Rate\", \"type\": \"scatter\", \"x\": [0, 1, 2, 3, 4, 5, 6, 7, 8, 9, 10, 11, 12, 13, 14, 15, 16, 17, 18, 19, 20, 21, 22, 23, 24, 25, 26, 27, 28, 29, 30, 31, 32, 33, 34, 35, 36, 37, 38, 39, 40, 41, 42, 43, 44, 45, 46, 47, 48, 49, 50, 51, 52, 53, 54, 55, 56, 57, 58, 59, 60, 61, 62, 63, 64, 65, 66, 67, 68, 69, 70, 71, 72, 73, 74, 75, 76, 77, 78, 79, 80, 81, 82, 83, 84, 85, 86, 87, 88, 89, 90, 91, 92, 93, 94, 95, 96, 97], \"xaxis\": \"x\", \"y\": [0, 0, 0, 0, 0, 0, 0, 0, 0, 0, 0.0, 0.0, 0.0, 0.0, 0.0, 0.0, 0.0, 0.0, 0.0, 0.0, 0.0, 0.0, 0.0, 0.0, 0.0, 0.0, 0.0, 0.0, 0.0, 0.0, 5.0, 3.225806451612903, 1.935483870967742, 3.056768558951965, 3.1055900621118013, 2.6490066225165565, 2.595419847328244, 2.364864864864865, 2.5709219858156027, 2.0070838252656436, 2.5540275049115913, 3.1574740207833734, 3.463904176108773, 3.8361845515811304, 4.249352890422778, 3.960564337922828, 4.96271186440678, 5.04797208896642, 6.21736131638585, 6.636173968865351, 6.636173968865351, 7.168742921857304, 6.810984544122513, 7.309976966905079, 7.71265189421015, 7.9445185044118585, 8.338700193206956, 8.29779456561472, 8.574892069500862, 9.00556198439658, 9.259697656329264, 9.506155458569932, 9.858910604834046, 10.086575430860647, 10.193698891908324, 10.559781729057319, 10.838956657150273, 11.03399563922243, 11.392877854116907, 11.747580157289777, 11.897010147050842, 12.074590860970828, 12.25182972118137, 12.325887412542526, 12.320470267084406, 12.465766860057187, 12.631835145221485, 12.673035819311156, 12.726804339047249, 12.772315469212684, 12.785100248898345, 12.726156443659944, 12.829434037964843, 12.965265127270936, 13.105870243104961, 13.12292457130004, 13.19055406706334, 13.202785277817252, 13.219945019332632, 13.305890921932592, 13.398783411340695, 13.39102211640607, 13.448753243882026, 13.455858731359523, 13.505945707982042, 13.478689768559505, 13.528137442707134, 13.577330587330339], \"yaxis\": \"y\"}, {\"hovertemplate\": \"%{y:.2f}%\", \"line\": {\"color\": \"black\", \"dash\": \"dash\"}, \"mode\": \"lines\", \"name\": \"Mean\", \"type\": \"scatter\", \"xaxis\": \"x\", \"y\": [6.298498913385841, 6.298498913385841, 6.298498913385841, 6.298498913385841, 6.298498913385841, 6.298498913385841, 6.298498913385841, 6.298498913385841, 6.298498913385841, 6.298498913385841, 6.298498913385841, 6.298498913385841, 6.298498913385841, 6.298498913385841, 6.298498913385841, 6.298498913385841, 6.298498913385841, 6.298498913385841, 6.298498913385841, 6.298498913385841, 6.298498913385841, 6.298498913385841, 6.298498913385841, 6.298498913385841, 6.298498913385841, 6.298498913385841, 6.298498913385841, 6.298498913385841, 6.298498913385841, 6.298498913385841, 6.298498913385841, 6.298498913385841, 6.298498913385841, 6.298498913385841, 6.298498913385841, 6.298498913385841, 6.298498913385841, 6.298498913385841, 6.298498913385841, 6.298498913385841, 6.298498913385841, 6.298498913385841, 6.298498913385841, 6.298498913385841, 6.298498913385841, 6.298498913385841, 6.298498913385841, 6.298498913385841, 6.298498913385841, 6.298498913385841, 6.298498913385841, 6.298498913385841, 6.298498913385841, 6.298498913385841, 6.298498913385841, 6.298498913385841, 6.298498913385841, 6.298498913385841, 6.298498913385841, 6.298498913385841, 6.298498913385841, 6.298498913385841, 6.298498913385841, 6.298498913385841, 6.298498913385841, 6.298498913385841, 6.298498913385841, 6.298498913385841, 6.298498913385841, 6.298498913385841, 6.298498913385841, 6.298498913385841, 6.298498913385841, 6.298498913385841, 6.298498913385841, 6.298498913385841, 6.298498913385841, 6.298498913385841, 6.298498913385841, 6.298498913385841, 6.298498913385841, 6.298498913385841, 6.298498913385841, 6.298498913385841, 6.298498913385841, 6.298498913385841, 6.298498913385841, 6.298498913385841, 6.298498913385841, 6.298498913385841, 6.298498913385841, 6.298498913385841, 6.298498913385841, 6.298498913385841, 6.298498913385841, 6.298498913385841, 6.298498913385841, 6.298498913385841], \"yaxis\": \"y\"}, {\"hovertemplate\": \"%{y:.2f}%\", \"line\": {\"color\": \"green\"}, \"mode\": \"lines\", \"name\": \"Recovery Rate\", \"type\": \"scatter\", \"x\": [0, 1, 2, 3, 4, 5, 6, 7, 8, 9, 10, 11, 12, 13, 14, 15, 16, 17, 18, 19, 20, 21, 22, 23, 24, 25, 26, 27, 28, 29, 30, 31, 32, 33, 34, 35, 36, 37, 38, 39, 40, 41, 42, 43, 44, 45, 46, 47, 48, 49, 50, 51, 52, 53, 54, 55, 56, 57, 58, 59, 60, 61, 62, 63, 64, 65, 66, 67, 68, 69, 70, 71, 72, 73, 74, 75, 76, 77, 78, 79, 80, 81, 82, 83, 84, 85, 86, 87, 88, 89, 90, 91, 92, 93, 94, 95, 96, 97], \"xaxis\": \"x2\", \"y\": [0, 0, 0, 0, 0, 0, 0, 0, 0, 0, 0.0, 0.0, 0.0, 0.0, 0.0, 0.0, 0.0, 0.0, 0.0, 0.0, 0.0, 0.0, 0.0, 0.0, 0.0, 0.0, 0.0, 0.0, 0.0, 0.0, 0.0, 1.6129032258064515, 1.2903225806451613, 0.43668122270742354, 0.3105590062111801, 0.6622516556291391, 6.870229007633588, 5.18018018018018, 4.078014184397164, 4.899645808736717, 7.318271119842828, 6.394884092725819, 8.934930398187117, 10.730948678071538, 11.281276962899051, 10.011898691143974, 8.433898305084746, 7.893589184474488, 7.133707754458567, 8.3854918953619, 8.3854918953619, 8.148357870894678, 9.292432764569645, 9.435487129753103, 9.824874910650465, 9.334729892718848, 11.270405734606447, 10.820031680272937, 9.44258948129559, 11.333009817462392, 11.877303933173256, 10.987532654433965, 12.035966231062796, 12.585701610518107, 12.856593331596123, 12.659252237045942, 13.392161951725928, 13.338246885524471, 14.37010389329559, 14.86785390199637, 15.23595058512851, 15.8605369570122, 16.488771311974766, 16.846395789203413, 16.917672239972703, 17.229360151493434, 17.990057970586935, 19.00058814247393, 19.822316293707267, 20.636684578220184, 21.365854299242798, 21.87921695030154, 22.214072569522806, 22.85091822165329, 23.06439405407042, 23.77398026529972, 24.778755929805026, 25.537587039931793, 26.291822184475784, 26.969894276822565, 28.05003343172589, 29.1164647915143, 30.307464744990074, 31.34708851052364, 32.31107084171568, 32.8458328063741, 33.40989098057308, 34.213046822659486], \"yaxis\": \"y2\"}, {\"hovertemplate\": \"%{y:.2f}%\", \"line\": {\"color\": \"black\", \"dash\": \"dash\"}, \"mode\": \"lines\", \"name\": \"Mean\", \"type\": \"scatter\", \"xaxis\": \"x2\", \"y\": [10.2497299439095, 10.2497299439095, 10.2497299439095, 10.2497299439095, 10.2497299439095, 10.2497299439095, 10.2497299439095, 10.2497299439095, 10.2497299439095, 10.2497299439095, 10.2497299439095, 10.2497299439095, 10.2497299439095, 10.2497299439095, 10.2497299439095, 10.2497299439095, 10.2497299439095, 10.2497299439095, 10.2497299439095, 10.2497299439095, 10.2497299439095, 10.2497299439095, 10.2497299439095, 10.2497299439095, 10.2497299439095, 10.2497299439095, 10.2497299439095, 10.2497299439095, 10.2497299439095, 10.2497299439095, 10.2497299439095, 10.2497299439095, 10.2497299439095, 10.2497299439095, 10.2497299439095, 10.2497299439095, 10.2497299439095, 10.2497299439095, 10.2497299439095, 10.2497299439095, 10.2497299439095, 10.2497299439095, 10.2497299439095, 10.2497299439095, 10.2497299439095, 10.2497299439095, 10.2497299439095, 10.2497299439095, 10.2497299439095, 10.2497299439095, 10.2497299439095, 10.2497299439095, 10.2497299439095, 10.2497299439095, 10.2497299439095, 10.2497299439095, 10.2497299439095, 10.2497299439095, 10.2497299439095, 10.2497299439095, 10.2497299439095, 10.2497299439095, 10.2497299439095, 10.2497299439095, 10.2497299439095, 10.2497299439095, 10.2497299439095, 10.2497299439095, 10.2497299439095, 10.2497299439095, 10.2497299439095, 10.2497299439095, 10.2497299439095, 10.2497299439095, 10.2497299439095, 10.2497299439095, 10.2497299439095, 10.2497299439095, 10.2497299439095, 10.2497299439095, 10.2497299439095, 10.2497299439095, 10.2497299439095, 10.2497299439095, 10.2497299439095, 10.2497299439095, 10.2497299439095, 10.2497299439095, 10.2497299439095, 10.2497299439095, 10.2497299439095, 10.2497299439095, 10.2497299439095, 10.2497299439095, 10.2497299439095, 10.2497299439095, 10.2497299439095, 10.2497299439095], \"yaxis\": \"y2\"}],\n",
       "                        {\"annotations\": [{\"font\": {\"size\": 16}, \"showarrow\": false, \"text\": \"Italy; Mortality Rate\", \"x\": 0.225, \"xanchor\": \"center\", \"xref\": \"paper\", \"y\": 1.0, \"yanchor\": \"bottom\", \"yref\": \"paper\"}, {\"font\": {\"size\": 16}, \"showarrow\": false, \"text\": \"Italy; Recovery Rate\", \"x\": 0.775, \"xanchor\": \"center\", \"xref\": \"paper\", \"y\": 1.0, \"yanchor\": \"bottom\", \"yref\": \"paper\"}], \"hovermode\": \"x\", \"template\": {\"data\": {\"bar\": [{\"error_x\": {\"color\": \"#2a3f5f\"}, \"error_y\": {\"color\": \"#2a3f5f\"}, \"marker\": {\"line\": {\"color\": \"#E5ECF6\", \"width\": 0.5}}, \"type\": \"bar\"}], \"barpolar\": [{\"marker\": {\"line\": {\"color\": \"#E5ECF6\", \"width\": 0.5}}, \"type\": \"barpolar\"}], \"carpet\": [{\"aaxis\": {\"endlinecolor\": \"#2a3f5f\", \"gridcolor\": \"white\", \"linecolor\": \"white\", \"minorgridcolor\": \"white\", \"startlinecolor\": \"#2a3f5f\"}, \"baxis\": {\"endlinecolor\": \"#2a3f5f\", \"gridcolor\": \"white\", \"linecolor\": \"white\", \"minorgridcolor\": \"white\", \"startlinecolor\": \"#2a3f5f\"}, \"type\": \"carpet\"}], \"choropleth\": [{\"colorbar\": {\"outlinewidth\": 0, \"ticks\": \"\"}, \"type\": \"choropleth\"}], \"contour\": [{\"colorbar\": {\"outlinewidth\": 0, \"ticks\": \"\"}, \"colorscale\": [[0.0, \"#0d0887\"], [0.1111111111111111, \"#46039f\"], [0.2222222222222222, \"#7201a8\"], [0.3333333333333333, \"#9c179e\"], [0.4444444444444444, \"#bd3786\"], [0.5555555555555556, \"#d8576b\"], [0.6666666666666666, \"#ed7953\"], [0.7777777777777778, \"#fb9f3a\"], [0.8888888888888888, \"#fdca26\"], [1.0, \"#f0f921\"]], \"type\": \"contour\"}], \"contourcarpet\": [{\"colorbar\": {\"outlinewidth\": 0, \"ticks\": \"\"}, \"type\": \"contourcarpet\"}], \"heatmap\": [{\"colorbar\": {\"outlinewidth\": 0, \"ticks\": \"\"}, \"colorscale\": [[0.0, \"#0d0887\"], [0.1111111111111111, \"#46039f\"], [0.2222222222222222, \"#7201a8\"], [0.3333333333333333, \"#9c179e\"], [0.4444444444444444, \"#bd3786\"], [0.5555555555555556, \"#d8576b\"], [0.6666666666666666, \"#ed7953\"], [0.7777777777777778, \"#fb9f3a\"], [0.8888888888888888, \"#fdca26\"], [1.0, \"#f0f921\"]], \"type\": \"heatmap\"}], \"heatmapgl\": [{\"colorbar\": {\"outlinewidth\": 0, \"ticks\": \"\"}, \"colorscale\": [[0.0, \"#0d0887\"], [0.1111111111111111, \"#46039f\"], [0.2222222222222222, \"#7201a8\"], [0.3333333333333333, \"#9c179e\"], [0.4444444444444444, \"#bd3786\"], [0.5555555555555556, \"#d8576b\"], [0.6666666666666666, \"#ed7953\"], [0.7777777777777778, \"#fb9f3a\"], [0.8888888888888888, \"#fdca26\"], [1.0, \"#f0f921\"]], \"type\": \"heatmapgl\"}], \"histogram\": [{\"marker\": {\"colorbar\": {\"outlinewidth\": 0, \"ticks\": \"\"}}, \"type\": \"histogram\"}], \"histogram2d\": [{\"colorbar\": {\"outlinewidth\": 0, \"ticks\": \"\"}, \"colorscale\": [[0.0, \"#0d0887\"], [0.1111111111111111, \"#46039f\"], [0.2222222222222222, \"#7201a8\"], [0.3333333333333333, \"#9c179e\"], [0.4444444444444444, \"#bd3786\"], [0.5555555555555556, \"#d8576b\"], [0.6666666666666666, \"#ed7953\"], [0.7777777777777778, \"#fb9f3a\"], [0.8888888888888888, \"#fdca26\"], [1.0, \"#f0f921\"]], \"type\": \"histogram2d\"}], \"histogram2dcontour\": [{\"colorbar\": {\"outlinewidth\": 0, \"ticks\": \"\"}, \"colorscale\": [[0.0, \"#0d0887\"], [0.1111111111111111, \"#46039f\"], [0.2222222222222222, \"#7201a8\"], [0.3333333333333333, \"#9c179e\"], [0.4444444444444444, \"#bd3786\"], [0.5555555555555556, \"#d8576b\"], [0.6666666666666666, \"#ed7953\"], [0.7777777777777778, \"#fb9f3a\"], [0.8888888888888888, \"#fdca26\"], [1.0, \"#f0f921\"]], \"type\": \"histogram2dcontour\"}], \"mesh3d\": [{\"colorbar\": {\"outlinewidth\": 0, \"ticks\": \"\"}, \"type\": \"mesh3d\"}], \"parcoords\": [{\"line\": {\"colorbar\": {\"outlinewidth\": 0, \"ticks\": \"\"}}, \"type\": \"parcoords\"}], \"pie\": [{\"automargin\": true, \"type\": \"pie\"}], \"scatter\": [{\"marker\": {\"colorbar\": {\"outlinewidth\": 0, \"ticks\": \"\"}}, \"type\": \"scatter\"}], \"scatter3d\": [{\"line\": {\"colorbar\": {\"outlinewidth\": 0, \"ticks\": \"\"}}, \"marker\": {\"colorbar\": {\"outlinewidth\": 0, \"ticks\": \"\"}}, \"type\": \"scatter3d\"}], \"scattercarpet\": [{\"marker\": {\"colorbar\": {\"outlinewidth\": 0, \"ticks\": \"\"}}, \"type\": \"scattercarpet\"}], \"scattergeo\": [{\"marker\": {\"colorbar\": {\"outlinewidth\": 0, \"ticks\": \"\"}}, \"type\": \"scattergeo\"}], \"scattergl\": [{\"marker\": {\"colorbar\": {\"outlinewidth\": 0, \"ticks\": \"\"}}, \"type\": \"scattergl\"}], \"scattermapbox\": [{\"marker\": {\"colorbar\": {\"outlinewidth\": 0, \"ticks\": \"\"}}, \"type\": \"scattermapbox\"}], \"scatterpolar\": [{\"marker\": {\"colorbar\": {\"outlinewidth\": 0, \"ticks\": \"\"}}, \"type\": \"scatterpolar\"}], \"scatterpolargl\": [{\"marker\": {\"colorbar\": {\"outlinewidth\": 0, \"ticks\": \"\"}}, \"type\": \"scatterpolargl\"}], \"scatterternary\": [{\"marker\": {\"colorbar\": {\"outlinewidth\": 0, \"ticks\": \"\"}}, \"type\": \"scatterternary\"}], \"surface\": [{\"colorbar\": {\"outlinewidth\": 0, \"ticks\": \"\"}, \"colorscale\": [[0.0, \"#0d0887\"], [0.1111111111111111, \"#46039f\"], [0.2222222222222222, \"#7201a8\"], [0.3333333333333333, \"#9c179e\"], [0.4444444444444444, \"#bd3786\"], [0.5555555555555556, \"#d8576b\"], [0.6666666666666666, \"#ed7953\"], [0.7777777777777778, \"#fb9f3a\"], [0.8888888888888888, \"#fdca26\"], [1.0, \"#f0f921\"]], \"type\": \"surface\"}], \"table\": [{\"cells\": {\"fill\": {\"color\": \"#EBF0F8\"}, \"line\": {\"color\": \"white\"}}, \"header\": {\"fill\": {\"color\": \"#C8D4E3\"}, \"line\": {\"color\": \"white\"}}, \"type\": \"table\"}]}, \"layout\": {\"annotationdefaults\": {\"arrowcolor\": \"#2a3f5f\", \"arrowhead\": 0, \"arrowwidth\": 1}, \"coloraxis\": {\"colorbar\": {\"outlinewidth\": 0, \"ticks\": \"\"}}, \"colorscale\": {\"diverging\": [[0, \"#8e0152\"], [0.1, \"#c51b7d\"], [0.2, \"#de77ae\"], [0.3, \"#f1b6da\"], [0.4, \"#fde0ef\"], [0.5, \"#f7f7f7\"], [0.6, \"#e6f5d0\"], [0.7, \"#b8e186\"], [0.8, \"#7fbc41\"], [0.9, \"#4d9221\"], [1, \"#276419\"]], \"sequential\": [[0.0, \"#0d0887\"], [0.1111111111111111, \"#46039f\"], [0.2222222222222222, \"#7201a8\"], [0.3333333333333333, \"#9c179e\"], [0.4444444444444444, \"#bd3786\"], [0.5555555555555556, \"#d8576b\"], [0.6666666666666666, \"#ed7953\"], [0.7777777777777778, \"#fb9f3a\"], [0.8888888888888888, \"#fdca26\"], [1.0, \"#f0f921\"]], \"sequentialminus\": [[0.0, \"#0d0887\"], [0.1111111111111111, \"#46039f\"], [0.2222222222222222, \"#7201a8\"], [0.3333333333333333, \"#9c179e\"], [0.4444444444444444, \"#bd3786\"], [0.5555555555555556, \"#d8576b\"], [0.6666666666666666, \"#ed7953\"], [0.7777777777777778, \"#fb9f3a\"], [0.8888888888888888, \"#fdca26\"], [1.0, \"#f0f921\"]]}, \"colorway\": [\"#636efa\", \"#EF553B\", \"#00cc96\", \"#ab63fa\", \"#FFA15A\", \"#19d3f3\", \"#FF6692\", \"#B6E880\", \"#FF97FF\", \"#FECB52\"], \"font\": {\"color\": \"#2a3f5f\"}, \"geo\": {\"bgcolor\": \"white\", \"lakecolor\": \"white\", \"landcolor\": \"#E5ECF6\", \"showlakes\": true, \"showland\": true, \"subunitcolor\": \"white\"}, \"hoverlabel\": {\"align\": \"left\"}, \"hovermode\": \"closest\", \"mapbox\": {\"style\": \"light\"}, \"paper_bgcolor\": \"white\", \"plot_bgcolor\": \"#E5ECF6\", \"polar\": {\"angularaxis\": {\"gridcolor\": \"white\", \"linecolor\": \"white\", \"ticks\": \"\"}, \"bgcolor\": \"#E5ECF6\", \"radialaxis\": {\"gridcolor\": \"white\", \"linecolor\": \"white\", \"ticks\": \"\"}}, \"scene\": {\"xaxis\": {\"backgroundcolor\": \"#E5ECF6\", \"gridcolor\": \"white\", \"gridwidth\": 2, \"linecolor\": \"white\", \"showbackground\": true, \"ticks\": \"\", \"zerolinecolor\": \"white\"}, \"yaxis\": {\"backgroundcolor\": \"#E5ECF6\", \"gridcolor\": \"white\", \"gridwidth\": 2, \"linecolor\": \"white\", \"showbackground\": true, \"ticks\": \"\", \"zerolinecolor\": \"white\"}, \"zaxis\": {\"backgroundcolor\": \"#E5ECF6\", \"gridcolor\": \"white\", \"gridwidth\": 2, \"linecolor\": \"white\", \"showbackground\": true, \"ticks\": \"\", \"zerolinecolor\": \"white\"}}, \"shapedefaults\": {\"line\": {\"color\": \"#2a3f5f\"}}, \"ternary\": {\"aaxis\": {\"gridcolor\": \"white\", \"linecolor\": \"white\", \"ticks\": \"\"}, \"baxis\": {\"gridcolor\": \"white\", \"linecolor\": \"white\", \"ticks\": \"\"}, \"bgcolor\": \"#E5ECF6\", \"caxis\": {\"gridcolor\": \"white\", \"linecolor\": \"white\", \"ticks\": \"\"}}, \"title\": {\"x\": 0.05}, \"xaxis\": {\"automargin\": true, \"gridcolor\": \"white\", \"linecolor\": \"white\", \"ticks\": \"\", \"title\": {\"standoff\": 15}, \"zerolinecolor\": \"white\", \"zerolinewidth\": 2}, \"yaxis\": {\"automargin\": true, \"gridcolor\": \"white\", \"linecolor\": \"white\", \"ticks\": \"\", \"title\": {\"standoff\": 15}, \"zerolinecolor\": \"white\", \"zerolinewidth\": 2}}}, \"xaxis\": {\"anchor\": \"y\", \"domain\": [0.0, 0.45], \"title\": {\"text\": \"Days since 1/22/20\"}}, \"xaxis2\": {\"anchor\": \"y2\", \"domain\": [0.55, 1.0], \"title\": {\"text\": \"Days since 1/22/20\"}}, \"yaxis\": {\"anchor\": \"x\", \"domain\": [0.0, 1.0], \"title\": {\"text\": \"Percent\"}}, \"yaxis2\": {\"anchor\": \"x2\", \"domain\": [0.0, 1.0], \"title\": {\"text\": \"Percent\"}}},\n",
       "                        {\"responsive\": true}\n",
       "                    ).then(function(){\n",
       "                            \n",
       "var gd = document.getElementById('34a82ef7-0df0-4215-bec8-01b3298aa55a');\n",
       "var x = new MutationObserver(function (mutations, observer) {{\n",
       "        var display = window.getComputedStyle(gd).display;\n",
       "        if (!display || display === 'none') {{\n",
       "            console.log([gd, 'removed!']);\n",
       "            Plotly.purge(gd);\n",
       "            observer.disconnect();\n",
       "        }}\n",
       "}});\n",
       "\n",
       "// Listen for the removal of the full notebook cells\n",
       "var notebookContainer = gd.closest('#notebook-container');\n",
       "if (notebookContainer) {{\n",
       "    x.observe(notebookContainer, {childList: true});\n",
       "}}\n",
       "\n",
       "// Listen for the clearing of the current output cell\n",
       "var outputEl = gd.closest('.output');\n",
       "if (outputEl) {{\n",
       "    x.observe(outputEl, {childList: true});\n",
       "}}\n",
       "\n",
       "                        })\n",
       "                };\n",
       "                });\n",
       "            </script>\n",
       "        </div>"
      ]
     },
     "metadata": {},
     "output_type": "display_data"
    }
   ],
   "source": [
    "# italy mortality rate\n",
    "italy_drate_gd = Graph(\"\", \"\", italy_mortality, \"\", italy_dmean)\n",
    "\n",
    "# italy recovery rate\n",
    "italy_rrate_gd = Graph(\"\", \"\", \"\", italy_recovery_rate, italy_rmean)\n",
    "\n",
    "country_graphs(\n",
    "    \"Italy;\", italy_drate_gd, italy_rrate_gd, \"Mortality Rate\", \"Recovery Rate\"\n",
    ")"
   ]
  },
  {
   "cell_type": "code",
   "execution_count": 58,
   "metadata": {},
   "outputs": [
    {
     "data": {
      "application/vnd.plotly.v1+json": {
       "config": {
        "linkText": "Export to plot.ly",
        "plotlyServerURL": "https://plot.ly",
        "showLink": false
       },
       "data": [
        {
         "hovertemplate": "%{y:.2f}%",
         "line": {
          "color": "red"
         },
         "mode": "lines",
         "name": "Mortality Rate",
         "type": "scatter",
         "x": [
          0,
          1,
          2,
          3,
          4,
          5,
          6,
          7,
          8,
          9,
          10,
          11,
          12,
          13,
          14,
          15,
          16,
          17,
          18,
          19,
          20,
          21,
          22,
          23,
          24,
          25,
          26,
          27,
          28,
          29,
          30,
          31,
          32,
          33,
          34,
          35,
          36,
          37,
          38,
          39,
          40,
          41,
          42,
          43,
          44,
          45,
          46,
          47,
          48,
          49,
          50,
          51,
          52,
          53,
          54,
          55,
          56,
          57,
          58,
          59,
          60,
          61,
          62,
          63,
          64,
          65,
          66,
          67,
          68,
          69,
          70,
          71,
          72,
          73,
          74,
          75,
          76,
          77,
          78,
          79,
          80,
          81,
          82,
          83,
          84,
          85,
          86,
          87,
          88,
          89,
          90,
          91,
          92,
          93,
          94,
          95,
          96,
          97
         ],
         "xaxis": "x",
         "y": [
          0,
          0,
          0,
          0,
          0,
          0,
          0,
          0,
          0,
          0,
          0,
          0,
          0,
          0,
          0,
          0,
          0,
          0,
          0,
          0,
          0,
          0,
          0,
          0,
          0,
          0,
          0,
          0,
          0,
          0,
          0,
          0,
          0,
          0,
          0,
          0,
          0,
          0,
          0,
          0,
          0,
          0.6060606060606061,
          0.9009009009009009,
          1.1583011583011582,
          1.25,
          2,
          2.526002971768202,
          2.60950605778192,
          2.0648967551622417,
          2.371541501976284,
          2.4154589371980677,
          2.5420489296636086,
          3.0511657017681113,
          3.7060784816619647,
          3.4399517199758605,
          4.536942458290773,
          4.478792235801582,
          4.620609029672104,
          5.110240078392945,
          5.418932765823284,
          6.159621802002225,
          6.577299635701276,
          7.04024069198947,
          7.365444814702615,
          7.553732738033434,
          7.818134785982744,
          8.168225575203113,
          8.49207339907627,
          8.772568102232935,
          8.823744044702522,
          9.015732150060508,
          9.233926738946147,
          9.394374113876793,
          9.46912053769577,
          9.602266684897376,
          9.76111212730931,
          9.894886643840442,
          9.979759816489004,
          10.081450444453147,
          10.16029265888686,
          10.186042802725929,
          10.315229184024552,
          10.438626917265829,
          10.464759100735478,
          10.5311747089685,
          10.443476004066007,
          10.48108615115359,
          10.453981202340842,
          10.294754220481794,
          10.41506418260826,
          10.423258137507469,
          10.421375408490851,
          10.401175454408893,
          10.249176389217524,
          10.235119034318172,
          10.23258276743047,
          10.25228618005248,
          10.26244141163496
         ],
         "yaxis": "y"
        },
        {
         "hovertemplate": "%{y:.2f}%",
         "line": {
          "color": "black",
          "dash": "dash"
         },
         "mode": "lines",
         "name": "Mean",
         "type": "scatter",
         "xaxis": "x",
         "y": [
          4.231357622997073,
          4.231357622997073,
          4.231357622997073,
          4.231357622997073,
          4.231357622997073,
          4.231357622997073,
          4.231357622997073,
          4.231357622997073,
          4.231357622997073,
          4.231357622997073,
          4.231357622997073,
          4.231357622997073,
          4.231357622997073,
          4.231357622997073,
          4.231357622997073,
          4.231357622997073,
          4.231357622997073,
          4.231357622997073,
          4.231357622997073,
          4.231357622997073,
          4.231357622997073,
          4.231357622997073,
          4.231357622997073,
          4.231357622997073,
          4.231357622997073,
          4.231357622997073,
          4.231357622997073,
          4.231357622997073,
          4.231357622997073,
          4.231357622997073,
          4.231357622997073,
          4.231357622997073,
          4.231357622997073,
          4.231357622997073,
          4.231357622997073,
          4.231357622997073,
          4.231357622997073,
          4.231357622997073,
          4.231357622997073,
          4.231357622997073,
          4.231357622997073,
          4.231357622997073,
          4.231357622997073,
          4.231357622997073,
          4.231357622997073,
          4.231357622997073,
          4.231357622997073,
          4.231357622997073,
          4.231357622997073,
          4.231357622997073,
          4.231357622997073,
          4.231357622997073,
          4.231357622997073,
          4.231357622997073,
          4.231357622997073,
          4.231357622997073,
          4.231357622997073,
          4.231357622997073,
          4.231357622997073,
          4.231357622997073,
          4.231357622997073,
          4.231357622997073,
          4.231357622997073,
          4.231357622997073,
          4.231357622997073,
          4.231357622997073,
          4.231357622997073,
          4.231357622997073,
          4.231357622997073,
          4.231357622997073,
          4.231357622997073,
          4.231357622997073,
          4.231357622997073,
          4.231357622997073,
          4.231357622997073,
          4.231357622997073,
          4.231357622997073,
          4.231357622997073,
          4.231357622997073,
          4.231357622997073,
          4.231357622997073,
          4.231357622997073,
          4.231357622997073,
          4.231357622997073,
          4.231357622997073,
          4.231357622997073,
          4.231357622997073,
          4.231357622997073,
          4.231357622997073,
          4.231357622997073,
          4.231357622997073,
          4.231357622997073,
          4.231357622997073,
          4.231357622997073,
          4.231357622997073,
          4.231357622997073,
          4.231357622997073,
          4.231357622997073
         ],
         "yaxis": "y"
        },
        {
         "hovertemplate": "%{y:.2f}%",
         "line": {
          "color": "green"
         },
         "mode": "lines",
         "name": "Recovery Rate",
         "type": "scatter",
         "x": [
          0,
          1,
          2,
          3,
          4,
          5,
          6,
          7,
          8,
          9,
          10,
          11,
          12,
          13,
          14,
          15,
          16,
          17,
          18,
          19,
          20,
          21,
          22,
          23,
          24,
          25,
          26,
          27,
          28,
          29,
          30,
          31,
          32,
          33,
          34,
          35,
          36,
          37,
          38,
          39,
          40,
          41,
          42,
          43,
          44,
          45,
          46,
          47,
          48,
          49,
          50,
          51,
          52,
          53,
          54,
          55,
          56,
          57,
          58,
          59,
          60,
          61,
          62,
          63,
          64,
          65,
          66,
          67,
          68,
          69,
          70,
          71,
          72,
          73,
          74,
          75,
          76,
          77,
          78,
          79,
          80,
          81,
          82,
          83,
          84,
          85,
          86,
          87,
          88,
          89,
          90,
          91,
          92,
          93,
          94,
          95,
          96,
          97
         ],
         "xaxis": "x2",
         "y": [
          0,
          0,
          0,
          0,
          0,
          0,
          0,
          0,
          0,
          0,
          0,
          0,
          0,
          0,
          0,
          0,
          0,
          0,
          0,
          0,
          0,
          0,
          0,
          0,
          100,
          100,
          100,
          100,
          100,
          100,
          100,
          100,
          100,
          100,
          33.33333333333333,
          15.384615384615385,
          13.333333333333334,
          6.25,
          4.444444444444445,
          2.380952380952381,
          1.6666666666666667,
          1.2121212121212122,
          0.9009009009009009,
          0.7722007722007722,
          0.5,
          6,
          4.457652303120357,
          2.982292637465051,
          1.887905604719764,
          8.036890645586297,
          8.036890645586297,
          3.688837920489297,
          8.089500860585199,
          6.629905103872788,
          5.330919332126332,
          8.750425604358188,
          7.771387491013659,
          6.162667705839782,
          7.780499755022048,
          8.374714274454167,
          8.950917686318132,
          7.328665755919854,
          9.512348000501442,
          10.839139654650106,
          12.139618592738726,
          14.237891629513536,
          16.77476616371953,
          18.36100362002247,
          19.07772067852108,
          20.077562211357026,
          21.75128219904339,
          23.863829027796367,
          25.598369113834845,
          27.12177414241329,
          28.926059280190813,
          29.586244741174315,
          30.440602499612517,
          32.398461746053165,
          34.04537207450627,
          35.172139278335536,
          36.2571843927693,
          37.397725842319474,
          38.052545870346094,
          39.12345471511119,
          39.88482583143816,
          40.442178342020455,
          39.193770665325225,
          39.012444843161596,
          38.936649989429924,
          40.25123620198791,
          40.41277708665968,
          41.228183829280816,
          41.896687697160885,
          42.02462641742961,
          42.77280466930939,
          51.94701472450569,
          52.668009170872885,
          53.37701612903226
         ],
         "yaxis": "y2"
        },
        {
         "hovertemplate": "%{y:.2f}%",
         "line": {
          "color": "black",
          "dash": "dash"
         },
         "mode": "lines",
         "name": "Mean",
         "type": "scatter",
         "xaxis": "x2",
         "y": [
          24.033081253338676,
          24.033081253338676,
          24.033081253338676,
          24.033081253338676,
          24.033081253338676,
          24.033081253338676,
          24.033081253338676,
          24.033081253338676,
          24.033081253338676,
          24.033081253338676,
          24.033081253338676,
          24.033081253338676,
          24.033081253338676,
          24.033081253338676,
          24.033081253338676,
          24.033081253338676,
          24.033081253338676,
          24.033081253338676,
          24.033081253338676,
          24.033081253338676,
          24.033081253338676,
          24.033081253338676,
          24.033081253338676,
          24.033081253338676,
          24.033081253338676,
          24.033081253338676,
          24.033081253338676,
          24.033081253338676,
          24.033081253338676,
          24.033081253338676,
          24.033081253338676,
          24.033081253338676,
          24.033081253338676,
          24.033081253338676,
          24.033081253338676,
          24.033081253338676,
          24.033081253338676,
          24.033081253338676,
          24.033081253338676,
          24.033081253338676,
          24.033081253338676,
          24.033081253338676,
          24.033081253338676,
          24.033081253338676,
          24.033081253338676,
          24.033081253338676,
          24.033081253338676,
          24.033081253338676,
          24.033081253338676,
          24.033081253338676,
          24.033081253338676,
          24.033081253338676,
          24.033081253338676,
          24.033081253338676,
          24.033081253338676,
          24.033081253338676,
          24.033081253338676,
          24.033081253338676,
          24.033081253338676,
          24.033081253338676,
          24.033081253338676,
          24.033081253338676,
          24.033081253338676,
          24.033081253338676,
          24.033081253338676,
          24.033081253338676,
          24.033081253338676,
          24.033081253338676,
          24.033081253338676,
          24.033081253338676,
          24.033081253338676,
          24.033081253338676,
          24.033081253338676,
          24.033081253338676,
          24.033081253338676,
          24.033081253338676,
          24.033081253338676,
          24.033081253338676,
          24.033081253338676,
          24.033081253338676,
          24.033081253338676,
          24.033081253338676,
          24.033081253338676,
          24.033081253338676,
          24.033081253338676,
          24.033081253338676,
          24.033081253338676,
          24.033081253338676,
          24.033081253338676,
          24.033081253338676,
          24.033081253338676,
          24.033081253338676,
          24.033081253338676,
          24.033081253338676,
          24.033081253338676,
          24.033081253338676,
          24.033081253338676,
          24.033081253338676
         ],
         "yaxis": "y2"
        }
       ],
       "layout": {
        "annotations": [
         {
          "font": {
           "size": 16
          },
          "showarrow": false,
          "text": "Spain Mortality Rate",
          "x": 0.225,
          "xanchor": "center",
          "xref": "paper",
          "y": 1,
          "yanchor": "bottom",
          "yref": "paper"
         },
         {
          "font": {
           "size": 16
          },
          "showarrow": false,
          "text": "Spain Recovery Rate",
          "x": 0.775,
          "xanchor": "center",
          "xref": "paper",
          "y": 1,
          "yanchor": "bottom",
          "yref": "paper"
         }
        ],
        "hovermode": "x",
        "template": {
         "data": {
          "bar": [
           {
            "error_x": {
             "color": "#2a3f5f"
            },
            "error_y": {
             "color": "#2a3f5f"
            },
            "marker": {
             "line": {
              "color": "#E5ECF6",
              "width": 0.5
             }
            },
            "type": "bar"
           }
          ],
          "barpolar": [
           {
            "marker": {
             "line": {
              "color": "#E5ECF6",
              "width": 0.5
             }
            },
            "type": "barpolar"
           }
          ],
          "carpet": [
           {
            "aaxis": {
             "endlinecolor": "#2a3f5f",
             "gridcolor": "white",
             "linecolor": "white",
             "minorgridcolor": "white",
             "startlinecolor": "#2a3f5f"
            },
            "baxis": {
             "endlinecolor": "#2a3f5f",
             "gridcolor": "white",
             "linecolor": "white",
             "minorgridcolor": "white",
             "startlinecolor": "#2a3f5f"
            },
            "type": "carpet"
           }
          ],
          "choropleth": [
           {
            "colorbar": {
             "outlinewidth": 0,
             "ticks": ""
            },
            "type": "choropleth"
           }
          ],
          "contour": [
           {
            "colorbar": {
             "outlinewidth": 0,
             "ticks": ""
            },
            "colorscale": [
             [
              0,
              "#0d0887"
             ],
             [
              0.1111111111111111,
              "#46039f"
             ],
             [
              0.2222222222222222,
              "#7201a8"
             ],
             [
              0.3333333333333333,
              "#9c179e"
             ],
             [
              0.4444444444444444,
              "#bd3786"
             ],
             [
              0.5555555555555556,
              "#d8576b"
             ],
             [
              0.6666666666666666,
              "#ed7953"
             ],
             [
              0.7777777777777778,
              "#fb9f3a"
             ],
             [
              0.8888888888888888,
              "#fdca26"
             ],
             [
              1,
              "#f0f921"
             ]
            ],
            "type": "contour"
           }
          ],
          "contourcarpet": [
           {
            "colorbar": {
             "outlinewidth": 0,
             "ticks": ""
            },
            "type": "contourcarpet"
           }
          ],
          "heatmap": [
           {
            "colorbar": {
             "outlinewidth": 0,
             "ticks": ""
            },
            "colorscale": [
             [
              0,
              "#0d0887"
             ],
             [
              0.1111111111111111,
              "#46039f"
             ],
             [
              0.2222222222222222,
              "#7201a8"
             ],
             [
              0.3333333333333333,
              "#9c179e"
             ],
             [
              0.4444444444444444,
              "#bd3786"
             ],
             [
              0.5555555555555556,
              "#d8576b"
             ],
             [
              0.6666666666666666,
              "#ed7953"
             ],
             [
              0.7777777777777778,
              "#fb9f3a"
             ],
             [
              0.8888888888888888,
              "#fdca26"
             ],
             [
              1,
              "#f0f921"
             ]
            ],
            "type": "heatmap"
           }
          ],
          "heatmapgl": [
           {
            "colorbar": {
             "outlinewidth": 0,
             "ticks": ""
            },
            "colorscale": [
             [
              0,
              "#0d0887"
             ],
             [
              0.1111111111111111,
              "#46039f"
             ],
             [
              0.2222222222222222,
              "#7201a8"
             ],
             [
              0.3333333333333333,
              "#9c179e"
             ],
             [
              0.4444444444444444,
              "#bd3786"
             ],
             [
              0.5555555555555556,
              "#d8576b"
             ],
             [
              0.6666666666666666,
              "#ed7953"
             ],
             [
              0.7777777777777778,
              "#fb9f3a"
             ],
             [
              0.8888888888888888,
              "#fdca26"
             ],
             [
              1,
              "#f0f921"
             ]
            ],
            "type": "heatmapgl"
           }
          ],
          "histogram": [
           {
            "marker": {
             "colorbar": {
              "outlinewidth": 0,
              "ticks": ""
             }
            },
            "type": "histogram"
           }
          ],
          "histogram2d": [
           {
            "colorbar": {
             "outlinewidth": 0,
             "ticks": ""
            },
            "colorscale": [
             [
              0,
              "#0d0887"
             ],
             [
              0.1111111111111111,
              "#46039f"
             ],
             [
              0.2222222222222222,
              "#7201a8"
             ],
             [
              0.3333333333333333,
              "#9c179e"
             ],
             [
              0.4444444444444444,
              "#bd3786"
             ],
             [
              0.5555555555555556,
              "#d8576b"
             ],
             [
              0.6666666666666666,
              "#ed7953"
             ],
             [
              0.7777777777777778,
              "#fb9f3a"
             ],
             [
              0.8888888888888888,
              "#fdca26"
             ],
             [
              1,
              "#f0f921"
             ]
            ],
            "type": "histogram2d"
           }
          ],
          "histogram2dcontour": [
           {
            "colorbar": {
             "outlinewidth": 0,
             "ticks": ""
            },
            "colorscale": [
             [
              0,
              "#0d0887"
             ],
             [
              0.1111111111111111,
              "#46039f"
             ],
             [
              0.2222222222222222,
              "#7201a8"
             ],
             [
              0.3333333333333333,
              "#9c179e"
             ],
             [
              0.4444444444444444,
              "#bd3786"
             ],
             [
              0.5555555555555556,
              "#d8576b"
             ],
             [
              0.6666666666666666,
              "#ed7953"
             ],
             [
              0.7777777777777778,
              "#fb9f3a"
             ],
             [
              0.8888888888888888,
              "#fdca26"
             ],
             [
              1,
              "#f0f921"
             ]
            ],
            "type": "histogram2dcontour"
           }
          ],
          "mesh3d": [
           {
            "colorbar": {
             "outlinewidth": 0,
             "ticks": ""
            },
            "type": "mesh3d"
           }
          ],
          "parcoords": [
           {
            "line": {
             "colorbar": {
              "outlinewidth": 0,
              "ticks": ""
             }
            },
            "type": "parcoords"
           }
          ],
          "pie": [
           {
            "automargin": true,
            "type": "pie"
           }
          ],
          "scatter": [
           {
            "marker": {
             "colorbar": {
              "outlinewidth": 0,
              "ticks": ""
             }
            },
            "type": "scatter"
           }
          ],
          "scatter3d": [
           {
            "line": {
             "colorbar": {
              "outlinewidth": 0,
              "ticks": ""
             }
            },
            "marker": {
             "colorbar": {
              "outlinewidth": 0,
              "ticks": ""
             }
            },
            "type": "scatter3d"
           }
          ],
          "scattercarpet": [
           {
            "marker": {
             "colorbar": {
              "outlinewidth": 0,
              "ticks": ""
             }
            },
            "type": "scattercarpet"
           }
          ],
          "scattergeo": [
           {
            "marker": {
             "colorbar": {
              "outlinewidth": 0,
              "ticks": ""
             }
            },
            "type": "scattergeo"
           }
          ],
          "scattergl": [
           {
            "marker": {
             "colorbar": {
              "outlinewidth": 0,
              "ticks": ""
             }
            },
            "type": "scattergl"
           }
          ],
          "scattermapbox": [
           {
            "marker": {
             "colorbar": {
              "outlinewidth": 0,
              "ticks": ""
             }
            },
            "type": "scattermapbox"
           }
          ],
          "scatterpolar": [
           {
            "marker": {
             "colorbar": {
              "outlinewidth": 0,
              "ticks": ""
             }
            },
            "type": "scatterpolar"
           }
          ],
          "scatterpolargl": [
           {
            "marker": {
             "colorbar": {
              "outlinewidth": 0,
              "ticks": ""
             }
            },
            "type": "scatterpolargl"
           }
          ],
          "scatterternary": [
           {
            "marker": {
             "colorbar": {
              "outlinewidth": 0,
              "ticks": ""
             }
            },
            "type": "scatterternary"
           }
          ],
          "surface": [
           {
            "colorbar": {
             "outlinewidth": 0,
             "ticks": ""
            },
            "colorscale": [
             [
              0,
              "#0d0887"
             ],
             [
              0.1111111111111111,
              "#46039f"
             ],
             [
              0.2222222222222222,
              "#7201a8"
             ],
             [
              0.3333333333333333,
              "#9c179e"
             ],
             [
              0.4444444444444444,
              "#bd3786"
             ],
             [
              0.5555555555555556,
              "#d8576b"
             ],
             [
              0.6666666666666666,
              "#ed7953"
             ],
             [
              0.7777777777777778,
              "#fb9f3a"
             ],
             [
              0.8888888888888888,
              "#fdca26"
             ],
             [
              1,
              "#f0f921"
             ]
            ],
            "type": "surface"
           }
          ],
          "table": [
           {
            "cells": {
             "fill": {
              "color": "#EBF0F8"
             },
             "line": {
              "color": "white"
             }
            },
            "header": {
             "fill": {
              "color": "#C8D4E3"
             },
             "line": {
              "color": "white"
             }
            },
            "type": "table"
           }
          ]
         },
         "layout": {
          "annotationdefaults": {
           "arrowcolor": "#2a3f5f",
           "arrowhead": 0,
           "arrowwidth": 1
          },
          "coloraxis": {
           "colorbar": {
            "outlinewidth": 0,
            "ticks": ""
           }
          },
          "colorscale": {
           "diverging": [
            [
             0,
             "#8e0152"
            ],
            [
             0.1,
             "#c51b7d"
            ],
            [
             0.2,
             "#de77ae"
            ],
            [
             0.3,
             "#f1b6da"
            ],
            [
             0.4,
             "#fde0ef"
            ],
            [
             0.5,
             "#f7f7f7"
            ],
            [
             0.6,
             "#e6f5d0"
            ],
            [
             0.7,
             "#b8e186"
            ],
            [
             0.8,
             "#7fbc41"
            ],
            [
             0.9,
             "#4d9221"
            ],
            [
             1,
             "#276419"
            ]
           ],
           "sequential": [
            [
             0,
             "#0d0887"
            ],
            [
             0.1111111111111111,
             "#46039f"
            ],
            [
             0.2222222222222222,
             "#7201a8"
            ],
            [
             0.3333333333333333,
             "#9c179e"
            ],
            [
             0.4444444444444444,
             "#bd3786"
            ],
            [
             0.5555555555555556,
             "#d8576b"
            ],
            [
             0.6666666666666666,
             "#ed7953"
            ],
            [
             0.7777777777777778,
             "#fb9f3a"
            ],
            [
             0.8888888888888888,
             "#fdca26"
            ],
            [
             1,
             "#f0f921"
            ]
           ],
           "sequentialminus": [
            [
             0,
             "#0d0887"
            ],
            [
             0.1111111111111111,
             "#46039f"
            ],
            [
             0.2222222222222222,
             "#7201a8"
            ],
            [
             0.3333333333333333,
             "#9c179e"
            ],
            [
             0.4444444444444444,
             "#bd3786"
            ],
            [
             0.5555555555555556,
             "#d8576b"
            ],
            [
             0.6666666666666666,
             "#ed7953"
            ],
            [
             0.7777777777777778,
             "#fb9f3a"
            ],
            [
             0.8888888888888888,
             "#fdca26"
            ],
            [
             1,
             "#f0f921"
            ]
           ]
          },
          "colorway": [
           "#636efa",
           "#EF553B",
           "#00cc96",
           "#ab63fa",
           "#FFA15A",
           "#19d3f3",
           "#FF6692",
           "#B6E880",
           "#FF97FF",
           "#FECB52"
          ],
          "font": {
           "color": "#2a3f5f"
          },
          "geo": {
           "bgcolor": "white",
           "lakecolor": "white",
           "landcolor": "#E5ECF6",
           "showlakes": true,
           "showland": true,
           "subunitcolor": "white"
          },
          "hoverlabel": {
           "align": "left"
          },
          "hovermode": "closest",
          "mapbox": {
           "style": "light"
          },
          "paper_bgcolor": "white",
          "plot_bgcolor": "#E5ECF6",
          "polar": {
           "angularaxis": {
            "gridcolor": "white",
            "linecolor": "white",
            "ticks": ""
           },
           "bgcolor": "#E5ECF6",
           "radialaxis": {
            "gridcolor": "white",
            "linecolor": "white",
            "ticks": ""
           }
          },
          "scene": {
           "xaxis": {
            "backgroundcolor": "#E5ECF6",
            "gridcolor": "white",
            "gridwidth": 2,
            "linecolor": "white",
            "showbackground": true,
            "ticks": "",
            "zerolinecolor": "white"
           },
           "yaxis": {
            "backgroundcolor": "#E5ECF6",
            "gridcolor": "white",
            "gridwidth": 2,
            "linecolor": "white",
            "showbackground": true,
            "ticks": "",
            "zerolinecolor": "white"
           },
           "zaxis": {
            "backgroundcolor": "#E5ECF6",
            "gridcolor": "white",
            "gridwidth": 2,
            "linecolor": "white",
            "showbackground": true,
            "ticks": "",
            "zerolinecolor": "white"
           }
          },
          "shapedefaults": {
           "line": {
            "color": "#2a3f5f"
           }
          },
          "ternary": {
           "aaxis": {
            "gridcolor": "white",
            "linecolor": "white",
            "ticks": ""
           },
           "baxis": {
            "gridcolor": "white",
            "linecolor": "white",
            "ticks": ""
           },
           "bgcolor": "#E5ECF6",
           "caxis": {
            "gridcolor": "white",
            "linecolor": "white",
            "ticks": ""
           }
          },
          "title": {
           "x": 0.05
          },
          "xaxis": {
           "automargin": true,
           "gridcolor": "white",
           "linecolor": "white",
           "ticks": "",
           "title": {
            "standoff": 15
           },
           "zerolinecolor": "white",
           "zerolinewidth": 2
          },
          "yaxis": {
           "automargin": true,
           "gridcolor": "white",
           "linecolor": "white",
           "ticks": "",
           "title": {
            "standoff": 15
           },
           "zerolinecolor": "white",
           "zerolinewidth": 2
          }
         }
        },
        "xaxis": {
         "anchor": "y",
         "domain": [
          0,
          0.45
         ],
         "title": {
          "text": "Days since 1/22/20"
         }
        },
        "xaxis2": {
         "anchor": "y2",
         "domain": [
          0.55,
          1
         ],
         "title": {
          "text": "Days since 1/22/20"
         }
        },
        "yaxis": {
         "anchor": "x",
         "domain": [
          0,
          1
         ],
         "title": {
          "text": "Percent"
         }
        },
        "yaxis2": {
         "anchor": "x2",
         "domain": [
          0,
          1
         ],
         "title": {
          "text": "Percent"
         }
        }
       }
      },
      "text/html": [
       "<div>\n",
       "        \n",
       "        \n",
       "            <div id=\"0b773d20-2502-44de-8293-82c6ed388d97\" class=\"plotly-graph-div\" style=\"height:525px; width:100%;\"></div>\n",
       "            <script type=\"text/javascript\">\n",
       "                require([\"plotly\"], function(Plotly) {\n",
       "                    window.PLOTLYENV=window.PLOTLYENV || {};\n",
       "                    \n",
       "                if (document.getElementById(\"0b773d20-2502-44de-8293-82c6ed388d97\")) {\n",
       "                    Plotly.newPlot(\n",
       "                        '0b773d20-2502-44de-8293-82c6ed388d97',\n",
       "                        [{\"hovertemplate\": \"%{y:.2f}%\", \"line\": {\"color\": \"red\"}, \"mode\": \"lines\", \"name\": \"Mortality Rate\", \"type\": \"scatter\", \"x\": [0, 1, 2, 3, 4, 5, 6, 7, 8, 9, 10, 11, 12, 13, 14, 15, 16, 17, 18, 19, 20, 21, 22, 23, 24, 25, 26, 27, 28, 29, 30, 31, 32, 33, 34, 35, 36, 37, 38, 39, 40, 41, 42, 43, 44, 45, 46, 47, 48, 49, 50, 51, 52, 53, 54, 55, 56, 57, 58, 59, 60, 61, 62, 63, 64, 65, 66, 67, 68, 69, 70, 71, 72, 73, 74, 75, 76, 77, 78, 79, 80, 81, 82, 83, 84, 85, 86, 87, 88, 89, 90, 91, 92, 93, 94, 95, 96, 97], \"xaxis\": \"x\", \"y\": [0, 0, 0, 0, 0, 0, 0, 0, 0, 0, 0.0, 0.0, 0.0, 0.0, 0.0, 0.0, 0.0, 0.0, 0.0, 0.0, 0.0, 0.0, 0.0, 0.0, 0.0, 0.0, 0.0, 0.0, 0.0, 0.0, 0.0, 0.0, 0.0, 0.0, 0.0, 0.0, 0.0, 0.0, 0.0, 0.0, 0.0, 0.6060606060606061, 0.9009009009009009, 1.1583011583011582, 1.25, 2.0, 2.526002971768202, 2.60950605778192, 2.0648967551622417, 2.371541501976284, 2.4154589371980677, 2.5420489296636086, 3.0511657017681113, 3.7060784816619647, 3.4399517199758605, 4.536942458290773, 4.478792235801582, 4.620609029672104, 5.110240078392945, 5.418932765823284, 6.159621802002225, 6.577299635701276, 7.04024069198947, 7.365444814702615, 7.553732738033434, 7.818134785982744, 8.168225575203113, 8.49207339907627, 8.772568102232935, 8.823744044702522, 9.015732150060508, 9.233926738946147, 9.394374113876793, 9.46912053769577, 9.602266684897376, 9.76111212730931, 9.894886643840442, 9.979759816489004, 10.081450444453147, 10.16029265888686, 10.186042802725929, 10.315229184024552, 10.438626917265829, 10.464759100735478, 10.5311747089685, 10.443476004066007, 10.48108615115359, 10.453981202340842, 10.294754220481794, 10.41506418260826, 10.423258137507469, 10.421375408490851, 10.401175454408893, 10.249176389217524, 10.235119034318172, 10.23258276743047, 10.25228618005248, 10.26244141163496], \"yaxis\": \"y\"}, {\"hovertemplate\": \"%{y:.2f}%\", \"line\": {\"color\": \"black\", \"dash\": \"dash\"}, \"mode\": \"lines\", \"name\": \"Mean\", \"type\": \"scatter\", \"xaxis\": \"x\", \"y\": [4.231357622997073, 4.231357622997073, 4.231357622997073, 4.231357622997073, 4.231357622997073, 4.231357622997073, 4.231357622997073, 4.231357622997073, 4.231357622997073, 4.231357622997073, 4.231357622997073, 4.231357622997073, 4.231357622997073, 4.231357622997073, 4.231357622997073, 4.231357622997073, 4.231357622997073, 4.231357622997073, 4.231357622997073, 4.231357622997073, 4.231357622997073, 4.231357622997073, 4.231357622997073, 4.231357622997073, 4.231357622997073, 4.231357622997073, 4.231357622997073, 4.231357622997073, 4.231357622997073, 4.231357622997073, 4.231357622997073, 4.231357622997073, 4.231357622997073, 4.231357622997073, 4.231357622997073, 4.231357622997073, 4.231357622997073, 4.231357622997073, 4.231357622997073, 4.231357622997073, 4.231357622997073, 4.231357622997073, 4.231357622997073, 4.231357622997073, 4.231357622997073, 4.231357622997073, 4.231357622997073, 4.231357622997073, 4.231357622997073, 4.231357622997073, 4.231357622997073, 4.231357622997073, 4.231357622997073, 4.231357622997073, 4.231357622997073, 4.231357622997073, 4.231357622997073, 4.231357622997073, 4.231357622997073, 4.231357622997073, 4.231357622997073, 4.231357622997073, 4.231357622997073, 4.231357622997073, 4.231357622997073, 4.231357622997073, 4.231357622997073, 4.231357622997073, 4.231357622997073, 4.231357622997073, 4.231357622997073, 4.231357622997073, 4.231357622997073, 4.231357622997073, 4.231357622997073, 4.231357622997073, 4.231357622997073, 4.231357622997073, 4.231357622997073, 4.231357622997073, 4.231357622997073, 4.231357622997073, 4.231357622997073, 4.231357622997073, 4.231357622997073, 4.231357622997073, 4.231357622997073, 4.231357622997073, 4.231357622997073, 4.231357622997073, 4.231357622997073, 4.231357622997073, 4.231357622997073, 4.231357622997073, 4.231357622997073, 4.231357622997073, 4.231357622997073, 4.231357622997073], \"yaxis\": \"y\"}, {\"hovertemplate\": \"%{y:.2f}%\", \"line\": {\"color\": \"green\"}, \"mode\": \"lines\", \"name\": \"Recovery Rate\", \"type\": \"scatter\", \"x\": [0, 1, 2, 3, 4, 5, 6, 7, 8, 9, 10, 11, 12, 13, 14, 15, 16, 17, 18, 19, 20, 21, 22, 23, 24, 25, 26, 27, 28, 29, 30, 31, 32, 33, 34, 35, 36, 37, 38, 39, 40, 41, 42, 43, 44, 45, 46, 47, 48, 49, 50, 51, 52, 53, 54, 55, 56, 57, 58, 59, 60, 61, 62, 63, 64, 65, 66, 67, 68, 69, 70, 71, 72, 73, 74, 75, 76, 77, 78, 79, 80, 81, 82, 83, 84, 85, 86, 87, 88, 89, 90, 91, 92, 93, 94, 95, 96, 97], \"xaxis\": \"x2\", \"y\": [0, 0, 0, 0, 0, 0, 0, 0, 0, 0, 0.0, 0.0, 0.0, 0.0, 0.0, 0.0, 0.0, 0.0, 0.0, 0.0, 0.0, 0.0, 0.0, 0.0, 100.0, 100.0, 100.0, 100.0, 100.0, 100.0, 100.0, 100.0, 100.0, 100.0, 33.33333333333333, 15.384615384615385, 13.333333333333334, 6.25, 4.444444444444445, 2.380952380952381, 1.6666666666666667, 1.2121212121212122, 0.9009009009009009, 0.7722007722007722, 0.5, 6.0, 4.457652303120357, 2.982292637465051, 1.887905604719764, 8.036890645586297, 8.036890645586297, 3.688837920489297, 8.089500860585199, 6.629905103872788, 5.330919332126332, 8.750425604358188, 7.771387491013659, 6.162667705839782, 7.780499755022048, 8.374714274454167, 8.950917686318132, 7.328665755919854, 9.512348000501442, 10.839139654650106, 12.139618592738726, 14.237891629513536, 16.77476616371953, 18.36100362002247, 19.07772067852108, 20.077562211357026, 21.75128219904339, 23.863829027796367, 25.598369113834845, 27.12177414241329, 28.926059280190813, 29.586244741174315, 30.440602499612517, 32.398461746053165, 34.04537207450627, 35.172139278335536, 36.2571843927693, 37.397725842319474, 38.052545870346094, 39.12345471511119, 39.88482583143816, 40.442178342020455, 39.193770665325225, 39.012444843161596, 38.936649989429924, 40.25123620198791, 40.41277708665968, 41.228183829280816, 41.896687697160885, 42.02462641742961, 42.77280466930939, 51.94701472450569, 52.668009170872885, 53.37701612903226], \"yaxis\": \"y2\"}, {\"hovertemplate\": \"%{y:.2f}%\", \"line\": {\"color\": \"black\", \"dash\": \"dash\"}, \"mode\": \"lines\", \"name\": \"Mean\", \"type\": \"scatter\", \"xaxis\": \"x2\", \"y\": [24.033081253338676, 24.033081253338676, 24.033081253338676, 24.033081253338676, 24.033081253338676, 24.033081253338676, 24.033081253338676, 24.033081253338676, 24.033081253338676, 24.033081253338676, 24.033081253338676, 24.033081253338676, 24.033081253338676, 24.033081253338676, 24.033081253338676, 24.033081253338676, 24.033081253338676, 24.033081253338676, 24.033081253338676, 24.033081253338676, 24.033081253338676, 24.033081253338676, 24.033081253338676, 24.033081253338676, 24.033081253338676, 24.033081253338676, 24.033081253338676, 24.033081253338676, 24.033081253338676, 24.033081253338676, 24.033081253338676, 24.033081253338676, 24.033081253338676, 24.033081253338676, 24.033081253338676, 24.033081253338676, 24.033081253338676, 24.033081253338676, 24.033081253338676, 24.033081253338676, 24.033081253338676, 24.033081253338676, 24.033081253338676, 24.033081253338676, 24.033081253338676, 24.033081253338676, 24.033081253338676, 24.033081253338676, 24.033081253338676, 24.033081253338676, 24.033081253338676, 24.033081253338676, 24.033081253338676, 24.033081253338676, 24.033081253338676, 24.033081253338676, 24.033081253338676, 24.033081253338676, 24.033081253338676, 24.033081253338676, 24.033081253338676, 24.033081253338676, 24.033081253338676, 24.033081253338676, 24.033081253338676, 24.033081253338676, 24.033081253338676, 24.033081253338676, 24.033081253338676, 24.033081253338676, 24.033081253338676, 24.033081253338676, 24.033081253338676, 24.033081253338676, 24.033081253338676, 24.033081253338676, 24.033081253338676, 24.033081253338676, 24.033081253338676, 24.033081253338676, 24.033081253338676, 24.033081253338676, 24.033081253338676, 24.033081253338676, 24.033081253338676, 24.033081253338676, 24.033081253338676, 24.033081253338676, 24.033081253338676, 24.033081253338676, 24.033081253338676, 24.033081253338676, 24.033081253338676, 24.033081253338676, 24.033081253338676, 24.033081253338676, 24.033081253338676, 24.033081253338676], \"yaxis\": \"y2\"}],\n",
       "                        {\"annotations\": [{\"font\": {\"size\": 16}, \"showarrow\": false, \"text\": \"Spain Mortality Rate\", \"x\": 0.225, \"xanchor\": \"center\", \"xref\": \"paper\", \"y\": 1.0, \"yanchor\": \"bottom\", \"yref\": \"paper\"}, {\"font\": {\"size\": 16}, \"showarrow\": false, \"text\": \"Spain Recovery Rate\", \"x\": 0.775, \"xanchor\": \"center\", \"xref\": \"paper\", \"y\": 1.0, \"yanchor\": \"bottom\", \"yref\": \"paper\"}], \"hovermode\": \"x\", \"template\": {\"data\": {\"bar\": [{\"error_x\": {\"color\": \"#2a3f5f\"}, \"error_y\": {\"color\": \"#2a3f5f\"}, \"marker\": {\"line\": {\"color\": \"#E5ECF6\", \"width\": 0.5}}, \"type\": \"bar\"}], \"barpolar\": [{\"marker\": {\"line\": {\"color\": \"#E5ECF6\", \"width\": 0.5}}, \"type\": \"barpolar\"}], \"carpet\": [{\"aaxis\": {\"endlinecolor\": \"#2a3f5f\", \"gridcolor\": \"white\", \"linecolor\": \"white\", \"minorgridcolor\": \"white\", \"startlinecolor\": \"#2a3f5f\"}, \"baxis\": {\"endlinecolor\": \"#2a3f5f\", \"gridcolor\": \"white\", \"linecolor\": \"white\", \"minorgridcolor\": \"white\", \"startlinecolor\": \"#2a3f5f\"}, \"type\": \"carpet\"}], \"choropleth\": [{\"colorbar\": {\"outlinewidth\": 0, \"ticks\": \"\"}, \"type\": \"choropleth\"}], \"contour\": [{\"colorbar\": {\"outlinewidth\": 0, \"ticks\": \"\"}, \"colorscale\": [[0.0, \"#0d0887\"], [0.1111111111111111, \"#46039f\"], [0.2222222222222222, \"#7201a8\"], [0.3333333333333333, \"#9c179e\"], [0.4444444444444444, \"#bd3786\"], [0.5555555555555556, \"#d8576b\"], [0.6666666666666666, \"#ed7953\"], [0.7777777777777778, \"#fb9f3a\"], [0.8888888888888888, \"#fdca26\"], [1.0, \"#f0f921\"]], \"type\": \"contour\"}], \"contourcarpet\": [{\"colorbar\": {\"outlinewidth\": 0, \"ticks\": \"\"}, \"type\": \"contourcarpet\"}], \"heatmap\": [{\"colorbar\": {\"outlinewidth\": 0, \"ticks\": \"\"}, \"colorscale\": [[0.0, \"#0d0887\"], [0.1111111111111111, \"#46039f\"], [0.2222222222222222, \"#7201a8\"], [0.3333333333333333, \"#9c179e\"], [0.4444444444444444, \"#bd3786\"], [0.5555555555555556, \"#d8576b\"], [0.6666666666666666, \"#ed7953\"], [0.7777777777777778, \"#fb9f3a\"], [0.8888888888888888, \"#fdca26\"], [1.0, \"#f0f921\"]], \"type\": \"heatmap\"}], \"heatmapgl\": [{\"colorbar\": {\"outlinewidth\": 0, \"ticks\": \"\"}, \"colorscale\": [[0.0, \"#0d0887\"], [0.1111111111111111, \"#46039f\"], [0.2222222222222222, \"#7201a8\"], [0.3333333333333333, \"#9c179e\"], [0.4444444444444444, \"#bd3786\"], [0.5555555555555556, \"#d8576b\"], [0.6666666666666666, \"#ed7953\"], [0.7777777777777778, \"#fb9f3a\"], [0.8888888888888888, \"#fdca26\"], [1.0, \"#f0f921\"]], \"type\": \"heatmapgl\"}], \"histogram\": [{\"marker\": {\"colorbar\": {\"outlinewidth\": 0, \"ticks\": \"\"}}, \"type\": \"histogram\"}], \"histogram2d\": [{\"colorbar\": {\"outlinewidth\": 0, \"ticks\": \"\"}, \"colorscale\": [[0.0, \"#0d0887\"], [0.1111111111111111, \"#46039f\"], [0.2222222222222222, \"#7201a8\"], [0.3333333333333333, \"#9c179e\"], [0.4444444444444444, \"#bd3786\"], [0.5555555555555556, \"#d8576b\"], [0.6666666666666666, \"#ed7953\"], [0.7777777777777778, \"#fb9f3a\"], [0.8888888888888888, \"#fdca26\"], [1.0, \"#f0f921\"]], \"type\": \"histogram2d\"}], \"histogram2dcontour\": [{\"colorbar\": {\"outlinewidth\": 0, \"ticks\": \"\"}, \"colorscale\": [[0.0, \"#0d0887\"], [0.1111111111111111, \"#46039f\"], [0.2222222222222222, \"#7201a8\"], [0.3333333333333333, \"#9c179e\"], [0.4444444444444444, \"#bd3786\"], [0.5555555555555556, \"#d8576b\"], [0.6666666666666666, \"#ed7953\"], [0.7777777777777778, \"#fb9f3a\"], [0.8888888888888888, \"#fdca26\"], [1.0, \"#f0f921\"]], \"type\": \"histogram2dcontour\"}], \"mesh3d\": [{\"colorbar\": {\"outlinewidth\": 0, \"ticks\": \"\"}, \"type\": \"mesh3d\"}], \"parcoords\": [{\"line\": {\"colorbar\": {\"outlinewidth\": 0, \"ticks\": \"\"}}, \"type\": \"parcoords\"}], \"pie\": [{\"automargin\": true, \"type\": \"pie\"}], \"scatter\": [{\"marker\": {\"colorbar\": {\"outlinewidth\": 0, \"ticks\": \"\"}}, \"type\": \"scatter\"}], \"scatter3d\": [{\"line\": {\"colorbar\": {\"outlinewidth\": 0, \"ticks\": \"\"}}, \"marker\": {\"colorbar\": {\"outlinewidth\": 0, \"ticks\": \"\"}}, \"type\": \"scatter3d\"}], \"scattercarpet\": [{\"marker\": {\"colorbar\": {\"outlinewidth\": 0, \"ticks\": \"\"}}, \"type\": \"scattercarpet\"}], \"scattergeo\": [{\"marker\": {\"colorbar\": {\"outlinewidth\": 0, \"ticks\": \"\"}}, \"type\": \"scattergeo\"}], \"scattergl\": [{\"marker\": {\"colorbar\": {\"outlinewidth\": 0, \"ticks\": \"\"}}, \"type\": \"scattergl\"}], \"scattermapbox\": [{\"marker\": {\"colorbar\": {\"outlinewidth\": 0, \"ticks\": \"\"}}, \"type\": \"scattermapbox\"}], \"scatterpolar\": [{\"marker\": {\"colorbar\": {\"outlinewidth\": 0, \"ticks\": \"\"}}, \"type\": \"scatterpolar\"}], \"scatterpolargl\": [{\"marker\": {\"colorbar\": {\"outlinewidth\": 0, \"ticks\": \"\"}}, \"type\": \"scatterpolargl\"}], \"scatterternary\": [{\"marker\": {\"colorbar\": {\"outlinewidth\": 0, \"ticks\": \"\"}}, \"type\": \"scatterternary\"}], \"surface\": [{\"colorbar\": {\"outlinewidth\": 0, \"ticks\": \"\"}, \"colorscale\": [[0.0, \"#0d0887\"], [0.1111111111111111, \"#46039f\"], [0.2222222222222222, \"#7201a8\"], [0.3333333333333333, \"#9c179e\"], [0.4444444444444444, \"#bd3786\"], [0.5555555555555556, \"#d8576b\"], [0.6666666666666666, \"#ed7953\"], [0.7777777777777778, \"#fb9f3a\"], [0.8888888888888888, \"#fdca26\"], [1.0, \"#f0f921\"]], \"type\": \"surface\"}], \"table\": [{\"cells\": {\"fill\": {\"color\": \"#EBF0F8\"}, \"line\": {\"color\": \"white\"}}, \"header\": {\"fill\": {\"color\": \"#C8D4E3\"}, \"line\": {\"color\": \"white\"}}, \"type\": \"table\"}]}, \"layout\": {\"annotationdefaults\": {\"arrowcolor\": \"#2a3f5f\", \"arrowhead\": 0, \"arrowwidth\": 1}, \"coloraxis\": {\"colorbar\": {\"outlinewidth\": 0, \"ticks\": \"\"}}, \"colorscale\": {\"diverging\": [[0, \"#8e0152\"], [0.1, \"#c51b7d\"], [0.2, \"#de77ae\"], [0.3, \"#f1b6da\"], [0.4, \"#fde0ef\"], [0.5, \"#f7f7f7\"], [0.6, \"#e6f5d0\"], [0.7, \"#b8e186\"], [0.8, \"#7fbc41\"], [0.9, \"#4d9221\"], [1, \"#276419\"]], \"sequential\": [[0.0, \"#0d0887\"], [0.1111111111111111, \"#46039f\"], [0.2222222222222222, \"#7201a8\"], [0.3333333333333333, \"#9c179e\"], [0.4444444444444444, \"#bd3786\"], [0.5555555555555556, \"#d8576b\"], [0.6666666666666666, \"#ed7953\"], [0.7777777777777778, \"#fb9f3a\"], [0.8888888888888888, \"#fdca26\"], [1.0, \"#f0f921\"]], \"sequentialminus\": [[0.0, \"#0d0887\"], [0.1111111111111111, \"#46039f\"], [0.2222222222222222, \"#7201a8\"], [0.3333333333333333, \"#9c179e\"], [0.4444444444444444, \"#bd3786\"], [0.5555555555555556, \"#d8576b\"], [0.6666666666666666, \"#ed7953\"], [0.7777777777777778, \"#fb9f3a\"], [0.8888888888888888, \"#fdca26\"], [1.0, \"#f0f921\"]]}, \"colorway\": [\"#636efa\", \"#EF553B\", \"#00cc96\", \"#ab63fa\", \"#FFA15A\", \"#19d3f3\", \"#FF6692\", \"#B6E880\", \"#FF97FF\", \"#FECB52\"], \"font\": {\"color\": \"#2a3f5f\"}, \"geo\": {\"bgcolor\": \"white\", \"lakecolor\": \"white\", \"landcolor\": \"#E5ECF6\", \"showlakes\": true, \"showland\": true, \"subunitcolor\": \"white\"}, \"hoverlabel\": {\"align\": \"left\"}, \"hovermode\": \"closest\", \"mapbox\": {\"style\": \"light\"}, \"paper_bgcolor\": \"white\", \"plot_bgcolor\": \"#E5ECF6\", \"polar\": {\"angularaxis\": {\"gridcolor\": \"white\", \"linecolor\": \"white\", \"ticks\": \"\"}, \"bgcolor\": \"#E5ECF6\", \"radialaxis\": {\"gridcolor\": \"white\", \"linecolor\": \"white\", \"ticks\": \"\"}}, \"scene\": {\"xaxis\": {\"backgroundcolor\": \"#E5ECF6\", \"gridcolor\": \"white\", \"gridwidth\": 2, \"linecolor\": \"white\", \"showbackground\": true, \"ticks\": \"\", \"zerolinecolor\": \"white\"}, \"yaxis\": {\"backgroundcolor\": \"#E5ECF6\", \"gridcolor\": \"white\", \"gridwidth\": 2, \"linecolor\": \"white\", \"showbackground\": true, \"ticks\": \"\", \"zerolinecolor\": \"white\"}, \"zaxis\": {\"backgroundcolor\": \"#E5ECF6\", \"gridcolor\": \"white\", \"gridwidth\": 2, \"linecolor\": \"white\", \"showbackground\": true, \"ticks\": \"\", \"zerolinecolor\": \"white\"}}, \"shapedefaults\": {\"line\": {\"color\": \"#2a3f5f\"}}, \"ternary\": {\"aaxis\": {\"gridcolor\": \"white\", \"linecolor\": \"white\", \"ticks\": \"\"}, \"baxis\": {\"gridcolor\": \"white\", \"linecolor\": \"white\", \"ticks\": \"\"}, \"bgcolor\": \"#E5ECF6\", \"caxis\": {\"gridcolor\": \"white\", \"linecolor\": \"white\", \"ticks\": \"\"}}, \"title\": {\"x\": 0.05}, \"xaxis\": {\"automargin\": true, \"gridcolor\": \"white\", \"linecolor\": \"white\", \"ticks\": \"\", \"title\": {\"standoff\": 15}, \"zerolinecolor\": \"white\", \"zerolinewidth\": 2}, \"yaxis\": {\"automargin\": true, \"gridcolor\": \"white\", \"linecolor\": \"white\", \"ticks\": \"\", \"title\": {\"standoff\": 15}, \"zerolinecolor\": \"white\", \"zerolinewidth\": 2}}}, \"xaxis\": {\"anchor\": \"y\", \"domain\": [0.0, 0.45], \"title\": {\"text\": \"Days since 1/22/20\"}}, \"xaxis2\": {\"anchor\": \"y2\", \"domain\": [0.55, 1.0], \"title\": {\"text\": \"Days since 1/22/20\"}}, \"yaxis\": {\"anchor\": \"x\", \"domain\": [0.0, 1.0], \"title\": {\"text\": \"Percent\"}}, \"yaxis2\": {\"anchor\": \"x2\", \"domain\": [0.0, 1.0], \"title\": {\"text\": \"Percent\"}}},\n",
       "                        {\"responsive\": true}\n",
       "                    ).then(function(){\n",
       "                            \n",
       "var gd = document.getElementById('0b773d20-2502-44de-8293-82c6ed388d97');\n",
       "var x = new MutationObserver(function (mutations, observer) {{\n",
       "        var display = window.getComputedStyle(gd).display;\n",
       "        if (!display || display === 'none') {{\n",
       "            console.log([gd, 'removed!']);\n",
       "            Plotly.purge(gd);\n",
       "            observer.disconnect();\n",
       "        }}\n",
       "}});\n",
       "\n",
       "// Listen for the removal of the full notebook cells\n",
       "var notebookContainer = gd.closest('#notebook-container');\n",
       "if (notebookContainer) {{\n",
       "    x.observe(notebookContainer, {childList: true});\n",
       "}}\n",
       "\n",
       "// Listen for the clearing of the current output cell\n",
       "var outputEl = gd.closest('.output');\n",
       "if (outputEl) {{\n",
       "    x.observe(outputEl, {childList: true});\n",
       "}}\n",
       "\n",
       "                        })\n",
       "                };\n",
       "                });\n",
       "            </script>\n",
       "        </div>"
      ]
     },
     "metadata": {},
     "output_type": "display_data"
    }
   ],
   "source": [
    "# Spain mortality rate\n",
    "spain_drate_gd = Graph(\"\", \"\", spain_mortality, \"\", spain_dmean)\n",
    "\n",
    "# Spain recovery rate\n",
    "spain_rrate_gd = Graph(\"\", \"\", \"\", spain_recovery_rate, spain_rmean)\n",
    "\n",
    "\n",
    "country_graphs(\n",
    "    \"Spain\", spain_drate_gd, spain_rrate_gd, \"Mortality Rate\", \"Recovery Rate\"\n",
    ")"
   ]
  },
  {
   "cell_type": "code",
   "execution_count": 59,
   "metadata": {},
   "outputs": [
    {
     "data": {
      "application/vnd.plotly.v1+json": {
       "config": {
        "linkText": "Export to plot.ly",
        "plotlyServerURL": "https://plot.ly",
        "showLink": false
       },
       "data": [
        {
         "hovertemplate": "%{y:.2f}%",
         "line": {
          "color": "red"
         },
         "mode": "lines",
         "name": "Mortality Rate",
         "type": "scatter",
         "x": [
          0,
          1,
          2,
          3,
          4,
          5,
          6,
          7,
          8,
          9,
          10,
          11,
          12,
          13,
          14,
          15,
          16,
          17,
          18,
          19,
          20,
          21,
          22,
          23,
          24,
          25,
          26,
          27,
          28,
          29,
          30,
          31,
          32,
          33,
          34,
          35,
          36,
          37,
          38,
          39,
          40,
          41,
          42,
          43,
          44,
          45,
          46,
          47,
          48,
          49,
          50,
          51,
          52,
          53,
          54,
          55,
          56,
          57,
          58,
          59,
          60,
          61,
          62,
          63,
          64,
          65,
          66,
          67,
          68,
          69,
          70,
          71,
          72,
          73,
          74,
          75,
          76,
          77,
          78,
          79,
          80,
          81,
          82,
          83,
          84,
          85,
          86,
          87,
          88,
          89,
          90,
          91,
          92,
          93,
          94,
          95,
          96,
          97
         ],
         "xaxis": "x",
         "y": [
          0,
          0,
          0,
          0,
          0,
          0,
          0,
          0,
          0,
          0,
          0,
          0,
          0,
          0,
          0,
          0,
          0,
          0,
          0,
          0,
          0,
          0,
          0,
          0,
          0,
          0,
          0,
          0,
          0,
          0,
          0,
          0,
          0,
          0,
          0,
          0,
          0,
          0,
          0,
          0,
          0,
          0,
          0,
          0,
          0,
          0,
          0,
          0,
          0,
          0,
          0,
          0,
          0,
          0,
          0,
          0,
          0,
          0,
          0,
          0,
          0,
          0,
          0,
          0,
          0,
          0,
          0,
          0,
          1.508515815085158,
          1.4279532669839896,
          1.6836335160532498,
          1.9348268839103868,
          2.0987289388117056,
          2.178108629721533,
          2.2915650901999025,
          2.4246544300929074,
          2.660891089108911,
          3.054755043227666,
          3.1210762331838566,
          3.0394626364399664,
          3.2724984266834483,
          3.4761762061732093,
          3.533314104413037,
          3.6517633990558176,
          3.772091796359799,
          3.965647890881536,
          3.9622866690535865,
          3.969343399679707,
          3.876386346505868,
          3.9612217241738765,
          4.068587662337662,
          4.189202478119776,
          4.3192845590333935,
          4.535438854204921,
          4.648274638516811,
          4.605319789962985,
          4.721895479751302,
          4.878048780487805
         ],
         "yaxis": "y"
        },
        {
         "hovertemplate": "%{y:.2f}%",
         "line": {
          "color": "black",
          "dash": "dash"
         },
         "mode": "lines",
         "name": "Mean",
         "type": "scatter",
         "xaxis": "x",
         "y": [
          1.0288872834511607,
          1.0288872834511607,
          1.0288872834511607,
          1.0288872834511607,
          1.0288872834511607,
          1.0288872834511607,
          1.0288872834511607,
          1.0288872834511607,
          1.0288872834511607,
          1.0288872834511607,
          1.0288872834511607,
          1.0288872834511607,
          1.0288872834511607,
          1.0288872834511607,
          1.0288872834511607,
          1.0288872834511607,
          1.0288872834511607,
          1.0288872834511607,
          1.0288872834511607,
          1.0288872834511607,
          1.0288872834511607,
          1.0288872834511607,
          1.0288872834511607,
          1.0288872834511607,
          1.0288872834511607,
          1.0288872834511607,
          1.0288872834511607,
          1.0288872834511607,
          1.0288872834511607,
          1.0288872834511607,
          1.0288872834511607,
          1.0288872834511607,
          1.0288872834511607,
          1.0288872834511607,
          1.0288872834511607,
          1.0288872834511607,
          1.0288872834511607,
          1.0288872834511607,
          1.0288872834511607,
          1.0288872834511607,
          1.0288872834511607,
          1.0288872834511607,
          1.0288872834511607,
          1.0288872834511607,
          1.0288872834511607,
          1.0288872834511607,
          1.0288872834511607,
          1.0288872834511607,
          1.0288872834511607,
          1.0288872834511607,
          1.0288872834511607,
          1.0288872834511607,
          1.0288872834511607,
          1.0288872834511607,
          1.0288872834511607,
          1.0288872834511607,
          1.0288872834511607,
          1.0288872834511607,
          1.0288872834511607,
          1.0288872834511607,
          1.0288872834511607,
          1.0288872834511607,
          1.0288872834511607,
          1.0288872834511607,
          1.0288872834511607,
          1.0288872834511607,
          1.0288872834511607,
          1.0288872834511607,
          1.0288872834511607,
          1.0288872834511607,
          1.0288872834511607,
          1.0288872834511607,
          1.0288872834511607,
          1.0288872834511607,
          1.0288872834511607,
          1.0288872834511607,
          1.0288872834511607,
          1.0288872834511607,
          1.0288872834511607,
          1.0288872834511607,
          1.0288872834511607,
          1.0288872834511607,
          1.0288872834511607,
          1.0288872834511607,
          1.0288872834511607,
          1.0288872834511607,
          1.0288872834511607,
          1.0288872834511607,
          1.0288872834511607,
          1.0288872834511607,
          1.0288872834511607,
          1.0288872834511607,
          1.0288872834511607,
          1.0288872834511607,
          1.0288872834511607,
          1.0288872834511607,
          1.0288872834511607,
          1.0288872834511607
         ],
         "yaxis": "y"
        },
        {
         "hovertemplate": "%{y:.2f}%",
         "line": {
          "color": "green"
         },
         "mode": "lines",
         "name": "Recovery Rate",
         "type": "scatter",
         "x": [
          0,
          1,
          2,
          3,
          4,
          5,
          6,
          7,
          8,
          9,
          10,
          11,
          12,
          13,
          14,
          15,
          16,
          17,
          18,
          19,
          20,
          21,
          22,
          23,
          24,
          25,
          26,
          27,
          28,
          29,
          30,
          31,
          32,
          33,
          34,
          35,
          36,
          37,
          38,
          39,
          40,
          41,
          42,
          43,
          44,
          45,
          46,
          47,
          48,
          49,
          50,
          51,
          52,
          53,
          54,
          55,
          56,
          57,
          58,
          59,
          60,
          61,
          62,
          63,
          64,
          65,
          66,
          67,
          68,
          69,
          70,
          71,
          72,
          73,
          74,
          75,
          76,
          77,
          78,
          79,
          80,
          81,
          82,
          83,
          84,
          85,
          86,
          87,
          88,
          89,
          90,
          91,
          92,
          93,
          94,
          95,
          96,
          97
         ],
         "xaxis": "x2",
         "y": [
          0,
          0,
          0,
          0,
          0,
          0,
          0,
          0,
          0,
          0,
          0,
          0,
          0,
          0,
          0,
          0,
          0,
          0,
          0,
          0,
          0,
          0,
          0,
          0,
          0,
          0,
          0,
          0,
          0,
          0,
          0,
          0,
          0,
          0,
          0,
          0,
          0,
          0,
          0,
          0,
          0,
          0,
          0,
          0,
          0,
          0,
          0,
          0,
          0,
          0,
          0,
          0,
          0,
          0,
          0,
          0,
          0,
          0,
          0,
          0,
          0,
          0,
          0,
          0,
          0,
          0,
          0,
          0,
          0.34063260340632606,
          0.3028991778450887,
          1.8402505873140171,
          1.9008825526137134,
          1.6553355010345847,
          3.198235456299973,
          3.266699171136031,
          3.6709721278042147,
          3.93976897689769,
          4.265129682997118,
          5.0941704035874436,
          5.3400503778337525,
          5.899937067337949,
          6.577764459094995,
          7.023363138159793,
          8.580949736184392,
          8.810340279609601,
          9.775195756504168,
          10.335362215061464,
          11.22168840082361,
          11.198449445461398,
          11.810695298655268,
          13.159496753246753,
          14.878552463369063,
          16.554086195414328,
          17.8479618068307,
          18.859221147875456,
          19.497288456572264,
          20.719206855990592,
          21.7302340808643
         ],
         "yaxis": "y2"
        },
        {
         "hovertemplate": "%{y:.2f}%",
         "line": {
          "color": "black",
          "dash": "dash"
         },
         "mode": "lines",
         "name": "Mean",
         "type": "scatter",
         "xaxis": "x2",
         "y": [
          2.7479063283247553,
          2.7479063283247553,
          2.7479063283247553,
          2.7479063283247553,
          2.7479063283247553,
          2.7479063283247553,
          2.7479063283247553,
          2.7479063283247553,
          2.7479063283247553,
          2.7479063283247553,
          2.7479063283247553,
          2.7479063283247553,
          2.7479063283247553,
          2.7479063283247553,
          2.7479063283247553,
          2.7479063283247553,
          2.7479063283247553,
          2.7479063283247553,
          2.7479063283247553,
          2.7479063283247553,
          2.7479063283247553,
          2.7479063283247553,
          2.7479063283247553,
          2.7479063283247553,
          2.7479063283247553,
          2.7479063283247553,
          2.7479063283247553,
          2.7479063283247553,
          2.7479063283247553,
          2.7479063283247553,
          2.7479063283247553,
          2.7479063283247553,
          2.7479063283247553,
          2.7479063283247553,
          2.7479063283247553,
          2.7479063283247553,
          2.7479063283247553,
          2.7479063283247553,
          2.7479063283247553,
          2.7479063283247553,
          2.7479063283247553,
          2.7479063283247553,
          2.7479063283247553,
          2.7479063283247553,
          2.7479063283247553,
          2.7479063283247553,
          2.7479063283247553,
          2.7479063283247553,
          2.7479063283247553,
          2.7479063283247553,
          2.7479063283247553,
          2.7479063283247553,
          2.7479063283247553,
          2.7479063283247553,
          2.7479063283247553,
          2.7479063283247553,
          2.7479063283247553,
          2.7479063283247553,
          2.7479063283247553,
          2.7479063283247553,
          2.7479063283247553,
          2.7479063283247553,
          2.7479063283247553,
          2.7479063283247553,
          2.7479063283247553,
          2.7479063283247553,
          2.7479063283247553,
          2.7479063283247553,
          2.7479063283247553,
          2.7479063283247553,
          2.7479063283247553,
          2.7479063283247553,
          2.7479063283247553,
          2.7479063283247553,
          2.7479063283247553,
          2.7479063283247553,
          2.7479063283247553,
          2.7479063283247553,
          2.7479063283247553,
          2.7479063283247553,
          2.7479063283247553,
          2.7479063283247553,
          2.7479063283247553,
          2.7479063283247553,
          2.7479063283247553,
          2.7479063283247553,
          2.7479063283247553,
          2.7479063283247553,
          2.7479063283247553,
          2.7479063283247553,
          2.7479063283247553,
          2.7479063283247553,
          2.7479063283247553,
          2.7479063283247553,
          2.7479063283247553,
          2.7479063283247553,
          2.7479063283247553,
          2.7479063283247553
         ],
         "yaxis": "y2"
        }
       ],
       "layout": {
        "annotations": [
         {
          "font": {
           "size": 16
          },
          "showarrow": false,
          "text": "Ploand Mortality Rate",
          "x": 0.225,
          "xanchor": "center",
          "xref": "paper",
          "y": 1,
          "yanchor": "bottom",
          "yref": "paper"
         },
         {
          "font": {
           "size": 16
          },
          "showarrow": false,
          "text": "Ploand Recovery Rate",
          "x": 0.775,
          "xanchor": "center",
          "xref": "paper",
          "y": 1,
          "yanchor": "bottom",
          "yref": "paper"
         }
        ],
        "hovermode": "x",
        "template": {
         "data": {
          "bar": [
           {
            "error_x": {
             "color": "#2a3f5f"
            },
            "error_y": {
             "color": "#2a3f5f"
            },
            "marker": {
             "line": {
              "color": "#E5ECF6",
              "width": 0.5
             }
            },
            "type": "bar"
           }
          ],
          "barpolar": [
           {
            "marker": {
             "line": {
              "color": "#E5ECF6",
              "width": 0.5
             }
            },
            "type": "barpolar"
           }
          ],
          "carpet": [
           {
            "aaxis": {
             "endlinecolor": "#2a3f5f",
             "gridcolor": "white",
             "linecolor": "white",
             "minorgridcolor": "white",
             "startlinecolor": "#2a3f5f"
            },
            "baxis": {
             "endlinecolor": "#2a3f5f",
             "gridcolor": "white",
             "linecolor": "white",
             "minorgridcolor": "white",
             "startlinecolor": "#2a3f5f"
            },
            "type": "carpet"
           }
          ],
          "choropleth": [
           {
            "colorbar": {
             "outlinewidth": 0,
             "ticks": ""
            },
            "type": "choropleth"
           }
          ],
          "contour": [
           {
            "colorbar": {
             "outlinewidth": 0,
             "ticks": ""
            },
            "colorscale": [
             [
              0,
              "#0d0887"
             ],
             [
              0.1111111111111111,
              "#46039f"
             ],
             [
              0.2222222222222222,
              "#7201a8"
             ],
             [
              0.3333333333333333,
              "#9c179e"
             ],
             [
              0.4444444444444444,
              "#bd3786"
             ],
             [
              0.5555555555555556,
              "#d8576b"
             ],
             [
              0.6666666666666666,
              "#ed7953"
             ],
             [
              0.7777777777777778,
              "#fb9f3a"
             ],
             [
              0.8888888888888888,
              "#fdca26"
             ],
             [
              1,
              "#f0f921"
             ]
            ],
            "type": "contour"
           }
          ],
          "contourcarpet": [
           {
            "colorbar": {
             "outlinewidth": 0,
             "ticks": ""
            },
            "type": "contourcarpet"
           }
          ],
          "heatmap": [
           {
            "colorbar": {
             "outlinewidth": 0,
             "ticks": ""
            },
            "colorscale": [
             [
              0,
              "#0d0887"
             ],
             [
              0.1111111111111111,
              "#46039f"
             ],
             [
              0.2222222222222222,
              "#7201a8"
             ],
             [
              0.3333333333333333,
              "#9c179e"
             ],
             [
              0.4444444444444444,
              "#bd3786"
             ],
             [
              0.5555555555555556,
              "#d8576b"
             ],
             [
              0.6666666666666666,
              "#ed7953"
             ],
             [
              0.7777777777777778,
              "#fb9f3a"
             ],
             [
              0.8888888888888888,
              "#fdca26"
             ],
             [
              1,
              "#f0f921"
             ]
            ],
            "type": "heatmap"
           }
          ],
          "heatmapgl": [
           {
            "colorbar": {
             "outlinewidth": 0,
             "ticks": ""
            },
            "colorscale": [
             [
              0,
              "#0d0887"
             ],
             [
              0.1111111111111111,
              "#46039f"
             ],
             [
              0.2222222222222222,
              "#7201a8"
             ],
             [
              0.3333333333333333,
              "#9c179e"
             ],
             [
              0.4444444444444444,
              "#bd3786"
             ],
             [
              0.5555555555555556,
              "#d8576b"
             ],
             [
              0.6666666666666666,
              "#ed7953"
             ],
             [
              0.7777777777777778,
              "#fb9f3a"
             ],
             [
              0.8888888888888888,
              "#fdca26"
             ],
             [
              1,
              "#f0f921"
             ]
            ],
            "type": "heatmapgl"
           }
          ],
          "histogram": [
           {
            "marker": {
             "colorbar": {
              "outlinewidth": 0,
              "ticks": ""
             }
            },
            "type": "histogram"
           }
          ],
          "histogram2d": [
           {
            "colorbar": {
             "outlinewidth": 0,
             "ticks": ""
            },
            "colorscale": [
             [
              0,
              "#0d0887"
             ],
             [
              0.1111111111111111,
              "#46039f"
             ],
             [
              0.2222222222222222,
              "#7201a8"
             ],
             [
              0.3333333333333333,
              "#9c179e"
             ],
             [
              0.4444444444444444,
              "#bd3786"
             ],
             [
              0.5555555555555556,
              "#d8576b"
             ],
             [
              0.6666666666666666,
              "#ed7953"
             ],
             [
              0.7777777777777778,
              "#fb9f3a"
             ],
             [
              0.8888888888888888,
              "#fdca26"
             ],
             [
              1,
              "#f0f921"
             ]
            ],
            "type": "histogram2d"
           }
          ],
          "histogram2dcontour": [
           {
            "colorbar": {
             "outlinewidth": 0,
             "ticks": ""
            },
            "colorscale": [
             [
              0,
              "#0d0887"
             ],
             [
              0.1111111111111111,
              "#46039f"
             ],
             [
              0.2222222222222222,
              "#7201a8"
             ],
             [
              0.3333333333333333,
              "#9c179e"
             ],
             [
              0.4444444444444444,
              "#bd3786"
             ],
             [
              0.5555555555555556,
              "#d8576b"
             ],
             [
              0.6666666666666666,
              "#ed7953"
             ],
             [
              0.7777777777777778,
              "#fb9f3a"
             ],
             [
              0.8888888888888888,
              "#fdca26"
             ],
             [
              1,
              "#f0f921"
             ]
            ],
            "type": "histogram2dcontour"
           }
          ],
          "mesh3d": [
           {
            "colorbar": {
             "outlinewidth": 0,
             "ticks": ""
            },
            "type": "mesh3d"
           }
          ],
          "parcoords": [
           {
            "line": {
             "colorbar": {
              "outlinewidth": 0,
              "ticks": ""
             }
            },
            "type": "parcoords"
           }
          ],
          "pie": [
           {
            "automargin": true,
            "type": "pie"
           }
          ],
          "scatter": [
           {
            "marker": {
             "colorbar": {
              "outlinewidth": 0,
              "ticks": ""
             }
            },
            "type": "scatter"
           }
          ],
          "scatter3d": [
           {
            "line": {
             "colorbar": {
              "outlinewidth": 0,
              "ticks": ""
             }
            },
            "marker": {
             "colorbar": {
              "outlinewidth": 0,
              "ticks": ""
             }
            },
            "type": "scatter3d"
           }
          ],
          "scattercarpet": [
           {
            "marker": {
             "colorbar": {
              "outlinewidth": 0,
              "ticks": ""
             }
            },
            "type": "scattercarpet"
           }
          ],
          "scattergeo": [
           {
            "marker": {
             "colorbar": {
              "outlinewidth": 0,
              "ticks": ""
             }
            },
            "type": "scattergeo"
           }
          ],
          "scattergl": [
           {
            "marker": {
             "colorbar": {
              "outlinewidth": 0,
              "ticks": ""
             }
            },
            "type": "scattergl"
           }
          ],
          "scattermapbox": [
           {
            "marker": {
             "colorbar": {
              "outlinewidth": 0,
              "ticks": ""
             }
            },
            "type": "scattermapbox"
           }
          ],
          "scatterpolar": [
           {
            "marker": {
             "colorbar": {
              "outlinewidth": 0,
              "ticks": ""
             }
            },
            "type": "scatterpolar"
           }
          ],
          "scatterpolargl": [
           {
            "marker": {
             "colorbar": {
              "outlinewidth": 0,
              "ticks": ""
             }
            },
            "type": "scatterpolargl"
           }
          ],
          "scatterternary": [
           {
            "marker": {
             "colorbar": {
              "outlinewidth": 0,
              "ticks": ""
             }
            },
            "type": "scatterternary"
           }
          ],
          "surface": [
           {
            "colorbar": {
             "outlinewidth": 0,
             "ticks": ""
            },
            "colorscale": [
             [
              0,
              "#0d0887"
             ],
             [
              0.1111111111111111,
              "#46039f"
             ],
             [
              0.2222222222222222,
              "#7201a8"
             ],
             [
              0.3333333333333333,
              "#9c179e"
             ],
             [
              0.4444444444444444,
              "#bd3786"
             ],
             [
              0.5555555555555556,
              "#d8576b"
             ],
             [
              0.6666666666666666,
              "#ed7953"
             ],
             [
              0.7777777777777778,
              "#fb9f3a"
             ],
             [
              0.8888888888888888,
              "#fdca26"
             ],
             [
              1,
              "#f0f921"
             ]
            ],
            "type": "surface"
           }
          ],
          "table": [
           {
            "cells": {
             "fill": {
              "color": "#EBF0F8"
             },
             "line": {
              "color": "white"
             }
            },
            "header": {
             "fill": {
              "color": "#C8D4E3"
             },
             "line": {
              "color": "white"
             }
            },
            "type": "table"
           }
          ]
         },
         "layout": {
          "annotationdefaults": {
           "arrowcolor": "#2a3f5f",
           "arrowhead": 0,
           "arrowwidth": 1
          },
          "coloraxis": {
           "colorbar": {
            "outlinewidth": 0,
            "ticks": ""
           }
          },
          "colorscale": {
           "diverging": [
            [
             0,
             "#8e0152"
            ],
            [
             0.1,
             "#c51b7d"
            ],
            [
             0.2,
             "#de77ae"
            ],
            [
             0.3,
             "#f1b6da"
            ],
            [
             0.4,
             "#fde0ef"
            ],
            [
             0.5,
             "#f7f7f7"
            ],
            [
             0.6,
             "#e6f5d0"
            ],
            [
             0.7,
             "#b8e186"
            ],
            [
             0.8,
             "#7fbc41"
            ],
            [
             0.9,
             "#4d9221"
            ],
            [
             1,
             "#276419"
            ]
           ],
           "sequential": [
            [
             0,
             "#0d0887"
            ],
            [
             0.1111111111111111,
             "#46039f"
            ],
            [
             0.2222222222222222,
             "#7201a8"
            ],
            [
             0.3333333333333333,
             "#9c179e"
            ],
            [
             0.4444444444444444,
             "#bd3786"
            ],
            [
             0.5555555555555556,
             "#d8576b"
            ],
            [
             0.6666666666666666,
             "#ed7953"
            ],
            [
             0.7777777777777778,
             "#fb9f3a"
            ],
            [
             0.8888888888888888,
             "#fdca26"
            ],
            [
             1,
             "#f0f921"
            ]
           ],
           "sequentialminus": [
            [
             0,
             "#0d0887"
            ],
            [
             0.1111111111111111,
             "#46039f"
            ],
            [
             0.2222222222222222,
             "#7201a8"
            ],
            [
             0.3333333333333333,
             "#9c179e"
            ],
            [
             0.4444444444444444,
             "#bd3786"
            ],
            [
             0.5555555555555556,
             "#d8576b"
            ],
            [
             0.6666666666666666,
             "#ed7953"
            ],
            [
             0.7777777777777778,
             "#fb9f3a"
            ],
            [
             0.8888888888888888,
             "#fdca26"
            ],
            [
             1,
             "#f0f921"
            ]
           ]
          },
          "colorway": [
           "#636efa",
           "#EF553B",
           "#00cc96",
           "#ab63fa",
           "#FFA15A",
           "#19d3f3",
           "#FF6692",
           "#B6E880",
           "#FF97FF",
           "#FECB52"
          ],
          "font": {
           "color": "#2a3f5f"
          },
          "geo": {
           "bgcolor": "white",
           "lakecolor": "white",
           "landcolor": "#E5ECF6",
           "showlakes": true,
           "showland": true,
           "subunitcolor": "white"
          },
          "hoverlabel": {
           "align": "left"
          },
          "hovermode": "closest",
          "mapbox": {
           "style": "light"
          },
          "paper_bgcolor": "white",
          "plot_bgcolor": "#E5ECF6",
          "polar": {
           "angularaxis": {
            "gridcolor": "white",
            "linecolor": "white",
            "ticks": ""
           },
           "bgcolor": "#E5ECF6",
           "radialaxis": {
            "gridcolor": "white",
            "linecolor": "white",
            "ticks": ""
           }
          },
          "scene": {
           "xaxis": {
            "backgroundcolor": "#E5ECF6",
            "gridcolor": "white",
            "gridwidth": 2,
            "linecolor": "white",
            "showbackground": true,
            "ticks": "",
            "zerolinecolor": "white"
           },
           "yaxis": {
            "backgroundcolor": "#E5ECF6",
            "gridcolor": "white",
            "gridwidth": 2,
            "linecolor": "white",
            "showbackground": true,
            "ticks": "",
            "zerolinecolor": "white"
           },
           "zaxis": {
            "backgroundcolor": "#E5ECF6",
            "gridcolor": "white",
            "gridwidth": 2,
            "linecolor": "white",
            "showbackground": true,
            "ticks": "",
            "zerolinecolor": "white"
           }
          },
          "shapedefaults": {
           "line": {
            "color": "#2a3f5f"
           }
          },
          "ternary": {
           "aaxis": {
            "gridcolor": "white",
            "linecolor": "white",
            "ticks": ""
           },
           "baxis": {
            "gridcolor": "white",
            "linecolor": "white",
            "ticks": ""
           },
           "bgcolor": "#E5ECF6",
           "caxis": {
            "gridcolor": "white",
            "linecolor": "white",
            "ticks": ""
           }
          },
          "title": {
           "x": 0.05
          },
          "xaxis": {
           "automargin": true,
           "gridcolor": "white",
           "linecolor": "white",
           "ticks": "",
           "title": {
            "standoff": 15
           },
           "zerolinecolor": "white",
           "zerolinewidth": 2
          },
          "yaxis": {
           "automargin": true,
           "gridcolor": "white",
           "linecolor": "white",
           "ticks": "",
           "title": {
            "standoff": 15
           },
           "zerolinecolor": "white",
           "zerolinewidth": 2
          }
         }
        },
        "xaxis": {
         "anchor": "y",
         "domain": [
          0,
          0.45
         ],
         "title": {
          "text": "Days since 1/22/20"
         }
        },
        "xaxis2": {
         "anchor": "y2",
         "domain": [
          0.55,
          1
         ],
         "title": {
          "text": "Days since 1/22/20"
         }
        },
        "yaxis": {
         "anchor": "x",
         "domain": [
          0,
          1
         ],
         "title": {
          "text": "Percent"
         }
        },
        "yaxis2": {
         "anchor": "x2",
         "domain": [
          0,
          1
         ],
         "title": {
          "text": "Percent"
         }
        }
       }
      },
      "text/html": [
       "<div>\n",
       "        \n",
       "        \n",
       "            <div id=\"c5c629ce-4f1c-4c97-b619-43eeadac91b9\" class=\"plotly-graph-div\" style=\"height:525px; width:100%;\"></div>\n",
       "            <script type=\"text/javascript\">\n",
       "                require([\"plotly\"], function(Plotly) {\n",
       "                    window.PLOTLYENV=window.PLOTLYENV || {};\n",
       "                    \n",
       "                if (document.getElementById(\"c5c629ce-4f1c-4c97-b619-43eeadac91b9\")) {\n",
       "                    Plotly.newPlot(\n",
       "                        'c5c629ce-4f1c-4c97-b619-43eeadac91b9',\n",
       "                        [{\"hovertemplate\": \"%{y:.2f}%\", \"line\": {\"color\": \"red\"}, \"mode\": \"lines\", \"name\": \"Mortality Rate\", \"type\": \"scatter\", \"x\": [0, 1, 2, 3, 4, 5, 6, 7, 8, 9, 10, 11, 12, 13, 14, 15, 16, 17, 18, 19, 20, 21, 22, 23, 24, 25, 26, 27, 28, 29, 30, 31, 32, 33, 34, 35, 36, 37, 38, 39, 40, 41, 42, 43, 44, 45, 46, 47, 48, 49, 50, 51, 52, 53, 54, 55, 56, 57, 58, 59, 60, 61, 62, 63, 64, 65, 66, 67, 68, 69, 70, 71, 72, 73, 74, 75, 76, 77, 78, 79, 80, 81, 82, 83, 84, 85, 86, 87, 88, 89, 90, 91, 92, 93, 94, 95, 96, 97], \"xaxis\": \"x\", \"y\": [0, 0, 0, 0, 0, 0, 0, 0, 0, 0, 0, 0, 0, 0, 0, 0, 0, 0, 0, 0, 0, 0, 0, 0, 0, 0, 0, 0, 0, 0, 0, 0, 0, 0, 0, 0, 0, 0, 0, 0, 0, 0, 0.0, 0.0, 0.0, 0.0, 0.0, 0.0, 0, 0, 0, 0, 0, 0, 0, 0, 0, 0, 0, 0, 0, 0, 0, 0, 0, 0, 0, 0, 1.508515815085158, 1.4279532669839896, 1.6836335160532498, 1.9348268839103868, 2.0987289388117056, 2.178108629721533, 2.2915650901999025, 2.4246544300929074, 2.660891089108911, 3.054755043227666, 3.1210762331838566, 3.0394626364399664, 3.2724984266834483, 3.4761762061732093, 3.533314104413037, 3.6517633990558176, 3.772091796359799, 3.965647890881536, 3.9622866690535865, 3.969343399679707, 3.876386346505868, 3.9612217241738765, 4.068587662337662, 4.189202478119776, 4.3192845590333935, 4.535438854204921, 4.648274638516811, 4.605319789962985, 4.721895479751302, 4.878048780487805], \"yaxis\": \"y\"}, {\"hovertemplate\": \"%{y:.2f}%\", \"line\": {\"color\": \"black\", \"dash\": \"dash\"}, \"mode\": \"lines\", \"name\": \"Mean\", \"type\": \"scatter\", \"xaxis\": \"x\", \"y\": [1.0288872834511607, 1.0288872834511607, 1.0288872834511607, 1.0288872834511607, 1.0288872834511607, 1.0288872834511607, 1.0288872834511607, 1.0288872834511607, 1.0288872834511607, 1.0288872834511607, 1.0288872834511607, 1.0288872834511607, 1.0288872834511607, 1.0288872834511607, 1.0288872834511607, 1.0288872834511607, 1.0288872834511607, 1.0288872834511607, 1.0288872834511607, 1.0288872834511607, 1.0288872834511607, 1.0288872834511607, 1.0288872834511607, 1.0288872834511607, 1.0288872834511607, 1.0288872834511607, 1.0288872834511607, 1.0288872834511607, 1.0288872834511607, 1.0288872834511607, 1.0288872834511607, 1.0288872834511607, 1.0288872834511607, 1.0288872834511607, 1.0288872834511607, 1.0288872834511607, 1.0288872834511607, 1.0288872834511607, 1.0288872834511607, 1.0288872834511607, 1.0288872834511607, 1.0288872834511607, 1.0288872834511607, 1.0288872834511607, 1.0288872834511607, 1.0288872834511607, 1.0288872834511607, 1.0288872834511607, 1.0288872834511607, 1.0288872834511607, 1.0288872834511607, 1.0288872834511607, 1.0288872834511607, 1.0288872834511607, 1.0288872834511607, 1.0288872834511607, 1.0288872834511607, 1.0288872834511607, 1.0288872834511607, 1.0288872834511607, 1.0288872834511607, 1.0288872834511607, 1.0288872834511607, 1.0288872834511607, 1.0288872834511607, 1.0288872834511607, 1.0288872834511607, 1.0288872834511607, 1.0288872834511607, 1.0288872834511607, 1.0288872834511607, 1.0288872834511607, 1.0288872834511607, 1.0288872834511607, 1.0288872834511607, 1.0288872834511607, 1.0288872834511607, 1.0288872834511607, 1.0288872834511607, 1.0288872834511607, 1.0288872834511607, 1.0288872834511607, 1.0288872834511607, 1.0288872834511607, 1.0288872834511607, 1.0288872834511607, 1.0288872834511607, 1.0288872834511607, 1.0288872834511607, 1.0288872834511607, 1.0288872834511607, 1.0288872834511607, 1.0288872834511607, 1.0288872834511607, 1.0288872834511607, 1.0288872834511607, 1.0288872834511607, 1.0288872834511607], \"yaxis\": \"y\"}, {\"hovertemplate\": \"%{y:.2f}%\", \"line\": {\"color\": \"green\"}, \"mode\": \"lines\", \"name\": \"Recovery Rate\", \"type\": \"scatter\", \"x\": [0, 1, 2, 3, 4, 5, 6, 7, 8, 9, 10, 11, 12, 13, 14, 15, 16, 17, 18, 19, 20, 21, 22, 23, 24, 25, 26, 27, 28, 29, 30, 31, 32, 33, 34, 35, 36, 37, 38, 39, 40, 41, 42, 43, 44, 45, 46, 47, 48, 49, 50, 51, 52, 53, 54, 55, 56, 57, 58, 59, 60, 61, 62, 63, 64, 65, 66, 67, 68, 69, 70, 71, 72, 73, 74, 75, 76, 77, 78, 79, 80, 81, 82, 83, 84, 85, 86, 87, 88, 89, 90, 91, 92, 93, 94, 95, 96, 97], \"xaxis\": \"x2\", \"y\": [0, 0, 0, 0, 0, 0, 0, 0, 0, 0, 0, 0, 0, 0, 0, 0, 0, 0, 0, 0, 0, 0, 0, 0, 0, 0, 0, 0, 0, 0, 0, 0, 0, 0, 0, 0, 0, 0, 0, 0, 0, 0, 0.0, 0.0, 0.0, 0.0, 0.0, 0.0, 0, 0, 0, 0, 0, 0, 0, 0, 0, 0, 0, 0, 0, 0, 0, 0, 0, 0, 0, 0, 0.34063260340632606, 0.3028991778450887, 1.8402505873140171, 1.9008825526137134, 1.6553355010345847, 3.198235456299973, 3.266699171136031, 3.6709721278042147, 3.93976897689769, 4.265129682997118, 5.0941704035874436, 5.3400503778337525, 5.899937067337949, 6.577764459094995, 7.023363138159793, 8.580949736184392, 8.810340279609601, 9.775195756504168, 10.335362215061464, 11.22168840082361, 11.198449445461398, 11.810695298655268, 13.159496753246753, 14.878552463369063, 16.554086195414328, 17.8479618068307, 18.859221147875456, 19.497288456572264, 20.719206855990592, 21.7302340808643], \"yaxis\": \"y2\"}, {\"hovertemplate\": \"%{y:.2f}%\", \"line\": {\"color\": \"black\", \"dash\": \"dash\"}, \"mode\": \"lines\", \"name\": \"Mean\", \"type\": \"scatter\", \"xaxis\": \"x2\", \"y\": [2.7479063283247553, 2.7479063283247553, 2.7479063283247553, 2.7479063283247553, 2.7479063283247553, 2.7479063283247553, 2.7479063283247553, 2.7479063283247553, 2.7479063283247553, 2.7479063283247553, 2.7479063283247553, 2.7479063283247553, 2.7479063283247553, 2.7479063283247553, 2.7479063283247553, 2.7479063283247553, 2.7479063283247553, 2.7479063283247553, 2.7479063283247553, 2.7479063283247553, 2.7479063283247553, 2.7479063283247553, 2.7479063283247553, 2.7479063283247553, 2.7479063283247553, 2.7479063283247553, 2.7479063283247553, 2.7479063283247553, 2.7479063283247553, 2.7479063283247553, 2.7479063283247553, 2.7479063283247553, 2.7479063283247553, 2.7479063283247553, 2.7479063283247553, 2.7479063283247553, 2.7479063283247553, 2.7479063283247553, 2.7479063283247553, 2.7479063283247553, 2.7479063283247553, 2.7479063283247553, 2.7479063283247553, 2.7479063283247553, 2.7479063283247553, 2.7479063283247553, 2.7479063283247553, 2.7479063283247553, 2.7479063283247553, 2.7479063283247553, 2.7479063283247553, 2.7479063283247553, 2.7479063283247553, 2.7479063283247553, 2.7479063283247553, 2.7479063283247553, 2.7479063283247553, 2.7479063283247553, 2.7479063283247553, 2.7479063283247553, 2.7479063283247553, 2.7479063283247553, 2.7479063283247553, 2.7479063283247553, 2.7479063283247553, 2.7479063283247553, 2.7479063283247553, 2.7479063283247553, 2.7479063283247553, 2.7479063283247553, 2.7479063283247553, 2.7479063283247553, 2.7479063283247553, 2.7479063283247553, 2.7479063283247553, 2.7479063283247553, 2.7479063283247553, 2.7479063283247553, 2.7479063283247553, 2.7479063283247553, 2.7479063283247553, 2.7479063283247553, 2.7479063283247553, 2.7479063283247553, 2.7479063283247553, 2.7479063283247553, 2.7479063283247553, 2.7479063283247553, 2.7479063283247553, 2.7479063283247553, 2.7479063283247553, 2.7479063283247553, 2.7479063283247553, 2.7479063283247553, 2.7479063283247553, 2.7479063283247553, 2.7479063283247553, 2.7479063283247553], \"yaxis\": \"y2\"}],\n",
       "                        {\"annotations\": [{\"font\": {\"size\": 16}, \"showarrow\": false, \"text\": \"Ploand Mortality Rate\", \"x\": 0.225, \"xanchor\": \"center\", \"xref\": \"paper\", \"y\": 1.0, \"yanchor\": \"bottom\", \"yref\": \"paper\"}, {\"font\": {\"size\": 16}, \"showarrow\": false, \"text\": \"Ploand Recovery Rate\", \"x\": 0.775, \"xanchor\": \"center\", \"xref\": \"paper\", \"y\": 1.0, \"yanchor\": \"bottom\", \"yref\": \"paper\"}], \"hovermode\": \"x\", \"template\": {\"data\": {\"bar\": [{\"error_x\": {\"color\": \"#2a3f5f\"}, \"error_y\": {\"color\": \"#2a3f5f\"}, \"marker\": {\"line\": {\"color\": \"#E5ECF6\", \"width\": 0.5}}, \"type\": \"bar\"}], \"barpolar\": [{\"marker\": {\"line\": {\"color\": \"#E5ECF6\", \"width\": 0.5}}, \"type\": \"barpolar\"}], \"carpet\": [{\"aaxis\": {\"endlinecolor\": \"#2a3f5f\", \"gridcolor\": \"white\", \"linecolor\": \"white\", \"minorgridcolor\": \"white\", \"startlinecolor\": \"#2a3f5f\"}, \"baxis\": {\"endlinecolor\": \"#2a3f5f\", \"gridcolor\": \"white\", \"linecolor\": \"white\", \"minorgridcolor\": \"white\", \"startlinecolor\": \"#2a3f5f\"}, \"type\": \"carpet\"}], \"choropleth\": [{\"colorbar\": {\"outlinewidth\": 0, \"ticks\": \"\"}, \"type\": \"choropleth\"}], \"contour\": [{\"colorbar\": {\"outlinewidth\": 0, \"ticks\": \"\"}, \"colorscale\": [[0.0, \"#0d0887\"], [0.1111111111111111, \"#46039f\"], [0.2222222222222222, \"#7201a8\"], [0.3333333333333333, \"#9c179e\"], [0.4444444444444444, \"#bd3786\"], [0.5555555555555556, \"#d8576b\"], [0.6666666666666666, \"#ed7953\"], [0.7777777777777778, \"#fb9f3a\"], [0.8888888888888888, \"#fdca26\"], [1.0, \"#f0f921\"]], \"type\": \"contour\"}], \"contourcarpet\": [{\"colorbar\": {\"outlinewidth\": 0, \"ticks\": \"\"}, \"type\": \"contourcarpet\"}], \"heatmap\": [{\"colorbar\": {\"outlinewidth\": 0, \"ticks\": \"\"}, \"colorscale\": [[0.0, \"#0d0887\"], [0.1111111111111111, \"#46039f\"], [0.2222222222222222, \"#7201a8\"], [0.3333333333333333, \"#9c179e\"], [0.4444444444444444, \"#bd3786\"], [0.5555555555555556, \"#d8576b\"], [0.6666666666666666, \"#ed7953\"], [0.7777777777777778, \"#fb9f3a\"], [0.8888888888888888, \"#fdca26\"], [1.0, \"#f0f921\"]], \"type\": \"heatmap\"}], \"heatmapgl\": [{\"colorbar\": {\"outlinewidth\": 0, \"ticks\": \"\"}, \"colorscale\": [[0.0, \"#0d0887\"], [0.1111111111111111, \"#46039f\"], [0.2222222222222222, \"#7201a8\"], [0.3333333333333333, \"#9c179e\"], [0.4444444444444444, \"#bd3786\"], [0.5555555555555556, \"#d8576b\"], [0.6666666666666666, \"#ed7953\"], [0.7777777777777778, \"#fb9f3a\"], [0.8888888888888888, \"#fdca26\"], [1.0, \"#f0f921\"]], \"type\": \"heatmapgl\"}], \"histogram\": [{\"marker\": {\"colorbar\": {\"outlinewidth\": 0, \"ticks\": \"\"}}, \"type\": \"histogram\"}], \"histogram2d\": [{\"colorbar\": {\"outlinewidth\": 0, \"ticks\": \"\"}, \"colorscale\": [[0.0, \"#0d0887\"], [0.1111111111111111, \"#46039f\"], [0.2222222222222222, \"#7201a8\"], [0.3333333333333333, \"#9c179e\"], [0.4444444444444444, \"#bd3786\"], [0.5555555555555556, \"#d8576b\"], [0.6666666666666666, \"#ed7953\"], [0.7777777777777778, \"#fb9f3a\"], [0.8888888888888888, \"#fdca26\"], [1.0, \"#f0f921\"]], \"type\": \"histogram2d\"}], \"histogram2dcontour\": [{\"colorbar\": {\"outlinewidth\": 0, \"ticks\": \"\"}, \"colorscale\": [[0.0, \"#0d0887\"], [0.1111111111111111, \"#46039f\"], [0.2222222222222222, \"#7201a8\"], [0.3333333333333333, \"#9c179e\"], [0.4444444444444444, \"#bd3786\"], [0.5555555555555556, \"#d8576b\"], [0.6666666666666666, \"#ed7953\"], [0.7777777777777778, \"#fb9f3a\"], [0.8888888888888888, \"#fdca26\"], [1.0, \"#f0f921\"]], \"type\": \"histogram2dcontour\"}], \"mesh3d\": [{\"colorbar\": {\"outlinewidth\": 0, \"ticks\": \"\"}, \"type\": \"mesh3d\"}], \"parcoords\": [{\"line\": {\"colorbar\": {\"outlinewidth\": 0, \"ticks\": \"\"}}, \"type\": \"parcoords\"}], \"pie\": [{\"automargin\": true, \"type\": \"pie\"}], \"scatter\": [{\"marker\": {\"colorbar\": {\"outlinewidth\": 0, \"ticks\": \"\"}}, \"type\": \"scatter\"}], \"scatter3d\": [{\"line\": {\"colorbar\": {\"outlinewidth\": 0, \"ticks\": \"\"}}, \"marker\": {\"colorbar\": {\"outlinewidth\": 0, \"ticks\": \"\"}}, \"type\": \"scatter3d\"}], \"scattercarpet\": [{\"marker\": {\"colorbar\": {\"outlinewidth\": 0, \"ticks\": \"\"}}, \"type\": \"scattercarpet\"}], \"scattergeo\": [{\"marker\": {\"colorbar\": {\"outlinewidth\": 0, \"ticks\": \"\"}}, \"type\": \"scattergeo\"}], \"scattergl\": [{\"marker\": {\"colorbar\": {\"outlinewidth\": 0, \"ticks\": \"\"}}, \"type\": \"scattergl\"}], \"scattermapbox\": [{\"marker\": {\"colorbar\": {\"outlinewidth\": 0, \"ticks\": \"\"}}, \"type\": \"scattermapbox\"}], \"scatterpolar\": [{\"marker\": {\"colorbar\": {\"outlinewidth\": 0, \"ticks\": \"\"}}, \"type\": \"scatterpolar\"}], \"scatterpolargl\": [{\"marker\": {\"colorbar\": {\"outlinewidth\": 0, \"ticks\": \"\"}}, \"type\": \"scatterpolargl\"}], \"scatterternary\": [{\"marker\": {\"colorbar\": {\"outlinewidth\": 0, \"ticks\": \"\"}}, \"type\": \"scatterternary\"}], \"surface\": [{\"colorbar\": {\"outlinewidth\": 0, \"ticks\": \"\"}, \"colorscale\": [[0.0, \"#0d0887\"], [0.1111111111111111, \"#46039f\"], [0.2222222222222222, \"#7201a8\"], [0.3333333333333333, \"#9c179e\"], [0.4444444444444444, \"#bd3786\"], [0.5555555555555556, \"#d8576b\"], [0.6666666666666666, \"#ed7953\"], [0.7777777777777778, \"#fb9f3a\"], [0.8888888888888888, \"#fdca26\"], [1.0, \"#f0f921\"]], \"type\": \"surface\"}], \"table\": [{\"cells\": {\"fill\": {\"color\": \"#EBF0F8\"}, \"line\": {\"color\": \"white\"}}, \"header\": {\"fill\": {\"color\": \"#C8D4E3\"}, \"line\": {\"color\": \"white\"}}, \"type\": \"table\"}]}, \"layout\": {\"annotationdefaults\": {\"arrowcolor\": \"#2a3f5f\", \"arrowhead\": 0, \"arrowwidth\": 1}, \"coloraxis\": {\"colorbar\": {\"outlinewidth\": 0, \"ticks\": \"\"}}, \"colorscale\": {\"diverging\": [[0, \"#8e0152\"], [0.1, \"#c51b7d\"], [0.2, \"#de77ae\"], [0.3, \"#f1b6da\"], [0.4, \"#fde0ef\"], [0.5, \"#f7f7f7\"], [0.6, \"#e6f5d0\"], [0.7, \"#b8e186\"], [0.8, \"#7fbc41\"], [0.9, \"#4d9221\"], [1, \"#276419\"]], \"sequential\": [[0.0, \"#0d0887\"], [0.1111111111111111, \"#46039f\"], [0.2222222222222222, \"#7201a8\"], [0.3333333333333333, \"#9c179e\"], [0.4444444444444444, \"#bd3786\"], [0.5555555555555556, \"#d8576b\"], [0.6666666666666666, \"#ed7953\"], [0.7777777777777778, \"#fb9f3a\"], [0.8888888888888888, \"#fdca26\"], [1.0, \"#f0f921\"]], \"sequentialminus\": [[0.0, \"#0d0887\"], [0.1111111111111111, \"#46039f\"], [0.2222222222222222, \"#7201a8\"], [0.3333333333333333, \"#9c179e\"], [0.4444444444444444, \"#bd3786\"], [0.5555555555555556, \"#d8576b\"], [0.6666666666666666, \"#ed7953\"], [0.7777777777777778, \"#fb9f3a\"], [0.8888888888888888, \"#fdca26\"], [1.0, \"#f0f921\"]]}, \"colorway\": [\"#636efa\", \"#EF553B\", \"#00cc96\", \"#ab63fa\", \"#FFA15A\", \"#19d3f3\", \"#FF6692\", \"#B6E880\", \"#FF97FF\", \"#FECB52\"], \"font\": {\"color\": \"#2a3f5f\"}, \"geo\": {\"bgcolor\": \"white\", \"lakecolor\": \"white\", \"landcolor\": \"#E5ECF6\", \"showlakes\": true, \"showland\": true, \"subunitcolor\": \"white\"}, \"hoverlabel\": {\"align\": \"left\"}, \"hovermode\": \"closest\", \"mapbox\": {\"style\": \"light\"}, \"paper_bgcolor\": \"white\", \"plot_bgcolor\": \"#E5ECF6\", \"polar\": {\"angularaxis\": {\"gridcolor\": \"white\", \"linecolor\": \"white\", \"ticks\": \"\"}, \"bgcolor\": \"#E5ECF6\", \"radialaxis\": {\"gridcolor\": \"white\", \"linecolor\": \"white\", \"ticks\": \"\"}}, \"scene\": {\"xaxis\": {\"backgroundcolor\": \"#E5ECF6\", \"gridcolor\": \"white\", \"gridwidth\": 2, \"linecolor\": \"white\", \"showbackground\": true, \"ticks\": \"\", \"zerolinecolor\": \"white\"}, \"yaxis\": {\"backgroundcolor\": \"#E5ECF6\", \"gridcolor\": \"white\", \"gridwidth\": 2, \"linecolor\": \"white\", \"showbackground\": true, \"ticks\": \"\", \"zerolinecolor\": \"white\"}, \"zaxis\": {\"backgroundcolor\": \"#E5ECF6\", \"gridcolor\": \"white\", \"gridwidth\": 2, \"linecolor\": \"white\", \"showbackground\": true, \"ticks\": \"\", \"zerolinecolor\": \"white\"}}, \"shapedefaults\": {\"line\": {\"color\": \"#2a3f5f\"}}, \"ternary\": {\"aaxis\": {\"gridcolor\": \"white\", \"linecolor\": \"white\", \"ticks\": \"\"}, \"baxis\": {\"gridcolor\": \"white\", \"linecolor\": \"white\", \"ticks\": \"\"}, \"bgcolor\": \"#E5ECF6\", \"caxis\": {\"gridcolor\": \"white\", \"linecolor\": \"white\", \"ticks\": \"\"}}, \"title\": {\"x\": 0.05}, \"xaxis\": {\"automargin\": true, \"gridcolor\": \"white\", \"linecolor\": \"white\", \"ticks\": \"\", \"title\": {\"standoff\": 15}, \"zerolinecolor\": \"white\", \"zerolinewidth\": 2}, \"yaxis\": {\"automargin\": true, \"gridcolor\": \"white\", \"linecolor\": \"white\", \"ticks\": \"\", \"title\": {\"standoff\": 15}, \"zerolinecolor\": \"white\", \"zerolinewidth\": 2}}}, \"xaxis\": {\"anchor\": \"y\", \"domain\": [0.0, 0.45], \"title\": {\"text\": \"Days since 1/22/20\"}}, \"xaxis2\": {\"anchor\": \"y2\", \"domain\": [0.55, 1.0], \"title\": {\"text\": \"Days since 1/22/20\"}}, \"yaxis\": {\"anchor\": \"x\", \"domain\": [0.0, 1.0], \"title\": {\"text\": \"Percent\"}}, \"yaxis2\": {\"anchor\": \"x2\", \"domain\": [0.0, 1.0], \"title\": {\"text\": \"Percent\"}}},\n",
       "                        {\"responsive\": true}\n",
       "                    ).then(function(){\n",
       "                            \n",
       "var gd = document.getElementById('c5c629ce-4f1c-4c97-b619-43eeadac91b9');\n",
       "var x = new MutationObserver(function (mutations, observer) {{\n",
       "        var display = window.getComputedStyle(gd).display;\n",
       "        if (!display || display === 'none') {{\n",
       "            console.log([gd, 'removed!']);\n",
       "            Plotly.purge(gd);\n",
       "            observer.disconnect();\n",
       "        }}\n",
       "}});\n",
       "\n",
       "// Listen for the removal of the full notebook cells\n",
       "var notebookContainer = gd.closest('#notebook-container');\n",
       "if (notebookContainer) {{\n",
       "    x.observe(notebookContainer, {childList: true});\n",
       "}}\n",
       "\n",
       "// Listen for the clearing of the current output cell\n",
       "var outputEl = gd.closest('.output');\n",
       "if (outputEl) {{\n",
       "    x.observe(outputEl, {childList: true});\n",
       "}}\n",
       "\n",
       "                        })\n",
       "                };\n",
       "                });\n",
       "            </script>\n",
       "        </div>"
      ]
     },
     "metadata": {},
     "output_type": "display_data"
    }
   ],
   "source": [
    "# Poland mortality rate\n",
    "pl_drate_gd = Graph(\"\", \"\", pl_mortality, \"\", pl_dmean)\n",
    "\n",
    "# Poland recovery rate\n",
    "pl_rrate_gd = Graph(\"\", \"\", \"\", pl_recovery_rate, pl_rmean)\n",
    "\n",
    "country_graphs(\"Ploand\", pl_drate_gd, pl_rrate_gd, \"Mortality Rate\", \"Recovery Rate\")"
   ]
  },
  {
   "cell_type": "code",
   "execution_count": 61,
   "metadata": {},
   "outputs": [],
   "source": [
    "unique_country = list(latest_data[\"Country/Region\"].unique())"
   ]
  },
  {
   "cell_type": "code",
   "execution_count": null,
   "metadata": {},
   "outputs": [],
   "source": []
  }
 ],
 "metadata": {
  "hide_input": true,
  "kernelspec": {
   "display_name": "Python 3",
   "language": "python",
   "name": "python3"
  },
  "language_info": {
   "codemirror_mode": {
    "name": "ipython",
    "version": 3
   },
   "file_extension": ".py",
   "mimetype": "text/x-python",
   "name": "python",
   "nbconvert_exporter": "python",
   "pygments_lexer": "ipython3",
   "version": "3.8.1"
  }
 },
 "nbformat": 4,
 "nbformat_minor": 2
}
